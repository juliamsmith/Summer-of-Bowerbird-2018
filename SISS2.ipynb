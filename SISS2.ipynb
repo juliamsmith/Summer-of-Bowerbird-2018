{
 "cells": [
  {
   "cell_type": "code",
   "execution_count": 11,
   "metadata": {},
   "outputs": [],
   "source": [
    "#functions\n",
    "\n",
    "import math\n",
    "import random\n",
    "\n",
    "# makes a ticket\n",
    "def ticket_generator(t, o, a):\n",
    "    ticket={\n",
    "        'time': t,\n",
    "        'owner': o,\n",
    "        'action': a,\n",
    "    }\n",
    "    return ticket;\n",
    "\n",
    "\n",
    "# depending on parameter (spread or cure), generates tau\n",
    "def nextTime(rateParameter, n):\n",
    "    taus=[0]*n\n",
    "    for i in range(0,n-1):\n",
    "        taus[i]=-math.log(1.0 - random.random()) / rateParameter\n",
    "    return taus\n",
    "\n",
    "\n",
    "#writes the edges to a network of n ppl where everyone is connected to everyone else \n",
    "def network_writer(n):\n",
    "    connect=[0]*n\n",
    "    for i in range(0, n):\n",
    "        a=list(range(n))\n",
    "        a.remove(i)\n",
    "        connect[i]=a\n",
    "    return connect;\n",
    "\n",
    "\n",
    "#processes spread/infection tickets, returning a new timeline (with added tickets) and an updated list of states\n",
    "def spreadtickethandler(tic, timeline, spreadparam, cureparam, ppl_state, t):\n",
    "    ow=tic['owner']\n",
    "#1\n",
    "    if(ppl_state[ow]!=1):\n",
    "        print('Error -- individual {:d} is not infected, but was passed to spreadtickethandler!' .format(ow))\n",
    "        #break #is there a printf / how do you raise an error?  #SOMEHOW RAISE AND ERROR AND ESC\n",
    "    else:\n",
    "#2\n",
    "        targ=tic['action'] #this action should not be -1 bc this is passed to spread ticket handler\n",
    "        if(ppl_state[targ]==1):\n",
    "            print('{:d} is already infected!' .format(targ)) #targ=targ #just to make python shut up NOT REAL CODE\n",
    "        else:\n",
    "            ppl_state[targ]=1\n",
    "            t=tic['time']\n",
    "            num_ppl=len(ppl_state)\n",
    "            ct=t+nextTime(cureparam, num_ppl-1)\n",
    "            #curetimearray.append(ct) #curetime array -- purpose??\n",
    "            st=t+nextTime(spreadparam, num_ppl-1)\n",
    "            l=1\n",
    "            if(st<ct):\n",
    "                a=random.choice(connect[targ])\n",
    "                tinf=ticket_generator(st, targ, a)\n",
    "                add_to_timeline(tinf, timeline)\n",
    "                tcure=ticket_generator(ct, targ, -1) #cure ticket\n",
    "                add_to_timeline(tcure, timeline)\n",
    "            else: \n",
    "                tcure=ticket_generator(ct, targ, -1) #cure ticket\n",
    "                add_to_timeline(tcure, timeline)\n",
    "#3\n",
    "        #infected_count=sum(ppl_state) #will have something that checks the infected count at certain time intervals\n",
    "#4\n",
    "        st2=t+nextTime(spreadparam)\n",
    "        i=timeholder\n",
    "        curefound=0\n",
    "        while curefound==0:\n",
    "            tim=timeline[i]\n",
    "            if(tim['owner']==ow):\n",
    "                if(tim['action']==-1):\n",
    "                    ct_ow=tim['time']\n",
    "                    curefound=1\n",
    "            i=i+1 \n",
    "        if(st2<ct_ow):\n",
    "            spread2tic=ticket_generator(st2, ow, targ)\n",
    "            add_to_timeline(spread2tic, timeline)\n",
    "        return [timeline, ppl_state];\n",
    "            \n",
    "        \n",
    "    \n",
    "#processes cure tickets, returning the new states of ppl        \n",
    "def curetickethandler(tic, ppl_state):\n",
    "    ow=tic['owner']\n",
    "    ppl_state[ow]=0\n",
    "    #infected_count=sum(ppl_state) #will have something that checks the infected count at certain time intervals\n",
    "    return ppl_state\n",
    "\n",
    "#adds new tickets to timeline\n",
    "def add_to_timeline(tic, tim):\n",
    "    ind=len(tim)-1\n",
    "    end=0\n",
    "    while (tic['time']<tim[ind]['time'] and end==0):\n",
    "        ind=ind-1 \n",
    "        if(ind<0):\n",
    "            end=1\n",
    "    ind=ind+1\n",
    "    tim.insert(ind, tic)\n",
    "    return tim\n",
    "\n"
   ]
  },
  {
   "cell_type": "code",
   "execution_count": 24,
   "metadata": {},
   "outputs": [
    {
     "name": "stdout",
     "output_type": "stream",
     "text": [
      "0\n"
     ]
    },
    {
     "ename": "TypeError",
     "evalue": "'<' not supported between instances of 'list' and 'int'",
     "output_type": "error",
     "traceback": [
      "\u001b[1;31m---------------------------------------------------------------------------\u001b[0m",
      "\u001b[1;31mTypeError\u001b[0m                                 Traceback (most recent call last)",
      "\u001b[1;32m<ipython-input-24-d386f4a0135f>\u001b[0m in \u001b[0;36m<module>\u001b[1;34m()\u001b[0m\n\u001b[0;32m     14\u001b[0m     \u001b[0mtcureinit\u001b[0m\u001b[1;33m=\u001b[0m\u001b[0mnextTime\u001b[0m\u001b[1;33m(\u001b[0m\u001b[0mcureparam\u001b[0m\u001b[1;33m)\u001b[0m \u001b[1;31m#ensure that that time occurs after patient 0 has infected someone -- just so our sim goes somewhere\u001b[0m\u001b[1;33m\u001b[0m\u001b[0m\n\u001b[0;32m     15\u001b[0m \u001b[0mtinfinit\u001b[0m\u001b[1;33m.\u001b[0m\u001b[0msort\u001b[0m\u001b[1;33m(\u001b[0m\u001b[1;33m)\u001b[0m\u001b[1;33m\u001b[0m\u001b[0m\n\u001b[1;32m---> 16\u001b[1;33m \u001b[0msmallinds\u001b[0m\u001b[1;33m=\u001b[0m\u001b[0mtinfinit\u001b[0m\u001b[1;33m<\u001b[0m\u001b[0mtcureinit\u001b[0m\u001b[1;33m\u001b[0m\u001b[0m\n\u001b[0m\u001b[0;32m     17\u001b[0m \u001b[0mtinfinit\u001b[0m\u001b[1;33m=\u001b[0m\u001b[0mtinfinit\u001b[0m\u001b[1;33m[\u001b[0m\u001b[0msmallinds\u001b[0m\u001b[1;33m.\u001b[0m\u001b[0mindex\u001b[0m\u001b[1;33m(\u001b[0m\u001b[1;36m1\u001b[0m\u001b[1;33m)\u001b[0m\u001b[1;33m]\u001b[0m\u001b[1;33m\u001b[0m\u001b[0m\n\u001b[0;32m     18\u001b[0m \u001b[0minit_inf\u001b[0m\u001b[1;33m=\u001b[0m\u001b[0mticket_generator\u001b[0m\u001b[1;33m(\u001b[0m\u001b[0mtinfinit\u001b[0m\u001b[1;33m,\u001b[0m \u001b[1;36m0\u001b[0m\u001b[1;33m,\u001b[0m \u001b[0ma\u001b[0m\u001b[1;33m)\u001b[0m \u001b[1;31m#generate a ticket for the first infection\u001b[0m\u001b[1;33m\u001b[0m\u001b[0m\n",
      "\u001b[1;31mTypeError\u001b[0m: '<' not supported between instances of 'list' and 'int'"
     ]
    }
   ],
   "source": [
    "#main\n",
    "spreadparam=.1\n",
    "cureparam=.05\n",
    "curetimearray=[];\n",
    "timeline=[]\n",
    "num_ppl=100\n",
    "ppl_state=[0]*num_ppl \n",
    "ppl_state[0]=1 #make a record of everyone's current state, starting with 1 infected person\n",
    "connect=network_writer(num_ppl) #make a network of connections btwn the ppl -- everyone is connected to everyone rn\n",
    "tinfinit=nextTime(spreadparam, num_ppl-1) #generate the time of the first infection THIS IS NOW ALL THE TIMES -- one for each\n",
    "tcureinit=nextTime(cureparam, 1)[0] #generate the time of patient 0's cure\n",
    "while(all(i < tcureinit for i in tinfinit)):\n",
    "    tcureinit=nextTime(cureparam) #ensure that that time occurs after patient 0 has infected someone -- just so our sim goes somewhere\n",
    "tinfinit.sort()   \n",
    "largeinds=tinfinit<tcureinit #ERROR -- ULTIMATE GOAL is to isolate only those times that are smaller than cure time\n",
    "tinfinit=tinfinit[largeinds.index(1)] # ERROR\n",
    "init_inf=ticket_generator(tinfinit, 0, a) #generate a ticket for the first infection \n",
    "init_cure=ticket_generator(tcureinit, 0, -1) # generate a ticket for the first cure\n",
    "timeline=[init_inf, init_cure] #put these 2 tickets on timeline\n",
    "timeholder=0 #timeholder is the index where we are on the timeline (start at 0)\n",
    "t=0 #we start at a time of 0 \n",
    "t_max=500 #we want to go to 1000 time units\n",
    "\n",
    "#ok time for the while loop\n",
    "while t<t_max:\n",
    "    if timeholder>(len(timeline)-1):\n",
    "        print('disease eradicated')\n",
    "        break\n",
    "    nexttic=timeline[timeholder] #look at the ticket corresponding to where we are on the timeline\n",
    "    if (nexttic['action']==-1): #if it's a cure ticket, use the corresponding handler\n",
    "        ppl_state=curetickethandler(nexttic, ppl_state)\n",
    "    else: #if it's a spread ticket, use the corresponding handler\n",
    "        vec=spreadtickethandler(nexttic, timeline, spreadparam, cureparam, ppl_state, t)\n",
    "        timeline=vec[0]\n",
    "        ppl_state=vec[1]\n",
    "    t=nexttic['time'] #new time based on the ticket we just read\n",
    "\n",
    "    \n",
    "    timeholder=timeholder+1 #increment timeholder\n"
   ]
  },
  {
   "cell_type": "code",
   "execution_count": 22,
   "metadata": {},
   "outputs": [
    {
     "ename": "TypeError",
     "evalue": "'>' not supported between instances of 'int' and 'list'",
     "output_type": "error",
     "traceback": [
      "\u001b[1;31m---------------------------------------------------------------------------\u001b[0m",
      "\u001b[1;31mTypeError\u001b[0m                                 Traceback (most recent call last)",
      "\u001b[1;32m<ipython-input-22-8b0547f36281>\u001b[0m in \u001b[0;36m<module>\u001b[1;34m()\u001b[0m\n\u001b[0;32m     10\u001b[0m \u001b[0mtinfinit\u001b[0m\u001b[1;33m=\u001b[0m\u001b[0mnextTime\u001b[0m\u001b[1;33m(\u001b[0m\u001b[0mspreadparam\u001b[0m\u001b[1;33m,\u001b[0m \u001b[0mnum_ppl\u001b[0m\u001b[1;33m-\u001b[0m\u001b[1;36m1\u001b[0m\u001b[1;33m)\u001b[0m \u001b[1;31m#generate the time of the first infection THIS IS NOW ALL THE TIMES -- one for each\u001b[0m\u001b[1;33m\u001b[0m\u001b[0m\n\u001b[0;32m     11\u001b[0m \u001b[0mtcureinit\u001b[0m\u001b[1;33m=\u001b[0m\u001b[0mnextTime\u001b[0m\u001b[1;33m(\u001b[0m\u001b[0mcureparam\u001b[0m\u001b[1;33m,\u001b[0m \u001b[1;36m1\u001b[0m\u001b[1;33m)\u001b[0m\u001b[1;33m[\u001b[0m\u001b[1;36m0\u001b[0m\u001b[1;33m]\u001b[0m \u001b[1;31m#generate the time of patient 0's cure\u001b[0m\u001b[1;33m\u001b[0m\u001b[0m\n\u001b[1;32m---> 12\u001b[1;33m \u001b[1;32mwhile\u001b[0m\u001b[1;33m(\u001b[0m\u001b[0msum\u001b[0m\u001b[1;33m(\u001b[0m\u001b[0mtcureinit\u001b[0m\u001b[1;33m>\u001b[0m\u001b[0mtinfinit\u001b[0m\u001b[1;33m)\u001b[0m\u001b[1;33m==\u001b[0m\u001b[1;36m0\u001b[0m\u001b[1;33m)\u001b[0m\u001b[1;33m:\u001b[0m\u001b[1;33m\u001b[0m\u001b[0m\n\u001b[0m\u001b[0;32m     13\u001b[0m     \u001b[0mtcureinit\u001b[0m\u001b[1;33m=\u001b[0m\u001b[0mnextTime\u001b[0m\u001b[1;33m(\u001b[0m\u001b[0mcureparam\u001b[0m\u001b[1;33m)\u001b[0m \u001b[1;31m#ensure that that time occurs after patient 0 has infected someone -- just so our sim goes somewhere\u001b[0m\u001b[1;33m\u001b[0m\u001b[0m\n\u001b[0;32m     14\u001b[0m \u001b[0mtinfinit\u001b[0m\u001b[1;33m.\u001b[0m\u001b[0msort\u001b[0m\u001b[1;33m(\u001b[0m\u001b[1;33m)\u001b[0m\u001b[1;33m\u001b[0m\u001b[0m\n",
      "\u001b[1;31mTypeError\u001b[0m: '>' not supported between instances of 'int' and 'list'"
     ]
    }
   ],
   "source": [
    "spreadparam=.1\n",
    "cureparam=.05\n",
    "curetimearray=[];\n",
    "timeline=[]\n",
    "num_ppl=100\n",
    "ppl_state=[0]*num_ppl \n",
    "ppl_state[0]=1 #make a record of everyone's current state, starting with 1 infected person\n",
    "connect=network_writer(num_ppl) #make a network of connections btwn the ppl -- everyone is connected to everyone rn\n",
    "\n",
    "tinfinit=nextTime(spreadparam, num_ppl-1) #generate the time of the first infection THIS IS NOW ALL THE TIMES -- one for each\n",
    "tcureinit=nextTime(cureparam, 1)[0] #generate the time of patient 0's cure\n",
    "while(sum(tcureinit>tinfinit)==0):\n",
    "    tcureinit=nextTime(cureparam) #ensure that that time occurs after patient 0 has infected someone -- just so our sim goes somewhere\n",
    "tinfinit.sort()   \n",
    "smallinds=tinfinit<tcureinit\n",
    "tinfinit=tinfinit[smallinds.index(1)]"
   ]
  },
  {
   "cell_type": "code",
   "execution_count": 21,
   "metadata": {},
   "outputs": [
    {
     "name": "stdout",
     "output_type": "stream",
     "text": [
      "False\n"
     ]
    }
   ],
   "source": [
    "print(all(i < tcureinit[0] for i in tinfinit))"
   ]
  },
  {
   "cell_type": "code",
   "execution_count": 19,
   "metadata": {},
   "outputs": [
    {
     "data": {
      "text/plain": [
       "True"
      ]
     },
     "execution_count": 19,
     "metadata": {},
     "output_type": "execute_result"
    }
   ],
   "source": [
    "l1=[30, 34, 56]\n",
    "\n",
    "all(i >= 30 for i in l1)"
   ]
  },
  {
   "cell_type": "code",
   "execution_count": 20,
   "metadata": {},
   "outputs": [
    {
     "name": "stdout",
     "output_type": "stream",
     "text": [
      "[0]\n",
      "[18.900137608539172, 2.7595800380249704, 0.10891789736790652, 17.368996656500048, 2.45294843694846, 6.704430433308595, 0.1748955419401317, 4.8646342241154334, 11.385189763283636, 9.786465635853672, 0.11865745866570593, 6.04017066517331, 0.13194557214631525, 6.156042352291014, 32.92858509084251, 15.94384666225129, 6.194619658550465, 22.543115922067418, 3.4500118507255255, 6.655992288418583, 4.856863844482613, 8.595885931909567, 4.979684889996908, 0.646446599445525, 29.43224445115833, 12.046640268366074, 1.8582530884557515, 7.591699611724711, 11.030713762950151, 7.864876036411042, 12.724499345639916, 41.24963651337464, 18.183572075994398, 17.43939464120913, 1.9097157689220872, 15.819034496017071, 0.9813997084787515, 19.343086961366332, 7.619708482723527, 27.088677683866933, 9.386626724158903, 7.645786855686298, 15.308159662774958, 7.118874520953093, 7.754283793560688, 17.492311345666334, 13.301132055967459, 13.763362582429172, 1.2545543857978763, 21.75418121746059, 8.899197436873587, 13.529005997108605, 2.5026080079510873, 14.001360266486124, 23.95502601265133, 37.694783340413345, 8.995734921352287, 11.352919430594767, 23.208178105680844, 5.052277842427852, 3.3424045784275394, 32.85623317531073, 8.60980864028861, 1.122021460070532, 4.265405168903424, 22.766257600922966, 10.323061594554618, 4.4952757074859475, 1.610921552577802, 16.3815151987055, 0.2554037583462434, 1.4436591880313545, 4.521869072275422, 3.5555312547837903, 6.179947836369426, 8.29647804086199, 22.465830254509953, 6.511388005069239, 25.224658631255522, 0.4361848369790021, 10.89914328166553, 0.5413076864905312, 0.5282017177508388, 0.726078806336949, 10.239510193838974, 6.334116251411208, 3.812859563273321, 8.155798796137908, 2.2707114857901587, 12.821965579025031, 6.988656331863419, 3.6646677901753293, 7.704380726303119, 15.0372621343009, 6.505453784163264, 1.5706526964032144, 3.9929273763051936, 23.287223562506725, 0]\n"
     ]
    }
   ],
   "source": [
    "print(tcureinit[0])\n",
    "print(tinfinit)"
   ]
  },
  {
   "cell_type": "code",
   "execution_count": null,
   "metadata": {},
   "outputs": [],
   "source": []
  }
 ],
 "metadata": {
  "kernelspec": {
   "display_name": "Python 3",
   "language": "python",
   "name": "python3"
  },
  "language_info": {
   "codemirror_mode": {
    "name": "ipython",
    "version": 3
   },
   "file_extension": ".py",
   "mimetype": "text/x-python",
   "name": "python",
   "nbconvert_exporter": "python",
   "pygments_lexer": "ipython3",
   "version": "3.6.5"
  }
 },
 "nbformat": 4,
 "nbformat_minor": 2
}
