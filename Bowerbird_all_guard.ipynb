{
 "cells": [
  {
   "cell_type": "code",
   "execution_count": 33,
   "metadata": {},
   "outputs": [
    {
     "name": "stdout",
     "output_type": "stream",
     "text": [
      "[[833.25        12.5         17.67766953  12.5       ]\n",
      " [ 12.5        833.25        12.5         17.67766953]\n",
      " [ 17.67766953  12.5        833.25        12.5       ]\n",
      " [ 12.5         17.67766953  12.5        833.25      ]]\n"
     ]
    },
    {
     "data": {
      "text/plain": [
       "833.25"
      ]
     },
     "execution_count": 33,
     "metadata": {},
     "output_type": "execute_result"
    }
   ],
   "source": [
    "#Bowerbird null model (all males are guarders)\n",
    "\n",
    "#Key:\n",
    "#Note: Paramters contain underscores, while functions don't\n",
    "#SB- Stay at bower\n",
    "#FG- Foraging\n",
    "#a=-1 denotes a staying at bower action on ticket\n",
    "#a=-2 denotes a foraging action on ticket\n",
    "#networkwriter- generates network where everybird is connected\n",
    "#addtotimeline- adds tickets to timeline\n",
    "\n",
    "\n",
    "import math\n",
    "import random\n",
    "import numpy as np\n",
    "\n",
    "\n",
    "\n",
    "\n",
    "\n",
    "# makes a ticket\n",
    "def ticketgenerator(t, o, a):\n",
    "    ticket={\n",
    "        'time': t,\n",
    "        'owner': o,\n",
    "        'action': a,\n",
    "    }\n",
    "    return ticket;\n",
    "\n",
    "#writes the edges to a network of n birds where everyone is connected to everyone else \n",
    "def networkwriter(n):\n",
    "    connect=[0]*n\n",
    "    for i in range(0, n): \n",
    "        a=list(range(n)) #generating a list that goes from 0 to n-1\n",
    "        a.remove(i) #individual removes themselves from the network\n",
    "        connect[i]=a #corresponds to the list of people person i is linked to\n",
    "    return connect; #returns a list of lists with all the connections in the network\n",
    "\n",
    "# function for determining the next time based on our rate parameters\n",
    "def nexttau(rateParameter):\n",
    "    taus=-math.log(1.0 - random.random()) / rateParameter #math.log is in base e, and random.random picks a number from range 0.0 to 1.\n",
    "    return taus #generates n-length list, starting at index 0\n",
    "\n",
    "#adds new tickets to timeline -- Stefano, any more efficient suggestions for keeping timeline in order?\n",
    "def addtotimeline(tic, timeline):\n",
    "    if not timeline:\n",
    "        return [tic]\n",
    "    ind=len(timeline)-1\n",
    "    end=0\n",
    "    while (tic['time']<timeline[ind]['time'] and end==0): #moves backwards until it finds where to place the ticket based on the listed times\n",
    "        ind=ind-1 \n",
    "        if(ind<0):\n",
    "            end=1\n",
    "    ind=ind+1\n",
    "    timeline.insert(ind, tic)\n",
    "    \n",
    "\n",
    "def SBtickethandler (SB_tic, timeline,SB_param, t_max):\n",
    "    ow=SB_tic['owner'] \n",
    "    t=SB_tic['time']\n",
    "    FG_time=nexttau(SB_param)+t #We use SB_param because the time represents when the bird leaves the bower\n",
    "    FG_tic=ticketgenerator(FG_time,ow,-2) #-2 denotes foraging action\n",
    "    addtotimeline(FG_tic,timeline)\n",
    "\n",
    "def FGtickethandler (FG_tic, timeline,FG_param, t_max):\n",
    "    ow=FG_tic['owner'] \n",
    "    t=FG_tic['time']\n",
    "    SB_time=nexttau(FG_param)+t #We use FG_param because the time represents when the bird returns to the bower\n",
    "    SB_tic=ticketgenerator(SB_time,ow,-1) #-1 denotes staying at bower\n",
    "    addtotimeline(SB_tic,timeline)\n",
    "    \n",
    "#FOR FUTURE: Write a function that generates a probability network of n bowerbirds \n",
    "\n",
    "#for now, we write a simple example network with 4 bowers forming a square\n",
    "nodes=4\n",
    "\n",
    "#HOW TO REPRESENT INDIVIDUAL'S DIST FROM SELF? nan?\n",
    "distances = np.array([[150.0]*nodes]*nodes) #(dist in m)initialize a nodes-by-nodes matrix (1st nrows, 2nd ncols)\n",
    "for i in range(4):\n",
    "    distances[i][i]=9999.0 #or math.inf but that makes the matrix disp ugly\n",
    "for i in range(2):\n",
    "    distances[i][i+2]=((2*(150**2)))**(1/2)\n",
    "    distances[i+2][i]=((2*(150**2)))**(1/2)\n",
    "\n",
    "\n",
    "bird_speed=12 #m/s\n",
    "travel_times=np.array([[0.0]*nodes]*nodes)\n",
    "for i in range(nodes):\n",
    "    for j in range(nodes):\n",
    "        travel_times[i][j]=distances[i][j]/12\n",
    "print(travel_times) #right now the numbers on the diagonals aren't accurate, but we can't have the bird choosing to go to it's own node\n",
    "\n",
    "#will write female preference based on cumulative exponential decay (lambda=100/99)\n",
    "female_preferences=np.array([[0.0]*nodes]*nodes)\n",
    "\n",
    "\n",
    "\n",
    "\n",
    "\n",
    "\n",
    "    \n"
   ]
  },
  {
   "cell_type": "code",
   "execution_count": 12,
   "metadata": {},
   "outputs": [
    {
     "name": "stdout",
     "output_type": "stream",
     "text": [
      "[[150. 150. 150. 150.]\n",
      " [150. 150. 150. 150.]\n",
      " [150. 150. 150. 150.]\n",
      " [150. 150. 150. 150.]]\n"
     ]
    },
    {
     "data": {
      "text/plain": [
       "150.0"
      ]
     },
     "execution_count": 12,
     "metadata": {},
     "output_type": "execute_result"
    }
   ],
   "source": [
    "\n"
   ]
  },
  {
   "cell_type": "code",
   "execution_count": null,
   "metadata": {},
   "outputs": [],
   "source": []
  }
 ],
 "metadata": {
  "kernelspec": {
   "display_name": "Python 3",
   "language": "python",
   "name": "python3"
  },
  "language_info": {
   "codemirror_mode": {
    "name": "ipython",
    "version": 3
   },
   "file_extension": ".py",
   "mimetype": "text/x-python",
   "name": "python",
   "nbconvert_exporter": "python",
   "pygments_lexer": "ipython3",
   "version": "3.6.5"
  }
 },
 "nbformat": 4,
 "nbformat_minor": 2
}
