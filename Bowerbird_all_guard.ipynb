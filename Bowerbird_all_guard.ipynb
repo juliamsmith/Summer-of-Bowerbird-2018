{
 "cells": [
  {
   "cell_type": "code",
   "execution_count": 1,
   "metadata": {},
   "outputs": [],
   "source": [
    "#Bowerbird null model (all males are guarders)\n",
    "\n",
    "#Key\n",
    "#Notes- Paramters contain underscores, while functions don't\n",
    "#SB: Stay at bower\n",
    "#FG: Foraging\n",
    "#a=-1: denotes a staying at bower action on ticket\n",
    "#a=-2: denotes a foraging action on ticket\n",
    "#a=-3: denotes a female visiting action on a ticket\n",
    "#networkwriter: generates network where everybird is connected\n",
    "#addtotimeline: adds tickets to timeline\n",
    "#travel_times_linear_p: generates a matrix that contains the probabilities of travelling to a given a bower \n",
    "#if the relationship between distance and travel preference is linear\n",
    "#improb: The probability of traveling improb_distance or less\n",
    "#improb_distance: The distance at which there is only a (1-improb)% chance of choosing to travel\n",
    "#lamb: lambda calculated by solving improb=1-np.exp(-lamb*improb_distance)\n",
    "#bower_states: options are 1(bower intact) and 0 (bower destroyed-will never be the case when all guarders)\n",
    "#male_states: options are 1 (male present at bower) and 0 (male absent from bower)\n",
    "#fitness_states: keeps track of number of matings a given male has had\n",
    "#t: time\n",
    "#nodes: total number of male bowerbirds in the network\n",
    "\n",
    "\n",
    "\n",
    "\n",
    "import math\n",
    "import random\n",
    "import numpy as np\n",
    "import matplotlib.pyplot as plt\n",
    "\n",
    "\n",
    "# makes a ticket\n",
    "def ticketgenerator(tau,t, o, a):\n",
    "    ticket={\n",
    "        'tau': tau,\n",
    "        'time': t,\n",
    "        'owner': o,\n",
    "        'action': a,\n",
    "    }\n",
    "    return ticket;\n",
    "\n",
    "#writes the edges to a network of n birds where everyone is connected to everyone else \n",
    "def networkwriter(n):\n",
    "    connect=[0]*n\n",
    "    for i in range(0, n): \n",
    "        a=list(range(n)) #generating a list that goes from 0 to n-1\n",
    "        a.remove(i) #individual removes themselves from the network\n",
    "        connect[i]=a #corresponds to the list of people person i is linked to\n",
    "    return connect; #returns a list of lists with all the connections in the network\n",
    "\n",
    "\n",
    "# function for determining the next time based on our rate parameters\n",
    "def nexttau(action):\n",
    "    x=-1\n",
    "    while x<=0:\n",
    "        switcher = {\n",
    "            -1: np.random.normal(loc=.1583, scale=.09755, size=1)[0], #choose when to leave bower (generate a tau for bower stay)\n",
    "            -2: np.random.gamma(shape=1.5, scale=5, size=1)[0]/60, #choose when to stop foraging (generate a tau for foraging)\n",
    "            -3: random.expovariate(FV_param) #FV_param... totally arbitrary so we should think about it\n",
    "        }\n",
    "        x=switcher.get(action, \"invalid action\")\n",
    "    return x\n",
    "    \n",
    "\n",
    "#adds new tickets to timeline -- Stefano, any more efficient suggestions for keeping timeline in order?\n",
    "def addtotimeline(tic, timeline):\n",
    "    if not timeline:\n",
    "        timeline.append(tic)\n",
    "    else:\n",
    "        ind=len(timeline)-1\n",
    "        end=0\n",
    "        while (tic['time']<timeline[ind]['time'] and end==0): #moves backwards until it finds where to place the ticket based on the listed times\n",
    "            ind=ind-1 \n",
    "            if(ind<0):\n",
    "                end=1\n",
    "        ind=ind+1\n",
    "        timeline.insert(ind, tic)\n",
    "    \n",
    "\n",
    "def SBtickethandler (SB_tic, timeline,SB_param, t_max, male_states):\n",
    "    ow=SB_tic['owner'] \n",
    "    male_states[ow]=1\n",
    "    t=SB_tic['time']\n",
    "    FG_time=nexttau(-1)+t #We use SB_param because the time represents when the bird leaves the bower\n",
    "    if FG_time<t_max:\n",
    "        FG_tic=ticketgenerator(FG_time-t,FG_time,ow,-2) #-2 denotes foraging action\n",
    "        addtotimeline(FG_tic,timeline)\n",
    "\n",
    "def FGtickethandler (FG_tic, timeline,FG_param, t_max, male_states):\n",
    "    ow=FG_tic['owner'] \n",
    "    male_states[ow]=0\n",
    "    t=FG_tic['time']\n",
    "    SB_time=nexttau(-2)+t #We use FG_param because the time represents when the bird returns to the bower\n",
    "    if SB_time<t_max:\n",
    "        SB_tic=ticketgenerator(SB_time-t,SB_time,ow,-1) #-1 denotes staying at bower\n",
    "        addtotimeline(SB_tic,timeline)\n",
    "    \n",
    "def FVtickethandler (FV_tic, timeline, FV_param, t_max, male_states, fitness_states, nodes, female_preferences, travel_times, success_rate, success_times, recents_list):\n",
    "    ow=FV_tic['owner']\n",
    "    t=FV_tic['time']\n",
    "    r=random.random()\n",
    "    if bower_states[ow]==1 and male_states[ow]==1 and r<success_rate: #if the bower is intact and the male is present\n",
    "        recents_list=[]\n",
    "        fitness_states[ow]=fitness_states[ow]+1 #assumption: female always mates if bower is intact and male present\n",
    "        success_times.append(t)\n",
    "        new_FV_ow=np.random.choice(list(range(nodes)))\n",
    "        decider=random.random() #decide whether female will mate for a second time\n",
    "        new_FV_time=t+nexttau(-3)\n",
    "        if new_FV_time<t_max:\n",
    "            new_FV_tic=ticketgenerator(new_FV_time-t,new_FV_time, new_FV_ow, -3)\n",
    "            addtotimeline(new_FV_tic, timeline)\n",
    "    else: #if female does not successfully mate\n",
    "        recents_list.append(ow)\n",
    "        if len(recents_list)==nodes:\n",
    "            recents_list=[]\n",
    "            print(recents_list)\n",
    "            new_FV_ow=np.random.choice(list(range(nodes)))\n",
    "            new_FV_time=t+nexttau(-3)\n",
    "            if new_FV_time<t_max:\n",
    "                new_FV_tic=ticketgenerator(new_FV_time-t,new_FV_time, new_FV_ow, -3)\n",
    "                addtotimeline(new_FV_tic, timeline)\n",
    "        else:\n",
    "            new_FV_ow=-1 #just so that the code goes into the while loop the first iteration\n",
    "            while(new_FV_ow in recents_list or new_FV_ow==-1):\n",
    "                new_FV_ow=np.random.choice(list(range(nodes)), p=female_preferences[ow]) #choose a male based on preference (a function of distance)\n",
    "            new_FV_time=t+travel_times[ow][new_FV_ow] #she goes directly to this male\n",
    "            if new_FV_time<t_max:\n",
    "                new_FV_tic=ticketgenerator(new_FV_time-t,new_FV_time, new_FV_ow, -3)\n",
    "                addtotimeline(new_FV_tic, timeline)\n",
    "    return recents_list\n",
    "    \n",
    "#FOR FUTURE: Write a function that generates a probability network of n bowerbirds \n",
    "\n"
   ]
  },
  {
   "cell_type": "code",
   "execution_count": 2,
   "metadata": {},
   "outputs": [
    {
     "name": "stdout",
     "output_type": "stream",
     "text": [
      "[[9999.          150.          212.13203436  150.        ]\n",
      " [ 150.         9999.          150.          212.13203436]\n",
      " [ 212.13203436  150.         9999.          150.        ]\n",
      " [ 150.          212.13203436  150.         9999.        ]]\n",
      "[[0.23145833 0.00347222 0.00491046 0.00347222]\n",
      " [0.00347222 0.23145833 0.00347222 0.00491046]\n",
      " [0.00491046 0.00347222 0.23145833 0.00347222]\n",
      " [0.00347222 0.00491046 0.00347222 0.23145833]]\n",
      "[[8.83582673e-26 3.70465006e-01 2.59069988e-01 3.70465006e-01]\n",
      " [3.70465006e-01 8.83582673e-26 3.70465006e-01 2.59069988e-01]\n",
      " [2.59069988e-01 3.70465006e-01 8.83582673e-26 3.70465006e-01]\n",
      " [3.70465006e-01 2.59069988e-01 3.70465006e-01 8.83582673e-26]]\n"
     ]
    }
   ],
   "source": [
    "#for now, we write a simple example network with 4 bowers forming a square\n",
    "nodes=4\n",
    "d=150\n",
    "\n",
    "def distances(nodes,d):\n",
    "    distances = np.array([[d]*nodes]*nodes) #(dist in m)initialize a nodes-by-nodes matrix (1st nrows, 2nd ncols)\n",
    "for i in range(nodes):\n",
    "    distances[i][i]=9999.0 #or math.inf but that makes the matrix disp ugly\n",
    "for i in range(2):\n",
    "    distances[i][i+2]=((2*(d**2)))**(1/2)\n",
    "    distances[i+2][i]=((2*(d**2)))**(1/2)\n",
    "print(distances)\n",
    "    \n",
    "#HOW TO REPRESENT INDIVIDUAL'S DIST FROM SELF? nan?\n",
    "\n",
    "\n",
    "bird_speed=12*3600 #m/hr (12m/s)\n",
    "travel_times=np.array([[0.0]*nodes]*nodes)\n",
    "for i in range(nodes):\n",
    "    for j in range(nodes):\n",
    "        travel_times[i][j]=distances[i][j]/bird_speed\n",
    "print(travel_times) #right now the numbers on the diagonals aren't accurate, but we can't have the bird choosing to go to it's own node\n",
    "\n",
    "#solve for lambda \n",
    "improb=0.99\n",
    "improb_distance=800\n",
    "lamb=-math.log(1-improb)/improb_distance\n",
    "\n",
    "#will write female preference based on cumulative exponential decay (lambda=.00576)\n",
    "female_preferences=np.array([[0.]*nodes]*nodes)\n",
    "\n",
    "for i in range(nodes):\n",
    "    for j in range(nodes):\n",
    "        female_preferences[i][j]=math.exp(-lamb*distances[i][j])        \n",
    "    female_preferences[i]=female_preferences[i]/sum(female_preferences[i])\n",
    "print(female_preferences)\n"
   ]
  },
  {
   "cell_type": "code",
   "execution_count": 3,
   "metadata": {},
   "outputs": [],
   "source": [
    "#just a test\n",
    "\n",
    "#Parameters:\n",
    "t=0 #start at time 0\n",
    "t_max=12\n",
    "timeholder=0\n",
    "timeline=[] #initialize the timeline\n",
    "#We've moved away from using these params with expovariate (how we handle FV is still TBD)\n",
    "#So THE BELOW 3 SHOULD BE COMMENTED OUT (but rn we don't want the handler funcs to yell at us)\n",
    "FV_param=0.2 #nodes/0.19 #totally random\n",
    "FG_param=3 #larger values lead to foraging ending earlier, because taus are smaller\n",
    "SB_param=1.5 #larger values lead to bowerstay ending earlier, because taus are smaller\n",
    "nodes=4\n",
    "bower_states=[1]*nodes\n",
    "male_states=[1]*nodes\n",
    "fitness_states=[0]*nodes\n",
    "success_rate=1\n",
    "success_times=[]\n",
    "recents_list=[]\n",
    "\n",
    "    \n",
    "first_male=random.choice(list(range(nodes))) #The lucky bowerbird that is chosen by the female first\n",
    "first_female_time=t+nexttau(-3) #determine the time when the first female arrives\n",
    "first_female_tic=ticketgenerator(first_female_time-t,first_female_time, first_male, -3) #first female ticket\n",
    "addtotimeline(first_female_tic, timeline)\n",
    "\n",
    "for i in range(nodes):\n",
    "    init_FG_time=t+nexttau(-1) #Init FG time indicates when SB ends, thus the tau is generated by SB_param\n",
    "    init_FG_tic=ticketgenerator(init_FG_time-t,init_FG_time, i, -2)\n",
    "    addtotimeline(init_FG_tic, timeline)\n",
    "        \n"
   ]
  },
  {
   "cell_type": "code",
   "execution_count": 4,
   "metadata": {},
   "outputs": [
    {
     "name": "stdout",
     "output_type": "stream",
     "text": [
      "passing to FVtickethandler\n",
      "recents list passed in to function\n",
      "[]\n",
      "passing to FVtickethandler\n",
      "recents list passed in to function\n",
      "[2]\n",
      "passing to FVtickethandler\n",
      "recents list passed in to function\n",
      "[2, 0]\n",
      "passing to FVtickethandler\n",
      "recents list passed in to function\n",
      "[2, 0, 1]\n",
      "[]\n",
      "passing to FVtickethandler\n",
      "recents list passed in to function\n",
      "[]\n",
      "passing to FVtickethandler\n",
      "recents list passed in to function\n",
      "[0]\n",
      "passing to FVtickethandler\n",
      "recents list passed in to function\n",
      "[0, 1]\n",
      "passing to FVtickethandler\n",
      "recents list passed in to function\n",
      "[0, 1, 2]\n",
      "[]\n",
      "passing to FVtickethandler\n",
      "recents list passed in to function\n",
      "[]\n",
      "passing to FVtickethandler\n",
      "recents list passed in to function\n",
      "[0]\n",
      "passing to FVtickethandler\n",
      "recents list passed in to function\n",
      "[0, 1]\n",
      "passing to FVtickethandler\n",
      "recents list passed in to function\n",
      "[0, 1, 3]\n",
      "[]\n",
      "passing to FVtickethandler\n",
      "recents list passed in to function\n",
      "[]\n",
      "passing to FVtickethandler\n",
      "recents list passed in to function\n",
      "[0]\n",
      "passing to FVtickethandler\n",
      "recents list passed in to function\n",
      "[0, 1]\n",
      "passing to FVtickethandler\n",
      "recents list passed in to function\n",
      "[0, 1, 3]\n",
      "[]\n",
      "passing to FVtickethandler\n",
      "recents list passed in to function\n",
      "[]\n",
      "passing to FVtickethandler\n",
      "recents list passed in to function\n",
      "[3]\n",
      "passing to FVtickethandler\n",
      "recents list passed in to function\n",
      "[]\n",
      "passing to FVtickethandler\n",
      "recents list passed in to function\n",
      "[0]\n",
      "passing to FVtickethandler\n",
      "recents list passed in to function\n",
      "[0, 2]\n",
      "passing to FVtickethandler\n",
      "recents list passed in to function\n",
      "[0, 2, 1]\n",
      "[]\n",
      "passing to FVtickethandler\n",
      "recents list passed in to function\n",
      "[]\n",
      "passing to FVtickethandler\n",
      "recents list passed in to function\n",
      "[0]\n",
      "passing to FVtickethandler\n",
      "recents list passed in to function\n",
      "[0, 2]\n",
      "passing to FVtickethandler\n",
      "recents list passed in to function\n",
      "[0, 2, 1]\n",
      "[]\n",
      "end\n",
      "[{'tau': 0.11118176934098077, 'time': 0.11118176934098077, 'owner': 3, 'action': -2}, {'tau': 0.24404270367709452, 'time': 0.24404270367709452, 'owner': 2, 'action': -2}, {'tau': 0.14161349719853494, 'time': 0.25279526653951573, 'owner': 3, 'action': -1}, {'tau': 0.26150764177150027, 'time': 0.26150764177150027, 'owner': 1, 'action': -2}, {'tau': 0.2903921721854351, 'time': 0.2903921721854351, 'owner': 0, 'action': -2}, {'tau': 0.04054612798931795, 'time': 0.2933413945288337, 'owner': 3, 'action': -2}, {'tau': 0.0798073056314435, 'time': 0.323850009308538, 'owner': 2, 'action': -1}, {'tau': 0.06068981706481247, 'time': 0.3510819892502476, 'owner': 0, 'action': -1}, {'tau': 0.10566815431975035, 'time': 0.3671757960912506, 'owner': 1, 'action': -1}, {'tau': 0.18303890363958342, 'time': 0.4763802981684171, 'owner': 3, 'action': -1}, {'tau': 0.18498693703116198, 'time': 0.5088369463397, 'owner': 2, 'action': -2}, {'tau': 0.07922760256949668, 'time': 0.5880645489091967, 'owner': 2, 'action': -1}, {'tau': 0.2436634250446743, 'time': 0.5947454142949219, 'owner': 0, 'action': -2}, {'tau': 0.2890868926918583, 'time': 0.6562626887831089, 'owner': 1, 'action': -2}, {'tau': 0.18623576001625863, 'time': 0.6626160581846757, 'owner': 3, 'action': -2}, {'tau': 0.00842176730038291, 'time': 0.6710378254850586, 'owner': 3, 'action': -1}, {'tau': 0.0355071719152652, 'time': 0.6917698606983741, 'owner': 1, 'action': -1}, {'tau': 0.10323015568332972, 'time': 0.6979755699782516, 'owner': 0, 'action': -1}, {'tau': 0.17190810732770934, 'time': 0.759972656236906, 'owner': 2, 'action': -2}, {'tau': 0.07924038972378267, 'time': 0.7710102504221568, 'owner': 1, 'action': -2}, {'tau': 0.11693501776675996, 'time': 0.8879452681889167, 'owner': 1, 'action': -1}, {'tau': 0.2536596683615865, 'time': 0.9516352383398381, 'owner': 0, 'action': -2}, {'tau': 0.011802448659481435, 'time': 0.9634376869993195, 'owner': 0, 'action': -1}, {'tau': 0.03878466572147454, 'time': 1.002222352720794, 'owner': 0, 'action': -2}, {'tau': 0.24683590036386271, 'time': 1.0068085566007687, 'owner': 2, 'action': -1}, {'tau': 0.08581478381004981, 'time': 1.0880371365308439, 'owner': 0, 'action': -1}, {'tau': 0.45045771904925935, 'time': 1.121495544534318, 'owner': 3, 'action': -2}, {'tau': 0.28839596464134043, 'time': 1.1763412328302572, 'owner': 1, 'action': -2}, {'tau': 0.17519118025827818, 'time': 1.181999736859047, 'owner': 2, 'action': -2}, {'tau': 0.05519410210163156, 'time': 1.2371938389606785, 'owner': 2, 'action': -1}, {'tau': 0.07247325241834557, 'time': 1.2488144852486027, 'owner': 1, 'action': -1}, {'tau': 0.13431545635300068, 'time': 1.2558110008873187, 'owner': 3, 'action': -1}, {'tau': 0.0795825622090105, 'time': 1.3353935630963292, 'owner': 3, 'action': -2}, {'tau': 0.10734811514325715, 'time': 1.3561626003918599, 'owner': 1, 'action': -2}, {'tau': 0.2703843808055466, 'time': 1.3584215173363905, 'owner': 0, 'action': -2}, {'tau': 0.029912406818271453, 'time': 1.3653059699146006, 'owner': 3, 'action': -1}, {'tau': 0.15835650823602032, 'time': 1.3955503471966988, 'owner': 2, 'action': -2}, {'tau': 0.014502744160370895, 'time': 1.4100530913570697, 'owner': 2, 'action': -1}, {'tau': 0.11395390466101163, 'time': 1.4701165050528715, 'owner': 1, 'action': -1}, {'tau': 0.18412175943186426, 'time': 1.5425432767682548, 'owner': 0, 'action': -1}, {'tau': 0.22105166648763452, 'time': 1.5863576364022351, 'owner': 3, 'action': -2}, {'tau': 0.21046648659241463, 'time': 1.6205195779494843, 'owner': 2, 'action': -2}, {'tau': 0.15451460689477825, 'time': 1.6246311119476498, 'owner': 1, 'action': -2}, {'tau': 0.0853347498061876, 'time': 1.6716923862084228, 'owner': 3, 'action': -1}, {'tau': 1.7105494678850826, 'time': 1.7105494678850826, 'owner': 2, 'action': -3}, {'tau': 0.004910463758240002, 'time': 1.7154599316433226, 'owner': 0, 'action': -3}, {'tau': 0.003472222222222321, 'time': 1.7189321538655449, 'owner': 1, 'action': -3}, {'tau': 0.004910463758240002, 'time': 1.7238426176237849, 'owner': 3, 'action': -3}, {'tau': 0.21839695309825813, 'time': 1.7609402298665129, 'owner': 0, 'action': -2}, {'tau': 0.007261403244591458, 'time': 1.7682016331111043, 'owner': 0, 'action': -1}, {'tau': 0.10904910546010549, 'time': 1.7807414916685282, 'owner': 3, 'action': -2}, {'tau': 0.1593552761656285, 'time': 1.7839863881132783, 'owner': 1, 'action': -1}, {'tau': 0.059162884942912664, 'time': 1.827364518054017, 'owner': 0, 'action': -2}, {'tau': 0.07274961417574044, 'time': 1.9001141322297574, 'owner': 0, 'action': -1}, {'tau': 0.12230893587242764, 'time': 1.9030504275409559, 'owner': 3, 'action': -1}, {'tau': 0.25409152515643973, 'time': 2.038077913269718, 'owner': 1, 'action': -2}, {'tau': 0.42794815642004314, 'time': 2.0484677343695274, 'owner': 2, 'action': -1}, {'tau': 0.19199997208258335, 'time': 2.0950503996235392, 'owner': 3, 'action': -2}, {'tau': 0.05904969737255872, 'time': 2.0971276106422767, 'owner': 1, 'action': -1}, {'tau': 0.08188808507579459, 'time': 2.176938484699334, 'owner': 3, 'action': -1}, {'tau': 0.33677324884083837, 'time': 2.236887381070596, 'owner': 0, 'action': -2}, {'tau': 0.22981424315151866, 'time': 2.278281977521046, 'owner': 2, 'action': -2}, {'tau': 0.11381785147459311, 'time': 2.290756336173927, 'owner': 3, 'action': -2}, {'tau': 0.08529401017223304, 'time': 2.322181391242829, 'owner': 0, 'action': -1}, {'tau': 0.03838484932351793, 'time': 2.329141185497445, 'owner': 3, 'action': -1}, {'tau': 0.07717122946108423, 'time': 2.399352620703913, 'owner': 0, 'action': -2}, {'tau': 0.3074858073657021, 'time': 2.404613418007979, 'owner': 1, 'action': -2}, {'tau': 0.006629114217571175, 'time': 2.4059817349214843, 'owner': 0, 'action': -1}, {'tau': 0.04444372394652296, 'time': 2.4490571419545017, 'owner': 1, 'action': -1}, {'tau': 0.2103548317901356, 'time': 2.4886368093111817, 'owner': 2, 'action': -1}, {'tau': 0.05424149468523698, 'time': 2.5032986366397387, 'owner': 1, 'action': -2}, {'tau': 0.02348158085937513, 'time': 2.526780217499114, 'owner': 1, 'action': -1}, {'tau': 0.19806848374832065, 'time': 2.5272096692457655, 'owner': 3, 'action': -2}, {'tau': 0.14112381485944914, 'time': 2.6683334841052146, 'owner': 3, 'action': -1}, {'tau': 0.3237226939952804, 'time': 2.7297044289167647, 'owner': 0, 'action': -2}, {'tau': 0.2547430050609716, 'time': 2.7815232225600854, 'owner': 1, 'action': -2}, {'tau': 0.05503867612669078, 'time': 2.7847431050434555, 'owner': 0, 'action': -1}, {'tau': 0.13932197521969503, 'time': 2.8076554593249097, 'owner': 3, 'action': -2}, {'tau': 0.3540429412485375, 'time': 2.842679750559719, 'owner': 2, 'action': -2}, {'tau': 0.06280238589008169, 'time': 2.844325608450167, 'owner': 1, 'action': -1}, {'tau': 0.06114205686298568, 'time': 2.905467665313153, 'owner': 1, 'action': -2}, {'tau': 0.14265877553857376, 'time': 2.927401880582029, 'owner': 0, 'action': -2}, {'tau': 0.004215624690559583, 'time': 2.931617505272589, 'owner': 0, 'action': -1}, {'tau': 0.14910117958906, 'time': 2.9567566389139697, 'owner': 3, 'action': -1}, {'tau': 0.19034249891428967, 'time': 3.1470991378282593, 'owner': 3, 'action': -2}, {'tau': 0.2771658264728307, 'time': 3.1826334917859835, 'owner': 1, 'action': -1}, {'tau': 0.348344812123909, 'time': 3.191024562683628, 'owner': 2, 'action': -1}, {'tau': 0.29884367897235586, 'time': 3.2304611842449447, 'owner': 0, 'action': -2}, {'tau': 0.1306305553575382, 'time': 3.2777296931857975, 'owner': 3, 'action': -1}, {'tau': 1.6038547671121308, 'time': 3.3276973847359157, 'owner': 0, 'action': -3}, {'tau': 0.003472222222222321, 'time': 3.331169606958138, 'owner': 1, 'action': -3}, {'tau': 0.003472222222222321, 'time': 3.3346418291803603, 'owner': 2, 'action': -3}, {'tau': 0.003472222222222321, 'time': 3.3381140514025827, 'owner': 3, 'action': -3}, {'tau': 0.16926753149322726, 'time': 3.351901023279211, 'owner': 1, 'action': -2}, {'tau': 0.16227607198364646, 'time': 3.392737256228591, 'owner': 0, 'action': -1}, {'tau': 0.1452804586099976, 'time': 3.423010151795795, 'owner': 3, 'action': -2}, {'tau': 0.020542839175596406, 'time': 3.4435529909713916, 'owner': 3, 'action': -1}, {'tau': 0.14000341101296998, 'time': 3.491904434292181, 'owner': 1, 'action': -1}, {'tau': 0.30386462172589157, 'time': 3.49488918440952, 'owner': 2, 'action': -2}, {'tau': 0.21005767147049292, 'time': 3.5481717228730756, 'owner': 0, 'action': -3}, {'tau': 0.003472222222222321, 'time': 3.551643945095298, 'owner': 1, 'action': -3}, {'tau': 0.16060675483805253, 'time': 3.5533440110666437, 'owner': 0, 'action': -2}, {'tau': 0.004910463758240002, 'time': 3.556554408853538, 'owner': 3, 'action': -3}, {'tau': 0.003472222222222321, 'time': 3.5600266310757602, 'owner': 2, 'action': -3}, {'tau': 0.20272930464801275, 'time': 3.6462822956194043, 'owner': 3, 'action': -2}, {'tau': 0.20825567806520917, 'time': 3.703144862474729, 'owner': 2, 'action': -1}, {'tau': 0.2342735020043194, 'time': 3.7261779362965, 'owner': 1, 'action': -2}, {'tau': 0.20692608598898943, 'time': 3.7669527170647497, 'owner': 0, 'action': -3}, {'tau': 0.003472222222222321, 'time': 3.770424939286972, 'owner': 1, 'action': -3}, {'tau': 0.004910463758240002, 'time': 3.775335403045212, 'owner': 3, 'action': -3}, {'tau': 0.003472222222222321, 'time': 3.7788076252674343, 'owner': 2, 'action': -3}, {'tau': 0.08690860394044142, 'time': 3.8130865402369416, 'owner': 1, 'action': -1}, {'tau': 0.2717936977971145, 'time': 3.825137708863758, 'owner': 0, 'action': -1}, {'tau': 0.10735599647229677, 'time': 3.9204425367092384, 'owner': 1, 'action': -2}, {'tau': 0.2306038532873842, 'time': 3.933748715762113, 'owner': 2, 'action': -2}, {'tau': 0.04542837054404014, 'time': 3.9791770863061533, 'owner': 2, 'action': -1}, {'tau': 0.39324579953253425, 'time': 4.039528095151939, 'owner': 3, 'action': -1}, {'tau': 0.239270991700828, 'time': 4.064408700564586, 'owner': 0, 'action': -2}, {'tau': 0.20477232808642132, 'time': 4.12521486479566, 'owner': 1, 'action': -1}, {'tau': 0.14813662985268117, 'time': 4.1273137161588345, 'owner': 2, 'action': -2}, {'tau': 0.14313051952113387, 'time': 4.182658614673072, 'owner': 3, 'action': -2}, {'tau': 0.08271675793062716, 'time': 4.210030474089462, 'owner': 2, 'action': -1}, {'tau': 0.14351239534245064, 'time': 4.26872726013811, 'owner': 1, 'action': -2}, {'tau': 0.2553710526159927, 'time': 4.319779753180579, 'owner': 0, 'action': -1}, {'tau': 0.1452159845802381, 'time': 4.3278745992533105, 'owner': 3, 'action': -1}, {'tau': 0.09122467301642256, 'time': 4.359951933154533, 'owner': 1, 'action': -1}, {'tau': 0.2252771250523926, 'time': 4.435307599141854, 'owner': 2, 'action': -2}, {'tau': 0.06505168995593191, 'time': 4.500359289097786, 'owner': 2, 'action': -1}, {'tau': 0.1868498083288639, 'time': 4.506629561509443, 'owner': 0, 'action': -2}, {'tau': 0.30328002008235266, 'time': 4.631154619335663, 'owner': 3, 'action': -2}, {'tau': 0.12694872174798633, 'time': 4.633578283257429, 'owner': 0, 'action': -1}, {'tau': 0.06983902061709646, 'time': 4.70099363995276, 'owner': 3, 'action': -1}, {'tau': 0.3932874292067119, 'time': 4.753239362361245, 'owner': 1, 'action': -2}, {'tau': 0.29734269199175234, 'time': 4.7977019810895385, 'owner': 2, 'action': -2}, {'tau': 0.1913420295282684, 'time': 4.824920312785697, 'owner': 0, 'action': -2}, {'tau': 0.042267029837308456, 'time': 4.839969010926847, 'owner': 2, 'action': -1}, {'tau': 0.16027474521127694, 'time': 4.913514107572522, 'owner': 1, 'action': -1}, {'tau': 0.09328948396119774, 'time': 4.918209796746895, 'owner': 0, 'action': -1}, {'tau': 0.2383391657848284, 'time': 4.939332805737588, 'owner': 3, 'action': -2}, {'tau': 0.04716134063290234, 'time': 4.960675448205424, 'owner': 1, 'action': -2}, {'tau': 0.058887173509096336, 'time': 5.01956262171452, 'owner': 1, 'action': -1}, {'tau': 0.1919377417667114, 'time': 5.031906752693558, 'owner': 2, 'action': -2}, {'tau': 0.20356592840023335, 'time': 5.1217757251471285, 'owner': 0, 'action': -2}, {'tau': 0.042057992366704156, 'time': 5.163833717513833, 'owner': 0, 'action': -1}, {'tau': 0.2145974869983025, 'time': 5.234160108712823, 'owner': 1, 'action': -2}, {'tau': 0.2276101651348199, 'time': 5.259516917828378, 'owner': 2, 'action': -1}, {'tau': 0.35372942013190833, 'time': 5.293062225869496, 'owner': 3, 'action': -1}, {'tau': 0.041137138444872434, 'time': 5.300654056273251, 'owner': 2, 'action': -2}, {'tau': 0.08724040304872549, 'time': 5.321400511761548, 'owner': 1, 'action': -1}, {'tau': 0.17265929906149946, 'time': 5.336493016575332, 'owner': 0, 'action': -2}, {'tau': 0.005296479715649838, 'time': 5.341789496290982, 'owner': 0, 'action': -1}, {'tau': 0.10369320802056059, 'time': 5.445482704311543, 'owner': 0, 'action': -2}, {'tau': 0.14690440021727103, 'time': 5.447558456490522, 'owner': 2, 'action': -1}, {'tau': 1.6762902830591506, 'time': 5.455097908326585, 'owner': 3, 'action': -3}, {'tau': 0.003472222222222321, 'time': 5.458570130548807, 'owner': 2, 'action': -3}, {'tau': 0.17791288523285598, 'time': 5.470975111102352, 'owner': 3, 'action': -2}, {'tau': 0.05500600186489013, 'time': 5.500488706176433, 'owner': 0, 'action': -1}, {'tau': 0.06407630434628864, 'time': 5.535051415448641, 'owner': 3, 'action': -1}, {'tau': 0.2632808157947082, 'time': 5.584681327556257, 'owner': 1, 'action': -2}, {'tau': 0.16359169237424798, 'time': 5.61115014886477, 'owner': 2, 'action': -2}, {'tau': 0.08120070049033146, 'time': 5.6162521159389724, 'owner': 3, 'action': -2}, {'tau': 0.1633222443299669, 'time': 5.6638109505064, 'owner': 0, 'action': -2}, {'tau': 0.05370177945266885, 'time': 5.664851928317439, 'owner': 2, 'action': -1}, {'tau': 0.04139301698555009, 'time': 5.706244945302989, 'owner': 2, 'action': -2}, {'tau': 0.012474634219929115, 'time': 5.718719579522918, 'owner': 2, 'action': -1}, {'tau': 0.20726071812995794, 'time': 5.7919420456862145, 'owner': 1, 'action': -1}, {'tau': 0.11009311922435483, 'time': 5.902035164910569, 'owner': 1, 'action': -2}, {'tau': 0.2102181392057565, 'time': 5.928937718728674, 'owner': 2, 'action': -2}, {'tau': 0.479035537724652, 'time': 5.937605668273459, 'owner': 0, 'action': -3}, {'tau': 0.004910463758239558, 'time': 5.942516132031699, 'owner': 2, 'action': -3}, {'tau': 0.003472222222222321, 'time': 5.945988354253921, 'owner': 1, 'action': -3}, {'tau': 0.004910463758239558, 'time': 5.950898818012161, 'owner': 3, 'action': -3}, {'tau': 0.08537652432050624, 'time': 5.987411689231076, 'owner': 1, 'action': -1}, {'tau': 0.36303769870205027, 'time': 6.02684864920845, 'owner': 0, 'action': -1}, {'tau': 0.13337146962678492, 'time': 6.062309188355459, 'owner': 2, 'action': -1}, {'tau': 0.5102488706088444, 'time': 6.126500986547817, 'owner': 3, 'action': -1}, {'tau': 0.11579237757724403, 'time': 6.142641026785694, 'owner': 0, 'action': -2}, {'tau': 0.23621085881291481, 'time': 6.22362254804399, 'owner': 1, 'action': -2}, {'tau': 0.0038833777256925828, 'time': 6.227505925769683, 'owner': 1, 'action': -1}, {'tau': 0.09077255419824137, 'time': 6.233413580983935, 'owner': 0, 'action': -1}, {'tau': 0.17790890119772929, 'time': 6.2402180895531885, 'owner': 2, 'action': -2}, {'tau': 0.03581476168574138, 'time': 6.269228342669677, 'owner': 0, 'action': -2}, {'tau': 0.180958995529938, 'time': 6.307459982077755, 'owner': 3, 'action': -2}, {'tau': 0.10641888172242808, 'time': 6.3466369712756165, 'owner': 2, 'action': -1}, {'tau': 0.06320229418614254, 'time': 6.370662276263897, 'owner': 3, 'action': -1}, {'tau': 0.15767048939459016, 'time': 6.426898832064267, 'owner': 0, 'action': -1}, {'tau': 0.26080281632241853, 'time': 6.4883087420921015, 'owner': 1, 'action': -2}, {'tau': 0.16267290837059978, 'time': 6.533335184634497, 'owner': 3, 'action': -2}, {'tau': 0.0487279248575021, 'time': 6.537036666949604, 'owner': 1, 'action': -1}, {'tau': 0.20792490964719335, 'time': 6.55456188092281, 'owner': 2, 'action': -2}, {'tau': 0.05916216886813519, 'time': 6.592497353502632, 'owner': 3, 'action': -1}, {'tau': 0.2122944128339208, 'time': 6.639193244898188, 'owner': 0, 'action': -2}, {'tau': 0.10485642323150213, 'time': 6.641893090181106, 'owner': 1, 'action': -2}, {'tau': 0.07599388081419267, 'time': 6.668491234316825, 'owner': 3, 'action': -2}, {'tau': 0.02353912292733007, 'time': 6.692030357244155, 'owner': 3, 'action': -1}, {'tau': 0.14325263737584493, 'time': 6.697814518298655, 'owner': 2, 'action': -1}, {'tau': 0.062417219660902745, 'time': 6.70161046455909, 'owner': 0, 'action': -1}, {'tau': 0.10014535870158436, 'time': 6.74203844888269, 'owner': 1, 'action': -1}, {'tau': 0.1403904315362512, 'time': 6.838204949834906, 'owner': 2, 'action': -2}, {'tau': 0.20930864207852018, 'time': 6.9109191066376106, 'owner': 0, 'action': -2}, {'tau': 0.21780890529142738, 'time': 6.9598473541741175, 'owner': 1, 'action': -2}, {'tau': 0.2917810484059986, 'time': 6.983811405650154, 'owner': 3, 'action': -2}, {'tau': 0.005951044582188203, 'time': 6.989762450232342, 'owner': 3, 'action': -1}, {'tau': 0.18187677533777968, 'time': 7.09279588197539, 'owner': 0, 'action': -1}, {'tau': 0.27223550086551107, 'time': 7.110440450700417, 'owner': 2, 'action': -1}, {'tau': 0.15509553053177072, 'time': 7.144857980764113, 'owner': 3, 'action': -2}, {'tau': 0.24471443757975742, 'time': 7.204561791753875, 'owner': 1, 'action': -1}, {'tau': 0.06029103486173515, 'time': 7.205149015625848, 'owner': 3, 'action': -1}, {'tau': 0.10750467653534379, 'time': 7.217945127235761, 'owner': 2, 'action': -2}, {'tau': 0.02369539581260227, 'time': 7.241640523048363, 'owner': 2, 'action': -1}, {'tau': 0.06781435164654237, 'time': 7.27296336727239, 'owner': 3, 'action': -2}, {'tau': 0.2328192827396789, 'time': 7.325615164715069, 'owner': 0, 'action': -2}, {'tau': 0.019949361347188166, 'time': 7.345564526062257, 'owner': 0, 'action': -1}, {'tau': 0.11482516028159662, 'time': 7.35646568332996, 'owner': 2, 'action': -2}, {'tau': 0.16675338082484004, 'time': 7.371315172578715, 'owner': 1, 'action': -2}, {'tau': 0.12846561182976934, 'time': 7.4014289791021595, 'owner': 3, 'action': -1}, {'tau': 0.07806149047177335, 'time': 7.434527173801733, 'owner': 2, 'action': -1}, {'tau': 0.09868736305064818, 'time': 7.4442518891129055, 'owner': 0, 'action': -2}, {'tau': 0.04303125200958746, 'time': 7.487283141122493, 'owner': 0, 'action': -1}, {'tau': 0.10513251230968201, 'time': 7.5065614914118415, 'owner': 3, 'action': -2}, {'tau': 0.15793092758951932, 'time': 7.529246100168234, 'owner': 1, 'action': -1}, {'tau': 0.09726217404304638, 'time': 7.603823665454888, 'owner': 3, 'action': -1}, {'tau': 0.015800431943617355, 'time': 7.619624097398505, 'owner': 3, 'action': -2}, {'tau': 0.1768104068715619, 'time': 7.706056507039796, 'owner': 1, 'action': -2}, {'tau': 0.22708084343805002, 'time': 7.714363984560543, 'owner': 0, 'action': -2}, {'tau': 0.026755741243027487, 'time': 7.74111972580357, 'owner': 0, 'action': -1}, {'tau': 0.03616103498258649, 'time': 7.742217542022383, 'owner': 1, 'action': -1}, {'tau': 0.3172876789077099, 'time': 7.751814852709443, 'owner': 2, 'action': -2}, {'tau': 0.1864149431236921, 'time': 7.938229795833135, 'owner': 2, 'action': -1}, {'tau': 0.38752041641640744, 'time': 8.007144513814913, 'owner': 3, 'action': -1}, {'tau': 0.2689496361902579, 'time': 8.010069361993828, 'owner': 0, 'action': -2}, {'tau': 0.2849272486118579, 'time': 8.02714479063424, 'owner': 1, 'action': -2}, {'tau': 0.03359913189841279, 'time': 8.043668493892241, 'owner': 0, 'action': -1}, {'tau': 0.166705243183082, 'time': 8.104935039016217, 'owner': 2, 'action': -2}, {'tau': 0.14119345555127438, 'time': 8.148337969366187, 'owner': 3, 'action': -2}, {'tau': 0.1649673465215553, 'time': 8.192112137155796, 'owner': 1, 'action': -1}, {'tau': 0.1931521425220737, 'time': 8.236820636414315, 'owner': 0, 'action': -2}, {'tau': 0.08786959258914351, 'time': 8.27998172974494, 'owner': 1, 'action': -2}, {'tau': 0.06733132121585861, 'time': 8.304151957630173, 'owner': 0, 'action': -1}, {'tau': 0.20734350577570382, 'time': 8.35568147514189, 'owner': 3, 'action': -1}, {'tau': 0.18844326831518465, 'time': 8.492595225945358, 'owner': 0, 'action': -2}, {'tau': 0.41742617351947864, 'time': 8.522361212535696, 'owner': 2, 'action': -1}, {'tau': 0.2623032198010815, 'time': 8.542284949546021, 'owner': 1, 'action': -1}, {'tau': 0.21707785111320455, 'time': 8.572759326255095, 'owner': 3, 'action': -2}, {'tau': 0.04275853540977792, 'time': 8.585043484955799, 'owner': 1, 'action': -2}, {'tau': 0.01813229161482255, 'time': 8.603175776570621, 'owner': 1, 'action': -1}, {'tau': 0.1878330213496895, 'time': 8.680428247295048, 'owner': 0, 'action': -1}, {'tau': 0.1794137539472711, 'time': 8.701774966482967, 'owner': 2, 'action': -2}, {'tau': 0.009452744971730098, 'time': 8.711227711454697, 'owner': 2, 'action': -1}, {'tau': 0.0355594521466891, 'time': 8.715987699441737, 'owner': 0, 'action': -2}, {'tau': 0.2061072508377304, 'time': 8.778866577092826, 'owner': 3, 'action': -1}, {'tau': 0.14719926829418917, 'time': 8.863186967735926, 'owner': 0, 'action': -1}, {'tau': 0.16814836677522216, 'time': 8.87937607822992, 'owner': 2, 'action': -2}, {'tau': 0.011358543882995065, 'time': 8.890734622112914, 'owner': 2, 'action': -1}, {'tau': 0.3076346619389483, 'time': 8.91081043850957, 'owner': 1, 'action': -2}, {'tau': 0.14502530191606233, 'time': 9.008212269651988, 'owner': 0, 'action': -2}, {'tau': 0.25933750272304756, 'time': 9.038204079815873, 'owner': 3, 'action': -2}, {'tau': 0.03222132819806589, 'time': 9.040433597850054, 'owner': 0, 'action': -1}, {'tau': 0.10650163073293761, 'time': 9.146935228582992, 'owner': 0, 'action': -2}, {'tau': 0.25648873019718366, 'time': 9.147223352310098, 'owner': 2, 'action': -2}, {'tau': 0.15825699574309482, 'time': 9.196461075558968, 'owner': 3, 'action': -1}, {'tau': 0.0644394913194084, 'time': 9.2113747199024, 'owner': 0, 'action': -1}, {'tau': 0.12450916116370792, 'time': 9.271732513473806, 'owner': 2, 'action': -1}, {'tau': 0.08440984187789802, 'time': 9.295784561780298, 'owner': 0, 'action': -2}, {'tau': 0.40775641764682824, 'time': 9.318566856156398, 'owner': 1, 'action': -1}, {'tau': 0.0792878537490882, 'time': 9.375072415529386, 'owner': 0, 'action': -1}, {'tau': 0.1985625043309316, 'time': 9.3950235798899, 'owner': 3, 'action': -2}, {'tau': 0.1283219881554949, 'time': 9.4000545016293, 'owner': 2, 'action': -2}, {'tau': 0.06621281433777426, 'time': 9.44128522986716, 'owner': 0, 'action': -2}, {'tau': 0.04748054174015515, 'time': 9.488765771607316, 'owner': 0, 'action': -1}, {'tau': 0.03172310162992886, 'time': 9.520488873237245, 'owner': 0, 'action': -2}, {'tau': 0.13013270195982862, 'time': 9.525156281849728, 'owner': 3, 'action': -1}, {'tau': 0.27003025280558646, 'time': 9.588597108961984, 'owner': 1, 'action': -2}, {'tau': 0.01951753638486764, 'time': 9.608114645346852, 'owner': 1, 'action': -1}, {'tau': 0.2162489725836121, 'time': 9.616303474212913, 'owner': 2, 'action': -1}, {'tau': 0.14915109548836902, 'time': 9.669639968725614, 'owner': 0, 'action': -1}, {'tau': 0.18961455922642223, 'time': 9.797729204573274, 'owner': 1, 'action': -2}, {'tau': 0.24326556715143788, 'time': 9.85956904136435, 'owner': 2, 'action': -2}, {'tau': 0.35324364862029967, 'time': 9.878399930470028, 'owner': 3, 'action': -2}, {'tau': 0.20897893655660837, 'time': 9.878618905282222, 'owner': 0, 'action': -2}, {'tau': 0.05497485318326767, 'time': 9.933374783653296, 'owner': 3, 'action': -1}, {'tau': 0.11207657951610628, 'time': 9.971645620880457, 'owner': 2, 'action': -1}, {'tau': 0.10169815920104952, 'time': 9.980317064483271, 'owner': 0, 'action': -1}, {'tau': 0.03188052014636433, 'time': 10.012197584629636, 'owner': 0, 'action': -2}, {'tau': 0.04343937273615062, 'time': 10.055636957365786, 'owner': 0, 'action': -1}, {'tau': 0.1735160129310085, 'time': 10.106890796584304, 'owner': 3, 'action': -2}, {'tau': 0.055150411251032594, 'time': 10.162041207835337, 'owner': 3, 'action': -1}, {'tau': 0.393026682567271, 'time': 10.190755887140545, 'owner': 1, 'action': -1}, {'tau': 0.2269400401520656, 'time': 10.198585661032523, 'owner': 2, 'action': -2}, {'tau': 0.05008811166651661, 'time': 10.212129319501853, 'owner': 3, 'action': -2}, {'tau': 0.22229016923340694, 'time': 10.277927126599193, 'owner': 0, 'action': -2}, {'tau': 0.11981957996272818, 'time': 10.397746706561922, 'owner': 0, 'action': -1}, {'tau': 0.2128471791941866, 'time': 10.403603066334732, 'owner': 1, 'action': -2}, {'tau': 0.20907285595911596, 'time': 10.407658516991638, 'owner': 2, 'action': -1}, {'tau': 0.247412663738368, 'time': 10.459541983240221, 'owner': 3, 'action': -1}, {'tau': 0.06272146036628001, 'time': 10.470379977357918, 'owner': 2, 'action': -2}, {'tau': 0.07325004757837128, 'time': 10.476853113913103, 'owner': 1, 'action': -1}, {'tau': 0.10809637611373368, 'time': 10.505843082675655, 'owner': 0, 'action': -2}, {'tau': 0.025945198196954067, 'time': 10.53178828087261, 'owner': 0, 'action': -1}, {'tau': 0.092026074433738, 'time': 10.55156805767396, 'owner': 3, 'action': -2}, {'tau': 0.09970144593336272, 'time': 10.570081423291281, 'owner': 2, 'action': -1}, {'tau': 0.049426918823554544, 'time': 10.600994976497514, 'owner': 3, 'action': -1}, {'tau': 0.1287150655604954, 'time': 10.698796488851777, 'owner': 2, 'action': -2}, {'tau': 0.2228327685370779, 'time': 10.754621049409687, 'owner': 0, 'action': -2}, {'tau': 0.07921729297894053, 'time': 10.778013781830717, 'owner': 2, 'action': -1}, {'tau': 4.863658968438897, 'time': 10.814557786451058, 'owner': 0, 'action': -3}, {'tau': 0.004910463758239558, 'time': 10.819468250209297, 'owner': 2, 'action': -3}, {'tau': 0.34354430578928863, 'time': 10.820397419702392, 'owner': 1, 'action': -2}, {'tau': 0.0034722222222214327, 'time': 10.822940472431519, 'owner': 1, 'action': -3}, {'tau': 0.2261308791605927, 'time': 10.827125855658107, 'owner': 3, 'action': -2}, {'tau': 0.07315085215832262, 'time': 10.82777190156801, 'owner': 0, 'action': -1}, {'tau': 0.004910463758239558, 'time': 10.827850936189758, 'owner': 3, 'action': -3}, {'tau': 0.15651399136186406, 'time': 10.98363984701997, 'owner': 3, 'action': -1}, {'tau': 0.040574421101448266, 'time': 11.024214268121419, 'owner': 3, 'action': -2}, {'tau': 0.2140965619970121, 'time': 11.041868463565022, 'owner': 0, 'action': -2}, {'tau': 0.23822167300952302, 'time': 11.058619092711915, 'owner': 1, 'action': -1}, {'tau': 0.0775925800775763, 'time': 11.101806848198995, 'owner': 3, 'action': -1}, {'tau': 0.03253887036271408, 'time': 11.13434571856171, 'owner': 3, 'action': -2}, {'tau': 0.07745331116913334, 'time': 11.136072403881048, 'owner': 1, 'action': -2}, {'tau': 0.009990025508143319, 'time': 11.146062429389191, 'owner': 1, 'action': -1}, {'tau': 0.3812059821774145, 'time': 11.159219764008132, 'owner': 2, 'action': -2}, {'tau': 0.0399558824815518, 'time': 11.174301601043261, 'owner': 3, 'action': -1}, {'tau': 0.169223577313538, 'time': 11.21109204087856, 'owner': 0, 'action': -1}, {'tau': 0.0787760991477402, 'time': 11.237995863155872, 'owner': 2, 'action': -1}, {'tau': 0.03460382601638479, 'time': 11.272599689172257, 'owner': 2, 'action': -2}, {'tau': 0.06803487019186782, 'time': 11.279126911070428, 'owner': 0, 'action': -2}, {'tau': 0.1376431510880778, 'time': 11.311944752131339, 'owner': 3, 'action': -2}, {'tau': 0.038993683291920433, 'time': 11.35093843542326, 'owner': 3, 'action': -1}, {'tau': 0.22852526259899975, 'time': 11.374587691988191, 'owner': 1, 'action': -2}, {'tau': 0.11584654489715618, 'time': 11.388446234069413, 'owner': 2, 'action': -1}, {'tau': 0.14402264095742545, 'time': 11.423149552027853, 'owner': 0, 'action': -1}, {'tau': 0.07795652844119516, 'time': 11.466402762510608, 'owner': 2, 'action': -2}, {'tau': 0.010627786005033002, 'time': 11.477030548515641, 'owner': 2, 'action': -1}, {'tau': 0.08485255462694141, 'time': 11.508002106654795, 'owner': 0, 'action': -2}, {'tau': 0.060520957700994416, 'time': 11.537551506216635, 'owner': 2, 'action': -2}, {'tau': 0.02686753582202961, 'time': 11.564419042038665, 'owner': 2, 'action': -1}, {'tau': 0.22465283765757071, 'time': 11.57559127308083, 'owner': 3, 'action': -2}, {'tau': 0.23192558264022445, 'time': 11.606513274628416, 'owner': 1, 'action': -1}, {'tau': 0.07727406045255947, 'time': 11.641693102491224, 'owner': 2, 'action': -2}, {'tau': 0.06630989573583079, 'time': 11.641901168816661, 'owner': 3, 'action': -1}, {'tau': 0.09613675339463512, 'time': 11.70265002802305, 'owner': 1, 'action': -2}, {'tau': 0.13933057050042663, 'time': 11.781023672991651, 'owner': 2, 'action': -1}, {'tau': 0.13551147018854337, 'time': 11.916535143180194, 'owner': 2, 'action': -2}, {'tau': 0.2976571091493767, 'time': 11.939558277966038, 'owner': 3, 'action': -2}, {'tau': 0.2395728431050319, 'time': 11.942222871128083, 'owner': 1, 'action': -1}, {'tau': 0.0297126979395248, 'time': 11.94624784111972, 'owner': 2, 'action': -1}]\n"
     ]
    }
   ],
   "source": [
    "#while loop\n",
    "\n",
    "while t<t_max:\n",
    "    #print(t)\n",
    "    if timeholder>(len(timeline)-1): #if timeholder exceeds max timeline index\n",
    "        #print(sum(ppl_state)/num_ppl)\n",
    "        print('end')\n",
    "        break\n",
    "    next_tic=timeline[timeholder] #look at the ticket corresponding to where we are on the timeline\n",
    "    if (next_tic['action']==-1): #if it's a stay-at-bower ticket, use the corresponding handler\n",
    "        SBtickethandler(next_tic,timeline,SB_param,t_max,male_states)\n",
    "    elif (next_tic['action']==-2): #if it's a forage ticket use the corresponding handler\n",
    "        FGtickethandler(next_tic,timeline,FG_param,t_max,male_states)\n",
    "    else: #if it's a female visit ticket, use the corresponding handler\n",
    "        print(\"passing to FVtickethandler\")\n",
    "        recents_list=FVtickethandler(next_tic, timeline, FV_param, t_max, male_states, fitness_states, nodes, female_preferences, travel_times, success_rate, success_times, recents_list)\n",
    "    t=next_tic['time'] #new time based on the ticket we just read\n",
    "    timeholder=timeholder+1 #increment timeholder\n",
    "\n",
    "print(timeline)\n"
   ]
  },
  {
   "cell_type": "code",
   "execution_count": 5,
   "metadata": {},
   "outputs": [
    {
     "name": "stdout",
     "output_type": "stream",
     "text": [
      "tl0----\n",
      "[{'tau': 0.2903921721854351, 'time': 0.2903921721854351, 'owner': 0, 'action': -2}, {'tau': 0.06068981706481247, 'time': 0.3510819892502476, 'owner': 0, 'action': -1}, {'tau': 0.2436634250446743, 'time': 0.5947454142949219, 'owner': 0, 'action': -2}, {'tau': 0.10323015568332972, 'time': 0.6979755699782516, 'owner': 0, 'action': -1}, {'tau': 0.2536596683615865, 'time': 0.9516352383398381, 'owner': 0, 'action': -2}, {'tau': 0.011802448659481435, 'time': 0.9634376869993195, 'owner': 0, 'action': -1}, {'tau': 0.03878466572147454, 'time': 1.002222352720794, 'owner': 0, 'action': -2}, {'tau': 0.08581478381004981, 'time': 1.0880371365308439, 'owner': 0, 'action': -1}, {'tau': 0.2703843808055466, 'time': 1.3584215173363905, 'owner': 0, 'action': -2}, {'tau': 0.18412175943186426, 'time': 1.5425432767682548, 'owner': 0, 'action': -1}, {'tau': 0.004910463758240002, 'time': 1.7154599316433226, 'owner': 0, 'action': -3}, {'tau': 0.21839695309825813, 'time': 1.7609402298665129, 'owner': 0, 'action': -2}, {'tau': 0.007261403244591458, 'time': 1.7682016331111043, 'owner': 0, 'action': -1}, {'tau': 0.059162884942912664, 'time': 1.827364518054017, 'owner': 0, 'action': -2}, {'tau': 0.07274961417574044, 'time': 1.9001141322297574, 'owner': 0, 'action': -1}, {'tau': 0.33677324884083837, 'time': 2.236887381070596, 'owner': 0, 'action': -2}, {'tau': 0.08529401017223304, 'time': 2.322181391242829, 'owner': 0, 'action': -1}, {'tau': 0.07717122946108423, 'time': 2.399352620703913, 'owner': 0, 'action': -2}, {'tau': 0.006629114217571175, 'time': 2.4059817349214843, 'owner': 0, 'action': -1}, {'tau': 0.3237226939952804, 'time': 2.7297044289167647, 'owner': 0, 'action': -2}, {'tau': 0.05503867612669078, 'time': 2.7847431050434555, 'owner': 0, 'action': -1}, {'tau': 0.14265877553857376, 'time': 2.927401880582029, 'owner': 0, 'action': -2}, {'tau': 0.004215624690559583, 'time': 2.931617505272589, 'owner': 0, 'action': -1}, {'tau': 0.29884367897235586, 'time': 3.2304611842449447, 'owner': 0, 'action': -2}, {'tau': 1.6038547671121308, 'time': 3.3276973847359157, 'owner': 0, 'action': -3}, {'tau': 0.16227607198364646, 'time': 3.392737256228591, 'owner': 0, 'action': -1}, {'tau': 0.21005767147049292, 'time': 3.5481717228730756, 'owner': 0, 'action': -3}, {'tau': 0.16060675483805253, 'time': 3.5533440110666437, 'owner': 0, 'action': -2}, {'tau': 0.20692608598898943, 'time': 3.7669527170647497, 'owner': 0, 'action': -3}, {'tau': 0.2717936977971145, 'time': 3.825137708863758, 'owner': 0, 'action': -1}, {'tau': 0.239270991700828, 'time': 4.064408700564586, 'owner': 0, 'action': -2}, {'tau': 0.2553710526159927, 'time': 4.319779753180579, 'owner': 0, 'action': -1}, {'tau': 0.1868498083288639, 'time': 4.506629561509443, 'owner': 0, 'action': -2}, {'tau': 0.12694872174798633, 'time': 4.633578283257429, 'owner': 0, 'action': -1}, {'tau': 0.1913420295282684, 'time': 4.824920312785697, 'owner': 0, 'action': -2}, {'tau': 0.09328948396119774, 'time': 4.918209796746895, 'owner': 0, 'action': -1}, {'tau': 0.20356592840023335, 'time': 5.1217757251471285, 'owner': 0, 'action': -2}, {'tau': 0.042057992366704156, 'time': 5.163833717513833, 'owner': 0, 'action': -1}, {'tau': 0.17265929906149946, 'time': 5.336493016575332, 'owner': 0, 'action': -2}, {'tau': 0.005296479715649838, 'time': 5.341789496290982, 'owner': 0, 'action': -1}, {'tau': 0.10369320802056059, 'time': 5.445482704311543, 'owner': 0, 'action': -2}, {'tau': 0.05500600186489013, 'time': 5.500488706176433, 'owner': 0, 'action': -1}, {'tau': 0.1633222443299669, 'time': 5.6638109505064, 'owner': 0, 'action': -2}, {'tau': 0.479035537724652, 'time': 5.937605668273459, 'owner': 0, 'action': -3}, {'tau': 0.36303769870205027, 'time': 6.02684864920845, 'owner': 0, 'action': -1}, {'tau': 0.11579237757724403, 'time': 6.142641026785694, 'owner': 0, 'action': -2}, {'tau': 0.09077255419824137, 'time': 6.233413580983935, 'owner': 0, 'action': -1}, {'tau': 0.03581476168574138, 'time': 6.269228342669677, 'owner': 0, 'action': -2}, {'tau': 0.15767048939459016, 'time': 6.426898832064267, 'owner': 0, 'action': -1}, {'tau': 0.2122944128339208, 'time': 6.639193244898188, 'owner': 0, 'action': -2}, {'tau': 0.062417219660902745, 'time': 6.70161046455909, 'owner': 0, 'action': -1}, {'tau': 0.20930864207852018, 'time': 6.9109191066376106, 'owner': 0, 'action': -2}, {'tau': 0.18187677533777968, 'time': 7.09279588197539, 'owner': 0, 'action': -1}, {'tau': 0.2328192827396789, 'time': 7.325615164715069, 'owner': 0, 'action': -2}, {'tau': 0.019949361347188166, 'time': 7.345564526062257, 'owner': 0, 'action': -1}, {'tau': 0.09868736305064818, 'time': 7.4442518891129055, 'owner': 0, 'action': -2}, {'tau': 0.04303125200958746, 'time': 7.487283141122493, 'owner': 0, 'action': -1}, {'tau': 0.22708084343805002, 'time': 7.714363984560543, 'owner': 0, 'action': -2}, {'tau': 0.026755741243027487, 'time': 7.74111972580357, 'owner': 0, 'action': -1}, {'tau': 0.2689496361902579, 'time': 8.010069361993828, 'owner': 0, 'action': -2}, {'tau': 0.03359913189841279, 'time': 8.043668493892241, 'owner': 0, 'action': -1}, {'tau': 0.1931521425220737, 'time': 8.236820636414315, 'owner': 0, 'action': -2}, {'tau': 0.06733132121585861, 'time': 8.304151957630173, 'owner': 0, 'action': -1}, {'tau': 0.18844326831518465, 'time': 8.492595225945358, 'owner': 0, 'action': -2}, {'tau': 0.1878330213496895, 'time': 8.680428247295048, 'owner': 0, 'action': -1}, {'tau': 0.0355594521466891, 'time': 8.715987699441737, 'owner': 0, 'action': -2}, {'tau': 0.14719926829418917, 'time': 8.863186967735926, 'owner': 0, 'action': -1}, {'tau': 0.14502530191606233, 'time': 9.008212269651988, 'owner': 0, 'action': -2}, {'tau': 0.03222132819806589, 'time': 9.040433597850054, 'owner': 0, 'action': -1}, {'tau': 0.10650163073293761, 'time': 9.146935228582992, 'owner': 0, 'action': -2}, {'tau': 0.0644394913194084, 'time': 9.2113747199024, 'owner': 0, 'action': -1}, {'tau': 0.08440984187789802, 'time': 9.295784561780298, 'owner': 0, 'action': -2}, {'tau': 0.0792878537490882, 'time': 9.375072415529386, 'owner': 0, 'action': -1}, {'tau': 0.06621281433777426, 'time': 9.44128522986716, 'owner': 0, 'action': -2}, {'tau': 0.04748054174015515, 'time': 9.488765771607316, 'owner': 0, 'action': -1}, {'tau': 0.03172310162992886, 'time': 9.520488873237245, 'owner': 0, 'action': -2}, {'tau': 0.14915109548836902, 'time': 9.669639968725614, 'owner': 0, 'action': -1}, {'tau': 0.20897893655660837, 'time': 9.878618905282222, 'owner': 0, 'action': -2}, {'tau': 0.10169815920104952, 'time': 9.980317064483271, 'owner': 0, 'action': -1}, {'tau': 0.03188052014636433, 'time': 10.012197584629636, 'owner': 0, 'action': -2}, {'tau': 0.04343937273615062, 'time': 10.055636957365786, 'owner': 0, 'action': -1}, {'tau': 0.22229016923340694, 'time': 10.277927126599193, 'owner': 0, 'action': -2}, {'tau': 0.11981957996272818, 'time': 10.397746706561922, 'owner': 0, 'action': -1}, {'tau': 0.10809637611373368, 'time': 10.505843082675655, 'owner': 0, 'action': -2}, {'tau': 0.025945198196954067, 'time': 10.53178828087261, 'owner': 0, 'action': -1}, {'tau': 0.2228327685370779, 'time': 10.754621049409687, 'owner': 0, 'action': -2}, {'tau': 4.863658968438897, 'time': 10.814557786451058, 'owner': 0, 'action': -3}, {'tau': 0.07315085215832262, 'time': 10.82777190156801, 'owner': 0, 'action': -1}, {'tau': 0.2140965619970121, 'time': 11.041868463565022, 'owner': 0, 'action': -2}, {'tau': 0.169223577313538, 'time': 11.21109204087856, 'owner': 0, 'action': -1}, {'tau': 0.06803487019186782, 'time': 11.279126911070428, 'owner': 0, 'action': -2}, {'tau': 0.14402264095742545, 'time': 11.423149552027853, 'owner': 0, 'action': -1}, {'tau': 0.08485255462694141, 'time': 11.508002106654795, 'owner': 0, 'action': -2}]\n",
      "tl1----\n",
      "[{'tau': 0.26150764177150027, 'time': 0.26150764177150027, 'owner': 1, 'action': -2}, {'tau': 0.10566815431975035, 'time': 0.3671757960912506, 'owner': 1, 'action': -1}, {'tau': 0.2890868926918583, 'time': 0.6562626887831089, 'owner': 1, 'action': -2}, {'tau': 0.0355071719152652, 'time': 0.6917698606983741, 'owner': 1, 'action': -1}, {'tau': 0.07924038972378267, 'time': 0.7710102504221568, 'owner': 1, 'action': -2}, {'tau': 0.11693501776675996, 'time': 0.8879452681889167, 'owner': 1, 'action': -1}, {'tau': 0.28839596464134043, 'time': 1.1763412328302572, 'owner': 1, 'action': -2}, {'tau': 0.07247325241834557, 'time': 1.2488144852486027, 'owner': 1, 'action': -1}, {'tau': 0.10734811514325715, 'time': 1.3561626003918599, 'owner': 1, 'action': -2}, {'tau': 0.11395390466101163, 'time': 1.4701165050528715, 'owner': 1, 'action': -1}, {'tau': 0.15451460689477825, 'time': 1.6246311119476498, 'owner': 1, 'action': -2}, {'tau': 0.003472222222222321, 'time': 1.7189321538655449, 'owner': 1, 'action': -3}, {'tau': 0.1593552761656285, 'time': 1.7839863881132783, 'owner': 1, 'action': -1}, {'tau': 0.25409152515643973, 'time': 2.038077913269718, 'owner': 1, 'action': -2}, {'tau': 0.05904969737255872, 'time': 2.0971276106422767, 'owner': 1, 'action': -1}, {'tau': 0.3074858073657021, 'time': 2.404613418007979, 'owner': 1, 'action': -2}, {'tau': 0.04444372394652296, 'time': 2.4490571419545017, 'owner': 1, 'action': -1}, {'tau': 0.05424149468523698, 'time': 2.5032986366397387, 'owner': 1, 'action': -2}, {'tau': 0.02348158085937513, 'time': 2.526780217499114, 'owner': 1, 'action': -1}, {'tau': 0.2547430050609716, 'time': 2.7815232225600854, 'owner': 1, 'action': -2}, {'tau': 0.06280238589008169, 'time': 2.844325608450167, 'owner': 1, 'action': -1}, {'tau': 0.06114205686298568, 'time': 2.905467665313153, 'owner': 1, 'action': -2}, {'tau': 0.2771658264728307, 'time': 3.1826334917859835, 'owner': 1, 'action': -1}, {'tau': 0.003472222222222321, 'time': 3.331169606958138, 'owner': 1, 'action': -3}, {'tau': 0.16926753149322726, 'time': 3.351901023279211, 'owner': 1, 'action': -2}, {'tau': 0.14000341101296998, 'time': 3.491904434292181, 'owner': 1, 'action': -1}, {'tau': 0.003472222222222321, 'time': 3.551643945095298, 'owner': 1, 'action': -3}, {'tau': 0.2342735020043194, 'time': 3.7261779362965, 'owner': 1, 'action': -2}, {'tau': 0.003472222222222321, 'time': 3.770424939286972, 'owner': 1, 'action': -3}, {'tau': 0.08690860394044142, 'time': 3.8130865402369416, 'owner': 1, 'action': -1}, {'tau': 0.10735599647229677, 'time': 3.9204425367092384, 'owner': 1, 'action': -2}, {'tau': 0.20477232808642132, 'time': 4.12521486479566, 'owner': 1, 'action': -1}, {'tau': 0.14351239534245064, 'time': 4.26872726013811, 'owner': 1, 'action': -2}, {'tau': 0.09122467301642256, 'time': 4.359951933154533, 'owner': 1, 'action': -1}, {'tau': 0.3932874292067119, 'time': 4.753239362361245, 'owner': 1, 'action': -2}, {'tau': 0.16027474521127694, 'time': 4.913514107572522, 'owner': 1, 'action': -1}, {'tau': 0.04716134063290234, 'time': 4.960675448205424, 'owner': 1, 'action': -2}, {'tau': 0.058887173509096336, 'time': 5.01956262171452, 'owner': 1, 'action': -1}, {'tau': 0.2145974869983025, 'time': 5.234160108712823, 'owner': 1, 'action': -2}, {'tau': 0.08724040304872549, 'time': 5.321400511761548, 'owner': 1, 'action': -1}, {'tau': 0.2632808157947082, 'time': 5.584681327556257, 'owner': 1, 'action': -2}, {'tau': 0.20726071812995794, 'time': 5.7919420456862145, 'owner': 1, 'action': -1}, {'tau': 0.11009311922435483, 'time': 5.902035164910569, 'owner': 1, 'action': -2}, {'tau': 0.003472222222222321, 'time': 5.945988354253921, 'owner': 1, 'action': -3}, {'tau': 0.08537652432050624, 'time': 5.987411689231076, 'owner': 1, 'action': -1}, {'tau': 0.23621085881291481, 'time': 6.22362254804399, 'owner': 1, 'action': -2}, {'tau': 0.0038833777256925828, 'time': 6.227505925769683, 'owner': 1, 'action': -1}, {'tau': 0.26080281632241853, 'time': 6.4883087420921015, 'owner': 1, 'action': -2}, {'tau': 0.0487279248575021, 'time': 6.537036666949604, 'owner': 1, 'action': -1}, {'tau': 0.10485642323150213, 'time': 6.641893090181106, 'owner': 1, 'action': -2}, {'tau': 0.10014535870158436, 'time': 6.74203844888269, 'owner': 1, 'action': -1}, {'tau': 0.21780890529142738, 'time': 6.9598473541741175, 'owner': 1, 'action': -2}, {'tau': 0.24471443757975742, 'time': 7.204561791753875, 'owner': 1, 'action': -1}, {'tau': 0.16675338082484004, 'time': 7.371315172578715, 'owner': 1, 'action': -2}, {'tau': 0.15793092758951932, 'time': 7.529246100168234, 'owner': 1, 'action': -1}, {'tau': 0.1768104068715619, 'time': 7.706056507039796, 'owner': 1, 'action': -2}, {'tau': 0.03616103498258649, 'time': 7.742217542022383, 'owner': 1, 'action': -1}, {'tau': 0.2849272486118579, 'time': 8.02714479063424, 'owner': 1, 'action': -2}, {'tau': 0.1649673465215553, 'time': 8.192112137155796, 'owner': 1, 'action': -1}, {'tau': 0.08786959258914351, 'time': 8.27998172974494, 'owner': 1, 'action': -2}, {'tau': 0.2623032198010815, 'time': 8.542284949546021, 'owner': 1, 'action': -1}, {'tau': 0.04275853540977792, 'time': 8.585043484955799, 'owner': 1, 'action': -2}, {'tau': 0.01813229161482255, 'time': 8.603175776570621, 'owner': 1, 'action': -1}, {'tau': 0.3076346619389483, 'time': 8.91081043850957, 'owner': 1, 'action': -2}, {'tau': 0.40775641764682824, 'time': 9.318566856156398, 'owner': 1, 'action': -1}, {'tau': 0.27003025280558646, 'time': 9.588597108961984, 'owner': 1, 'action': -2}, {'tau': 0.01951753638486764, 'time': 9.608114645346852, 'owner': 1, 'action': -1}, {'tau': 0.18961455922642223, 'time': 9.797729204573274, 'owner': 1, 'action': -2}, {'tau': 0.393026682567271, 'time': 10.190755887140545, 'owner': 1, 'action': -1}, {'tau': 0.2128471791941866, 'time': 10.403603066334732, 'owner': 1, 'action': -2}, {'tau': 0.07325004757837128, 'time': 10.476853113913103, 'owner': 1, 'action': -1}, {'tau': 0.34354430578928863, 'time': 10.820397419702392, 'owner': 1, 'action': -2}, {'tau': 0.0034722222222214327, 'time': 10.822940472431519, 'owner': 1, 'action': -3}, {'tau': 0.23822167300952302, 'time': 11.058619092711915, 'owner': 1, 'action': -1}, {'tau': 0.07745331116913334, 'time': 11.136072403881048, 'owner': 1, 'action': -2}, {'tau': 0.009990025508143319, 'time': 11.146062429389191, 'owner': 1, 'action': -1}, {'tau': 0.22852526259899975, 'time': 11.374587691988191, 'owner': 1, 'action': -2}, {'tau': 0.23192558264022445, 'time': 11.606513274628416, 'owner': 1, 'action': -1}, {'tau': 0.09613675339463512, 'time': 11.70265002802305, 'owner': 1, 'action': -2}, {'tau': 0.2395728431050319, 'time': 11.942222871128083, 'owner': 1, 'action': -1}]\n",
      "tl2----\n",
      "[{'tau': 0.24404270367709452, 'time': 0.24404270367709452, 'owner': 2, 'action': -2}, {'tau': 0.0798073056314435, 'time': 0.323850009308538, 'owner': 2, 'action': -1}, {'tau': 0.18498693703116198, 'time': 0.5088369463397, 'owner': 2, 'action': -2}, {'tau': 0.07922760256949668, 'time': 0.5880645489091967, 'owner': 2, 'action': -1}, {'tau': 0.17190810732770934, 'time': 0.759972656236906, 'owner': 2, 'action': -2}, {'tau': 0.24683590036386271, 'time': 1.0068085566007687, 'owner': 2, 'action': -1}, {'tau': 0.17519118025827818, 'time': 1.181999736859047, 'owner': 2, 'action': -2}, {'tau': 0.05519410210163156, 'time': 1.2371938389606785, 'owner': 2, 'action': -1}, {'tau': 0.15835650823602032, 'time': 1.3955503471966988, 'owner': 2, 'action': -2}, {'tau': 0.014502744160370895, 'time': 1.4100530913570697, 'owner': 2, 'action': -1}, {'tau': 0.21046648659241463, 'time': 1.6205195779494843, 'owner': 2, 'action': -2}, {'tau': 1.7105494678850826, 'time': 1.7105494678850826, 'owner': 2, 'action': -3}, {'tau': 0.42794815642004314, 'time': 2.0484677343695274, 'owner': 2, 'action': -1}, {'tau': 0.22981424315151866, 'time': 2.278281977521046, 'owner': 2, 'action': -2}, {'tau': 0.2103548317901356, 'time': 2.4886368093111817, 'owner': 2, 'action': -1}, {'tau': 0.3540429412485375, 'time': 2.842679750559719, 'owner': 2, 'action': -2}, {'tau': 0.348344812123909, 'time': 3.191024562683628, 'owner': 2, 'action': -1}, {'tau': 0.003472222222222321, 'time': 3.3346418291803603, 'owner': 2, 'action': -3}, {'tau': 0.30386462172589157, 'time': 3.49488918440952, 'owner': 2, 'action': -2}, {'tau': 0.003472222222222321, 'time': 3.5600266310757602, 'owner': 2, 'action': -3}, {'tau': 0.20825567806520917, 'time': 3.703144862474729, 'owner': 2, 'action': -1}, {'tau': 0.003472222222222321, 'time': 3.7788076252674343, 'owner': 2, 'action': -3}, {'tau': 0.2306038532873842, 'time': 3.933748715762113, 'owner': 2, 'action': -2}, {'tau': 0.04542837054404014, 'time': 3.9791770863061533, 'owner': 2, 'action': -1}, {'tau': 0.14813662985268117, 'time': 4.1273137161588345, 'owner': 2, 'action': -2}, {'tau': 0.08271675793062716, 'time': 4.210030474089462, 'owner': 2, 'action': -1}, {'tau': 0.2252771250523926, 'time': 4.435307599141854, 'owner': 2, 'action': -2}, {'tau': 0.06505168995593191, 'time': 4.500359289097786, 'owner': 2, 'action': -1}, {'tau': 0.29734269199175234, 'time': 4.7977019810895385, 'owner': 2, 'action': -2}, {'tau': 0.042267029837308456, 'time': 4.839969010926847, 'owner': 2, 'action': -1}, {'tau': 0.1919377417667114, 'time': 5.031906752693558, 'owner': 2, 'action': -2}, {'tau': 0.2276101651348199, 'time': 5.259516917828378, 'owner': 2, 'action': -1}, {'tau': 0.041137138444872434, 'time': 5.300654056273251, 'owner': 2, 'action': -2}, {'tau': 0.14690440021727103, 'time': 5.447558456490522, 'owner': 2, 'action': -1}, {'tau': 0.003472222222222321, 'time': 5.458570130548807, 'owner': 2, 'action': -3}, {'tau': 0.16359169237424798, 'time': 5.61115014886477, 'owner': 2, 'action': -2}, {'tau': 0.05370177945266885, 'time': 5.664851928317439, 'owner': 2, 'action': -1}, {'tau': 0.04139301698555009, 'time': 5.706244945302989, 'owner': 2, 'action': -2}, {'tau': 0.012474634219929115, 'time': 5.718719579522918, 'owner': 2, 'action': -1}, {'tau': 0.2102181392057565, 'time': 5.928937718728674, 'owner': 2, 'action': -2}, {'tau': 0.004910463758239558, 'time': 5.942516132031699, 'owner': 2, 'action': -3}, {'tau': 0.13337146962678492, 'time': 6.062309188355459, 'owner': 2, 'action': -1}, {'tau': 0.17790890119772929, 'time': 6.2402180895531885, 'owner': 2, 'action': -2}, {'tau': 0.10641888172242808, 'time': 6.3466369712756165, 'owner': 2, 'action': -1}, {'tau': 0.20792490964719335, 'time': 6.55456188092281, 'owner': 2, 'action': -2}, {'tau': 0.14325263737584493, 'time': 6.697814518298655, 'owner': 2, 'action': -1}, {'tau': 0.1403904315362512, 'time': 6.838204949834906, 'owner': 2, 'action': -2}, {'tau': 0.27223550086551107, 'time': 7.110440450700417, 'owner': 2, 'action': -1}, {'tau': 0.10750467653534379, 'time': 7.217945127235761, 'owner': 2, 'action': -2}, {'tau': 0.02369539581260227, 'time': 7.241640523048363, 'owner': 2, 'action': -1}, {'tau': 0.11482516028159662, 'time': 7.35646568332996, 'owner': 2, 'action': -2}, {'tau': 0.07806149047177335, 'time': 7.434527173801733, 'owner': 2, 'action': -1}, {'tau': 0.3172876789077099, 'time': 7.751814852709443, 'owner': 2, 'action': -2}, {'tau': 0.1864149431236921, 'time': 7.938229795833135, 'owner': 2, 'action': -1}, {'tau': 0.166705243183082, 'time': 8.104935039016217, 'owner': 2, 'action': -2}, {'tau': 0.41742617351947864, 'time': 8.522361212535696, 'owner': 2, 'action': -1}, {'tau': 0.1794137539472711, 'time': 8.701774966482967, 'owner': 2, 'action': -2}, {'tau': 0.009452744971730098, 'time': 8.711227711454697, 'owner': 2, 'action': -1}, {'tau': 0.16814836677522216, 'time': 8.87937607822992, 'owner': 2, 'action': -2}, {'tau': 0.011358543882995065, 'time': 8.890734622112914, 'owner': 2, 'action': -1}, {'tau': 0.25648873019718366, 'time': 9.147223352310098, 'owner': 2, 'action': -2}, {'tau': 0.12450916116370792, 'time': 9.271732513473806, 'owner': 2, 'action': -1}, {'tau': 0.1283219881554949, 'time': 9.4000545016293, 'owner': 2, 'action': -2}, {'tau': 0.2162489725836121, 'time': 9.616303474212913, 'owner': 2, 'action': -1}, {'tau': 0.24326556715143788, 'time': 9.85956904136435, 'owner': 2, 'action': -2}, {'tau': 0.11207657951610628, 'time': 9.971645620880457, 'owner': 2, 'action': -1}, {'tau': 0.2269400401520656, 'time': 10.198585661032523, 'owner': 2, 'action': -2}, {'tau': 0.20907285595911596, 'time': 10.407658516991638, 'owner': 2, 'action': -1}, {'tau': 0.06272146036628001, 'time': 10.470379977357918, 'owner': 2, 'action': -2}, {'tau': 0.09970144593336272, 'time': 10.570081423291281, 'owner': 2, 'action': -1}, {'tau': 0.1287150655604954, 'time': 10.698796488851777, 'owner': 2, 'action': -2}, {'tau': 0.07921729297894053, 'time': 10.778013781830717, 'owner': 2, 'action': -1}, {'tau': 0.004910463758239558, 'time': 10.819468250209297, 'owner': 2, 'action': -3}, {'tau': 0.3812059821774145, 'time': 11.159219764008132, 'owner': 2, 'action': -2}, {'tau': 0.0787760991477402, 'time': 11.237995863155872, 'owner': 2, 'action': -1}, {'tau': 0.03460382601638479, 'time': 11.272599689172257, 'owner': 2, 'action': -2}, {'tau': 0.11584654489715618, 'time': 11.388446234069413, 'owner': 2, 'action': -1}, {'tau': 0.07795652844119516, 'time': 11.466402762510608, 'owner': 2, 'action': -2}, {'tau': 0.010627786005033002, 'time': 11.477030548515641, 'owner': 2, 'action': -1}, {'tau': 0.060520957700994416, 'time': 11.537551506216635, 'owner': 2, 'action': -2}, {'tau': 0.02686753582202961, 'time': 11.564419042038665, 'owner': 2, 'action': -1}, {'tau': 0.07727406045255947, 'time': 11.641693102491224, 'owner': 2, 'action': -2}, {'tau': 0.13933057050042663, 'time': 11.781023672991651, 'owner': 2, 'action': -1}, {'tau': 0.13551147018854337, 'time': 11.916535143180194, 'owner': 2, 'action': -2}, {'tau': 0.0297126979395248, 'time': 11.94624784111972, 'owner': 2, 'action': -1}]\n",
      "tl3----\n",
      "[{'tau': 0.11118176934098077, 'time': 0.11118176934098077, 'owner': 3, 'action': -2}, {'tau': 0.14161349719853494, 'time': 0.25279526653951573, 'owner': 3, 'action': -1}, {'tau': 0.04054612798931795, 'time': 0.2933413945288337, 'owner': 3, 'action': -2}, {'tau': 0.18303890363958342, 'time': 0.4763802981684171, 'owner': 3, 'action': -1}, {'tau': 0.18623576001625863, 'time': 0.6626160581846757, 'owner': 3, 'action': -2}, {'tau': 0.00842176730038291, 'time': 0.6710378254850586, 'owner': 3, 'action': -1}, {'tau': 0.45045771904925935, 'time': 1.121495544534318, 'owner': 3, 'action': -2}, {'tau': 0.13431545635300068, 'time': 1.2558110008873187, 'owner': 3, 'action': -1}, {'tau': 0.0795825622090105, 'time': 1.3353935630963292, 'owner': 3, 'action': -2}, {'tau': 0.029912406818271453, 'time': 1.3653059699146006, 'owner': 3, 'action': -1}, {'tau': 0.22105166648763452, 'time': 1.5863576364022351, 'owner': 3, 'action': -2}, {'tau': 0.0853347498061876, 'time': 1.6716923862084228, 'owner': 3, 'action': -1}, {'tau': 0.004910463758240002, 'time': 1.7238426176237849, 'owner': 3, 'action': -3}, {'tau': 0.10904910546010549, 'time': 1.7807414916685282, 'owner': 3, 'action': -2}, {'tau': 0.12230893587242764, 'time': 1.9030504275409559, 'owner': 3, 'action': -1}, {'tau': 0.19199997208258335, 'time': 2.0950503996235392, 'owner': 3, 'action': -2}, {'tau': 0.08188808507579459, 'time': 2.176938484699334, 'owner': 3, 'action': -1}, {'tau': 0.11381785147459311, 'time': 2.290756336173927, 'owner': 3, 'action': -2}, {'tau': 0.03838484932351793, 'time': 2.329141185497445, 'owner': 3, 'action': -1}, {'tau': 0.19806848374832065, 'time': 2.5272096692457655, 'owner': 3, 'action': -2}, {'tau': 0.14112381485944914, 'time': 2.6683334841052146, 'owner': 3, 'action': -1}, {'tau': 0.13932197521969503, 'time': 2.8076554593249097, 'owner': 3, 'action': -2}, {'tau': 0.14910117958906, 'time': 2.9567566389139697, 'owner': 3, 'action': -1}, {'tau': 0.19034249891428967, 'time': 3.1470991378282593, 'owner': 3, 'action': -2}, {'tau': 0.1306305553575382, 'time': 3.2777296931857975, 'owner': 3, 'action': -1}, {'tau': 0.003472222222222321, 'time': 3.3381140514025827, 'owner': 3, 'action': -3}, {'tau': 0.1452804586099976, 'time': 3.423010151795795, 'owner': 3, 'action': -2}, {'tau': 0.020542839175596406, 'time': 3.4435529909713916, 'owner': 3, 'action': -1}, {'tau': 0.004910463758240002, 'time': 3.556554408853538, 'owner': 3, 'action': -3}, {'tau': 0.20272930464801275, 'time': 3.6462822956194043, 'owner': 3, 'action': -2}, {'tau': 0.004910463758240002, 'time': 3.775335403045212, 'owner': 3, 'action': -3}, {'tau': 0.39324579953253425, 'time': 4.039528095151939, 'owner': 3, 'action': -1}, {'tau': 0.14313051952113387, 'time': 4.182658614673072, 'owner': 3, 'action': -2}, {'tau': 0.1452159845802381, 'time': 4.3278745992533105, 'owner': 3, 'action': -1}, {'tau': 0.30328002008235266, 'time': 4.631154619335663, 'owner': 3, 'action': -2}, {'tau': 0.06983902061709646, 'time': 4.70099363995276, 'owner': 3, 'action': -1}, {'tau': 0.2383391657848284, 'time': 4.939332805737588, 'owner': 3, 'action': -2}, {'tau': 0.35372942013190833, 'time': 5.293062225869496, 'owner': 3, 'action': -1}, {'tau': 1.6762902830591506, 'time': 5.455097908326585, 'owner': 3, 'action': -3}, {'tau': 0.17791288523285598, 'time': 5.470975111102352, 'owner': 3, 'action': -2}, {'tau': 0.06407630434628864, 'time': 5.535051415448641, 'owner': 3, 'action': -1}, {'tau': 0.08120070049033146, 'time': 5.6162521159389724, 'owner': 3, 'action': -2}, {'tau': 0.004910463758239558, 'time': 5.950898818012161, 'owner': 3, 'action': -3}, {'tau': 0.5102488706088444, 'time': 6.126500986547817, 'owner': 3, 'action': -1}, {'tau': 0.180958995529938, 'time': 6.307459982077755, 'owner': 3, 'action': -2}, {'tau': 0.06320229418614254, 'time': 6.370662276263897, 'owner': 3, 'action': -1}, {'tau': 0.16267290837059978, 'time': 6.533335184634497, 'owner': 3, 'action': -2}, {'tau': 0.05916216886813519, 'time': 6.592497353502632, 'owner': 3, 'action': -1}, {'tau': 0.07599388081419267, 'time': 6.668491234316825, 'owner': 3, 'action': -2}, {'tau': 0.02353912292733007, 'time': 6.692030357244155, 'owner': 3, 'action': -1}, {'tau': 0.2917810484059986, 'time': 6.983811405650154, 'owner': 3, 'action': -2}, {'tau': 0.005951044582188203, 'time': 6.989762450232342, 'owner': 3, 'action': -1}, {'tau': 0.15509553053177072, 'time': 7.144857980764113, 'owner': 3, 'action': -2}, {'tau': 0.06029103486173515, 'time': 7.205149015625848, 'owner': 3, 'action': -1}, {'tau': 0.06781435164654237, 'time': 7.27296336727239, 'owner': 3, 'action': -2}, {'tau': 0.12846561182976934, 'time': 7.4014289791021595, 'owner': 3, 'action': -1}, {'tau': 0.10513251230968201, 'time': 7.5065614914118415, 'owner': 3, 'action': -2}, {'tau': 0.09726217404304638, 'time': 7.603823665454888, 'owner': 3, 'action': -1}, {'tau': 0.015800431943617355, 'time': 7.619624097398505, 'owner': 3, 'action': -2}, {'tau': 0.38752041641640744, 'time': 8.007144513814913, 'owner': 3, 'action': -1}, {'tau': 0.14119345555127438, 'time': 8.148337969366187, 'owner': 3, 'action': -2}, {'tau': 0.20734350577570382, 'time': 8.35568147514189, 'owner': 3, 'action': -1}, {'tau': 0.21707785111320455, 'time': 8.572759326255095, 'owner': 3, 'action': -2}, {'tau': 0.2061072508377304, 'time': 8.778866577092826, 'owner': 3, 'action': -1}, {'tau': 0.25933750272304756, 'time': 9.038204079815873, 'owner': 3, 'action': -2}, {'tau': 0.15825699574309482, 'time': 9.196461075558968, 'owner': 3, 'action': -1}, {'tau': 0.1985625043309316, 'time': 9.3950235798899, 'owner': 3, 'action': -2}, {'tau': 0.13013270195982862, 'time': 9.525156281849728, 'owner': 3, 'action': -1}, {'tau': 0.35324364862029967, 'time': 9.878399930470028, 'owner': 3, 'action': -2}, {'tau': 0.05497485318326767, 'time': 9.933374783653296, 'owner': 3, 'action': -1}, {'tau': 0.1735160129310085, 'time': 10.106890796584304, 'owner': 3, 'action': -2}, {'tau': 0.055150411251032594, 'time': 10.162041207835337, 'owner': 3, 'action': -1}, {'tau': 0.05008811166651661, 'time': 10.212129319501853, 'owner': 3, 'action': -2}, {'tau': 0.247412663738368, 'time': 10.459541983240221, 'owner': 3, 'action': -1}, {'tau': 0.092026074433738, 'time': 10.55156805767396, 'owner': 3, 'action': -2}, {'tau': 0.049426918823554544, 'time': 10.600994976497514, 'owner': 3, 'action': -1}, {'tau': 0.2261308791605927, 'time': 10.827125855658107, 'owner': 3, 'action': -2}, {'tau': 0.004910463758239558, 'time': 10.827850936189758, 'owner': 3, 'action': -3}, {'tau': 0.15651399136186406, 'time': 10.98363984701997, 'owner': 3, 'action': -1}, {'tau': 0.040574421101448266, 'time': 11.024214268121419, 'owner': 3, 'action': -2}, {'tau': 0.0775925800775763, 'time': 11.101806848198995, 'owner': 3, 'action': -1}, {'tau': 0.03253887036271408, 'time': 11.13434571856171, 'owner': 3, 'action': -2}, {'tau': 0.0399558824815518, 'time': 11.174301601043261, 'owner': 3, 'action': -1}, {'tau': 0.1376431510880778, 'time': 11.311944752131339, 'owner': 3, 'action': -2}, {'tau': 0.038993683291920433, 'time': 11.35093843542326, 'owner': 3, 'action': -1}, {'tau': 0.22465283765757071, 'time': 11.57559127308083, 'owner': 3, 'action': -2}, {'tau': 0.06630989573583079, 'time': 11.641901168816661, 'owner': 3, 'action': -1}, {'tau': 0.2976571091493767, 'time': 11.939558277966038, 'owner': 3, 'action': -2}]\n",
      "times0----\n",
      "[0, 0.2903921721854351, 0.3510819892502476, 0.5947454142949219, 0.6979755699782516, 0.9516352383398381, 0.9634376869993195, 1.002222352720794, 1.0880371365308439, 1.3584215173363905, 1.5425432767682548, 1.7609402298665129, 1.7682016331111043, 1.827364518054017, 1.9001141322297574, 2.236887381070596, 2.322181391242829, 2.399352620703913, 2.4059817349214843, 2.7297044289167647, 2.7847431050434555, 2.927401880582029, 2.931617505272589, 3.2304611842449447, 3.392737256228591, 3.5533440110666437, 3.825137708863758, 4.064408700564586, 4.319779753180579, 4.506629561509443, 4.633578283257429, 4.824920312785697, 4.918209796746895, 5.1217757251471285, 5.163833717513833, 5.336493016575332, 5.341789496290982, 5.445482704311543, 5.500488706176433, 5.6638109505064, 6.02684864920845, 6.142641026785694, 6.233413580983935, 6.269228342669677, 6.426898832064267, 6.639193244898188, 6.70161046455909, 6.9109191066376106, 7.09279588197539, 7.325615164715069, 7.345564526062257, 7.4442518891129055, 7.487283141122493, 7.714363984560543, 7.74111972580357, 8.010069361993828, 8.043668493892241, 8.236820636414315, 8.304151957630173, 8.492595225945358, 8.680428247295048, 8.715987699441737, 8.863186967735926, 9.008212269651988, 9.040433597850054, 9.146935228582992, 9.2113747199024, 9.295784561780298, 9.375072415529386, 9.44128522986716, 9.488765771607316, 9.520488873237245, 9.669639968725614, 9.878618905282222, 9.980317064483271, 10.012197584629636, 10.055636957365786, 10.277927126599193, 10.397746706561922, 10.505843082675655, 10.53178828087261, 10.754621049409687, 10.82777190156801, 11.041868463565022, 11.21109204087856, 11.279126911070428, 11.423149552027853, 11.508002106654795]\n",
      "times1----\n",
      "[0, 0.26150764177150027, 0.3671757960912506, 0.6562626887831089, 0.6917698606983741, 0.7710102504221568, 0.8879452681889167, 1.1763412328302572, 1.2488144852486027, 1.3561626003918599, 1.4701165050528715, 1.6246311119476498, 1.7839863881132783, 2.038077913269718, 2.0971276106422767, 2.404613418007979, 2.4490571419545017, 2.5032986366397387, 2.526780217499114, 2.7815232225600854, 2.844325608450167, 2.905467665313153, 3.1826334917859835, 3.351901023279211, 3.491904434292181, 3.7261779362965, 3.8130865402369416, 3.9204425367092384, 4.12521486479566, 4.26872726013811, 4.359951933154533, 4.753239362361245, 4.913514107572522, 4.960675448205424, 5.01956262171452, 5.234160108712823, 5.321400511761548, 5.584681327556257, 5.7919420456862145, 5.902035164910569, 5.987411689231076, 6.22362254804399, 6.227505925769683, 6.4883087420921015, 6.537036666949604, 6.641893090181106, 6.74203844888269, 6.9598473541741175, 7.204561791753875, 7.371315172578715, 7.529246100168234, 7.706056507039796, 7.742217542022383, 8.02714479063424, 8.192112137155796, 8.27998172974494, 8.542284949546021, 8.585043484955799, 8.603175776570621, 8.91081043850957, 9.318566856156398, 9.588597108961984, 9.608114645346852, 9.797729204573274, 10.190755887140545, 10.403603066334732, 10.476853113913103, 10.820397419702392, 11.058619092711915, 11.136072403881048, 11.146062429389191, 11.374587691988191, 11.606513274628416, 11.70265002802305, 11.942222871128083]\n",
      "times2----\n",
      "[0, 0.24404270367709452, 0.323850009308538, 0.5088369463397, 0.5880645489091967, 0.759972656236906, 1.0068085566007687, 1.181999736859047, 1.2371938389606785, 1.3955503471966988, 1.4100530913570697, 1.6205195779494843, 2.0484677343695274, 2.278281977521046, 2.4886368093111817, 2.842679750559719, 3.191024562683628, 3.49488918440952, 3.703144862474729, 3.933748715762113, 3.9791770863061533, 4.1273137161588345, 4.210030474089462, 4.435307599141854, 4.500359289097786, 4.7977019810895385, 4.839969010926847, 5.031906752693558, 5.259516917828378, 5.300654056273251, 5.447558456490522, 5.61115014886477, 5.664851928317439, 5.706244945302989, 5.718719579522918, 5.928937718728674, 6.062309188355459, 6.2402180895531885, 6.3466369712756165, 6.55456188092281, 6.697814518298655, 6.838204949834906, 7.110440450700417, 7.217945127235761, 7.241640523048363, 7.35646568332996, 7.434527173801733, 7.751814852709443, 7.938229795833135, 8.104935039016217, 8.522361212535696, 8.701774966482967, 8.711227711454697, 8.87937607822992, 8.890734622112914, 9.147223352310098, 9.271732513473806, 9.4000545016293, 9.616303474212913, 9.85956904136435, 9.971645620880457, 10.198585661032523, 10.407658516991638, 10.470379977357918, 10.570081423291281, 10.698796488851777, 10.778013781830717, 11.159219764008132, 11.237995863155872, 11.272599689172257, 11.388446234069413, 11.466402762510608, 11.477030548515641, 11.537551506216635, 11.564419042038665, 11.641693102491224, 11.781023672991651, 11.916535143180194, 11.94624784111972]\n",
      "times3----\n",
      "[0, 0.11118176934098077, 0.25279526653951573, 0.2933413945288337, 0.4763802981684171, 0.6626160581846757, 0.6710378254850586, 1.121495544534318, 1.2558110008873187, 1.3353935630963292, 1.3653059699146006, 1.5863576364022351, 1.6716923862084228, 1.7807414916685282, 1.9030504275409559, 2.0950503996235392, 2.176938484699334, 2.290756336173927, 2.329141185497445, 2.5272096692457655, 2.6683334841052146, 2.8076554593249097, 2.9567566389139697, 3.1470991378282593, 3.2777296931857975, 3.423010151795795, 3.4435529909713916, 3.6462822956194043, 4.039528095151939, 4.182658614673072, 4.3278745992533105, 4.631154619335663, 4.70099363995276, 4.939332805737588, 5.293062225869496, 5.470975111102352, 5.535051415448641, 5.6162521159389724, 6.126500986547817, 6.307459982077755, 6.370662276263897, 6.533335184634497, 6.592497353502632, 6.668491234316825, 6.692030357244155, 6.983811405650154, 6.989762450232342, 7.144857980764113, 7.205149015625848, 7.27296336727239, 7.4014289791021595, 7.5065614914118415, 7.603823665454888, 7.619624097398505, 8.007144513814913, 8.148337969366187, 8.35568147514189, 8.572759326255095, 8.778866577092826, 9.038204079815873, 9.196461075558968, 9.3950235798899, 9.525156281849728, 9.878399930470028, 9.933374783653296, 10.106890796584304, 10.162041207835337, 10.212129319501853, 10.459541983240221, 10.55156805767396, 10.600994976497514, 10.827125855658107, 10.98363984701997, 11.024214268121419, 11.101806848198995, 11.13434571856171, 11.174301601043261, 11.311944752131339, 11.35093843542326, 11.57559127308083, 11.641901168816661, 11.939558277966038]\n"
     ]
    }
   ],
   "source": [
    "d={}\n",
    "\n",
    "\n",
    "for i in range(nodes):\n",
    "    d[\"tl{0}\".format(i)]=[]\n",
    "for j in range(len(timeline)):\n",
    "    #for i in range(nodes):\n",
    "     #   if timeline[j]['owner']==i:\n",
    "    d[\"tl{0}\".format(timeline[j]['owner'])].append(timeline[j])\n",
    "    \n",
    "\n",
    "print(\"tl0----\")\n",
    "print(d[\"tl0\"])\n",
    "print(\"tl1----\")\n",
    "print(d[\"tl1\"])\n",
    "print(\"tl2----\")\n",
    "print(d[\"tl2\"])\n",
    "print(\"tl3----\")\n",
    "print(d[\"tl3\"])  \n",
    "\n",
    "for i in range(nodes):\n",
    "    tl=d[\"tl{0}\".format(i)]\n",
    "    l=len(tl)\n",
    "    ta=[0]\n",
    "    fem=[]\n",
    "    for j in range(l):\n",
    "        if tl[j]['action']!=-3: #female visit taus don't mean anything for the male bc she isn't necessarily coming back to the same male\n",
    "            ta.append(tl[j]['time'])\n",
    "        else:\n",
    "            fem.append(tl[j]['time'])\n",
    "    d[\"times{0}\".format(i)]=ta\n",
    "    d[\"fvtimes{0}\".format(i)]=fem\n",
    "\n",
    "print(\"times0----\")\n",
    "print(d[\"times0\"])\n",
    "print(\"times1----\")\n",
    "print(d[\"times1\"])\n",
    "print(\"times2----\")\n",
    "print(d[\"times2\"])\n",
    "print(\"times3----\")\n",
    "print(d[\"times3\"]) \n",
    "\n",
    "#append tmax - sumoftaus to each list (so it reaches tmax exactly)\n",
    "for i in range(nodes):\n",
    "    d[\"times{0}\".format(i)].append(t_max)\n",
    "\n",
    "\n",
    "import csv\n",
    "timess=[d[\"times0\"],d[\"times1\"],d[\"times2\"],d[\"times3\"]]\n",
    "csvfile = \"example_times2\"\n",
    "with open(csvfile, \"w\") as output:\n",
    "    writer = csv.writer(output, lineterminator='\\n')\n",
    "    writer.writerows(timess)\n",
    "femtimess=[d[\"fvtimes0\"],d[\"fvtimes1\"],d[\"fvtimes2\"],d[\"fvtimes3\"]]\n",
    "csvfile = \"example_fvtimes\"\n",
    "with open(csvfile, \"w\") as output:\n",
    "    writer = csv.writer(output, lineterminator='\\n')\n",
    "    writer.writerows(femtimess)\n",
    "\n",
    "           \n",
    "    "
   ]
  },
  {
   "cell_type": "code",
   "execution_count": 6,
   "metadata": {},
   "outputs": [
    {
     "name": "stdout",
     "output_type": "stream",
     "text": [
      "Bird 0's % time at bower is 0.615647\n",
      "Bird 1's % time at bower is 0.591601\n",
      "Bird 2's % time at bower is 0.581329\n",
      "Bird 3's % time at bower is 0.568585\n"
     ]
    }
   ],
   "source": [
    "for i in range(nodes):\n",
    "    tl=d[\"tl{0}\".format(i)]\n",
    "    l=len(tl)\n",
    "    ta=[]\n",
    "    accSB=0\n",
    "    accFG=0\n",
    "    for j in range(l):\n",
    "        if tl[j]['action']!=-3: #female visit taus don't mean anything for the male bc she isn't necessarily coming back to the same male\n",
    "            ta.append(tl[j]['tau'])\n",
    "            if tl[j]['action']==-1:\n",
    "                accSB=accSB+tl[j]['tau']\n",
    "            else:\n",
    "                accFG=accFG+tl[j]['tau']\n",
    "    \n",
    "    d[\"taus{0}\".format(i)]=ta\n",
    "    print(\"Bird {:d}'s % time at bower is {:f}\".format(i, accFG/12)) ##VERY ODD -- could it be that FG/SB are switched\n",
    "\n",
    "#print(\"taus0----\")\n",
    "#print(d[\"taus0\"])\n",
    "#print(sum(d[\"taus0\"]))\n",
    "#print(\"taus1----\")\n",
    "#print(d[\"taus1\"])\n",
    "#print(sum(d[\"taus1\"]))\n",
    "#print(\"taus2----\")\n",
    "#print(d[\"taus2\"])\n",
    "#print(sum(d[\"taus2\"]))\n",
    "#print(\"taus3----\")\n",
    "#print(d[\"taus3\"]) \n",
    "#print(sum(d[\"taus3\"]))\n",
    "\n",
    "\n",
    "#append tmax - sumoftaus to each list (so it reaches tmax exactly)\n",
    "#for i in range(nodes):\n",
    "#    d[\"taus{0}\".format(i)].append(t_max-sum(d[\"taus{0}\".format(i)]))\n",
    "\n",
    "    \n",
    "#print(sum(d[\"taus0\"]))\n",
    "#print(sum(d[\"taus1\"]))\n",
    "#print(sum(d[\"taus2\"]))\n",
    "#print(sum(d[\"taus3\"]))  "
   ]
  },
  {
   "cell_type": "code",
   "execution_count": 7,
   "metadata": {},
   "outputs": [
    {
     "name": "stdout",
     "output_type": "stream",
     "text": [
      "[[0.         0.36939806 0.26120387 0.36939806]\n",
      " [0.36939806 0.         0.36939806 0.26120387]\n",
      " [0.26120387 0.36939806 0.         0.36939806]\n",
      " [0.36939806 0.26120387 0.36939806 0.        ]]\n"
     ]
    }
   ],
   "source": [
    "#Create travel_time__linear_p (might use later)\n",
    "travel_times_linear_p=np.array([[0.0]*nodes]*nodes)\n",
    "for i in range(nodes):\n",
    "    for j in range(nodes):\n",
    "        if i==j: #if the row and the column index are the equal\n",
    "            travel_times[i][j]=0 #There is 0 probability they will travel to their own bower when choosing to fly to another bower\n",
    "        else: \n",
    "            if i==0: #if on the first row of the probability matrix\n",
    "                travel_times_linear_p[i][j]=travel_times[i][1]/travel_times[i][j] #skip the first element in the row (because it equals 0) and compare probabilities of other elements in the row based on travel distance (negative linear relationship btwn distance and prob)\n",
    "            else:\n",
    "                travel_times_linear_p[i][j]=travel_times[i][0]/travel_times[i][j] #use the first element in a row and compare probabilities of other elements in the row based on distance (negative linear relationship btwn distance and prob)\n",
    "    travel_times_linear_p[i]=travel_times_linear_p[i]/sum(travel_times_linear_p[i]) #normalize the probabilities so they add up to 1\n",
    "print(travel_times_linear_p)\n",
    "\n"
   ]
  },
  {
   "cell_type": "code",
   "execution_count": 8,
   "metadata": {},
   "outputs": [
    {
     "name": "stdout",
     "output_type": "stream",
     "text": [
      "[0, 0, 1, 0]\n"
     ]
    }
   ],
   "source": [
    "print(fitness_states)"
   ]
  },
  {
   "cell_type": "code",
   "execution_count": 9,
   "metadata": {},
   "outputs": [
    {
     "data": {
      "text/plain": [
       "0.11030911157316828"
      ]
     },
     "execution_count": 9,
     "metadata": {},
     "output_type": "execute_result"
    }
   ],
   "source": [
    "ts=[0]*100\n",
    "for i in range(100):\n",
    "    ts[i]=np.random.gamma(shape=1.5, scale=5, size=1)[0]/60 #FG\n",
    "np.mean(ts)"
   ]
  },
  {
   "cell_type": "code",
   "execution_count": 10,
   "metadata": {},
   "outputs": [
    {
     "data": {
      "text/plain": [
       "0.17049312563556562"
      ]
     },
     "execution_count": 10,
     "metadata": {},
     "output_type": "execute_result"
    }
   ],
   "source": [
    "np.mean(np.random.normal(loc=.1583, scale=.09755, size=100)) #SB"
   ]
  },
  {
   "cell_type": "code",
   "execution_count": 11,
   "metadata": {},
   "outputs": [
    {
     "data": {
      "text/plain": [
       "0.12510826020882945"
      ]
     },
     "execution_count": 11,
     "metadata": {},
     "output_type": "execute_result"
    }
   ],
   "source": [
    "ts=[0]*100\n",
    "for i in range(100):\n",
    "    ts[i]=nexttau(-2)\n",
    "np.mean(ts)"
   ]
  },
  {
   "cell_type": "code",
   "execution_count": 12,
   "metadata": {},
   "outputs": [
    {
     "name": "stdout",
     "output_type": "stream",
     "text": [
      "[5.458570130548807]\n"
     ]
    }
   ],
   "source": [
    "print(success_times)"
   ]
  },
  {
   "cell_type": "code",
   "execution_count": 13,
   "metadata": {},
   "outputs": [
    {
     "data": {
      "text/plain": [
       "[<matplotlib.lines.Line2D at 0x1158dea90>]"
      ]
     },
     "execution_count": 13,
     "metadata": {},
     "output_type": "execute_result"
    },
    {
     "data": {
      "image/png": "[encoded data removed]",
      "text/plain": [
       "<Figure size 432x288 with 1 Axes>"
      ]
     },
     "metadata": {},
     "output_type": "display_data"
    }
   ],
   "source": [
    "x= [random.expovariate(FV_param) for a in range (0,100000)]\n",
    "histo, j= np.histogram(x)\n",
    "plt.plot(histo)\n"
   ]
  },
  {
   "cell_type": "code",
   "execution_count": null,
   "metadata": {},
   "outputs": [],
   "source": []
  },
  {
   "cell_type": "code",
   "execution_count": null,
   "metadata": {},
   "outputs": [],
   "source": []
  },
  {
   "cell_type": "code",
   "execution_count": null,
   "metadata": {},
   "outputs": [],
   "source": []
  },
  {
   "cell_type": "code",
   "execution_count": null,
   "metadata": {},
   "outputs": [],
   "source": []
  },
  {
   "cell_type": "code",
   "execution_count": null,
   "metadata": {},
   "outputs": [],
   "source": []
  }
 ],
 "metadata": {
  "kernelspec": {
   "display_name": "Python 3",
   "language": "python",
   "name": "python3"
  },
  "language_info": {
   "codemirror_mode": {
    "name": "ipython",
    "version": 3
   },
   "file_extension": ".py",
   "mimetype": "text/x-python",
   "name": "python",
   "nbconvert_exporter": "python",
   "pygments_lexer": "ipython3",
   "version": "3.6.5"
  }
 },
 "nbformat": 4,
 "nbformat_minor": 2
}
