{
 "cells": [
  {
   "cell_type": "code",
   "execution_count": 1,
   "metadata": {},
   "outputs": [
    {
     "name": "stdout",
     "output_type": "stream",
     "text": [
      "[[9999.          150.          212.13203436  150.        ]\n",
      " [ 150.         9999.          150.          212.13203436]\n",
      " [ 212.13203436  150.         9999.          150.        ]\n",
      " [ 150.          212.13203436  150.         9999.        ]]\n",
      "[[833.25        12.5         17.67766953  12.5       ]\n",
      " [ 12.5        833.25        12.5         17.67766953]\n",
      " [ 17.67766953  12.5        833.25        12.5       ]\n",
      " [ 12.5         17.67766953  12.5        833.25      ]]\n",
      "[[0.0000000e+00 5.0000000e-01 2.7720989e-28 5.0000000e-01]\n",
      " [5.0000000e-01 0.0000000e+00 5.0000000e-01 2.7720989e-28]\n",
      " [2.7720989e-28 5.0000000e-01 0.0000000e+00 5.0000000e-01]\n",
      " [5.0000000e-01 2.7720989e-28 5.0000000e-01 0.0000000e+00]]\n"
     ]
    }
   ],
   "source": [
    "#Bowerbird null model (all males are guarders)\n",
    "\n",
    "#Key\n",
    "#Notes- Paramters contain underscores, while functions don't\n",
    "#SB: Stay at bower\n",
    "#FG: Foraging\n",
    "#a=-1: denotes a staying at bower action on ticket\n",
    "#a=-2: denotes a foraging action on ticket\n",
    "#a=-3: denotes a female visiting action on a ticket\n",
    "#networkwriter: generates network where everybird is connected\n",
    "#addtotimeline: adds tickets to timeline\n",
    "#travel_times_linear_p: generates a matrix that contains the probabilities of travelling to a given a bower \n",
    "#if the relationship between distance and travel preference is linear\n",
    "\n",
    "\n",
    "import math\n",
    "import random\n",
    "import numpy as np\n",
    "\n",
    "\n",
    "# makes a ticket\n",
    "def ticketgenerator(t, o, a):\n",
    "    ticket={\n",
    "        'time': t,\n",
    "        'owner': o,\n",
    "        'action': a,\n",
    "    }\n",
    "    return ticket;\n",
    "\n",
    "#writes the edges to a network of n birds where everyone is connected to everyone else \n",
    "def networkwriter(n):\n",
    "    connect=[0]*n\n",
    "    for i in range(0, n): \n",
    "        a=list(range(n)) #generating a list that goes from 0 to n-1\n",
    "        a.remove(i) #individual removes themselves from the network\n",
    "        connect[i]=a #corresponds to the list of people person i is linked to\n",
    "    return connect; #returns a list of lists with all the connections in the network\n",
    "\n",
    "# function for determining the next time based on our rate parameters\n",
    "def nexttau(rateParameter):\n",
    "    taus=-math.log(1.0 - random.random()) / rateParameter #math.log is in base e, and random.random picks a number from range 0.0 to 1.\n",
    "    return taus #generates n-length list, starting at index 0\n",
    "\n",
    "#adds new tickets to timeline -- Stefano, any more efficient suggestions for keeping timeline in order?\n",
    "def addtotimeline(tic, timeline):\n",
    "    if not timeline:\n",
    "        timeline.append(tic)\n",
    "    else:\n",
    "        ind=len(timeline)-1\n",
    "        end=0\n",
    "        while (tic['time']<timeline[ind]['time'] and end==0): #moves backwards until it finds where to place the ticket based on the listed times\n",
    "            ind=ind-1 \n",
    "            if(ind<0):\n",
    "                end=1\n",
    "        ind=ind+1\n",
    "        timeline.insert(ind, tic)\n",
    "    \n",
    "\n",
    "def SBtickethandler (SB_tic, timeline,SB_param, t_max):\n",
    "    ow=SB_tic['owner'] \n",
    "    t=SB_tic['time']\n",
    "    FG_time=nexttau(SB_param)+t #We use SB_param because the time represents when the bird leaves the bower\n",
    "    if FG_time<t_max:\n",
    "        FG_tic=ticketgenerator(FG_time,ow,-2) #-2 denotes foraging action\n",
    "        addtotimeline(FG_tic,timeline)\n",
    "\n",
    "def FGtickethandler (FG_tic, timeline,FG_param, t_max):\n",
    "    ow=FG_tic['owner'] \n",
    "    t=FG_tic['time']\n",
    "    SB_time=nexttau(FG_param)+t #We use FG_param because the time represents when the bird returns to the bower\n",
    "    if SB_time<t_max:\n",
    "        SB_tic=ticketgenerator(SB_time,ow,-1) #-1 denotes staying at bower\n",
    "        addtotimeline(SB_tic,timeline)\n",
    "    \n",
    "def FVtickethandler (FV_tic, timeline, FV_param, t_max, bower_states, male_states, fitness_states, nodes, female_preferences, travel_times):\n",
    "    ow=FV_tic['owner']\n",
    "    t=FV_tic['time']\n",
    "    if bower_states[ow]==1 and male_states[ow]==1: #if the bower is intact and the male is present\n",
    "        fitness_states[ow]=fitness_states[ow]+1 #assumption: female always mates if bower is intact and male present\n",
    "        new_FV_ow=np.random.choice(list(range(nodes)))\n",
    "        new_FV_time=t+nexttime(FV_param)\n",
    "        if new_FV_time<t_max:\n",
    "            new_FV_tic=ticketgenerator(new_FV_time, new_FV_ow, -3)\n",
    "            addtotimeline(new_FV_ticket, timeline)\n",
    "    else: #if female does not successfully mate\n",
    "        new_FV_ow=np.random.choice(list(range(nodes)), p=female_preferences[ow]) #choose a male based on preference (a function of distance)\n",
    "        new_FV_time=t+travel_times[ow][new_FV_ow] #she goes directly to this male\n",
    "        if new_FV_time<t_max:\n",
    "            new_FV_tic=ticketgenerator(new_FV_time, new_FV_ow, -3)\n",
    "            addtotimeline(new_FV_tic, timeline)\n",
    "        \n",
    "    \n",
    "#FOR FUTURE: Write a function that generates a probability network of n bowerbirds \n",
    "\n",
    "#for now, we write a simple example network with 4 bowers forming a square\n",
    "nodes=4\n",
    "\n",
    "#HOW TO REPRESENT INDIVIDUAL'S DIST FROM SELF? nan?\n",
    "distances = np.array([[150.0]*nodes]*nodes) #(dist in m)initialize a nodes-by-nodes matrix (1st nrows, 2nd ncols)\n",
    "for i in range(4):\n",
    "    distances[i][i]=9999.0 #or math.inf but that makes the matrix disp ugly\n",
    "for i in range(2):\n",
    "    distances[i][i+2]=((2*(150**2)))**(1/2)\n",
    "    distances[i+2][i]=((2*(150**2)))**(1/2)\n",
    "print(distances)\n",
    "\n",
    "bird_speed=12 #m/s\n",
    "travel_times=np.array([[0.0]*nodes]*nodes)\n",
    "for i in range(nodes):\n",
    "    for j in range(nodes):\n",
    "        travel_times[i][j]=distances[i][j]/bird_speed\n",
    "print(travel_times) #right now the numbers on the diagonals aren't accurate, but we can't have the bird choosing to go to it's own node\n",
    "\n",
    " \n",
    "\n",
    "#will write female preference based on cumulative exponential decay (lambda=100/99)\n",
    "female_preferences=np.array([[0.]*nodes]*nodes)\n",
    "\n",
    "for i in range(nodes):\n",
    "    for j in range(nodes):\n",
    "        female_preferences[i][j]=math.exp(-100/99*distances[i][j])        \n",
    "    female_preferences[i]=female_preferences[i]/sum(female_preferences[i])\n",
    "print(female_preferences)\n",
    "\n",
    "    \n"
   ]
  },
  {
   "cell_type": "code",
   "execution_count": 2,
   "metadata": {},
   "outputs": [
    {
     "name": "stdout",
     "output_type": "stream",
     "text": [
      "[[0.         0.36939806 0.26120387 0.36939806]\n",
      " [0.36939806 0.         0.36939806 0.26120387]\n",
      " [0.26120387 0.36939806 0.         0.36939806]\n",
      " [0.36939806 0.26120387 0.36939806 0.        ]]\n"
     ]
    }
   ],
   "source": [
    "#Create travel_time__linear_p\n",
    "travel_times_linear_p=np.array([[0.0]*nodes]*nodes)\n",
    "for i in range(nodes):\n",
    "    for j in range(nodes):\n",
    "        if i==j: #if the row and the column index are the equal\n",
    "            travel_times[i][j]=0 #There is 0 probability they will travel to their own bower when choosing to fly to another bower\n",
    "        else: \n",
    "            if i==0: #if on the first row of the probability matrix\n",
    "                travel_times_linear_p[i][j]=travel_times[i][1]/travel_times[i][j] #skip the first element in the row (because it equals 0) and compare probabilities of other elements in the row based on travel distance (negative linear relationship btwn distance and prob)\n",
    "            else:\n",
    "                travel_times_linear_p[i][j]=travel_times[i][0]/travel_times[i][j] #use the first element in a row and compare probabilities of other elements in the row based on distance (negative linear relationship btwn distance and prob)\n",
    "    travel_times_linear_p[i]=travel_times_linear_p[i]/sum(travel_times_linear_p[i]) #normalize the probabilities so they add up to 1\n",
    "print(travel_times_linear_p)\n",
    "\n",
    "\n"
   ]
  },
  {
   "cell_type": "code",
   "execution_count": 3,
   "metadata": {},
   "outputs": [],
   "source": [
    "#just a test\n",
    "\n",
    "    \n",
    "\n",
    "first_tic=ticketgenerator(0, 2, -3)\n",
    "timeline=[]\n",
    "addtotimeline(first_tic, timeline)\n",
    "FV_param=3 #totally random\n",
    "t_max=1000\n",
    "bower_states=[1, 1, 1, 1]\n",
    "male_states=[1,1,0,1]\n",
    "fitness_states=[0,0,0,0]\n",
    "nodes=4\n",
    "female_preferences=travel_times_linear_p\n",
    "\n",
    "FVtickethandler(first_tic, timeline, FV_param, t_max, bower_states, male_states, fitness_states, nodes, female_preferences, travel_times)\n",
    "\n",
    "\n"
   ]
  },
  {
   "cell_type": "code",
   "execution_count": 4,
   "metadata": {},
   "outputs": [
    {
     "name": "stdout",
     "output_type": "stream",
     "text": [
      "[{'time': 0, 'owner': 2, 'action': -3}, {'time': 17.67766952966369, 'owner': 0, 'action': -3}]\n",
      "[0, 0, 0, 0]\n"
     ]
    }
   ],
   "source": [
    "print(timeline)\n",
    "print(fitness_states)"
   ]
  },
  {
   "cell_type": "code",
   "execution_count": 5,
   "metadata": {},
   "outputs": [
    {
     "name": "stdout",
     "output_type": "stream",
     "text": [
      "[{'time': 0, 'owner': 2, 'action': -3}]\n"
     ]
    }
   ],
   "source": [
    "#adds new tickets to timeline -- Stefano, any more efficient suggestions for keeping timeline in order?\n",
    "def addtotimeline(tic, timeline):\n",
    "    if not timeline:\n",
    "        timeline.append(tic)\n",
    "    else:\n",
    "        ind=len(timeline)-1\n",
    "        end=0\n",
    "        while (tic['time']<timeline[ind]['time'] and end==0): #moves backwards until it finds where to place the ticket based on the listed times\n",
    "            ind=ind-1 \n",
    "            if(ind<0):\n",
    "                end=1\n",
    "        ind=ind+1\n",
    "        timeline.insert(ind, tic)\n",
    "    \n",
    "\n",
    "first_tic=ticketgenerator(0, 2, -3)\n",
    "timeline2=[]\n",
    "addtotimeline(first_tic,timeline2)\n",
    "print(timeline2)"
   ]
  },
  {
   "cell_type": "code",
   "execution_count": null,
   "metadata": {},
   "outputs": [],
   "source": []
  },
  {
   "cell_type": "code",
   "execution_count": null,
   "metadata": {},
   "outputs": [],
   "source": []
  }
 ],
 "metadata": {
  "kernelspec": {
   "display_name": "Python 3",
   "language": "python",
   "name": "python3"
  },
  "language_info": {
   "codemirror_mode": {
    "name": "ipython",
    "version": 3
   },
   "file_extension": ".py",
   "mimetype": "text/x-python",
   "name": "python",
   "nbconvert_exporter": "python",
   "pygments_lexer": "ipython3",
   "version": "3.6.5"
  }
 },
 "nbformat": 4,
 "nbformat_minor": 2
}
