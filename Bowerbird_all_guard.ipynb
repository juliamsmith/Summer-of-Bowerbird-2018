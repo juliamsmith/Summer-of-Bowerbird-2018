{
 "cells": [
  {
   "cell_type": "code",
   "execution_count": 1,
   "metadata": {},
   "outputs": [],
   "source": [
    "#Bowerbird null model (all males are guarders)\n",
    "\n",
    "#Key\n",
    "#Notes- Paramters contain underscores, while functions don't\n",
    "#SB: Stay at bower\n",
    "#FG: Foraging\n",
    "#a=-1: denotes a staying at bower action on ticket\n",
    "#a=-2: denotes a foraging action on ticket\n",
    "#a=-3: denotes a female visiting action on a ticket\n",
    "#networkwriter: generates network where everybird is connected\n",
    "#addtotimeline: adds tickets to timeline\n",
    "#travel_times_linear_p: generates a matrix that contains the probabilities of travelling to a given a bower \n",
    "#if the relationship between distance and travel preference is linear\n",
    "#improb: The probability of traveling improb_distance or less\n",
    "#improb_distance: The distance at which there is only a (1-improb)% chance of choosing to travel\n",
    "#lamb: lambda calculated by solving improb=1-np.exp(-lamb*improb_distance)\n",
    "#bower_states: options are 1(bower intact) and 0 (bower destroyed-will never be the case when all guarders)\n",
    "#male_states: options are 1 (male present at bower) and 0 (male absent from bower)\n",
    "#fitness_states: keeps track of number of matings a given male has had\n",
    "#t: time\n",
    "#nodes: total number of male bowerbirds in the network\n",
    "\n",
    "\n",
    "\n",
    "\n",
    "import math\n",
    "import random\n",
    "import numpy as np\n",
    "\n",
    "\n",
    "# makes a ticket\n",
    "def ticketgenerator(tau,t, o, a):\n",
    "    ticket={\n",
    "        'tau': tau,\n",
    "        'time': t,\n",
    "        'owner': o,\n",
    "        'action': a,\n",
    "    }\n",
    "    return ticket;\n",
    "\n",
    "#writes the edges to a network of n birds where everyone is connected to everyone else \n",
    "def networkwriter(n):\n",
    "    connect=[0]*n\n",
    "    for i in range(0, n): \n",
    "        a=list(range(n)) #generating a list that goes from 0 to n-1\n",
    "        a.remove(i) #individual removes themselves from the network\n",
    "        connect[i]=a #corresponds to the list of people person i is linked to\n",
    "    return connect; #returns a list of lists with all the connections in the network\n",
    "\n",
    "\n",
    "# function for determining the next time based on our rate parameters\n",
    "def nexttau(action):\n",
    "    x=-1\n",
    "    while x<=0:\n",
    "        switcher = {\n",
    "            -1: np.random.normal(loc=.1583, scale=.09755, size=1)[0], #choose when to leave bower (generate a tau for bower stay)\n",
    "            -2: np.random.gamma(shape=1.5, scale=5, size=1)[0]/60, #choose when to stop foraging (generate a tau for foraging)\n",
    "            -3: random.expovariate(.3) #FV_param... totally arbitrary so we should think about it\n",
    "        }\n",
    "        x=switcher.get(action, \"invalid action\")\n",
    "    return x\n",
    "    \n",
    "\n",
    "#adds new tickets to timeline -- Stefano, any more efficient suggestions for keeping timeline in order?\n",
    "def addtotimeline(tic, timeline):\n",
    "    if not timeline:\n",
    "        timeline.append(tic)\n",
    "    else:\n",
    "        ind=len(timeline)-1\n",
    "        end=0\n",
    "        while (tic['time']<timeline[ind]['time'] and end==0): #moves backwards until it finds where to place the ticket based on the listed times\n",
    "            ind=ind-1 \n",
    "            if(ind<0):\n",
    "                end=1\n",
    "        ind=ind+1\n",
    "        timeline.insert(ind, tic)\n",
    "    \n",
    "\n",
    "def SBtickethandler (SB_tic, timeline,SB_param, t_max, male_states):\n",
    "    ow=SB_tic['owner'] \n",
    "    male_states[ow]=1\n",
    "    t=SB_tic['time']\n",
    "    FG_time=nexttau(-1)+t #We use SB_param because the time represents when the bird leaves the bower\n",
    "    if FG_time<t_max:\n",
    "        FG_tic=ticketgenerator(FG_time-t,FG_time,ow,-2) #-2 denotes foraging action\n",
    "        addtotimeline(FG_tic,timeline)\n",
    "\n",
    "def FGtickethandler (FG_tic, timeline,FG_param, t_max, male_states):\n",
    "    ow=FG_tic['owner'] \n",
    "    male_states[ow]=0\n",
    "    t=FG_tic['time']\n",
    "    SB_time=nexttau(-2)+t #We use FG_param because the time represents when the bird returns to the bower\n",
    "    if SB_time<t_max:\n",
    "        SB_tic=ticketgenerator(SB_time-t,SB_time,ow,-1) #-1 denotes staying at bower\n",
    "        addtotimeline(SB_tic,timeline)\n",
    "    \n",
    "def FVtickethandler (FV_tic, timeline, FV_param, t_max, male_states, fitness_states, nodes, female_preferences, travel_times):\n",
    "    ow=FV_tic['owner']\n",
    "    t=FV_tic['time']\n",
    "    if bower_states[ow]==1 and male_states[ow]==1: #if the bower is intact and the male is present\n",
    "        fitness_states[ow]=fitness_states[ow]+1 #assumption: female always mates if bower is intact and male present\n",
    "        new_FV_ow=np.random.choice(list(range(nodes)))\n",
    "        new_FV_time=t+nexttau(-3)\n",
    "        if new_FV_time<t_max:\n",
    "            new_FV_tic=ticketgenerator(new_FV_time-t,new_FV_time, new_FV_ow, -3)\n",
    "            addtotimeline(new_FV_tic, timeline)\n",
    "    else: #if female does not successfully mate\n",
    "        new_FV_ow=np.random.choice(list(range(nodes)), p=female_preferences[ow]) #choose a male based on preference (a function of distance)\n",
    "        new_FV_time=t+travel_times[ow][new_FV_ow] #she goes directly to this male\n",
    "        if new_FV_time<t_max:\n",
    "            new_FV_tic=ticketgenerator(new_FV_time-t,new_FV_time, new_FV_ow, -3)\n",
    "            addtotimeline(new_FV_tic, timeline)\n",
    "        \n",
    "    \n",
    "#FOR FUTURE: Write a function that generates a probability network of n bowerbirds \n",
    "\n"
   ]
  },
  {
   "cell_type": "code",
   "execution_count": 2,
   "metadata": {},
   "outputs": [
    {
     "name": "stdout",
     "output_type": "stream",
     "text": [
      "[[9999.          150.          212.13203436  150.        ]\n",
      " [ 150.         9999.          150.          212.13203436]\n",
      " [ 212.13203436  150.         9999.          150.        ]\n",
      " [ 150.          212.13203436  150.         9999.        ]]\n",
      "[[833.25        12.5         17.67766953  12.5       ]\n",
      " [ 12.5        833.25        12.5         17.67766953]\n",
      " [ 17.67766953  12.5        833.25        12.5       ]\n",
      " [ 12.5         17.67766953  12.5        833.25      ]]\n",
      "[[8.83582673e-26 3.70465006e-01 2.59069988e-01 3.70465006e-01]\n",
      " [3.70465006e-01 8.83582673e-26 3.70465006e-01 2.59069988e-01]\n",
      " [2.59069988e-01 3.70465006e-01 8.83582673e-26 3.70465006e-01]\n",
      " [3.70465006e-01 2.59069988e-01 3.70465006e-01 8.83582673e-26]]\n"
     ]
    }
   ],
   "source": [
    "#for now, we write a simple example network with 4 bowers forming a square\n",
    "nodes=4\n",
    "\n",
    "#HOW TO REPRESENT INDIVIDUAL'S DIST FROM SELF? nan?\n",
    "distances = np.array([[150.0]*nodes]*nodes) #(dist in m)initialize a nodes-by-nodes matrix (1st nrows, 2nd ncols)\n",
    "for i in range(4):\n",
    "    distances[i][i]=9999.0 #or math.inf but that makes the matrix disp ugly\n",
    "for i in range(2):\n",
    "    distances[i][i+2]=((2*(150**2)))**(1/2)\n",
    "    distances[i+2][i]=((2*(150**2)))**(1/2)\n",
    "print(distances)\n",
    "\n",
    "bird_speed=12 #m/s\n",
    "travel_times=np.array([[0.0]*nodes]*nodes)\n",
    "for i in range(nodes):\n",
    "    for j in range(nodes):\n",
    "        travel_times[i][j]=distances[i][j]/bird_speed\n",
    "print(travel_times) #right now the numbers on the diagonals aren't accurate, but we can't have the bird choosing to go to it's own node\n",
    "\n",
    "#solve for lambda \n",
    "improb=0.99\n",
    "improb_distance=800\n",
    "lamb=-math.log(1-improb)/improb_distance\n",
    "\n",
    "#will write female preference based on cumulative exponential decay (lambda=.00576)\n",
    "female_preferences=np.array([[0.]*nodes]*nodes)\n",
    "\n",
    "for i in range(nodes):\n",
    "    for j in range(nodes):\n",
    "        female_preferences[i][j]=math.exp(-lamb*distances[i][j])        \n",
    "    female_preferences[i]=female_preferences[i]/sum(female_preferences[i])\n",
    "print(female_preferences)\n"
   ]
  },
  {
   "cell_type": "code",
   "execution_count": 3,
   "metadata": {},
   "outputs": [],
   "source": [
    "#just a test\n",
    "\n",
    "#Parameters:\n",
    "t=0 #start at time 0\n",
    "t_max=12\n",
    "timeholder=0\n",
    "timeline=[] #initialize the timeline\n",
    "#We've moved away from using these params with expovariate (how we handle FV is still TBD)\n",
    "#So THE BELOW 3 SHOULD BE COMMENTED OUT (but rn we don't want the handler funcs to yell at us)\n",
    "FV_param=0.3 #totally random\n",
    "FG_param=3 #larger values lead to foraging ending earlier, because taus are smaller\n",
    "SB_param=1.5 #larger values lead to bowerstay ending earlier, because taus are smaller\n",
    "nodes=4\n",
    "bower_states=[1]*nodes\n",
    "male_states=[1]*nodes\n",
    "fitness_states=[0]*nodes\n",
    "\n",
    "    \n",
    "first_male=random.choice(list(range(nodes))) #The lucky bowerbird that is chosen by the female first\n",
    "first_female_time=t+nexttau(-3) #determine the time when the first female arrives\n",
    "first_female_tic=ticketgenerator(first_female_time-t,first_female_time, first_male, -3) #first female ticket\n",
    "addtotimeline(first_female_tic, timeline)\n",
    "\n",
    "for i in range(nodes):\n",
    "    init_FG_time=t+nexttau(-1) #Init FG time indicates when SB ends, thus the tau is generated by SB_param\n",
    "    init_FG_tic=ticketgenerator(init_FG_time-t,init_FG_time, i, -2)\n",
    "    addtotimeline(init_FG_tic, timeline)\n",
    "        \n"
   ]
  },
  {
   "cell_type": "code",
   "execution_count": 4,
   "metadata": {},
   "outputs": [
    {
     "name": "stdout",
     "output_type": "stream",
     "text": [
      "end\n",
      "[{'tau': 0.010190847431746891, 'time': 0.010190847431746891, 'owner': 2, 'action': -2}, {'tau': 0.04493971157698751, 'time': 0.04493971157698751, 'owner': 0, 'action': -2}, {'tau': 0.07772634262734072, 'time': 0.12266605420432823, 'owner': 0, 'action': -1}, {'tau': 0.13539443502075804, 'time': 0.13539443502075804, 'owner': 1, 'action': -2}, {'tau': 0.1334963025771571, 'time': 0.143687150008904, 'owner': 2, 'action': -1}, {'tau': 0.1577750405356454, 'time': 0.1577750405356454, 'owner': 3, 'action': -2}, {'tau': 0.0233676792780802, 'time': 0.1811427198137256, 'owner': 3, 'action': -1}, {'tau': 0.07228284913803304, 'time': 0.20767728415879108, 'owner': 1, 'action': -1}, {'tau': 0.12028944398665915, 'time': 0.24295549819098738, 'owner': 0, 'action': -2}, {'tau': 0.13673650103591464, 'time': 0.28042365104481864, 'owner': 2, 'action': -2}, {'tau': 0.07505034698274793, 'time': 0.3180058451737353, 'owner': 0, 'action': -1}, {'tau': 0.2310525531550037, 'time': 0.4387298373137948, 'owner': 1, 'action': -2}, {'tau': 0.2735327742698528, 'time': 0.4546754940835784, 'owner': 3, 'action': -2}, {'tau': 0.06639238526948787, 'time': 0.5051222225832827, 'owner': 1, 'action': -1}, {'tau': 0.2622111041587985, 'time': 0.5426347552036171, 'owner': 2, 'action': -1}, {'tau': 0.2873871520891238, 'time': 0.6053929972628591, 'owner': 0, 'action': -2}, {'tau': 0.18590641984811668, 'time': 0.6405819139316951, 'owner': 3, 'action': -1}, {'tau': 0.04027427893355673, 'time': 0.6456672761964158, 'owner': 0, 'action': -1}, {'tau': 0.19879726219707516, 'time': 0.7039194847803578, 'owner': 1, 'action': -2}, {'tau': 0.2778712504345471, 'time': 0.8205060056381642, 'owner': 2, 'action': -2}, {'tau': 0.1824508024755488, 'time': 0.8230327164072438, 'owner': 3, 'action': -2}, {'tau': 0.12647179247318452, 'time': 0.8303912772535423, 'owner': 1, 'action': -1}, {'tau': 0.23889417822059766, 'time': 0.8845614544170135, 'owner': 0, 'action': -2}, {'tau': 0.1413007870379671, 'time': 0.9618067926761313, 'owner': 2, 'action': -1}, {'tau': 0.21069210844424358, 'time': 1.041083385697786, 'owner': 1, 'action': -2}, {'tau': 0.15805894150947464, 'time': 1.0426203959264881, 'owner': 0, 'action': -1}, {'tau': 0.04273527857766046, 'time': 1.0853556745041486, 'owner': 0, 'action': -2}, {'tau': 0.1942177347945624, 'time': 1.1560245274706937, 'owner': 2, 'action': -2}, {'tau': 0.154369628225691, 'time': 1.195453013923477, 'owner': 1, 'action': -1}, {'tau': 0.5131172794245936, 'time': 1.3361499958318375, 'owner': 3, 'action': -1}, {'tau': 0.14368986295466768, 'time': 1.3391428768781446, 'owner': 1, 'action': -2}, {'tau': 0.27658354281660213, 'time': 1.3619392173207507, 'owner': 0, 'action': -1}, {'tau': 0.26518833131898156, 'time': 1.4212128587896753, 'owner': 2, 'action': -1}, {'tau': 0.009004422185701744, 'time': 1.430217280975377, 'owner': 2, 'action': -2}, {'tau': 0.13601240847026363, 'time': 1.472162404302101, 'owner': 3, 'action': -2}, {'tau': 0.01935463797557735, 'time': 1.4915170422776785, 'owner': 3, 'action': -1}, {'tau': 0.17121795660187122, 'time': 1.5103608334800158, 'owner': 1, 'action': -1}, {'tau': 0.10395011358949602, 'time': 1.534167394564873, 'owner': 2, 'action': -1}, {'tau': 0.13245501201812337, 'time': 1.6428158454981392, 'owner': 1, 'action': -2}, {'tau': 0.21591126613964806, 'time': 1.7074283084173265, 'owner': 3, 'action': -2}, {'tau': 0.1779355669702356, 'time': 1.7121029615351087, 'owner': 2, 'action': -2}, {'tau': 0.12540985466741117, 'time': 1.7682257001655504, 'owner': 1, 'action': -1}, {'tau': 0.41266279974860387, 'time': 1.7746020170693546, 'owner': 0, 'action': -2}, {'tau': 0.13942170161503853, 'time': 1.846850010032365, 'owner': 3, 'action': -1}, {'tau': 0.10751585962190657, 'time': 1.9543658696542716, 'owner': 3, 'action': -2}, {'tau': 0.19994191446088294, 'time': 1.9681676146264333, 'owner': 1, 'action': -2}, {'tau': 0.05908784403157985, 'time': 2.027255458658013, 'owner': 1, 'action': -1}, {'tau': 0.08098058282075438, 'time': 2.035346452475026, 'owner': 3, 'action': -1}, {'tau': 0.28952053178800563, 'time': 2.0641225488573602, 'owner': 0, 'action': -1}, {'tau': 0.07068923965711127, 'time': 2.1348117885144715, 'owner': 0, 'action': -2}, {'tau': 0.11192019563188493, 'time': 2.147266648106911, 'owner': 3, 'action': -2}, {'tau': 0.4552284676129297, 'time': 2.1673314291480383, 'owner': 2, 'action': -1}, {'tau': 0.15553514315583739, 'time': 2.1827906018138505, 'owner': 1, 'action': -2}, {'tau': 0.04703631021183252, 'time': 2.229826912025683, 'owner': 1, 'action': -1}, {'tau': 0.2515664029858917, 'time': 2.3988330510928026, 'owner': 3, 'action': -1}, {'tau': 0.007147978572488611, 'time': 2.4059810296652913, 'owner': 3, 'action': -2}, {'tau': 0.2389324037635041, 'time': 2.4062638329115424, 'owner': 2, 'action': -2}, {'tau': 0.2811446475500312, 'time': 2.4159564360645027, 'owner': 0, 'action': -1}, {'tau': 0.22915040282676236, 'time': 2.4589773148524454, 'owner': 1, 'action': -2}, {'tau': 0.06595328008791368, 'time': 2.472217112999456, 'owner': 2, 'action': -1}, {'tau': 0.1775175899951531, 'time': 2.5834986196604444, 'owner': 3, 'action': -1}, {'tau': 0.17101904946263424, 'time': 2.586975485527137, 'owner': 0, 'action': -2}, {'tau': 0.18412707484335167, 'time': 2.656344187842808, 'owner': 2, 'action': -2}, {'tau': 0.014976546532897927, 'time': 2.6713207343757057, 'owner': 2, 'action': -1}, {'tau': 0.12936069557374275, 'time': 2.712859315234187, 'owner': 3, 'action': -2}, {'tau': 0.06596312050605713, 'time': 2.7788224357402442, 'owner': 3, 'action': -1}, {'tau': 0.008244840366784967, 'time': 2.787067276107029, 'owner': 3, 'action': -2}, {'tau': 0.1428024597896842, 'time': 2.81412319416539, 'owner': 2, 'action': -2}, {'tau': 0.37833212315408016, 'time': 2.8373094380065256, 'owner': 1, 'action': -1}, {'tau': 0.1100255480905763, 'time': 2.8970928241976055, 'owner': 3, 'action': -1}, {'tau': 0.10147696025167097, 'time': 2.915600154417061, 'owner': 2, 'action': -1}, {'tau': 0.39170473221592195, 'time': 2.978680217743059, 'owner': 0, 'action': -1}, {'tau': 0.18295817073176135, 'time': 3.080050994929367, 'owner': 3, 'action': -2}, {'tau': 0.12760585383568657, 'time': 3.1062860715787455, 'owner': 0, 'action': -2}, {'tau': 0.28702570066475497, 'time': 3.1243351386712805, 'owner': 1, 'action': -2}, {'tau': 0.06530493042254282, 'time': 3.1453559253519097, 'owner': 3, 'action': -1}, {'tau': 0.17642132513030395, 'time': 3.2827073967090494, 'owner': 0, 'action': -1}, {'tau': 0.20164708414033106, 'time': 3.3470030094922407, 'owner': 3, 'action': -2}, {'tau': 0.45566555839630984, 'time': 3.3712657128133707, 'owner': 2, 'action': -2}, {'tau': 0.05505335289654312, 'time': 3.402056362388784, 'owner': 3, 'action': -1}, {'tau': 0.10091649355452859, 'time': 3.5029728559433124, 'owner': 3, 'action': -2}, {'tau': 0.41918919301364976, 'time': 3.5435243316849303, 'owner': 1, 'action': -1}, {'tau': 0.1336877413747346, 'time': 3.677212073059665, 'owner': 1, 'action': -2}, {'tau': 0.42902261927584684, 'time': 3.7117300159848963, 'owner': 0, 'action': -2}, {'tau': 0.031332889390519814, 'time': 3.743062905375416, 'owner': 0, 'action': -1}, {'tau': 0.07851302372900415, 'time': 3.755725096788669, 'owner': 1, 'action': -1}, {'tau': 0.04493214381757138, 'time': 3.8006572406062404, 'owner': 1, 'action': -2}, {'tau': 0.44181799915769915, 'time': 3.81308371197107, 'owner': 2, 'action': -1}, {'tau': 0.34955948629761124, 'time': 3.8525323422409237, 'owner': 3, 'action': -1}, {'tau': 0.0961897220161596, 'time': 3.8968469626224, 'owner': 1, 'action': -1}, {'tau': 0.13131081117205845, 'time': 3.983843153412982, 'owner': 3, 'action': -2}, {'tau': 0.25166502600098406, 'time': 3.9947279313764, 'owner': 0, 'action': -2}, {'tau': 0.18322768605514872, 'time': 3.9963113980262186, 'owner': 2, 'action': -2}, {'tau': 0.10412158875541033, 'time': 4.00096855137781, 'owner': 1, 'action': -2}, {'tau': 0.005487866256471463, 'time': 4.006456417634282, 'owner': 1, 'action': -1}, {'tau': 0.04309347291236687, 'time': 4.026936626325349, 'owner': 3, 'action': -1}, {'tau': 0.036904073247948865, 'time': 4.031632004624349, 'owner': 0, 'action': -1}, {'tau': 0.10880050585456669, 'time': 4.105111903880785, 'owner': 2, 'action': -1}, {'tau': 0.10715990108277396, 'time': 4.134096527408123, 'owner': 3, 'action': -2}, {'tau': 0.19779926051641628, 'time': 4.204255678150698, 'owner': 1, 'action': -2}, {'tau': 0.11490427250290036, 'time': 4.220016176383686, 'owner': 2, 'action': -2}, {'tau': 0.09071309077731016, 'time': 4.224809618185433, 'owner': 3, 'action': -1}, {'tau': 0.10361622231739709, 'time': 4.323632398701083, 'owner': 2, 'action': -1}, {'tau': 0.19539177690623077, 'time': 4.399647455056929, 'owner': 1, 'action': -1}, {'tau': 0.21142762711926277, 'time': 4.436237245304696, 'owner': 3, 'action': -2}, {'tau': 0.4311359358310023, 'time': 4.462767940455351, 'owner': 0, 'action': -2}, {'tau': 0.10846877296753021, 'time': 4.544706018272226, 'owner': 3, 'action': -1}, {'tau': 0.2635438648209254, 'time': 4.587176263522008, 'owner': 2, 'action': -2}, {'tau': 0.20123373097039554, 'time': 4.600881186027324, 'owner': 1, 'action': -2}, {'tau': 0.15269994430939615, 'time': 4.6154678847647475, 'owner': 0, 'action': -1}, {'tau': 0.03746176667685397, 'time': 4.652929651441601, 'owner': 0, 'action': -2}, {'tau': 0.08735920962912758, 'time': 4.674535473151136, 'owner': 2, 'action': -1}, {'tau': 0.08472195098942592, 'time': 4.68560313701675, 'owner': 1, 'action': -1}, {'tau': 0.21474819710714588, 'time': 4.759454215379372, 'owner': 3, 'action': -2}, {'tau': 0.11049827628620612, 'time': 4.785033749437342, 'owner': 2, 'action': -2}, {'tau': 0.2032111301162498, 'time': 4.856140781557851, 'owner': 0, 'action': -1}, {'tau': 0.17298041374152806, 'time': 4.858583550758278, 'owner': 1, 'action': -2}, {'tau': 0.0562490643853204, 'time': 4.912389845943172, 'owner': 0, 'action': -2}, {'tau': 0.15558407357897064, 'time': 4.9406178230163125, 'owner': 2, 'action': -1}, {'tau': 0.14114068486206488, 'time': 4.999724235620343, 'owner': 1, 'action': -1}, {'tau': 0.09796021789454379, 'time': 5.010350063837715, 'owner': 0, 'action': -1}, {'tau': 0.2641838962825336, 'time': 5.0236381116619055, 'owner': 3, 'action': -1}, {'tau': 0.03248238573396112, 'time': 5.056120497395867, 'owner': 3, 'action': -2}, {'tau': 0.06491701623436175, 'time': 5.064641251854705, 'owner': 1, 'action': -2}, {'tau': 0.05837073278649285, 'time': 5.123011984641198, 'owner': 1, 'action': -1}, {'tau': 0.09684425815734432, 'time': 5.152964755553211, 'owner': 3, 'action': -1}, {'tau': 0.22415436748188444, 'time': 5.164772190498197, 'owner': 2, 'action': -2}, {'tau': 0.25087085963439293, 'time': 5.261220923472108, 'owner': 0, 'action': -2}, {'tau': 0.024464142123412635, 'time': 5.285685065595521, 'owner': 0, 'action': -1}, {'tau': 0.14574876451997376, 'time': 5.298713520073185, 'owner': 3, 'action': -2}, {'tau': 0.16587659915696484, 'time': 5.330648789655162, 'owner': 2, 'action': -1}, {'tau': 0.11044448883987901, 'time': 5.3961295544354, 'owner': 0, 'action': -2}, {'tau': 0.11825196816493833, 'time': 5.416965488238123, 'owner': 3, 'action': -1}, {'tau': 0.08666838325703541, 'time': 5.417317172912197, 'owner': 2, 'action': -2}, {'tau': 0.04668426089787303, 'time': 5.46400143381007, 'owner': 2, 'action': -1}, {'tau': 0.08368167099487955, 'time': 5.4798112254302795, 'owner': 0, 'action': -1}, {'tau': 0.38486696064534964, 'time': 5.5078789452865475, 'owner': 1, 'action': -2}, {'tau': 0.14600241779573686, 'time': 5.56296790603386, 'owner': 3, 'action': -2}, {'tau': 0.09974370300686353, 'time': 5.563745136816934, 'owner': 2, 'action': -2}, {'tau': 0.0649172176561299, 'time': 5.572796162942677, 'owner': 1, 'action': -1}, {'tau': 0.04817856000387177, 'time': 5.6119236968208055, 'owner': 2, 'action': -1}, {'tau': 0.10733444718119323, 'time': 5.719258144001999, 'owner': 2, 'action': -2}, {'tau': 0.029108649359452343, 'time': 5.748366793361451, 'owner': 2, 'action': -1}, {'tau': 0.2688946456909189, 'time': 5.7487058711211985, 'owner': 0, 'action': -2}, {'tau': 0.19850526506786004, 'time': 5.76147317110172, 'owner': 3, 'action': -1}, {'tau': 0.23866904661728494, 'time': 5.811465209559962, 'owner': 1, 'action': -2}, {'tau': 0.1495390476474645, 'time': 5.898244918768663, 'owner': 0, 'action': -1}, {'tau': 0.12173495212712826, 'time': 5.933200161687091, 'owner': 1, 'action': -1}, {'tau': 0.17390719628292306, 'time': 5.935380367384643, 'owner': 3, 'action': -2}, {'tau': 0.07084568415373571, 'time': 6.006226051538379, 'owner': 3, 'action': -1}, {'tau': 0.021440385298812537, 'time': 6.027666436837191, 'owner': 3, 'action': -2}, {'tau': 0.3358284674052152, 'time': 6.084195260766666, 'owner': 2, 'action': -2}, {'tau': 0.015216912119114134, 'time': 6.09941217288578, 'owner': 2, 'action': -1}, {'tau': 0.24259039063660826, 'time': 6.140835309405271, 'owner': 0, 'action': -2}, {'tau': 0.04644847193898105, 'time': 6.1458606448247615, 'owner': 2, 'action': -2}, {'tau': 0.1283052427749629, 'time': 6.155971679612154, 'owner': 3, 'action': -1}, {'tau': 0.23038776150561002, 'time': 6.163587923192701, 'owner': 1, 'action': -2}, {'tau': 0.06938934859622314, 'time': 6.215249993420985, 'owner': 2, 'action': -1}, {'tau': 0.0784122178228861, 'time': 6.242000141015587, 'owner': 1, 'action': -1}, {'tau': 0.1176483311190637, 'time': 6.332898324540048, 'owner': 2, 'action': -2}, {'tau': 0.1407321524579057, 'time': 6.3827322934734925, 'owner': 1, 'action': -2}, {'tau': 0.2269764035942501, 'time': 6.382948083206404, 'owner': 3, 'action': -2}, {'tau': 0.1469971211393215, 'time': 6.47989544567937, 'owner': 2, 'action': -1}, {'tau': 0.11818646239536346, 'time': 6.500918755868856, 'owner': 1, 'action': -1}, {'tau': 0.12444850514024441, 'time': 6.507396588346649, 'owner': 3, 'action': -1}, {'tau': 0.4322012464051932, 'time': 6.573036555810464, 'owner': 0, 'action': -1}, {'tau': 0.1790729350514786, 'time': 6.658968380730848, 'owner': 2, 'action': -2}, {'tau': 0.16766624489894077, 'time': 6.668585000767797, 'owner': 1, 'action': -2}, {'tau': 0.19683043309709447, 'time': 6.704227021443743, 'owner': 3, 'action': -2}, {'tau': 0.10169021929635313, 'time': 6.77027522006415, 'owner': 1, 'action': -1}, {'tau': 0.16269211668410222, 'time': 6.866919138127845, 'owner': 3, 'action': -1}, {'tau': 0.3970022308513652, 'time': 6.97003878666183, 'owner': 0, 'action': -2}, {'tau': 0.31236250651395814, 'time': 6.9713308872448065, 'owner': 2, 'action': -1}, {'tau': 0.14348469547053, 'time': 7.010403833598375, 'owner': 3, 'action': -2}, {'tau': 0.29082214431670117, 'time': 7.061097364380851, 'owner': 1, 'action': -2}, {'tau': 0.06857837367902331, 'time': 7.078982207277399, 'owner': 3, 'action': -1}, {'tau': 0.031844521070533816, 'time': 7.092941885451385, 'owner': 1, 'action': -1}, {'tau': 0.18619929788312017, 'time': 7.15623808454495, 'owner': 0, 'action': -1}, {'tau': 0.18587358039287682, 'time': 7.157204467637683, 'owner': 2, 'action': -2}, {'tau': 0.06797446422487052, 'time': 7.160916349676255, 'owner': 1, 'action': -2}, {'tau': 0.013611768796311985, 'time': 7.174528118472567, 'owner': 1, 'action': -1}, {'tau': 0.08890556476174805, 'time': 7.246110032399431, 'owner': 2, 'action': -1}, {'tau': 0.20243502190152363, 'time': 7.376963140374091, 'owner': 1, 'action': -2}, {'tau': 0.29819660378266377, 'time': 7.3771788110600625, 'owner': 3, 'action': -2}, {'tau': 0.04530455194252525, 'time': 7.422483363002588, 'owner': 3, 'action': -1}, {'tau': 0.27844622972262556, 'time': 7.434684314267575, 'owner': 0, 'action': -2}, {'tau': 0.05290555842085798, 'time': 7.475388921423446, 'owner': 3, 'action': -2}, {'tau': 0.111522990525879, 'time': 7.48848613089997, 'owner': 1, 'action': -1}, {'tau': 0.2584907886785146, 'time': 7.504600821077946, 'owner': 2, 'action': -2}, {'tau': 0.052766150714880666, 'time': 7.528155072138326, 'owner': 3, 'action': -1}, {'tau': 0.057301278272535505, 'time': 7.5619020993504815, 'owner': 2, 'action': -1}, {'tau': 0.16594365159121338, 'time': 7.69409872372954, 'owner': 3, 'action': -2}, {'tau': 0.21099131999815768, 'time': 7.699477450898128, 'owner': 1, 'action': -2}, {'tau': 0.0029690079844364448, 'time': 7.702446458882564, 'owner': 1, 'action': -1}, {'tau': 0.2036857646592729, 'time': 7.765587864009754, 'owner': 2, 'action': -2}, {'tau': 0.07412110422977847, 'time': 7.768219827959318, 'owner': 3, 'action': -1}, {'tau': 0.34258590597113425, 'time': 7.77727022023871, 'owner': 0, 'action': -1}, {'tau': 0.09443156088008386, 'time': 7.862651388839402, 'owner': 3, 'action': -2}, {'tau': 0.1649166271003919, 'time': 7.867363085982956, 'owner': 1, 'action': -2}, {'tau': 0.052925429472590046, 'time': 7.915576818311992, 'owner': 3, 'action': -1}, {'tau': 0.2075277562580471, 'time': 7.9731156202678015, 'owner': 2, 'action': -1}, {'tau': 0.2128286820883094, 'time': 7.990098902327019, 'owner': 0, 'action': -2}, {'tau': 0.19595515108434558, 'time': 8.063318237067302, 'owner': 1, 'action': -1}, {'tau': 0.12610862358531882, 'time': 8.09922424385312, 'owner': 2, 'action': -2}, {'tau': 0.12355044546781979, 'time': 8.113649347794839, 'owner': 0, 'action': -1}, {'tau': 0.20648833554431434, 'time': 8.122065153856306, 'owner': 3, 'action': -2}, {'tau': 0.02350415744806078, 'time': 8.122728401301181, 'owner': 2, 'action': -1}, {'tau': 0.03464962366170177, 'time': 8.156714777518008, 'owner': 3, 'action': -1}, {'tau': 0.12323971746732632, 'time': 8.186557954534628, 'owner': 1, 'action': -2}, {'tau': 0.06922490151896454, 'time': 8.255782856053592, 'owner': 1, 'action': -1}, {'tau': 0.15817782990542995, 'time': 8.280906231206611, 'owner': 2, 'action': -2}, {'tau': 0.13397252659741454, 'time': 8.290687304115423, 'owner': 3, 'action': -2}, {'tau': 0.20381422035663377, 'time': 8.317463568151473, 'owner': 0, 'action': -2}, {'tau': 0.09185855101859453, 'time': 8.372764782225206, 'owner': 2, 'action': -1}, {'tau': 0.05957417121049069, 'time': 8.377037739361963, 'owner': 0, 'action': -1}, {'tau': 0.11582264930052943, 'time': 8.488587431525735, 'owner': 2, 'action': -2}, {'tau': 0.1996278640042899, 'time': 8.490315168119713, 'owner': 3, 'action': -1}, {'tau': 0.11523777582486971, 'time': 8.492275515186833, 'owner': 0, 'action': -2}, {'tau': 0.2681693699401979, 'time': 8.52395222599379, 'owner': 1, 'action': -2}, {'tau': 0.041256805462815294, 'time': 8.565209031456606, 'owner': 1, 'action': -1}, {'tau': 0.09409978688395348, 'time': 8.582687218409689, 'owner': 2, 'action': -1}, {'tau': 0.1328724630818332, 'time': 8.625147978268666, 'owner': 0, 'action': -1}, {'tau': 0.05056535176453281, 'time': 8.633252570174221, 'owner': 2, 'action': -2}, {'tau': 0.06990463651744605, 'time': 8.635113667974052, 'owner': 1, 'action': -2}, {'tau': 0.05055233492604927, 'time': 8.68380490510027, 'owner': 2, 'action': -1}, {'tau': 0.06587738169479529, 'time': 8.700991049668847, 'owner': 1, 'action': -1}, {'tau': 0.2138672300267146, 'time': 8.704182398146427, 'owner': 3, 'action': -2}, {'tau': 0.08602414947551296, 'time': 8.71117212774418, 'owner': 0, 'action': -2}, {'tau': 0.03636395302461004, 'time': 8.72016885812488, 'owner': 2, 'action': -2}, {'tau': 0.039351167320429425, 'time': 8.75952002544531, 'owner': 2, 'action': -1}, {'tau': 0.07031696907838736, 'time': 8.781489096822567, 'owner': 0, 'action': -1}, {'tau': 0.04680281146823084, 'time': 8.806322836913541, 'owner': 2, 'action': -2}, {'tau': 0.15188323054166908, 'time': 8.856065628688096, 'owner': 3, 'action': -1}, {'tau': 0.15783245399670598, 'time': 8.939321550819272, 'owner': 0, 'action': -2}, {'tau': 0.24717616886656124, 'time': 8.948167218535408, 'owner': 1, 'action': -2}, {'tau': 0.184378178459907, 'time': 8.990701015373448, 'owner': 2, 'action': -1}, {'tau': 0.08465175354155718, 'time': 9.02397330436083, 'owner': 0, 'action': -1}, {'tau': 0.045956738988959245, 'time': 9.069930043349789, 'owner': 0, 'action': -2}, {'tau': 0.20658019392068283, 'time': 9.19728120929413, 'owner': 2, 'action': -2}, {'tau': 0.2504356925889475, 'time': 9.198602911124356, 'owner': 1, 'action': -1}, {'tau': 0.06247610824707195, 'time': 9.259757317541203, 'owner': 2, 'action': -1}, {'tau': 0.40538828557378537, 'time': 9.261453914261882, 'owner': 3, 'action': -2}, {'tau': 0.2986547199066578, 'time': 9.368584763256447, 'owner': 0, 'action': -1}, {'tau': 0.14127813043191573, 'time': 9.402732044693797, 'owner': 3, 'action': -1}, {'tau': 0.21905195970231262, 'time': 9.417654870826668, 'owner': 1, 'action': -2}, {'tau': 0.07857206951133122, 'time': 9.481304114205129, 'owner': 3, 'action': -2}, {'tau': 0.009548919581177984, 'time': 9.490853033786307, 'owner': 3, 'action': -1}, {'tau': 0.2891158547951722, 'time': 9.548873172336375, 'owner': 2, 'action': -2}, {'tau': 0.20024832471189846, 'time': 9.568833087968345, 'owner': 0, 'action': -2}, {'tau': 0.03448359203376761, 'time': 9.583356764370142, 'owner': 2, 'action': -1}, {'tau': 0.18467147934027395, 'time': 9.602326350166942, 'owner': 1, 'action': -1}, {'tau': 0.16193536830818545, 'time': 9.652788402094492, 'owner': 3, 'action': -2}, {'tau': 0.05799236177021605, 'time': 9.710780763864708, 'owner': 3, 'action': -1}, {'tau': 0.17584463915061832, 'time': 9.77817098931756, 'owner': 1, 'action': -2}, {'tau': 0.06917505536749324, 'time': 9.779955819232201, 'owner': 3, 'action': -2}, {'tau': 0.21584427831772857, 'time': 9.784677366286074, 'owner': 0, 'action': -1}, {'tau': 0.0418758355570521, 'time': 9.820046824874613, 'owner': 1, 'action': -1}, {'tau': 0.274463164622448, 'time': 9.85781992899259, 'owner': 2, 'action': -2}, {'tau': 0.02073028349797923, 'time': 9.87855021249057, 'owner': 2, 'action': -1}, {'tau': 0.1482371970495837, 'time': 9.932914563335657, 'owner': 0, 'action': -2}, {'tau': 0.06212233888298613, 'time': 9.940672551373556, 'owner': 2, 'action': -2}, {'tau': 0.04984167769437242, 'time': 9.990514229067928, 'owner': 2, 'action': -1}, {'tau': 0.10352592210049671, 'time': 10.036440485436154, 'owner': 0, 'action': -1}, {'tau': 0.048506479611123865, 'time': 10.084946965047278, 'owner': 0, 'action': -2}, {'tau': 0.3513981176405334, 'time': 10.131353936872735, 'owner': 3, 'action': -1}, {'tau': 0.07143235114379287, 'time': 10.156379316191071, 'owner': 0, 'action': -1}, {'tau': 0.1743810155493133, 'time': 10.164895244617242, 'owner': 2, 'action': -2}, {'tau': 0.35462484575497655, 'time': 10.17467167062959, 'owner': 1, 'action': -2}, {'tau': 0.005571051942428795, 'time': 10.180242722572018, 'owner': 1, 'action': -1}, {'tau': 0.09054631067324337, 'time': 10.221900247545978, 'owner': 3, 'action': -2}, {'tau': 0.0960566377478056, 'time': 10.260951882365047, 'owner': 2, 'action': -1}, {'tau': 0.12482841425645752, 'time': 10.305071136828476, 'owner': 1, 'action': -2}, {'tau': 0.033010809503741356, 'time': 10.338081946332217, 'owner': 1, 'action': -1}, {'tau': 0.20796952462821672, 'time': 10.364348840819288, 'owner': 0, 'action': -2}, {'tau': 0.2004908855045091, 'time': 10.422391133050487, 'owner': 3, 'action': -1}, {'tau': 0.06147362339356022, 'time': 10.425822464212848, 'owner': 0, 'action': -1}, {'tau': 0.13863123643117703, 'time': 10.476713182763394, 'owner': 1, 'action': -2}, {'tau': 0.21806221813255888, 'time': 10.479014100497606, 'owner': 2, 'action': -2}, {'tau': 0.0058905848898671564, 'time': 10.482603767653261, 'owner': 1, 'action': -1}, {'tau': 0.11632342860399625, 'time': 10.538714561654484, 'owner': 3, 'action': -2}, {'tau': 0.09594090800868926, 'time': 10.634655469663173, 'owner': 3, 'action': -1}, {'tau': 0.22029064741383486, 'time': 10.646113111626683, 'owner': 0, 'action': -2}, {'tau': 0.0371540016119134, 'time': 10.683267113238596, 'owner': 0, 'action': -1}, {'tau': 0.0662803079859895, 'time': 10.700935777649162, 'owner': 3, 'action': -2}, {'tau': 0.27750051317914703, 'time': 10.760104280832408, 'owner': 1, 'action': -2}, {'tau': 0.2921407312959907, 'time': 10.771154831793597, 'owner': 2, 'action': -1}, {'tau': 0.1311392866036023, 'time': 10.814406399842198, 'owner': 0, 'action': -2}, {'tau': 0.15217738856685692, 'time': 10.85311316621602, 'owner': 3, 'action': -1}, {'tau': 0.16529498361884087, 'time': 10.97970138346104, 'owner': 0, 'action': -1}, {'tau': 0.24945501539218817, 'time': 11.009559296224596, 'owner': 1, 'action': -1}, {'tau': 0.2479416950864497, 'time': 11.019096526880046, 'owner': 2, 'action': -2}, {'tau': 0.02428790851139162, 'time': 11.043384435391438, 'owner': 2, 'action': -1}, {'tau': 0.2518283797759633, 'time': 11.104941545991982, 'owner': 3, 'action': -2}, {'tau': 0.20238967837933686, 'time': 11.211948974603933, 'owner': 1, 'action': -2}, {'tau': 0.11277789051573173, 'time': 11.217719436507714, 'owner': 3, 'action': -1}, {'tau': 0.258599361875671, 'time': 11.23830074533671, 'owner': 0, 'action': -2}, {'tau': 0.21621786744115568, 'time': 11.259602302832594, 'owner': 2, 'action': -2}, {'tau': 0.07447457825402815, 'time': 11.286423552857961, 'owner': 1, 'action': -1}, {'tau': 0.07610062012851948, 'time': 11.31440136546523, 'owner': 0, 'action': -1}, {'tau': 0.07717171147027635, 'time': 11.33677401430287, 'owner': 2, 'action': -1}, {'tau': 0.13473798085118815, 'time': 11.449139346316418, 'owner': 0, 'action': -2}, {'tau': 0.12909229242683473, 'time': 11.465866306729705, 'owner': 2, 'action': -2}, {'tau': 0.25428904115181084, 'time': 11.472008477659525, 'owner': 3, 'action': -2}, {'tau': 0.072653841669581, 'time': 11.544662319329106, 'owner': 3, 'action': -1}, {'tau': 0.12911766727673601, 'time': 11.578257013593154, 'owner': 0, 'action': -1}, {'tau': 0.006256284038148152, 'time': 11.584513297631302, 'owner': 0, 'action': -2}, {'tau': 0.31176087306931777, 'time': 11.598184425927279, 'owner': 1, 'action': -2}, {'tau': 0.0934036203100046, 'time': 11.691588046237284, 'owner': 1, 'action': -1}, {'tau': 0.23469625391759763, 'time': 11.700562560647302, 'owner': 2, 'action': -1}, {'tau': 0.19022015063207576, 'time': 11.774733448263378, 'owner': 0, 'action': -1}, {'tau': 0.09745395841274451, 'time': 11.798016519060047, 'owner': 2, 'action': -2}, {'tau': 0.27364075463351156, 'time': 11.818303073962618, 'owner': 3, 'action': -2}, {'tau': 0.14505428563078837, 'time': 11.836642331868072, 'owner': 1, 'action': -2}, {'tau': 11.848772068721964, 'time': 11.848772068721964, 'owner': 2, 'action': -3}, {'tau': 0.14204976819401516, 'time': 11.916783216457393, 'owner': 0, 'action': -2}]\n"
     ]
    }
   ],
   "source": [
    "#while loop\n",
    "\n",
    "while t<t_max:\n",
    "    #print(t)\n",
    "    if timeholder>(len(timeline)-1): #if timeholder exceeds max timeline index\n",
    "        #print(sum(ppl_state)/num_ppl)\n",
    "        print('end')\n",
    "        break\n",
    "    next_tic=timeline[timeholder] #look at the ticket corresponding to where we are on the timeline\n",
    "    if (next_tic['action']==-1): #if it's a cure ticket, use the corresponding handler\n",
    "        SBtickethandler(next_tic,timeline,SB_param,t_max,male_states)\n",
    "    elif next_tic['action']==-2: #if it's a time check ticket use the corresponding handler\n",
    "        FGtickethandler(next_tic,timeline,FG_param,t_max,male_states)\n",
    "    else: #if it's a spread ticket, use the corresponding handler\n",
    "        FVtickethandler(next_tic, timeline, FV_param, t_max, male_states, fitness_states, nodes, female_preferences, travel_times)\n",
    "    t=next_tic['time'] #new time based on the ticket we just read\n",
    "    timeholder=timeholder+1 #increment timeholder\n",
    "\n",
    "print(timeline)\n"
   ]
  },
  {
   "cell_type": "code",
   "execution_count": 5,
   "metadata": {},
   "outputs": [
    {
     "name": "stdout",
     "output_type": "stream",
     "text": [
      "tl0----\n",
      "[{'tau': 0.04493971157698751, 'time': 0.04493971157698751, 'owner': 0, 'action': -2}, {'tau': 0.07772634262734072, 'time': 0.12266605420432823, 'owner': 0, 'action': -1}, {'tau': 0.12028944398665915, 'time': 0.24295549819098738, 'owner': 0, 'action': -2}, {'tau': 0.07505034698274793, 'time': 0.3180058451737353, 'owner': 0, 'action': -1}, {'tau': 0.2873871520891238, 'time': 0.6053929972628591, 'owner': 0, 'action': -2}, {'tau': 0.04027427893355673, 'time': 0.6456672761964158, 'owner': 0, 'action': -1}, {'tau': 0.23889417822059766, 'time': 0.8845614544170135, 'owner': 0, 'action': -2}, {'tau': 0.15805894150947464, 'time': 1.0426203959264881, 'owner': 0, 'action': -1}, {'tau': 0.04273527857766046, 'time': 1.0853556745041486, 'owner': 0, 'action': -2}, {'tau': 0.27658354281660213, 'time': 1.3619392173207507, 'owner': 0, 'action': -1}, {'tau': 0.41266279974860387, 'time': 1.7746020170693546, 'owner': 0, 'action': -2}, {'tau': 0.28952053178800563, 'time': 2.0641225488573602, 'owner': 0, 'action': -1}, {'tau': 0.07068923965711127, 'time': 2.1348117885144715, 'owner': 0, 'action': -2}, {'tau': 0.2811446475500312, 'time': 2.4159564360645027, 'owner': 0, 'action': -1}, {'tau': 0.17101904946263424, 'time': 2.586975485527137, 'owner': 0, 'action': -2}, {'tau': 0.39170473221592195, 'time': 2.978680217743059, 'owner': 0, 'action': -1}, {'tau': 0.12760585383568657, 'time': 3.1062860715787455, 'owner': 0, 'action': -2}, {'tau': 0.17642132513030395, 'time': 3.2827073967090494, 'owner': 0, 'action': -1}, {'tau': 0.42902261927584684, 'time': 3.7117300159848963, 'owner': 0, 'action': -2}, {'tau': 0.031332889390519814, 'time': 3.743062905375416, 'owner': 0, 'action': -1}, {'tau': 0.25166502600098406, 'time': 3.9947279313764, 'owner': 0, 'action': -2}, {'tau': 0.036904073247948865, 'time': 4.031632004624349, 'owner': 0, 'action': -1}, {'tau': 0.4311359358310023, 'time': 4.462767940455351, 'owner': 0, 'action': -2}, {'tau': 0.15269994430939615, 'time': 4.6154678847647475, 'owner': 0, 'action': -1}, {'tau': 0.03746176667685397, 'time': 4.652929651441601, 'owner': 0, 'action': -2}, {'tau': 0.2032111301162498, 'time': 4.856140781557851, 'owner': 0, 'action': -1}, {'tau': 0.0562490643853204, 'time': 4.912389845943172, 'owner': 0, 'action': -2}, {'tau': 0.09796021789454379, 'time': 5.010350063837715, 'owner': 0, 'action': -1}, {'tau': 0.25087085963439293, 'time': 5.261220923472108, 'owner': 0, 'action': -2}, {'tau': 0.024464142123412635, 'time': 5.285685065595521, 'owner': 0, 'action': -1}, {'tau': 0.11044448883987901, 'time': 5.3961295544354, 'owner': 0, 'action': -2}, {'tau': 0.08368167099487955, 'time': 5.4798112254302795, 'owner': 0, 'action': -1}, {'tau': 0.2688946456909189, 'time': 5.7487058711211985, 'owner': 0, 'action': -2}, {'tau': 0.1495390476474645, 'time': 5.898244918768663, 'owner': 0, 'action': -1}, {'tau': 0.24259039063660826, 'time': 6.140835309405271, 'owner': 0, 'action': -2}, {'tau': 0.4322012464051932, 'time': 6.573036555810464, 'owner': 0, 'action': -1}, {'tau': 0.3970022308513652, 'time': 6.97003878666183, 'owner': 0, 'action': -2}, {'tau': 0.18619929788312017, 'time': 7.15623808454495, 'owner': 0, 'action': -1}, {'tau': 0.27844622972262556, 'time': 7.434684314267575, 'owner': 0, 'action': -2}, {'tau': 0.34258590597113425, 'time': 7.77727022023871, 'owner': 0, 'action': -1}, {'tau': 0.2128286820883094, 'time': 7.990098902327019, 'owner': 0, 'action': -2}, {'tau': 0.12355044546781979, 'time': 8.113649347794839, 'owner': 0, 'action': -1}, {'tau': 0.20381422035663377, 'time': 8.317463568151473, 'owner': 0, 'action': -2}, {'tau': 0.05957417121049069, 'time': 8.377037739361963, 'owner': 0, 'action': -1}, {'tau': 0.11523777582486971, 'time': 8.492275515186833, 'owner': 0, 'action': -2}, {'tau': 0.1328724630818332, 'time': 8.625147978268666, 'owner': 0, 'action': -1}, {'tau': 0.08602414947551296, 'time': 8.71117212774418, 'owner': 0, 'action': -2}, {'tau': 0.07031696907838736, 'time': 8.781489096822567, 'owner': 0, 'action': -1}, {'tau': 0.15783245399670598, 'time': 8.939321550819272, 'owner': 0, 'action': -2}, {'tau': 0.08465175354155718, 'time': 9.02397330436083, 'owner': 0, 'action': -1}, {'tau': 0.045956738988959245, 'time': 9.069930043349789, 'owner': 0, 'action': -2}, {'tau': 0.2986547199066578, 'time': 9.368584763256447, 'owner': 0, 'action': -1}, {'tau': 0.20024832471189846, 'time': 9.568833087968345, 'owner': 0, 'action': -2}, {'tau': 0.21584427831772857, 'time': 9.784677366286074, 'owner': 0, 'action': -1}, {'tau': 0.1482371970495837, 'time': 9.932914563335657, 'owner': 0, 'action': -2}, {'tau': 0.10352592210049671, 'time': 10.036440485436154, 'owner': 0, 'action': -1}, {'tau': 0.048506479611123865, 'time': 10.084946965047278, 'owner': 0, 'action': -2}, {'tau': 0.07143235114379287, 'time': 10.156379316191071, 'owner': 0, 'action': -1}, {'tau': 0.20796952462821672, 'time': 10.364348840819288, 'owner': 0, 'action': -2}, {'tau': 0.06147362339356022, 'time': 10.425822464212848, 'owner': 0, 'action': -1}, {'tau': 0.22029064741383486, 'time': 10.646113111626683, 'owner': 0, 'action': -2}, {'tau': 0.0371540016119134, 'time': 10.683267113238596, 'owner': 0, 'action': -1}, {'tau': 0.1311392866036023, 'time': 10.814406399842198, 'owner': 0, 'action': -2}, {'tau': 0.16529498361884087, 'time': 10.97970138346104, 'owner': 0, 'action': -1}, {'tau': 0.258599361875671, 'time': 11.23830074533671, 'owner': 0, 'action': -2}, {'tau': 0.07610062012851948, 'time': 11.31440136546523, 'owner': 0, 'action': -1}, {'tau': 0.13473798085118815, 'time': 11.449139346316418, 'owner': 0, 'action': -2}, {'tau': 0.12911766727673601, 'time': 11.578257013593154, 'owner': 0, 'action': -1}, {'tau': 0.006256284038148152, 'time': 11.584513297631302, 'owner': 0, 'action': -2}, {'tau': 0.19022015063207576, 'time': 11.774733448263378, 'owner': 0, 'action': -1}, {'tau': 0.14204976819401516, 'time': 11.916783216457393, 'owner': 0, 'action': -2}]\n",
      "tl1----\n",
      "[{'tau': 0.13539443502075804, 'time': 0.13539443502075804, 'owner': 1, 'action': -2}, {'tau': 0.07228284913803304, 'time': 0.20767728415879108, 'owner': 1, 'action': -1}, {'tau': 0.2310525531550037, 'time': 0.4387298373137948, 'owner': 1, 'action': -2}, {'tau': 0.06639238526948787, 'time': 0.5051222225832827, 'owner': 1, 'action': -1}, {'tau': 0.19879726219707516, 'time': 0.7039194847803578, 'owner': 1, 'action': -2}, {'tau': 0.12647179247318452, 'time': 0.8303912772535423, 'owner': 1, 'action': -1}, {'tau': 0.21069210844424358, 'time': 1.041083385697786, 'owner': 1, 'action': -2}, {'tau': 0.154369628225691, 'time': 1.195453013923477, 'owner': 1, 'action': -1}, {'tau': 0.14368986295466768, 'time': 1.3391428768781446, 'owner': 1, 'action': -2}, {'tau': 0.17121795660187122, 'time': 1.5103608334800158, 'owner': 1, 'action': -1}, {'tau': 0.13245501201812337, 'time': 1.6428158454981392, 'owner': 1, 'action': -2}, {'tau': 0.12540985466741117, 'time': 1.7682257001655504, 'owner': 1, 'action': -1}, {'tau': 0.19994191446088294, 'time': 1.9681676146264333, 'owner': 1, 'action': -2}, {'tau': 0.05908784403157985, 'time': 2.027255458658013, 'owner': 1, 'action': -1}, {'tau': 0.15553514315583739, 'time': 2.1827906018138505, 'owner': 1, 'action': -2}, {'tau': 0.04703631021183252, 'time': 2.229826912025683, 'owner': 1, 'action': -1}, {'tau': 0.22915040282676236, 'time': 2.4589773148524454, 'owner': 1, 'action': -2}, {'tau': 0.37833212315408016, 'time': 2.8373094380065256, 'owner': 1, 'action': -1}, {'tau': 0.28702570066475497, 'time': 3.1243351386712805, 'owner': 1, 'action': -2}, {'tau': 0.41918919301364976, 'time': 3.5435243316849303, 'owner': 1, 'action': -1}, {'tau': 0.1336877413747346, 'time': 3.677212073059665, 'owner': 1, 'action': -2}, {'tau': 0.07851302372900415, 'time': 3.755725096788669, 'owner': 1, 'action': -1}, {'tau': 0.04493214381757138, 'time': 3.8006572406062404, 'owner': 1, 'action': -2}, {'tau': 0.0961897220161596, 'time': 3.8968469626224, 'owner': 1, 'action': -1}, {'tau': 0.10412158875541033, 'time': 4.00096855137781, 'owner': 1, 'action': -2}, {'tau': 0.005487866256471463, 'time': 4.006456417634282, 'owner': 1, 'action': -1}, {'tau': 0.19779926051641628, 'time': 4.204255678150698, 'owner': 1, 'action': -2}, {'tau': 0.19539177690623077, 'time': 4.399647455056929, 'owner': 1, 'action': -1}, {'tau': 0.20123373097039554, 'time': 4.600881186027324, 'owner': 1, 'action': -2}, {'tau': 0.08472195098942592, 'time': 4.68560313701675, 'owner': 1, 'action': -1}, {'tau': 0.17298041374152806, 'time': 4.858583550758278, 'owner': 1, 'action': -2}, {'tau': 0.14114068486206488, 'time': 4.999724235620343, 'owner': 1, 'action': -1}, {'tau': 0.06491701623436175, 'time': 5.064641251854705, 'owner': 1, 'action': -2}, {'tau': 0.05837073278649285, 'time': 5.123011984641198, 'owner': 1, 'action': -1}, {'tau': 0.38486696064534964, 'time': 5.5078789452865475, 'owner': 1, 'action': -2}, {'tau': 0.0649172176561299, 'time': 5.572796162942677, 'owner': 1, 'action': -1}, {'tau': 0.23866904661728494, 'time': 5.811465209559962, 'owner': 1, 'action': -2}, {'tau': 0.12173495212712826, 'time': 5.933200161687091, 'owner': 1, 'action': -1}, {'tau': 0.23038776150561002, 'time': 6.163587923192701, 'owner': 1, 'action': -2}, {'tau': 0.0784122178228861, 'time': 6.242000141015587, 'owner': 1, 'action': -1}, {'tau': 0.1407321524579057, 'time': 6.3827322934734925, 'owner': 1, 'action': -2}, {'tau': 0.11818646239536346, 'time': 6.500918755868856, 'owner': 1, 'action': -1}, {'tau': 0.16766624489894077, 'time': 6.668585000767797, 'owner': 1, 'action': -2}, {'tau': 0.10169021929635313, 'time': 6.77027522006415, 'owner': 1, 'action': -1}, {'tau': 0.29082214431670117, 'time': 7.061097364380851, 'owner': 1, 'action': -2}, {'tau': 0.031844521070533816, 'time': 7.092941885451385, 'owner': 1, 'action': -1}, {'tau': 0.06797446422487052, 'time': 7.160916349676255, 'owner': 1, 'action': -2}, {'tau': 0.013611768796311985, 'time': 7.174528118472567, 'owner': 1, 'action': -1}, {'tau': 0.20243502190152363, 'time': 7.376963140374091, 'owner': 1, 'action': -2}, {'tau': 0.111522990525879, 'time': 7.48848613089997, 'owner': 1, 'action': -1}, {'tau': 0.21099131999815768, 'time': 7.699477450898128, 'owner': 1, 'action': -2}, {'tau': 0.0029690079844364448, 'time': 7.702446458882564, 'owner': 1, 'action': -1}, {'tau': 0.1649166271003919, 'time': 7.867363085982956, 'owner': 1, 'action': -2}, {'tau': 0.19595515108434558, 'time': 8.063318237067302, 'owner': 1, 'action': -1}, {'tau': 0.12323971746732632, 'time': 8.186557954534628, 'owner': 1, 'action': -2}, {'tau': 0.06922490151896454, 'time': 8.255782856053592, 'owner': 1, 'action': -1}, {'tau': 0.2681693699401979, 'time': 8.52395222599379, 'owner': 1, 'action': -2}, {'tau': 0.041256805462815294, 'time': 8.565209031456606, 'owner': 1, 'action': -1}, {'tau': 0.06990463651744605, 'time': 8.635113667974052, 'owner': 1, 'action': -2}, {'tau': 0.06587738169479529, 'time': 8.700991049668847, 'owner': 1, 'action': -1}, {'tau': 0.24717616886656124, 'time': 8.948167218535408, 'owner': 1, 'action': -2}, {'tau': 0.2504356925889475, 'time': 9.198602911124356, 'owner': 1, 'action': -1}, {'tau': 0.21905195970231262, 'time': 9.417654870826668, 'owner': 1, 'action': -2}, {'tau': 0.18467147934027395, 'time': 9.602326350166942, 'owner': 1, 'action': -1}, {'tau': 0.17584463915061832, 'time': 9.77817098931756, 'owner': 1, 'action': -2}, {'tau': 0.0418758355570521, 'time': 9.820046824874613, 'owner': 1, 'action': -1}, {'tau': 0.35462484575497655, 'time': 10.17467167062959, 'owner': 1, 'action': -2}, {'tau': 0.005571051942428795, 'time': 10.180242722572018, 'owner': 1, 'action': -1}, {'tau': 0.12482841425645752, 'time': 10.305071136828476, 'owner': 1, 'action': -2}, {'tau': 0.033010809503741356, 'time': 10.338081946332217, 'owner': 1, 'action': -1}, {'tau': 0.13863123643117703, 'time': 10.476713182763394, 'owner': 1, 'action': -2}, {'tau': 0.0058905848898671564, 'time': 10.482603767653261, 'owner': 1, 'action': -1}, {'tau': 0.27750051317914703, 'time': 10.760104280832408, 'owner': 1, 'action': -2}, {'tau': 0.24945501539218817, 'time': 11.009559296224596, 'owner': 1, 'action': -1}, {'tau': 0.20238967837933686, 'time': 11.211948974603933, 'owner': 1, 'action': -2}, {'tau': 0.07447457825402815, 'time': 11.286423552857961, 'owner': 1, 'action': -1}, {'tau': 0.31176087306931777, 'time': 11.598184425927279, 'owner': 1, 'action': -2}, {'tau': 0.0934036203100046, 'time': 11.691588046237284, 'owner': 1, 'action': -1}, {'tau': 0.14505428563078837, 'time': 11.836642331868072, 'owner': 1, 'action': -2}]\n",
      "tl2----\n",
      "[{'tau': 0.010190847431746891, 'time': 0.010190847431746891, 'owner': 2, 'action': -2}, {'tau': 0.1334963025771571, 'time': 0.143687150008904, 'owner': 2, 'action': -1}, {'tau': 0.13673650103591464, 'time': 0.28042365104481864, 'owner': 2, 'action': -2}, {'tau': 0.2622111041587985, 'time': 0.5426347552036171, 'owner': 2, 'action': -1}, {'tau': 0.2778712504345471, 'time': 0.8205060056381642, 'owner': 2, 'action': -2}, {'tau': 0.1413007870379671, 'time': 0.9618067926761313, 'owner': 2, 'action': -1}, {'tau': 0.1942177347945624, 'time': 1.1560245274706937, 'owner': 2, 'action': -2}, {'tau': 0.26518833131898156, 'time': 1.4212128587896753, 'owner': 2, 'action': -1}, {'tau': 0.009004422185701744, 'time': 1.430217280975377, 'owner': 2, 'action': -2}, {'tau': 0.10395011358949602, 'time': 1.534167394564873, 'owner': 2, 'action': -1}, {'tau': 0.1779355669702356, 'time': 1.7121029615351087, 'owner': 2, 'action': -2}, {'tau': 0.4552284676129297, 'time': 2.1673314291480383, 'owner': 2, 'action': -1}, {'tau': 0.2389324037635041, 'time': 2.4062638329115424, 'owner': 2, 'action': -2}, {'tau': 0.06595328008791368, 'time': 2.472217112999456, 'owner': 2, 'action': -1}, {'tau': 0.18412707484335167, 'time': 2.656344187842808, 'owner': 2, 'action': -2}, {'tau': 0.014976546532897927, 'time': 2.6713207343757057, 'owner': 2, 'action': -1}, {'tau': 0.1428024597896842, 'time': 2.81412319416539, 'owner': 2, 'action': -2}, {'tau': 0.10147696025167097, 'time': 2.915600154417061, 'owner': 2, 'action': -1}, {'tau': 0.45566555839630984, 'time': 3.3712657128133707, 'owner': 2, 'action': -2}, {'tau': 0.44181799915769915, 'time': 3.81308371197107, 'owner': 2, 'action': -1}, {'tau': 0.18322768605514872, 'time': 3.9963113980262186, 'owner': 2, 'action': -2}, {'tau': 0.10880050585456669, 'time': 4.105111903880785, 'owner': 2, 'action': -1}, {'tau': 0.11490427250290036, 'time': 4.220016176383686, 'owner': 2, 'action': -2}, {'tau': 0.10361622231739709, 'time': 4.323632398701083, 'owner': 2, 'action': -1}, {'tau': 0.2635438648209254, 'time': 4.587176263522008, 'owner': 2, 'action': -2}, {'tau': 0.08735920962912758, 'time': 4.674535473151136, 'owner': 2, 'action': -1}, {'tau': 0.11049827628620612, 'time': 4.785033749437342, 'owner': 2, 'action': -2}, {'tau': 0.15558407357897064, 'time': 4.9406178230163125, 'owner': 2, 'action': -1}, {'tau': 0.22415436748188444, 'time': 5.164772190498197, 'owner': 2, 'action': -2}, {'tau': 0.16587659915696484, 'time': 5.330648789655162, 'owner': 2, 'action': -1}, {'tau': 0.08666838325703541, 'time': 5.417317172912197, 'owner': 2, 'action': -2}, {'tau': 0.04668426089787303, 'time': 5.46400143381007, 'owner': 2, 'action': -1}, {'tau': 0.09974370300686353, 'time': 5.563745136816934, 'owner': 2, 'action': -2}, {'tau': 0.04817856000387177, 'time': 5.6119236968208055, 'owner': 2, 'action': -1}, {'tau': 0.10733444718119323, 'time': 5.719258144001999, 'owner': 2, 'action': -2}, {'tau': 0.029108649359452343, 'time': 5.748366793361451, 'owner': 2, 'action': -1}, {'tau': 0.3358284674052152, 'time': 6.084195260766666, 'owner': 2, 'action': -2}, {'tau': 0.015216912119114134, 'time': 6.09941217288578, 'owner': 2, 'action': -1}, {'tau': 0.04644847193898105, 'time': 6.1458606448247615, 'owner': 2, 'action': -2}, {'tau': 0.06938934859622314, 'time': 6.215249993420985, 'owner': 2, 'action': -1}, {'tau': 0.1176483311190637, 'time': 6.332898324540048, 'owner': 2, 'action': -2}, {'tau': 0.1469971211393215, 'time': 6.47989544567937, 'owner': 2, 'action': -1}, {'tau': 0.1790729350514786, 'time': 6.658968380730848, 'owner': 2, 'action': -2}, {'tau': 0.31236250651395814, 'time': 6.9713308872448065, 'owner': 2, 'action': -1}, {'tau': 0.18587358039287682, 'time': 7.157204467637683, 'owner': 2, 'action': -2}, {'tau': 0.08890556476174805, 'time': 7.246110032399431, 'owner': 2, 'action': -1}, {'tau': 0.2584907886785146, 'time': 7.504600821077946, 'owner': 2, 'action': -2}, {'tau': 0.057301278272535505, 'time': 7.5619020993504815, 'owner': 2, 'action': -1}, {'tau': 0.2036857646592729, 'time': 7.765587864009754, 'owner': 2, 'action': -2}, {'tau': 0.2075277562580471, 'time': 7.9731156202678015, 'owner': 2, 'action': -1}, {'tau': 0.12610862358531882, 'time': 8.09922424385312, 'owner': 2, 'action': -2}, {'tau': 0.02350415744806078, 'time': 8.122728401301181, 'owner': 2, 'action': -1}, {'tau': 0.15817782990542995, 'time': 8.280906231206611, 'owner': 2, 'action': -2}, {'tau': 0.09185855101859453, 'time': 8.372764782225206, 'owner': 2, 'action': -1}, {'tau': 0.11582264930052943, 'time': 8.488587431525735, 'owner': 2, 'action': -2}, {'tau': 0.09409978688395348, 'time': 8.582687218409689, 'owner': 2, 'action': -1}, {'tau': 0.05056535176453281, 'time': 8.633252570174221, 'owner': 2, 'action': -2}, {'tau': 0.05055233492604927, 'time': 8.68380490510027, 'owner': 2, 'action': -1}, {'tau': 0.03636395302461004, 'time': 8.72016885812488, 'owner': 2, 'action': -2}, {'tau': 0.039351167320429425, 'time': 8.75952002544531, 'owner': 2, 'action': -1}, {'tau': 0.04680281146823084, 'time': 8.806322836913541, 'owner': 2, 'action': -2}, {'tau': 0.184378178459907, 'time': 8.990701015373448, 'owner': 2, 'action': -1}, {'tau': 0.20658019392068283, 'time': 9.19728120929413, 'owner': 2, 'action': -2}, {'tau': 0.06247610824707195, 'time': 9.259757317541203, 'owner': 2, 'action': -1}, {'tau': 0.2891158547951722, 'time': 9.548873172336375, 'owner': 2, 'action': -2}, {'tau': 0.03448359203376761, 'time': 9.583356764370142, 'owner': 2, 'action': -1}, {'tau': 0.274463164622448, 'time': 9.85781992899259, 'owner': 2, 'action': -2}, {'tau': 0.02073028349797923, 'time': 9.87855021249057, 'owner': 2, 'action': -1}, {'tau': 0.06212233888298613, 'time': 9.940672551373556, 'owner': 2, 'action': -2}, {'tau': 0.04984167769437242, 'time': 9.990514229067928, 'owner': 2, 'action': -1}, {'tau': 0.1743810155493133, 'time': 10.164895244617242, 'owner': 2, 'action': -2}, {'tau': 0.0960566377478056, 'time': 10.260951882365047, 'owner': 2, 'action': -1}, {'tau': 0.21806221813255888, 'time': 10.479014100497606, 'owner': 2, 'action': -2}, {'tau': 0.2921407312959907, 'time': 10.771154831793597, 'owner': 2, 'action': -1}, {'tau': 0.2479416950864497, 'time': 11.019096526880046, 'owner': 2, 'action': -2}, {'tau': 0.02428790851139162, 'time': 11.043384435391438, 'owner': 2, 'action': -1}, {'tau': 0.21621786744115568, 'time': 11.259602302832594, 'owner': 2, 'action': -2}, {'tau': 0.07717171147027635, 'time': 11.33677401430287, 'owner': 2, 'action': -1}, {'tau': 0.12909229242683473, 'time': 11.465866306729705, 'owner': 2, 'action': -2}, {'tau': 0.23469625391759763, 'time': 11.700562560647302, 'owner': 2, 'action': -1}, {'tau': 0.09745395841274451, 'time': 11.798016519060047, 'owner': 2, 'action': -2}, {'tau': 11.848772068721964, 'time': 11.848772068721964, 'owner': 2, 'action': -3}]\n",
      "tl3----\n",
      "[{'tau': 0.1577750405356454, 'time': 0.1577750405356454, 'owner': 3, 'action': -2}, {'tau': 0.0233676792780802, 'time': 0.1811427198137256, 'owner': 3, 'action': -1}, {'tau': 0.2735327742698528, 'time': 0.4546754940835784, 'owner': 3, 'action': -2}, {'tau': 0.18590641984811668, 'time': 0.6405819139316951, 'owner': 3, 'action': -1}, {'tau': 0.1824508024755488, 'time': 0.8230327164072438, 'owner': 3, 'action': -2}, {'tau': 0.5131172794245936, 'time': 1.3361499958318375, 'owner': 3, 'action': -1}, {'tau': 0.13601240847026363, 'time': 1.472162404302101, 'owner': 3, 'action': -2}, {'tau': 0.01935463797557735, 'time': 1.4915170422776785, 'owner': 3, 'action': -1}, {'tau': 0.21591126613964806, 'time': 1.7074283084173265, 'owner': 3, 'action': -2}, {'tau': 0.13942170161503853, 'time': 1.846850010032365, 'owner': 3, 'action': -1}, {'tau': 0.10751585962190657, 'time': 1.9543658696542716, 'owner': 3, 'action': -2}, {'tau': 0.08098058282075438, 'time': 2.035346452475026, 'owner': 3, 'action': -1}, {'tau': 0.11192019563188493, 'time': 2.147266648106911, 'owner': 3, 'action': -2}, {'tau': 0.2515664029858917, 'time': 2.3988330510928026, 'owner': 3, 'action': -1}, {'tau': 0.007147978572488611, 'time': 2.4059810296652913, 'owner': 3, 'action': -2}, {'tau': 0.1775175899951531, 'time': 2.5834986196604444, 'owner': 3, 'action': -1}, {'tau': 0.12936069557374275, 'time': 2.712859315234187, 'owner': 3, 'action': -2}, {'tau': 0.06596312050605713, 'time': 2.7788224357402442, 'owner': 3, 'action': -1}, {'tau': 0.008244840366784967, 'time': 2.787067276107029, 'owner': 3, 'action': -2}, {'tau': 0.1100255480905763, 'time': 2.8970928241976055, 'owner': 3, 'action': -1}, {'tau': 0.18295817073176135, 'time': 3.080050994929367, 'owner': 3, 'action': -2}, {'tau': 0.06530493042254282, 'time': 3.1453559253519097, 'owner': 3, 'action': -1}, {'tau': 0.20164708414033106, 'time': 3.3470030094922407, 'owner': 3, 'action': -2}, {'tau': 0.05505335289654312, 'time': 3.402056362388784, 'owner': 3, 'action': -1}, {'tau': 0.10091649355452859, 'time': 3.5029728559433124, 'owner': 3, 'action': -2}, {'tau': 0.34955948629761124, 'time': 3.8525323422409237, 'owner': 3, 'action': -1}, {'tau': 0.13131081117205845, 'time': 3.983843153412982, 'owner': 3, 'action': -2}, {'tau': 0.04309347291236687, 'time': 4.026936626325349, 'owner': 3, 'action': -1}, {'tau': 0.10715990108277396, 'time': 4.134096527408123, 'owner': 3, 'action': -2}, {'tau': 0.09071309077731016, 'time': 4.224809618185433, 'owner': 3, 'action': -1}, {'tau': 0.21142762711926277, 'time': 4.436237245304696, 'owner': 3, 'action': -2}, {'tau': 0.10846877296753021, 'time': 4.544706018272226, 'owner': 3, 'action': -1}, {'tau': 0.21474819710714588, 'time': 4.759454215379372, 'owner': 3, 'action': -2}, {'tau': 0.2641838962825336, 'time': 5.0236381116619055, 'owner': 3, 'action': -1}, {'tau': 0.03248238573396112, 'time': 5.056120497395867, 'owner': 3, 'action': -2}, {'tau': 0.09684425815734432, 'time': 5.152964755553211, 'owner': 3, 'action': -1}, {'tau': 0.14574876451997376, 'time': 5.298713520073185, 'owner': 3, 'action': -2}, {'tau': 0.11825196816493833, 'time': 5.416965488238123, 'owner': 3, 'action': -1}, {'tau': 0.14600241779573686, 'time': 5.56296790603386, 'owner': 3, 'action': -2}, {'tau': 0.19850526506786004, 'time': 5.76147317110172, 'owner': 3, 'action': -1}, {'tau': 0.17390719628292306, 'time': 5.935380367384643, 'owner': 3, 'action': -2}, {'tau': 0.07084568415373571, 'time': 6.006226051538379, 'owner': 3, 'action': -1}, {'tau': 0.021440385298812537, 'time': 6.027666436837191, 'owner': 3, 'action': -2}, {'tau': 0.1283052427749629, 'time': 6.155971679612154, 'owner': 3, 'action': -1}, {'tau': 0.2269764035942501, 'time': 6.382948083206404, 'owner': 3, 'action': -2}, {'tau': 0.12444850514024441, 'time': 6.507396588346649, 'owner': 3, 'action': -1}, {'tau': 0.19683043309709447, 'time': 6.704227021443743, 'owner': 3, 'action': -2}, {'tau': 0.16269211668410222, 'time': 6.866919138127845, 'owner': 3, 'action': -1}, {'tau': 0.14348469547053, 'time': 7.010403833598375, 'owner': 3, 'action': -2}, {'tau': 0.06857837367902331, 'time': 7.078982207277399, 'owner': 3, 'action': -1}, {'tau': 0.29819660378266377, 'time': 7.3771788110600625, 'owner': 3, 'action': -2}, {'tau': 0.04530455194252525, 'time': 7.422483363002588, 'owner': 3, 'action': -1}, {'tau': 0.05290555842085798, 'time': 7.475388921423446, 'owner': 3, 'action': -2}, {'tau': 0.052766150714880666, 'time': 7.528155072138326, 'owner': 3, 'action': -1}, {'tau': 0.16594365159121338, 'time': 7.69409872372954, 'owner': 3, 'action': -2}, {'tau': 0.07412110422977847, 'time': 7.768219827959318, 'owner': 3, 'action': -1}, {'tau': 0.09443156088008386, 'time': 7.862651388839402, 'owner': 3, 'action': -2}, {'tau': 0.052925429472590046, 'time': 7.915576818311992, 'owner': 3, 'action': -1}, {'tau': 0.20648833554431434, 'time': 8.122065153856306, 'owner': 3, 'action': -2}, {'tau': 0.03464962366170177, 'time': 8.156714777518008, 'owner': 3, 'action': -1}, {'tau': 0.13397252659741454, 'time': 8.290687304115423, 'owner': 3, 'action': -2}, {'tau': 0.1996278640042899, 'time': 8.490315168119713, 'owner': 3, 'action': -1}, {'tau': 0.2138672300267146, 'time': 8.704182398146427, 'owner': 3, 'action': -2}, {'tau': 0.15188323054166908, 'time': 8.856065628688096, 'owner': 3, 'action': -1}, {'tau': 0.40538828557378537, 'time': 9.261453914261882, 'owner': 3, 'action': -2}, {'tau': 0.14127813043191573, 'time': 9.402732044693797, 'owner': 3, 'action': -1}, {'tau': 0.07857206951133122, 'time': 9.481304114205129, 'owner': 3, 'action': -2}, {'tau': 0.009548919581177984, 'time': 9.490853033786307, 'owner': 3, 'action': -1}, {'tau': 0.16193536830818545, 'time': 9.652788402094492, 'owner': 3, 'action': -2}, {'tau': 0.05799236177021605, 'time': 9.710780763864708, 'owner': 3, 'action': -1}, {'tau': 0.06917505536749324, 'time': 9.779955819232201, 'owner': 3, 'action': -2}, {'tau': 0.3513981176405334, 'time': 10.131353936872735, 'owner': 3, 'action': -1}, {'tau': 0.09054631067324337, 'time': 10.221900247545978, 'owner': 3, 'action': -2}, {'tau': 0.2004908855045091, 'time': 10.422391133050487, 'owner': 3, 'action': -1}, {'tau': 0.11632342860399625, 'time': 10.538714561654484, 'owner': 3, 'action': -2}, {'tau': 0.09594090800868926, 'time': 10.634655469663173, 'owner': 3, 'action': -1}, {'tau': 0.0662803079859895, 'time': 10.700935777649162, 'owner': 3, 'action': -2}, {'tau': 0.15217738856685692, 'time': 10.85311316621602, 'owner': 3, 'action': -1}, {'tau': 0.2518283797759633, 'time': 11.104941545991982, 'owner': 3, 'action': -2}, {'tau': 0.11277789051573173, 'time': 11.217719436507714, 'owner': 3, 'action': -1}, {'tau': 0.25428904115181084, 'time': 11.472008477659525, 'owner': 3, 'action': -2}, {'tau': 0.072653841669581, 'time': 11.544662319329106, 'owner': 3, 'action': -1}, {'tau': 0.27364075463351156, 'time': 11.818303073962618, 'owner': 3, 'action': -2}]\n",
      "times0----\n",
      "[0, 0.04493971157698751, 0.12266605420432823, 0.24295549819098738, 0.3180058451737353, 0.6053929972628591, 0.6456672761964158, 0.8845614544170135, 1.0426203959264881, 1.0853556745041486, 1.3619392173207507, 1.7746020170693546, 2.0641225488573602, 2.1348117885144715, 2.4159564360645027, 2.586975485527137, 2.978680217743059, 3.1062860715787455, 3.2827073967090494, 3.7117300159848963, 3.743062905375416, 3.9947279313764, 4.031632004624349, 4.462767940455351, 4.6154678847647475, 4.652929651441601, 4.856140781557851, 4.912389845943172, 5.010350063837715, 5.261220923472108, 5.285685065595521, 5.3961295544354, 5.4798112254302795, 5.7487058711211985, 5.898244918768663, 6.140835309405271, 6.573036555810464, 6.97003878666183, 7.15623808454495, 7.434684314267575, 7.77727022023871, 7.990098902327019, 8.113649347794839, 8.317463568151473, 8.377037739361963, 8.492275515186833, 8.625147978268666, 8.71117212774418, 8.781489096822567, 8.939321550819272, 9.02397330436083, 9.069930043349789, 9.368584763256447, 9.568833087968345, 9.784677366286074, 9.932914563335657, 10.036440485436154, 10.084946965047278, 10.156379316191071, 10.364348840819288, 10.425822464212848, 10.646113111626683, 10.683267113238596, 10.814406399842198, 10.97970138346104, 11.23830074533671, 11.31440136546523, 11.449139346316418, 11.578257013593154, 11.584513297631302, 11.774733448263378, 11.916783216457393]\n",
      "times1----\n",
      "[0, 0.13539443502075804, 0.20767728415879108, 0.4387298373137948, 0.5051222225832827, 0.7039194847803578, 0.8303912772535423, 1.041083385697786, 1.195453013923477, 1.3391428768781446, 1.5103608334800158, 1.6428158454981392, 1.7682257001655504, 1.9681676146264333, 2.027255458658013, 2.1827906018138505, 2.229826912025683, 2.4589773148524454, 2.8373094380065256, 3.1243351386712805, 3.5435243316849303, 3.677212073059665, 3.755725096788669, 3.8006572406062404, 3.8968469626224, 4.00096855137781, 4.006456417634282, 4.204255678150698, 4.399647455056929, 4.600881186027324, 4.68560313701675, 4.858583550758278, 4.999724235620343, 5.064641251854705, 5.123011984641198, 5.5078789452865475, 5.572796162942677, 5.811465209559962, 5.933200161687091, 6.163587923192701, 6.242000141015587, 6.3827322934734925, 6.500918755868856, 6.668585000767797, 6.77027522006415, 7.061097364380851, 7.092941885451385, 7.160916349676255, 7.174528118472567, 7.376963140374091, 7.48848613089997, 7.699477450898128, 7.702446458882564, 7.867363085982956, 8.063318237067302, 8.186557954534628, 8.255782856053592, 8.52395222599379, 8.565209031456606, 8.635113667974052, 8.700991049668847, 8.948167218535408, 9.198602911124356, 9.417654870826668, 9.602326350166942, 9.77817098931756, 9.820046824874613, 10.17467167062959, 10.180242722572018, 10.305071136828476, 10.338081946332217, 10.476713182763394, 10.482603767653261, 10.760104280832408, 11.009559296224596, 11.211948974603933, 11.286423552857961, 11.598184425927279, 11.691588046237284, 11.836642331868072]\n",
      "times2----\n",
      "[0, 0.010190847431746891, 0.143687150008904, 0.28042365104481864, 0.5426347552036171, 0.8205060056381642, 0.9618067926761313, 1.1560245274706937, 1.4212128587896753, 1.430217280975377, 1.534167394564873, 1.7121029615351087, 2.1673314291480383, 2.4062638329115424, 2.472217112999456, 2.656344187842808, 2.6713207343757057, 2.81412319416539, 2.915600154417061, 3.3712657128133707, 3.81308371197107, 3.9963113980262186, 4.105111903880785, 4.220016176383686, 4.323632398701083, 4.587176263522008, 4.674535473151136, 4.785033749437342, 4.9406178230163125, 5.164772190498197, 5.330648789655162, 5.417317172912197, 5.46400143381007, 5.563745136816934, 5.6119236968208055, 5.719258144001999, 5.748366793361451, 6.084195260766666, 6.09941217288578, 6.1458606448247615, 6.215249993420985, 6.332898324540048, 6.47989544567937, 6.658968380730848, 6.9713308872448065, 7.157204467637683, 7.246110032399431, 7.504600821077946, 7.5619020993504815, 7.765587864009754, 7.9731156202678015, 8.09922424385312, 8.122728401301181, 8.280906231206611, 8.372764782225206, 8.488587431525735, 8.582687218409689, 8.633252570174221, 8.68380490510027, 8.72016885812488, 8.75952002544531, 8.806322836913541, 8.990701015373448, 9.19728120929413, 9.259757317541203, 9.548873172336375, 9.583356764370142, 9.85781992899259, 9.87855021249057, 9.940672551373556, 9.990514229067928, 10.164895244617242, 10.260951882365047, 10.479014100497606, 10.771154831793597, 11.019096526880046, 11.043384435391438, 11.259602302832594, 11.33677401430287, 11.465866306729705, 11.700562560647302, 11.798016519060047]\n",
      "times3----\n",
      "[0, 0.1577750405356454, 0.1811427198137256, 0.4546754940835784, 0.6405819139316951, 0.8230327164072438, 1.3361499958318375, 1.472162404302101, 1.4915170422776785, 1.7074283084173265, 1.846850010032365, 1.9543658696542716, 2.035346452475026, 2.147266648106911, 2.3988330510928026, 2.4059810296652913, 2.5834986196604444, 2.712859315234187, 2.7788224357402442, 2.787067276107029, 2.8970928241976055, 3.080050994929367, 3.1453559253519097, 3.3470030094922407, 3.402056362388784, 3.5029728559433124, 3.8525323422409237, 3.983843153412982, 4.026936626325349, 4.134096527408123, 4.224809618185433, 4.436237245304696, 4.544706018272226, 4.759454215379372, 5.0236381116619055, 5.056120497395867, 5.152964755553211, 5.298713520073185, 5.416965488238123, 5.56296790603386, 5.76147317110172, 5.935380367384643, 6.006226051538379, 6.027666436837191, 6.155971679612154, 6.382948083206404, 6.507396588346649, 6.704227021443743, 6.866919138127845, 7.010403833598375, 7.078982207277399, 7.3771788110600625, 7.422483363002588, 7.475388921423446, 7.528155072138326, 7.69409872372954, 7.768219827959318, 7.862651388839402, 7.915576818311992, 8.122065153856306, 8.156714777518008, 8.290687304115423, 8.490315168119713, 8.704182398146427, 8.856065628688096, 9.261453914261882, 9.402732044693797, 9.481304114205129, 9.490853033786307, 9.652788402094492, 9.710780763864708, 9.779955819232201, 10.131353936872735, 10.221900247545978, 10.422391133050487, 10.538714561654484, 10.634655469663173, 10.700935777649162, 10.85311316621602, 11.104941545991982, 11.217719436507714, 11.472008477659525, 11.544662319329106, 11.818303073962618]\n"
     ]
    }
   ],
   "source": [
    "d={}\n",
    "\n",
    "\n",
    "for i in range(nodes):\n",
    "    d[\"tl{0}\".format(i)]=[]\n",
    "for j in range(len(timeline)):\n",
    "    #for i in range(nodes):\n",
    "     #   if timeline[j]['owner']==i:\n",
    "    d[\"tl{0}\".format(timeline[j]['owner'])].append(timeline[j])\n",
    "    \n",
    "\n",
    "print(\"tl0----\")\n",
    "print(d[\"tl0\"])\n",
    "print(\"tl1----\")\n",
    "print(d[\"tl1\"])\n",
    "print(\"tl2----\")\n",
    "print(d[\"tl2\"])\n",
    "print(\"tl3----\")\n",
    "print(d[\"tl3\"])  \n",
    "\n",
    "for i in range(nodes):\n",
    "    tl=d[\"tl{0}\".format(i)]\n",
    "    l=len(tl)\n",
    "    ta=[0]\n",
    "    fem=[]\n",
    "    for j in range(l):\n",
    "        if tl[j]['action']!=-3: #female visit taus don't mean anything for the male bc she isn't necessarily coming back to the same male\n",
    "            ta.append(tl[j]['time'])\n",
    "        else:\n",
    "            fem.append(tl[j]['time'])\n",
    "    d[\"times{0}\".format(i)]=ta\n",
    "    d[\"fvtimes{0}\".format(i)]=fem\n",
    "\n",
    "print(\"times0----\")\n",
    "print(d[\"times0\"])\n",
    "print(\"times1----\")\n",
    "print(d[\"times1\"])\n",
    "print(\"times2----\")\n",
    "print(d[\"times2\"])\n",
    "print(\"times3----\")\n",
    "print(d[\"times3\"]) \n",
    "\n",
    "#append tmax - sumoftaus to each list (so it reaches tmax exactly)\n",
    "for i in range(nodes):\n",
    "    d[\"times{0}\".format(i)].append(t_max)\n",
    "\n",
    "\n",
    "import csv\n",
    "timess=[d[\"times0\"],d[\"times1\"],d[\"times2\"],d[\"times3\"]]\n",
    "csvfile = \"example_times2\"\n",
    "with open(csvfile, \"w\") as output:\n",
    "    writer = csv.writer(output, lineterminator='\\n')\n",
    "    writer.writerows(timess)\n",
    "femtimess=[d[\"fvtimes0\"],d[\"fvtimes1\"],d[\"fvtimes2\"],d[\"fvtimes3\"]]\n",
    "csvfile = \"example_fvtimes\"\n",
    "with open(csvfile, \"w\") as output:\n",
    "    writer = csv.writer(output, lineterminator='\\n')\n",
    "    writer.writerows(femtimess)\n",
    "\n",
    "           \n",
    "    "
   ]
  },
  {
   "cell_type": "code",
   "execution_count": 6,
   "metadata": {},
   "outputs": [
    {
     "name": "stdout",
     "output_type": "stream",
     "text": [
      "Bird 0.000000's % time at bower is 0.549145\n",
      "Bird 1.000000's % time at bower is 0.633420\n",
      "Bird 2.000000's % time at bower is 0.566157\n",
      "Bird 3.000000's % time at bower is 0.541725\n",
      "taus0----\n",
      "[0.04493971157698751, 0.07772634262734072, 0.12028944398665915, 0.07505034698274793, 0.2873871520891238, 0.04027427893355673, 0.23889417822059766, 0.15805894150947464, 0.04273527857766046, 0.27658354281660213, 0.41266279974860387, 0.28952053178800563, 0.07068923965711127, 0.2811446475500312, 0.17101904946263424, 0.39170473221592195, 0.12760585383568657, 0.17642132513030395, 0.42902261927584684, 0.031332889390519814, 0.25166502600098406, 0.036904073247948865, 0.4311359358310023, 0.15269994430939615, 0.03746176667685397, 0.2032111301162498, 0.0562490643853204, 0.09796021789454379, 0.25087085963439293, 0.024464142123412635, 0.11044448883987901, 0.08368167099487955, 0.2688946456909189, 0.1495390476474645, 0.24259039063660826, 0.4322012464051932, 0.3970022308513652, 0.18619929788312017, 0.27844622972262556, 0.34258590597113425, 0.2128286820883094, 0.12355044546781979, 0.20381422035663377, 0.05957417121049069, 0.11523777582486971, 0.1328724630818332, 0.08602414947551296, 0.07031696907838736, 0.15783245399670598, 0.08465175354155718, 0.045956738988959245, 0.2986547199066578, 0.20024832471189846, 0.21584427831772857, 0.1482371970495837, 0.10352592210049671, 0.048506479611123865, 0.07143235114379287, 0.20796952462821672, 0.06147362339356022, 0.22029064741383486, 0.0371540016119134, 0.1311392866036023, 0.16529498361884087, 0.258599361875671, 0.07610062012851948, 0.13473798085118815, 0.12911766727673601, 0.006256284038148152, 0.19022015063207576, 0.14204976819401516]\n",
      "11.916783216457393\n",
      "taus1----\n",
      "[0.13539443502075804, 0.07228284913803304, 0.2310525531550037, 0.06639238526948787, 0.19879726219707516, 0.12647179247318452, 0.21069210844424358, 0.154369628225691, 0.14368986295466768, 0.17121795660187122, 0.13245501201812337, 0.12540985466741117, 0.19994191446088294, 0.05908784403157985, 0.15553514315583739, 0.04703631021183252, 0.22915040282676236, 0.37833212315408016, 0.28702570066475497, 0.41918919301364976, 0.1336877413747346, 0.07851302372900415, 0.04493214381757138, 0.0961897220161596, 0.10412158875541033, 0.005487866256471463, 0.19779926051641628, 0.19539177690623077, 0.20123373097039554, 0.08472195098942592, 0.17298041374152806, 0.14114068486206488, 0.06491701623436175, 0.05837073278649285, 0.38486696064534964, 0.0649172176561299, 0.23866904661728494, 0.12173495212712826, 0.23038776150561002, 0.0784122178228861, 0.1407321524579057, 0.11818646239536346, 0.16766624489894077, 0.10169021929635313, 0.29082214431670117, 0.031844521070533816, 0.06797446422487052, 0.013611768796311985, 0.20243502190152363, 0.111522990525879, 0.21099131999815768, 0.0029690079844364448, 0.1649166271003919, 0.19595515108434558, 0.12323971746732632, 0.06922490151896454, 0.2681693699401979, 0.041256805462815294, 0.06990463651744605, 0.06587738169479529, 0.24717616886656124, 0.2504356925889475, 0.21905195970231262, 0.18467147934027395, 0.17584463915061832, 0.0418758355570521, 0.35462484575497655, 0.005571051942428795, 0.12482841425645752, 0.033010809503741356, 0.13863123643117703, 0.0058905848898671564, 0.27750051317914703, 0.24945501539218817, 0.20238967837933686, 0.07447457825402815, 0.31176087306931777, 0.0934036203100046, 0.14505428563078837]\n",
      "11.836642331868072\n",
      "taus2----\n",
      "[0.010190847431746891, 0.1334963025771571, 0.13673650103591464, 0.2622111041587985, 0.2778712504345471, 0.1413007870379671, 0.1942177347945624, 0.26518833131898156, 0.009004422185701744, 0.10395011358949602, 0.1779355669702356, 0.4552284676129297, 0.2389324037635041, 0.06595328008791368, 0.18412707484335167, 0.014976546532897927, 0.1428024597896842, 0.10147696025167097, 0.45566555839630984, 0.44181799915769915, 0.18322768605514872, 0.10880050585456669, 0.11490427250290036, 0.10361622231739709, 0.2635438648209254, 0.08735920962912758, 0.11049827628620612, 0.15558407357897064, 0.22415436748188444, 0.16587659915696484, 0.08666838325703541, 0.04668426089787303, 0.09974370300686353, 0.04817856000387177, 0.10733444718119323, 0.029108649359452343, 0.3358284674052152, 0.015216912119114134, 0.04644847193898105, 0.06938934859622314, 0.1176483311190637, 0.1469971211393215, 0.1790729350514786, 0.31236250651395814, 0.18587358039287682, 0.08890556476174805, 0.2584907886785146, 0.057301278272535505, 0.2036857646592729, 0.2075277562580471, 0.12610862358531882, 0.02350415744806078, 0.15817782990542995, 0.09185855101859453, 0.11582264930052943, 0.09409978688395348, 0.05056535176453281, 0.05055233492604927, 0.03636395302461004, 0.039351167320429425, 0.04680281146823084, 0.184378178459907, 0.20658019392068283, 0.06247610824707195, 0.2891158547951722, 0.03448359203376761, 0.274463164622448, 0.02073028349797923, 0.06212233888298613, 0.04984167769437242, 0.1743810155493133, 0.0960566377478056, 0.21806221813255888, 0.2921407312959907, 0.2479416950864497, 0.02428790851139162, 0.21621786744115568, 0.07717171147027635, 0.12909229242683473, 0.23469625391759763, 0.09745395841274451, 0]\n",
      "11.798016519060047\n",
      "taus3----\n",
      "[0.1577750405356454, 0.0233676792780802, 0.2735327742698528, 0.18590641984811668, 0.1824508024755488, 0.5131172794245936, 0.13601240847026363, 0.01935463797557735, 0.21591126613964806, 0.13942170161503853, 0.10751585962190657, 0.08098058282075438, 0.11192019563188493, 0.2515664029858917, 0.007147978572488611, 0.1775175899951531, 0.12936069557374275, 0.06596312050605713, 0.008244840366784967, 0.1100255480905763, 0.18295817073176135, 0.06530493042254282, 0.20164708414033106, 0.05505335289654312, 0.10091649355452859, 0.34955948629761124, 0.13131081117205845, 0.04309347291236687, 0.10715990108277396, 0.09071309077731016, 0.21142762711926277, 0.10846877296753021, 0.21474819710714588, 0.2641838962825336, 0.03248238573396112, 0.09684425815734432, 0.14574876451997376, 0.11825196816493833, 0.14600241779573686, 0.19850526506786004, 0.17390719628292306, 0.07084568415373571, 0.021440385298812537, 0.1283052427749629, 0.2269764035942501, 0.12444850514024441, 0.19683043309709447, 0.16269211668410222, 0.14348469547053, 0.06857837367902331, 0.29819660378266377, 0.04530455194252525, 0.05290555842085798, 0.052766150714880666, 0.16594365159121338, 0.07412110422977847, 0.09443156088008386, 0.052925429472590046, 0.20648833554431434, 0.03464962366170177, 0.13397252659741454, 0.1996278640042899, 0.2138672300267146, 0.15188323054166908, 0.40538828557378537, 0.14127813043191573, 0.07857206951133122, 0.009548919581177984, 0.16193536830818545, 0.05799236177021605, 0.06917505536749324, 0.3513981176405334, 0.09054631067324337, 0.2004908855045091, 0.11632342860399625, 0.09594090800868926, 0.0662803079859895, 0.15217738856685692, 0.2518283797759633, 0.11277789051573173, 0.25428904115181084, 0.072653841669581, 0.27364075463351156]\n",
      "11.818303073962618\n",
      "12.0\n",
      "12.0\n",
      "12.0\n",
      "12.0\n"
     ]
    }
   ],
   "source": [
    "for i in range(nodes):\n",
    "    tl=d[\"tl{0}\".format(i)]\n",
    "    l=len(tl)\n",
    "    ta=[0]*l\n",
    "    accSB=0\n",
    "    accFG=0\n",
    "    for j in range(l):\n",
    "        if tl[j]['action']!=-3: #female visit taus don't mean anything for the male bc she isn't necessarily coming back to the same male\n",
    "            ta[j]=tl[j]['tau']\n",
    "            if tl[j]['action']==-1:\n",
    "                accSB=accSB+tl[j]['tau']\n",
    "            else:\n",
    "                accFG=accFG+tl[j]['tau']\n",
    "    d[\"taus{0}\".format(i)]=ta\n",
    "    print(\"Bird {:f}'s % time at bower is {:f}\".format(i, accFG/12)) ##VERY ODD -- could it be that FG/SB are switched\n",
    "\n",
    "print(\"taus0----\")\n",
    "print(d[\"taus0\"])\n",
    "print(sum(d[\"taus0\"]))\n",
    "print(\"taus1----\")\n",
    "print(d[\"taus1\"])\n",
    "print(sum(d[\"taus1\"]))\n",
    "print(\"taus2----\")\n",
    "print(d[\"taus2\"])\n",
    "print(sum(d[\"taus2\"]))\n",
    "print(\"taus3----\")\n",
    "print(d[\"taus3\"]) \n",
    "print(sum(d[\"taus3\"]))\n",
    "\n",
    "\n",
    "#append tmax - sumoftaus to each list (so it reaches tmax exactly)\n",
    "for i in range(nodes):\n",
    "    d[\"taus{0}\".format(i)].append(t_max-sum(d[\"taus{0}\".format(i)]))\n",
    "\n",
    "    \n",
    "print(sum(d[\"taus0\"]))\n",
    "print(sum(d[\"taus1\"]))\n",
    "print(sum(d[\"taus2\"]))\n",
    "print(sum(d[\"taus3\"]))  "
   ]
  },
  {
   "cell_type": "code",
   "execution_count": 7,
   "metadata": {},
   "outputs": [
    {
     "name": "stdout",
     "output_type": "stream",
     "text": [
      "[[0.         0.36939806 0.26120387 0.36939806]\n",
      " [0.36939806 0.         0.36939806 0.26120387]\n",
      " [0.26120387 0.36939806 0.         0.36939806]\n",
      " [0.36939806 0.26120387 0.36939806 0.        ]]\n"
     ]
    }
   ],
   "source": [
    "#Create travel_time__linear_p (might use later)\n",
    "travel_times_linear_p=np.array([[0.0]*nodes]*nodes)\n",
    "for i in range(nodes):\n",
    "    for j in range(nodes):\n",
    "        if i==j: #if the row and the column index are the equal\n",
    "            travel_times[i][j]=0 #There is 0 probability they will travel to their own bower when choosing to fly to another bower\n",
    "        else: \n",
    "            if i==0: #if on the first row of the probability matrix\n",
    "                travel_times_linear_p[i][j]=travel_times[i][1]/travel_times[i][j] #skip the first element in the row (because it equals 0) and compare probabilities of other elements in the row based on travel distance (negative linear relationship btwn distance and prob)\n",
    "            else:\n",
    "                travel_times_linear_p[i][j]=travel_times[i][0]/travel_times[i][j] #use the first element in a row and compare probabilities of other elements in the row based on distance (negative linear relationship btwn distance and prob)\n",
    "    travel_times_linear_p[i]=travel_times_linear_p[i]/sum(travel_times_linear_p[i]) #normalize the probabilities so they add up to 1\n",
    "print(travel_times_linear_p)\n",
    "\n"
   ]
  },
  {
   "cell_type": "code",
   "execution_count": 8,
   "metadata": {},
   "outputs": [
    {
     "name": "stdout",
     "output_type": "stream",
     "text": [
      "[0, 0, 0, 0]\n"
     ]
    }
   ],
   "source": [
    "print(fitness_states)"
   ]
  },
  {
   "cell_type": "code",
   "execution_count": 9,
   "metadata": {},
   "outputs": [
    {
     "data": {
      "text/plain": [
       "0.12780963066985235"
      ]
     },
     "execution_count": 9,
     "metadata": {},
     "output_type": "execute_result"
    }
   ],
   "source": [
    "ts=[0]*100\n",
    "for i in range(100):\n",
    "    ts[i]=np.random.gamma(shape=1.5, scale=5, size=1)[0]/60 #FG\n",
    "np.mean(ts)"
   ]
  },
  {
   "cell_type": "code",
   "execution_count": 10,
   "metadata": {},
   "outputs": [
    {
     "data": {
      "text/plain": [
       "0.1644371156918697"
      ]
     },
     "execution_count": 10,
     "metadata": {},
     "output_type": "execute_result"
    }
   ],
   "source": [
    "np.mean(np.random.normal(loc=.1583, scale=.09755, size=100)) #SB"
   ]
  },
  {
   "cell_type": "code",
   "execution_count": 11,
   "metadata": {},
   "outputs": [
    {
     "data": {
      "text/plain": [
       "0.12956673344188968"
      ]
     },
     "execution_count": 11,
     "metadata": {},
     "output_type": "execute_result"
    }
   ],
   "source": [
    "ts=[0]*100\n",
    "for i in range(100):\n",
    "    ts[i]=nexttau(-2)\n",
    "np.mean(ts)"
   ]
  },
  {
   "cell_type": "code",
   "execution_count": null,
   "metadata": {},
   "outputs": [],
   "source": []
  }
 ],
 "metadata": {
  "kernelspec": {
   "display_name": "Python 3",
   "language": "python",
   "name": "python3"
  },
  "language_info": {
   "codemirror_mode": {
    "name": "ipython",
    "version": 3
   },
   "file_extension": ".py",
   "mimetype": "text/x-python",
   "name": "python",
   "nbconvert_exporter": "python",
   "pygments_lexer": "ipython3",
   "version": "3.6.5"
  }
 },
 "nbformat": 4,
 "nbformat_minor": 2
}
