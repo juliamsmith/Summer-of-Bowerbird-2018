{
 "cells": [
  {
   "cell_type": "markdown",
   "metadata": {},
   "source": [
    "# Bowerbird Agents Model\n",
    "\n",
    "## Rachel and Julia \n",
    "Key\n",
    "Notes- Parameters contain underscores, while functions don't\n",
    "\n",
    "SB: Stay at bower\n",
    "\n",
    "FG: Foraging\n",
    "\n",
    "MT: Maraud travel (travel to rival's bower)\n",
    "\n",
    "MA: Maraud action (destroy bower if absent, have antagonistic interaction in present)\n",
    "\n",
    "MR: Maraud return (return to own bower)\n",
    "\n",
    "RB: Repair own bower\n",
    "\n",
    "a=-1: denotes a staying at bower action on ticket\n",
    "\n",
    "a=-2: denotes a foraging action on ticket\n",
    "\n",
    "a=-3: denotes a female visiting action on a ticket\n",
    "\n",
    "a=-4: denotes travel to another male's bower\n",
    "\n",
    "a=-5: denotes marauding of another male's bower\n",
    "\n",
    "a=-6: denotes returning from another male's bower\n",
    "\n",
    "a=-7: denotes a bower repair action on a ticket\n",
    "\n",
    "target: the male an action is preformed on. For maurading, the target is the bird under potential attack. For mating, target is male being mated with. For other activities other then maurading and mating, owner and target are the same.\n",
    "\n",
    "owner: The male or female actively performing an action. For mating, the female is the owner. For all other activities, the owner is male.\n",
    "\n",
    "networkwriter: generates network where everybird is connected\n",
    "\n",
    "addtotimeline: adds tickets to timeline\n",
    "\n",
    "travel_times_linear_p: generates a matrix that contains the probabilities of travelling to a given a bower \n",
    "if the relationship between distance and travel preference is linear\n",
    "\n",
    "improb: The probability of traveling improb_distance or less\n",
    "\n",
    "improb_distance: The distance at which there is only a (1-improb)% chance of choosing to travel\n",
    "\n",
    "lamb: lambda calculated by solving improb=1-numpy.exp(-lamb*improb_distance)\n",
    "\n",
    "bower_states: options are 1 (bower intact) and 0 (bower destroyed-will never be the case when all guarders) and another value for time that mating will end (assuming mating is happening)\n",
    "\n",
    "male_states: options are [leave_time] (male present at bower) and 0 (male absent from bower) NOTE: Want to update male_states to include targ for the purposes of modifying tickets due to female visits (when we introduce them).\n",
    "\n",
    "fitness_states: keeps track of number of matings a given male has had\n",
    "\n",
    "strategy_states: Given the option of SB and MT, will choose MT strategy_states proportion of the time\n",
    "\n",
    "males: total number of male bowerbirds in the network\n",
    "\n",
    "male_dist: the males by males matrix with distances between each male\n",
    "\n",
    "tau: Length of time an activity takes. If a foraging ticket has a tau of 0.5 and occurs at t=1, then the bird is foraging for 30 minutes, at which point a SB activity will start (at t=1.5).\n",
    "\n",
    "t_court: the amount of time it takes a female to court+mate with a male, generated from a normal distribution\n",
    "not_maraud_time: the time added to SB by guarders\n",
    "\n",
    "t_max: the maximum time \n",
    "\n",
    "FperM: the number of sexualy mature females per sexually mature male\n",
    "\n",
    "timeline: A sorted dictionary containing tickets with times, taus, actions, owners, and target. It's sorted by time, and secondarily by owner (if the times on the tickets are identical)\n"
   ]
  },
  {
   "cell_type": "markdown",
   "metadata": {},
   "source": [
    "\n",
    "\n",
    "\n",
    "Note to self: think of female visit tickets as female travel tickets\n",
    "The time on the ticket represents the time at which the female arrives at the male's bower (finishes traveling to it)"
   ]
  },
  {
   "cell_type": "code",
   "execution_count": 1,
   "metadata": {},
   "outputs": [],
   "source": [
    "import math\n",
    "from sortedcontainers import SortedDict\n",
    "import random\n",
    "import numpy \n",
    "import matplotlib.pyplot as plt\n",
    "from scipy.stats import truncnorm"
   ]
  },
  {
   "cell_type": "code",
   "execution_count": 2,
   "metadata": {},
   "outputs": [],
   "source": [
    "# Global Parameters:\n",
    "males = 4\n",
    "t_max = 12 #2 months in hrs (assume no nights so 12 hr = 1 day)\n",
    "timeline = SortedDict() #New and improved timeline (using a sorted dictionary)!\n",
    "\n",
    "FV_param = [0, t_max] #5days, tmax/3 #0.2 #males/0.19 #totally random\n",
    "\n",
    "FG_k=1.5 #the shape of the gamma distribution rv used to generate FG taus\n",
    "FG_theta=5 #the scale of the gamma distribution rv used to generate FG taus\n",
    "FG_divisor=60\n",
    "\n",
    "SB_param = 1.5 #larger values lead to bowerstay ending earlier, because taus are smaller\n",
    "\n",
    "RB_param = 6 #made up -- takes 30mins (every time -- no distribution) to repair bower\n",
    "\n",
    "MA_param = 0.1 #made up -- takes 6mins (every time -- no distribution) to maraud bower\n",
    "\n",
    "#taus for in-between next_forages\n",
    "FG_tau_mean, FG_tau_std = .4, .167 #mean and sd of truncated normal distribution rv to find a male's time until next FG\n",
    "FG_tau_range = [0, 1] #maximum and minimum FG taus\n",
    "FG_tau_norm_range = [(FG_tau_range[0] - FG_tau_mean) / FG_tau_std, (FG_tau_range[1] - FG_tau_mean) / FG_tau_std] #normalized\n",
    "\n",
    "#taus for RB and SB\n",
    "RBSB_tau_mean, RBSB_tau_std = .1583, .09755 #mean and sd of truncated normal distribution rv to find a male's time until next FG\n",
    "RBSB_tau_range = [0,.5] #maximum and minimum FG taus\n",
    "RBSB_tau_norm_range = [(RBSB_tau_range[0] - RBSB_tau_mean) / RBSB_tau_std, (RBSB_tau_range[1] - RBSB_tau_mean) / RBSB_tau_std] #normalized\n",
    "\n",
    "next_forage = FG_tau_std * truncnorm.rvs(FG_tau_norm_range[0], FG_tau_norm_range[1], size=males) + FG_tau_mean\n",
    "bower_states = [0] * males\n",
    "male_states = [0] * males \n",
    "strategy_states=[.5]*males\n",
    "mating_states = [0] * males\n",
    "fitness_states = numpy.array([0] * males)\n",
    "success_rate = 1\n",
    "success_times = [] #going to change this to be a vector of times when the female leaves (at this point, sucessful mating has occured)\n",
    "recents_list = []\n",
    "max_visits = 6 #STEEEEVEEEE\n",
    "bird_speed = 12 * 3600 #m/hr (12m/s)\n",
    "x_dim, y_dim = 400, 500 #dimensions of environment\n",
    "FperM = 3 #number of sexually mature females per sexually mature males in a bowerbird population\n",
    "num_sims = 1\n",
    "not_maraud_time = 0.15\n",
    "\n",
    "d={} \n",
    "\n",
    "for i in range(males):\n",
    "    d[\"next_forages{0}\".format(i)]=[]\n",
    "    d[\"forage_times{0}\".format(i)]=[]"
   ]
  },
  {
   "cell_type": "code",
   "execution_count": 3,
   "metadata": {},
   "outputs": [],
   "source": [
    "def ticketgenerator(t, tau, ow, ac, targ):\n",
    "    ticket = {\n",
    "        'time': t, #time at which the activity starts\n",
    "        'tau': tau, #how long the activity lasts\n",
    "        'owner': ow, #who is doing the activity (could be a female if action=-3)\n",
    "        'action': ac, #which activity (see key)\n",
    "        'target': targ, #target of the activity (owner=target unless action=-3,-4,-5, or -6)\n",
    "    }\n",
    "    return ticket"
   ]
  },
  {
   "cell_type": "code",
   "execution_count": 4,
   "metadata": {},
   "outputs": [],
   "source": [
    "#Adds tickets to timeline- sorts by time\n",
    "def addtotimeline(ticket):\n",
    "    global timeline\n",
    "    timeline[(ticket[\"time\"], ticket[\"owner\"])] = ticket"
   ]
  },
  {
   "cell_type": "code",
   "execution_count": 5,
   "metadata": {},
   "outputs": [],
   "source": [
    "# creation of the environment\n",
    "\n",
    "def envgenerator(males, x_dim, y_dim):\n",
    "    Xs = numpy.random.rand(males) * x_dim\n",
    "    Ys = numpy.random.rand(males) * y_dim\n",
    "    return [Xs,Ys]\n",
    "\n",
    "def dists(xy, bird_speed):\n",
    "    male_dist = numpy.zeros(males * males).reshape((males, males))\n",
    "    travel_times = numpy.zeros(males * males).reshape((males, males))\n",
    "    for i in range(males):\n",
    "        for j in range(i + 1, males):\n",
    "            dist = math.sqrt((xy[0][j] - xy[0][i]) ** 2 + (xy[1][j] - xy[1][i]) ** 2)\n",
    "            travel = dist / bird_speed\n",
    "            male_dist[j][i] = dist\n",
    "            male_dist[i][j] = dist\n",
    "            travel_times[j][i] = travel\n",
    "            travel_times[i][j] = travel\n",
    "    return [male_dist,travel_times]\n",
    "\n",
    "# the probability of choosing a neighbor at distance x is proportional to exp(-\\lambda x)\n",
    "# choose lambda such that 99% of the mass is before 800 meters\n",
    "improb = 0.99\n",
    "improb_distance = 800\n",
    "lamb = -math.log(1 - improb) / improb_distance\n",
    "\n",
    "#will write female preference based on cumulative exponential decay (lambda=.00576)\n",
    "def preferences(male_dist, males, lamb):\n",
    "    # compute exponential of each coefficient\n",
    "    visit_preferences = numpy.exp(-lamb * male_dist)\n",
    "    # remove the identity matrix (exp(0) = 1)\n",
    "    visit_preferences = visit_preferences - numpy.eye(males)\n",
    "    # make rows sum to one\n",
    "    visit_preferences = (visit_preferences.transpose() / numpy.sum(visit_preferences, 1)).transpose()\n",
    "    return visit_preferences"
   ]
  },
  {
   "cell_type": "code",
   "execution_count": 6,
   "metadata": {},
   "outputs": [],
   "source": [
    "# function for determining the next time based on our rate parameters\n",
    "def nexttau(action, ow, targ): \n",
    "    switcher = { \n",
    "        -1: RBSB_tau_std*truncnorm.rvs(RBSB_tau_norm_range[0], RBSB_tau_norm_range[1])+RBSB_tau_mean, #choose when to leave bower (generate a tau for bower stay)\n",
    "        -2: numpy.random.gamma(FG_k, FG_theta)/FG_divisor, #choose when to stop foraging (generate a tau for foraging)\n",
    "        -3: numpy.random.uniform(FV_param[0], FV_param[1]), #FV_param... totally arbitrary so we should think about it\n",
    "        -4: travel_times[ow][targ],\n",
    "        -5: MA_param, #in the future we'll do something with it\n",
    "        -6: travel_times[targ][ow],\n",
    "        -7: RBSB_tau_std*truncnorm.rvs(RBSB_tau_norm_range[0], RBSB_tau_norm_range[1])+RBSB_tau_mean,\n",
    "    }\n",
    "    new_tau=switcher.get(action)\n",
    "    return new_tau\n",
    "\n",
    "def futurebuilder(old_tic, new_ac, new_targ): #returns new ticket after ensuring it doesn't exceed t_max\n",
    "    old_t=old_tic['time']\n",
    "    new_tic={}\n",
    "    if math.isclose(old_t, t_max, rel_tol=0, abs_tol=.0000001)==0: #if old_t is not essentially t_max\n",
    "        ow=old_tic['owner']\n",
    "        new_tau=nexttau(new_ac, ow, new_targ)\n",
    "        end_t=old_t+new_tau #this time is the time when the action has ended\n",
    "        if end_t>t_max: \n",
    "            new_tau=new_tau-(end_t-t_max) #modify the new_tau so end_t will be t_max\n",
    "            end_t=old_t+new_tau #recalculate end_t\n",
    "        new_tic=ticketgenerator(end_t, new_tau, ow, new_ac, new_targ) #now the time represents the end time for the action\n",
    "    return new_tic\n"
   ]
  },
  {
   "cell_type": "code",
   "execution_count": 7,
   "metadata": {},
   "outputs": [],
   "source": [
    "\n",
    "def statechanger(new_tic): #calls functions to change states of males i.e. for bower destruction, absence from bower\n",
    "    ac=new_tic['action']\n",
    "    if ac==-2 or ac==-4: #forage or maraud travel \n",
    "        male_states[new_tic['owner']]=0 #male_states of the ticket's owner is updated to show absence from bower\n",
    "    elif ac==-1: #stay at bower\n",
    "        male_states[new_tic['owner']]=new_tic['time'] #male_states of the ticket's owner becomes the time at which the male will leave the bower\n",
    "    elif ac==-5: #maraud action\n",
    "        targ=new_tic['target']\n",
    "        if bower_states[targ]==0 and male_states[targ]==0:\n",
    "            bower_states[targ]=-1*RB_param\n",
    "    elif ac==-7: #repair bower\n",
    "        ow=new_tic['owner']\n",
    "        tau=new_tic['tau']\n",
    "        if bower_states[ow]+tau>0:\n",
    "            new_tic['time']-=bower_states[ow]+tau #think about it more in the AM :)\n",
    "            tau=-1*bower_states[ow]\n",
    "            new_tic['tau']=tau\n",
    "        bower_states[ow]+=tau\n",
    "        male_states[ow]=new_tic['time'] #although it doesn't matter from an FV POV\n",
    "    elif ac==-3:\n",
    "        FVstatechanger(new_tic)\n",
    "    else:\n",
    "        pass\n",
    "\n",
    "    \n",
    "def FVstatechanger(new_tic): #here the t is the start time... idea for future: female start and end tics?\n",
    "    targ=new_tic['target']\n",
    "    t=new_tic['time']\n",
    "    SB_time=male_states[targ]\n",
    "    if bower_states[targ]==0 and SB_time!=0 and mating_states[targ]<t:\n",
    "        fitness_states[targ]+=1\n",
    "        mating_end=.25+t #can use dist instead of .25\n",
    "        if t>SB_time:\n",
    "            #print(\"t is less than mating end\")\n",
    "            old_tau=timeline[(SB_time, targ)]['tau'] #access the tau of the SB_tic -- we will use it to make a new one\n",
    "            timeline[(SB_time, targ)]['action']=1 #nullify currently scheduled SB_tic\n",
    "            #now make a new SB_tic with modified tau and time (so that male leaves right after finishing mating)\n",
    "            truncator=0\n",
    "            if mating_end>t_max:\n",
    "                truncator=mating_end-t_max  \n",
    "            SB_tau=old_tau+(mating_end-SB_time)-truncator\n",
    "            SB_time=mating_end-truncator\n",
    "            SB_tic=ticketgenerator(SB_time, SB_tau, targ, -1, targ)\n",
    "            addtotimeline(SB_tic)\n",
    "        mating_states[targ]=mating_end\n",
    "        male_states[targ]=SB_time\n",
    "\n",
    "\n",
    "#choose what action / sequence of actions to do next\n",
    "def decider(tic):\n",
    "    ow = tic['owner']\n",
    "    ac = tic['action'] \n",
    "    t = tic['time']\n",
    "    targ=ow #will be reset in the case of -4\n",
    "    if t>next_forage[ow]:\n",
    "        d[\"forage_times{0}\".format(ow)].append(t)\n",
    "        #print(\"t is greater than next_FG[{:f}]: t={:f}, next_FG={:f}\".format(ow, t, next_forage[ow]))\n",
    "        new_ac=-2 #forage\n",
    "        d[\"next_forages{0}\".format(ow)].append(next_forage[ow])\n",
    "        next_forage[ow] = t+FG_tau_std*truncnorm.rvs(FG_tau_norm_range[0], FG_tau_norm_range[1])+FG_tau_mean #forage 30 times / day on average (but underestimates)\n",
    "    elif bower_states[ow]<0:\n",
    "        new_ac=-7 #repair bower\n",
    "    else:\n",
    "        if random.random()<strategy_states[ow]: #if male chooses to maraud \n",
    "            targ=numpy.random.choice(list(range(males)), p=visit_preferences[ow])\n",
    "            new_ac=-4 #maurad travel\n",
    "        else: #if male chooses to stay at bower\n",
    "            new_ac=-1 #stay at bower\n",
    "    new_tic=futurebuilder(tic, new_ac, targ) #ONE IDEA -- separate ticket generation and adding to timeline\n",
    "    return new_tic\n",
    "   "
   ]
  },
  {
   "cell_type": "code",
   "execution_count": 8,
   "metadata": {},
   "outputs": [],
   "source": [
    "xy = envgenerator(males, x_dim, y_dim)\n",
    "\n",
    "travel_mats=dists(xy, bird_speed)\n",
    "male_dist=travel_mats[0]\n",
    "travel_times=travel_mats[1]\n",
    "\n",
    "visit_preferences=preferences(male_dist, males, lamb)"
   ]
  },
  {
   "cell_type": "code",
   "execution_count": 9,
   "metadata": {},
   "outputs": [
    {
     "name": "stdout",
     "output_type": "stream",
     "text": [
      "SortedDict({(0.0, 0): {'time': 0.0, 'tau': 0.0, 'owner': 0, 'action': -2, 'target': 0}, (0.0, 1): {'time': 0.0, 'tau': 0.0, 'owner': 1, 'action': -2, 'target': 1}, (0.0, 2): {'time': 0.0, 'tau': 0.0, 'owner': 2, 'action': -2, 'target': 2}, (0.0, 3): {'time': 0.0, 'tau': 0.0, 'owner': 3, 'action': -2, 'target': 3}})\n"
     ]
    }
   ],
   "source": [
    "for i in range(males):\n",
    "    addtotimeline(ticketgenerator(0.0, 0.0, i, -2, i))\n",
    "\n",
    "\n",
    "print(timeline)"
   ]
  },
  {
   "cell_type": "code",
   "execution_count": 10,
   "metadata": {},
   "outputs": [
    {
     "name": "stdout",
     "output_type": "stream",
     "text": [
      "done (for some owner)!\n",
      "done (for some owner)!\n",
      "done (for some owner)!\n",
      "done (for some owner)!\n"
     ]
    }
   ],
   "source": [
    "for key in timeline:\n",
    "    tic=timeline[key]\n",
    "    ac=tic['action']\n",
    "    ow=tic['owner']\n",
    "    targ=tic['target']\n",
    "    if ac==-4 or ac==-5:\n",
    "        #generate a -5 or -6 tic as new_tic and pass it in\n",
    "        new_tic=futurebuilder(tic, ac-1, targ)\n",
    "    #elif ac==-3:\n",
    "    #    #d[\"rl{0}\".format(ow)]=FVtickethandler(next_tic, d[\"rl{0}\".format(ow)])\n",
    "    #    new_tic=FVtickethandler()\n",
    "    else:\n",
    "        new_tic=decider(tic)\n",
    "    if new_tic=={}:\n",
    "        print(\"done (for some owner)!\")\n",
    "    else:\n",
    "        statechanger(new_tic)\n",
    "        addtotimeline(new_tic)\n"
   ]
  },
  {
   "cell_type": "code",
   "execution_count": 11,
   "metadata": {},
   "outputs": [
    {
     "name": "stdout",
     "output_type": "stream",
     "text": [
      "SortedDict({(0.0, 0): {'time': 0.0, 'tau': 0.0, 'owner': 0, 'action': -2, 'target': 0}, (0.0, 1): {'time': 0.0, 'tau': 0.0, 'owner': 1, 'action': -2, 'target': 1}, (0.0, 2): {'time': 0.0, 'tau': 0.0, 'owner': 2, 'action': -2, 'target': 2}, (0.0, 3): {'time': 0.0, 'tau': 0.0, 'owner': 3, 'action': -2, 'target': 3}, (0.12679155234972023, 3): {'time': 0.12679155234972023, 'tau': 0.12679155234972023, 'owner': 3, 'action': -1, 'target': 3}, (0.1305984282947731, 3): {'time': 0.1305984282947731, 'tau': 0.003806875945052887, 'owner': 3, 'action': -4, 'target': 0}, (0.1393327697315707, 0): {'time': 0.1393327697315707, 'tau': 0.1393327697315707, 'owner': 0, 'action': -1, 'target': 0}, (0.22770754236145854, 2): {'time': 0.22770754236145854, 'tau': 0.22770754236145854, 'owner': 2, 'action': -1, 'target': 2}, (0.22788589892002126, 0): {'time': 0.22788589892002126, 'tau': 0.08855312918845057, 'owner': 0, 'action': -1, 'target': 0}, (0.23059842829477312, 3): {'time': 0.23059842829477312, 'tau': 0.1, 'owner': 3, 'action': -5, 'target': 0}, (0.23142740747369342, 2): {'time': 0.23142740747369342, 'tau': 0.0037198651122348904, 'owner': 2, 'action': -4, 'target': 1}, (0.234405304239826, 3): {'time': 0.234405304239826, 'tau': 0.003806875945052887, 'owner': 3, 'action': -6, 'target': 0}, (0.24549972077776788, 1): {'time': 0.24549972077776788, 'tau': 0.24549972077776788, 'owner': 1, 'action': -1, 'target': 1}, (0.2871981268612961, 3): {'time': 0.2871981268612961, 'tau': 0.052792822621470066, 'owner': 3, 'action': -2, 'target': 3}, (0.3314274074736934, 2): {'time': 0.3314274074736934, 'tau': 0.1, 'owner': 2, 'action': -5, 'target': 1}, (0.3351472725859283, 2): {'time': 0.3351472725859283, 'tau': 0.0037198651122348904, 'owner': 2, 'action': -6, 'target': 1}, (0.3388671376981632, 2): {'time': 0.3388671376981632, 'tau': 0.0037198651122348904, 'owner': 2, 'action': -4, 'target': 1}, (0.3977601271979353, 0): {'time': 0.3977601271979353, 'tau': 0.16987422827791404, 'owner': 0, 'action': -1, 'target': 0}, (0.4022203251322611, 0): {'time': 0.4022203251322611, 'tau': 0.004460197934325806, 'owner': 0, 'action': -4, 'target': 1}, (0.41582504742985726, 1): {'time': 0.41582504742985726, 'tau': 0.17032532665208935, 'owner': 1, 'action': -1, 'target': 1}, (0.41954491254209214, 1): {'time': 0.41954491254209214, 'tau': 0.0037198651122348904, 'owner': 1, 'action': -4, 'target': 2}, (0.4388671376981632, 2): {'time': 0.4388671376981632, 'tau': 0.1, 'owner': 2, 'action': -5, 'target': 1}, (0.4425870028103981, 2): {'time': 0.4425870028103981, 'tau': 0.0037198651122348904, 'owner': 2, 'action': -6, 'target': 1}, (0.4841124709536925, 3): {'time': 0.4841124709536925, 'tau': 0.1969143440923964, 'owner': 3, 'action': -1, 'target': 3}, (0.490633771516928, 3): {'time': 0.490633771516928, 'tau': 0.006521300563235501, 'owner': 3, 'action': -4, 'target': 2}, (0.4950509022630599, 2): {'time': 0.4950509022630599, 'tau': 0.05246389945266183, 'owner': 2, 'action': -2, 'target': 2}, (0.5022203251322611, 0): {'time': 0.5022203251322611, 'tau': 0.1, 'owner': 0, 'action': -5, 'target': 1}, (0.506680523066587, 0): {'time': 0.506680523066587, 'tau': 0.004460197934325806, 'owner': 0, 'action': -6, 'target': 1}, (0.5195449125420921, 1): {'time': 0.5195449125420921, 'tau': 0.1, 'owner': 1, 'action': -5, 'target': 2}, (0.523264777654327, 1): {'time': 0.523264777654327, 'tau': 0.0037198651122348904, 'owner': 1, 'action': -6, 'target': 2}, (0.5314991866881011, 1): {'time': 0.5314991866881011, 'tau': 0.008234409033774152, 'owner': 1, 'action': -4, 'target': 3}, (0.55394282503622, 2): {'time': 0.55394282503622, 'tau': 0.058891922773160174, 'owner': 2, 'action': -7, 'target': 2}, (0.590633771516928, 3): {'time': 0.590633771516928, 'tau': 0.1, 'owner': 3, 'action': -5, 'target': 2}, (0.5971550720801635, 3): {'time': 0.5971550720801635, 'tau': 0.006521300563235501, 'owner': 3, 'action': -6, 'target': 2}, (0.6019726267612988, 0): {'time': 0.6019726267612988, 'tau': 0.09529210369471192, 'owner': 0, 'action': -2, 'target': 0}, (0.6314991866881011, 1): {'time': 0.6314991866881011, 'tau': 0.1, 'owner': 1, 'action': -5, 'target': 3}, (0.6384256647182703, 2): {'time': 0.6384256647182703, 'tau': 0.08448283968205025, 'owner': 2, 'action': -7, 'target': 2}, (0.6397335957218753, 1): {'time': 0.6397335957218753, 'tau': 0.008234409033774152, 'owner': 1, 'action': -6, 'target': 3}, (0.6743552122561584, 0): {'time': 0.6743552122561584, 'tau': 0.07238258549485957, 'owner': 0, 'action': -1, 'target': 0}, (0.6781906224383161, 0): {'time': 0.6781906224383161, 'tau': 0.0038354101821577308, 'owner': 0, 'action': -4, 'target': 2}, (0.7229116960432133, 2): {'time': 0.7229116960432133, 'tau': 0.08448603132494291, 'owner': 2, 'action': -7, 'target': 2}, (0.778190622438316, 0): {'time': 0.778190622438316, 'tau': 0.1, 'owner': 0, 'action': -5, 'target': 2}, (0.7820260326204738, 0): {'time': 0.7820260326204738, 'tau': 0.0038354101821577308, 'owner': 0, 'action': -6, 'target': 2}, (0.791081499390941, 1): {'time': 0.791081499390941, 'tau': 0.15134790366906573, 'owner': 1, 'action': -2, 'target': 1}, (0.8611640782182548, 0): {'time': 0.8611640782182548, 'tau': 0.07913804559778109, 'owner': 0, 'action': -1, 'target': 0}, (0.8649994884004125, 0): {'time': 0.8649994884004125, 'tau': 0.0038354101821577308, 'owner': 0, 'action': -4, 'target': 2}, (0.865790288486386, 2): {'time': 0.865790288486386, 'tau': 0.14287859244317275, 'owner': 2, 'action': -7, 'target': 2}, (0.907458662853734, 2): {'time': 0.907458662853734, 'tau': 0.04166837436734809, 'owner': 2, 'action': -7, 'target': 2}, (0.9617907781365267, 1): {'time': 0.9617907781365267, 'tau': 0.17070927874558578, 'owner': 1, 'action': -1, 'target': 1}, (0.9649994884004125, 0): {'time': 0.9649994884004125, 'tau': 0.1, 'owner': 0, 'action': -5, 'target': 2}, (0.9688348985825702, 0): {'time': 0.9688348985825702, 'tau': 0.0038354101821577308, 'owner': 0, 'action': -6, 'target': 2}, (0.9692968297684517, 3): {'time': 0.9692968297684517, 'tau': 0.3721417576882882, 'owner': 3, 'action': -7, 'target': 3}, (0.9726417745276231, 0): {'time': 0.9726417745276231, 'tau': 0.003806875945052887, 'owner': 0, 'action': -4, 'target': 3}, (1.021864977526965, 3): {'time': 1.021864977526965, 'tau': 0.0525681477585134, 'owner': 3, 'action': -2, 'target': 3}, (1.0433780512828976, 1): {'time': 1.0433780512828976, 'tau': 0.08158727314637096, 'owner': 1, 'action': -1, 'target': 1}, (1.072641774527623, 0): {'time': 1.072641774527623, 'tau': 0.1, 'owner': 0, 'action': -5, 'target': 3}, (1.076448650472676, 0): {'time': 1.076448650472676, 'tau': 0.003806875945052887, 'owner': 0, 'action': -6, 'target': 3}, (1.1316822652148264, 3): {'time': 1.1316822652148264, 'tau': 0.10981728768786131, 'owner': 3, 'action': -7, 'target': 3}, (1.1739442484150295, 2): {'time': 1.1739442484150295, 'tau': 0.26648558556129565, 'owner': 2, 'action': -7, 'target': 2}, (1.26743185690537, 0): {'time': 1.26743185690537, 'tau': 0.19098320643269384, 'owner': 0, 'action': -2, 'target': 0}, (1.3109139208846419, 1): {'time': 1.3109139208846419, 'tau': 0.26753586960174425, 'owner': 1, 'action': -1, 'target': 1}, (1.3132327102488235, 3): {'time': 1.3132327102488235, 'tau': 0.1815504450339972, 'owner': 3, 'action': -7, 'target': 3}, (1.3213703805838097, 1): {'time': 1.3213703805838097, 'tau': 0.01045645969916783, 'owner': 1, 'action': -2, 'target': 1}, (1.3516044645451606, 1): {'time': 1.3516044645451606, 'tau': 0.030234083961350827, 'owner': 1, 'action': -1, 'target': 1}, (1.4166871256496931, 1): {'time': 1.4166871256496931, 'tau': 0.06508266110453245, 'owner': 1, 'action': -1, 'target': 1}, (1.4211473235840189, 1): {'time': 1.4211473235840189, 'tau': 0.004460197934325806, 'owner': 1, 'action': -4, 'target': 0}, (1.4435368042740613, 2): {'time': 1.4435368042740613, 'tau': 0.2695925558590318, 'owner': 2, 'action': -2, 'target': 2}, (1.517670495592732, 0): {'time': 1.517670495592732, 'tau': 0.25023863868736207, 'owner': 0, 'action': -1, 'target': 0}, (1.521147323584019, 1): {'time': 1.521147323584019, 'tau': 0.1, 'owner': 1, 'action': -5, 'target': 0}, (1.5256075215183447, 1): {'time': 1.5256075215183447, 'tau': 0.004460197934325806, 'owner': 1, 'action': -6, 'target': 0}, (1.5615679911041922, 0): {'time': 1.5615679911041922, 'tau': 0.04389749551146005, 'owner': 0, 'action': -2, 'target': 0}, (1.56540340128635, 0): {'time': 1.56540340128635, 'tau': 0.0038354101821577308, 'owner': 0, 'action': -4, 'target': 2}, (1.6138815390726637, 3): {'time': 1.6138815390726637, 'tau': 0.30064882882384025, 'owner': 3, 'action': -2, 'target': 3}, (1.6284180037356992, 2): {'time': 1.6284180037356992, 'tau': 0.184881199461638, 'owner': 2, 'action': -7, 'target': 2}, (1.6654034012863501, 0): {'time': 1.6654034012863501, 'tau': 0.1, 'owner': 0, 'action': -5, 'target': 2}, (1.669238811468508, 0): {'time': 1.669238811468508, 'tau': 0.0038354101821577308, 'owner': 0, 'action': -6, 'target': 2}, (1.6730742216506658, 0): {'time': 1.6730742216506658, 'tau': 0.0038354101821577308, 'owner': 0, 'action': -4, 'target': 2}, (1.7476161174486757, 1): {'time': 1.7476161174486757, 'tau': 0.22200859593033098, 'owner': 1, 'action': -1, 'target': 1}, (1.7686662923785021, 2): {'time': 1.7686662923785021, 'tau': 0.14024828864280298, 'owner': 2, 'action': -7, 'target': 2}, (1.7730742216506659, 0): {'time': 1.7730742216506659, 'tau': 0.1, 'owner': 0, 'action': -5, 'target': 2}, (1.7738669517019847, 1): {'time': 1.7738669517019847, 'tau': 0.026250834253308892, 'owner': 1, 'action': -2, 'target': 1}, (1.7769096318328237, 0): {'time': 1.7769096318328237, 'tau': 0.0038354101821577308, 'owner': 0, 'action': -6, 'target': 2}, (1.7775868168142197, 1): {'time': 1.7775868168142197, 'tau': 0.0037198651122348904, 'owner': 1, 'action': -4, 'target': 2}, (1.8188915454105474, 3): {'time': 1.8188915454105474, 'tau': 0.2050100063378837, 'owner': 3, 'action': -7, 'target': 3}, (1.855038151500252, 2): {'time': 1.855038151500252, 'tau': 0.08637185912174986, 'owner': 2, 'action': -2, 'target': 2}, (1.858333366350884, 3): {'time': 1.858333366350884, 'tau': 0.03944182094033665, 'owner': 3, 'action': -2, 'target': 3}, (1.8775868168142198, 1): {'time': 1.8775868168142198, 'tau': 0.1, 'owner': 1, 'action': -5, 'target': 2}, (1.8813066819264548, 1): {'time': 1.8813066819264548, 'tau': 0.0037198651122348904, 'owner': 1, 'action': -6, 'target': 2}, (1.8850265470386898, 1): {'time': 1.8850265470386898, 'tau': 0.0037198651122348904, 'owner': 1, 'action': -4, 'target': 2}, (1.9506819107057523, 0): {'time': 1.9506819107057523, 'tau': 0.17377227887292865, 'owner': 0, 'action': -1, 'target': 0}, (1.9850265470386899, 1): {'time': 1.9850265470386899, 'tau': 0.1, 'owner': 1, 'action': -5, 'target': 2}, (1.9887464121509248, 1): {'time': 1.9887464121509248, 'tau': 0.0037198651122348904, 'owner': 1, 'action': -6, 'target': 2}, (1.994646654812638, 3): {'time': 1.994646654812638, 'tau': 0.13631328846175395, 'owner': 3, 'action': -7, 'target': 3}, (2.018329729052823, 1): {'time': 2.018329729052823, 'tau': 0.02958331690189811, 'owner': 1, 'action': -1, 'target': 1}, (2.0397290175143796, 1): {'time': 2.0397290175143796, 'tau': 0.02139928846155678, 'owner': 1, 'action': -1, 'target': 1}, (2.0434488826266146, 1): {'time': 2.0434488826266146, 'tau': 0.0037198651122348904, 'owner': 1, 'action': -4, 'target': 2}, (2.1434488826266147, 1): {'time': 2.1434488826266147, 'tau': 0.1, 'owner': 1, 'action': -5, 'target': 2}, (2.1471687477388497, 1): {'time': 2.1471687477388497, 'tau': 0.0037198651122348904, 'owner': 1, 'action': -6, 'target': 2}, (2.153070407459508, 2): {'time': 2.153070407459508, 'tau': 0.29803225595925575, 'owner': 2, 'action': -7, 'target': 2}, (2.158350829313723, 1): {'time': 2.158350829313723, 'tau': 0.011182081574873493, 'owner': 1, 'action': -1, 'target': 1}, (2.1628110272480487, 1): {'time': 2.1628110272480487, 'tau': 0.004460197934325806, 'owner': 1, 'action': -4, 'target': 0}, (2.1784870299991517, 0): {'time': 2.1784870299991517, 'tau': 0.22780511929339922, 'owner': 0, 'action': -2, 'target': 0}, (2.206467431811551, 3): {'time': 2.206467431811551, 'tau': 0.21182077699891289, 'owner': 3, 'action': -7, 'target': 3}, (2.262811027248049, 1): {'time': 2.262811027248049, 'tau': 0.1, 'owner': 1, 'action': -5, 'target': 0}, (2.2672712251823746, 1): {'time': 2.2672712251823746, 'tau': 0.004460197934325806, 'owner': 1, 'action': -6, 'target': 0}, (2.2922653511660087, 0): {'time': 2.2922653511660087, 'tau': 0.11377832116685693, 'owner': 0, 'action': -7, 'target': 0}, (2.3416306500288186, 2): {'time': 2.3416306500288186, 'tau': 0.18856024256931073, 'owner': 2, 'action': -7, 'target': 2}, (2.3901347734643785, 3): {'time': 2.3901347734643785, 'tau': 0.18366734165282753, 'owner': 3, 'action': -7, 'target': 3}, (2.4526961529879894, 1): {'time': 2.4526961529879894, 'tau': 0.18542492780561476, 'owner': 1, 'action': -2, 'target': 1}, (2.457156350922315, 1): {'time': 2.457156350922315, 'tau': 0.004460197934325806, 'owner': 1, 'action': -4, 'target': 0}, (2.472775723599026, 0): {'time': 2.472775723599026, 'tau': 0.18051037243301718, 'owner': 0, 'action': -2, 'target': 0}, (2.557156350922315, 1): {'time': 2.557156350922315, 'tau': 0.1, 'owner': 1, 'action': -5, 'target': 0}, (2.559019787971709, 0): {'time': 2.559019787971709, 'tau': 0.08624406437268305, 'owner': 0, 'action': -7, 'target': 0}, (2.561616548856641, 1): {'time': 2.561616548856641, 'tau': 0.004460197934325806, 'owner': 1, 'action': -6, 'target': 0}, (2.6034584390724294, 3): {'time': 2.6034584390724294, 'tau': 0.21332366560805102, 'owner': 3, 'action': -2, 'target': 3}, (2.655707369719434, 1): {'time': 2.655707369719434, 'tau': 0.09409082086279315, 'owner': 1, 'action': -1, 'target': 1}, (2.659427234831669, 1): {'time': 2.659427234831669, 'tau': 0.0037198651122348904, 'owner': 1, 'action': -4, 'target': 2}, (2.6968309721253823, 0): {'time': 2.6968309721253823, 'tau': 0.1378111841536735, 'owner': 0, 'action': -7, 'target': 0}, (2.714027647845026, 2): {'time': 2.714027647845026, 'tau': 0.372396997816207, 'owner': 2, 'action': -2, 'target': 2}, (2.7594272348316693, 1): {'time': 2.7594272348316693, 'tau': 0.1, 'owner': 1, 'action': -5, 'target': 2}, (2.7631470999439043, 1): {'time': 2.7631470999439043, 'tau': 0.0037198651122348904, 'owner': 1, 'action': -6, 'target': 2}, (2.7857532920263286, 3): {'time': 2.7857532920263286, 'tau': 0.1822948529538992, 'owner': 3, 'action': -7, 'target': 3}, (2.8085077071950955, 3): {'time': 2.8085077071950955, 'tau': 0.022754415168766737, 'owner': 3, 'action': -2, 'target': 3}, (2.813311940632404, 0): {'time': 2.813311940632404, 'tau': 0.11648096850702172, 'owner': 0, 'action': -7, 'target': 0}, (2.9086564926786376, 1): {'time': 2.9086564926786376, 'tau': 0.1455093927347331, 'owner': 1, 'action': -2, 'target': 1}, (2.9152398499761905, 1): {'time': 2.9152398499761905, 'tau': 0.006583357297553105, 'owner': 1, 'action': -1, 'target': 1}, (2.928358868796078, 2): {'time': 2.928358868796078, 'tau': 0.2143312209510522, 'owner': 2, 'action': -7, 'target': 2}, (2.9604934444682467, 1): {'time': 2.9604934444682467, 'tau': 0.04525359449205635, 'owner': 1, 'action': -1, 'target': 1}, (2.968727853502021, 1): {'time': 2.968727853502021, 'tau': 0.008234409033774152, 'owner': 1, 'action': -4, 'target': 3}, (2.996181754161492, 3): {'time': 2.996181754161492, 'tau': 0.18767404696639636, 'owner': 3, 'action': -7, 'target': 3}, (2.997349162164911, 0): {'time': 2.997349162164911, 'tau': 0.1840372215325069, 'owner': 0, 'action': -7, 'target': 0}, (3.033038158500321, 0): {'time': 3.033038158500321, 'tau': 0.03568899633541013, 'owner': 0, 'action': -2, 'target': 0}, (3.068727853502021, 1): {'time': 3.068727853502021, 'tau': 0.1, 'owner': 1, 'action': -5, 'target': 3}, (3.0769622625357953, 1): {'time': 3.0769622625357953, 'tau': 0.008234409033774152, 'owner': 1, 'action': -6, 'target': 3}, (3.0806821276480303, 1): {'time': 3.0806821276480303, 'tau': 0.0037198651122348904, 'owner': 1, 'action': -4, 'target': 2}, (3.129374473480296, 2): {'time': 3.129374473480296, 'tau': 0.20101560468421842, 'owner': 2, 'action': -7, 'target': 2}, (3.1380932000619364, 2): {'time': 3.1380932000619364, 'tau': 0.008718726581640341, 'owner': 2, 'action': -2, 'target': 2}, (3.154299667996866, 3): {'time': 3.154299667996866, 'tau': 0.1581179138353738, 'owner': 3, 'action': -7, 'target': 3}, (3.1806821276480304, 1): {'time': 3.1806821276480304, 'tau': 0.1, 'owner': 1, 'action': -5, 'target': 2}, (3.1844019927602654, 1): {'time': 3.1844019927602654, 'tau': 0.0037198651122348904, 'owner': 1, 'action': -6, 'target': 2}, (3.2079454582535134, 1): {'time': 3.2079454582535134, 'tau': 0.023543465493248036, 'owner': 1, 'action': -2, 'target': 1}, (3.326785467306485, 0): {'time': 3.326785467306485, 'tau': 0.29374730880616384, 'owner': 0, 'action': -7, 'target': 0}, (3.36771830948002, 1): {'time': 3.36771830948002, 'tau': 0.15977285122650656, 'owner': 1, 'action': -1, 'target': 1}, (3.4269050863042665, 3): {'time': 3.4269050863042665, 'tau': 0.2726054183074007, 'owner': 3, 'action': -7, 'target': 3}, (3.4722752993548394, 2): {'time': 3.4722752993548394, 'tau': 0.33418209929290277, 'owner': 2, 'action': -7, 'target': 2}, (3.479825192240529, 3): {'time': 3.479825192240529, 'tau': 0.05292010593626283, 'owner': 3, 'action': -2, 'target': 3}, (3.4986999736439506, 0): {'time': 3.4986999736439506, 'tau': 0.17191450633746558, 'owner': 0, 'action': -2, 'target': 0}, (3.5179813008230325, 3): {'time': 3.5179813008230325, 'tau': 0.03815610858250325, 'owner': 3, 'action': -7, 'target': 3}, (3.5882933739917644, 1): {'time': 3.5882933739917644, 'tau': 0.22057506451174444, 'owner': 1, 'action': -1, 'target': 1}, (3.5965277830255387, 1): {'time': 3.5965277830255387, 'tau': 0.008234409033774152, 'owner': 1, 'action': -4, 'target': 3}, (3.6965277830255387, 1): {'time': 3.6965277830255387, 'tau': 0.1, 'owner': 1, 'action': -5, 'target': 3}, (3.70163388963464, 2): {'time': 3.70163388963464, 'tau': 0.22935859027980043, 'owner': 2, 'action': -7, 'target': 2}, (3.704762192059313, 1): {'time': 3.704762192059313, 'tau': 0.008234409033774152, 'owner': 1, 'action': -6, 'target': 3}, (3.7393159890339778, 0): {'time': 3.7393159890339778, 'tau': 0.24061601539002708, 'owner': 0, 'action': -7, 'target': 0}, (3.7633300067705293, 3): {'time': 3.7633300067705293, 'tau': 0.24534870594749694, 'owner': 3, 'action': -7, 'target': 3}, (3.818523009576077, 3): {'time': 3.818523009576077, 'tau': 0.055193002805547856, 'owner': 3, 'action': -7, 'target': 3}, (3.8221309472648204, 1): {'time': 3.8221309472648204, 'tau': 0.1173687552055072, 'owner': 1, 'action': -1, 'target': 1}, (3.888256873531045, 3): {'time': 3.888256873531045, 'tau': 0.06973386395496806, 'owner': 3, 'action': -7, 'target': 3}, (3.9490487549136573, 0): {'time': 3.9490487549136573, 'tau': 0.20973276587967926, 'owner': 0, 'action': -7, 'target': 0}, (3.9599128996852064, 1): {'time': 3.9599128996852064, 'tau': 0.13778195242038602, 'owner': 1, 'action': -2, 'target': 1}, (3.9636327647974414, 1): {'time': 3.9636327647974414, 'tau': 0.0037198651122348904, 'owner': 1, 'action': -4, 'target': 2}, (4.057292311771383, 0): {'time': 4.057292311771383, 'tau': 0.10824355685772566, 'owner': 0, 'action': -2, 'target': 0}, (4.0636327647974415, 1): {'time': 4.0636327647974415, 'tau': 0.1, 'owner': 1, 'action': -5, 'target': 2}, (4.067352629909676, 1): {'time': 4.067352629909676, 'tau': 0.0037198651122348904, 'owner': 1, 'action': -6, 'target': 2}, (4.091566327303468, 2): {'time': 4.091566327303468, 'tau': 0.38993243766882857, 'owner': 2, 'action': -7, 'target': 2}, (4.164130863473706, 0): {'time': 4.164130863473706, 'tau': 0.10683855170232262, 'owner': 0, 'action': -7, 'target': 0}, (4.186081509449146, 2): {'time': 4.186081509449146, 'tau': 0.09451518214567756, 'owner': 2, 'action': -2, 'target': 2}, (4.220029664078602, 3): {'time': 4.220029664078602, 'tau': 0.3317727905475576, 'owner': 3, 'action': -7, 'target': 3}, (4.293697831216848, 3): {'time': 4.293697831216848, 'tau': 0.07366816713824616, 'owner': 3, 'action': -2, 'target': 3}, (4.295890498741841, 1): {'time': 4.295890498741841, 'tau': 0.2285378688321646, 'owner': 1, 'action': -1, 'target': 1}, (4.3124705797391885, 3): {'time': 4.3124705797391885, 'tau': 0.018772748522340732, 'owner': 3, 'action': -7, 'target': 3}, (4.31490688968748, 1): {'time': 4.31490688968748, 'tau': 0.019016390945639266, 'owner': 1, 'action': -2, 'target': 1}, (4.397785050958734, 0): {'time': 4.397785050958734, 'tau': 0.23365418748502803, 'owner': 0, 'action': -7, 'target': 0}, (4.433335896927378, 2): {'time': 4.433335896927378, 'tau': 0.24725438747823225, 'owner': 2, 'action': -7, 'target': 2}, (4.4588693667387505, 3): {'time': 4.4588693667387505, 'tau': 0.14639878699956216, 'owner': 3, 'action': -7, 'target': 3}, (4.497735259946142, 1): {'time': 4.497735259946142, 'tau': 0.1828283702586622, 'owner': 1, 'action': -1, 'target': 1}, (4.557714713163995, 2): {'time': 4.557714713163995, 'tau': 0.12437881623661687, 'owner': 2, 'action': -7, 'target': 2}, (4.636014191347097, 1): {'time': 4.636014191347097, 'tau': 0.13827893140095424, 'owner': 1, 'action': -1, 'target': 1}, (4.639296309038561, 2): {'time': 4.639296309038561, 'tau': 0.08158159587456586, 'owner': 2, 'action': -2, 'target': 2}, (4.640988295368519, 0): {'time': 4.640988295368519, 'tau': 0.2432032444097848, 'owner': 0, 'action': -7, 'target': 0}, (4.662962585924244, 0): {'time': 4.662962585924244, 'tau': 0.02197429055572445, 'owner': 0, 'action': -2, 'target': 0}, (4.701835660563865, 3): {'time': 4.701835660563865, 'tau': 0.24296629382511417, 'owner': 3, 'action': -2, 'target': 3}, (4.7472248626235, 1): {'time': 4.7472248626235, 'tau': 0.11121067127640352, 'owner': 1, 'action': -1, 'target': 1}, (4.784975269292846, 1): {'time': 4.784975269292846, 'tau': 0.03775040666934572, 'owner': 1, 'action': -1, 'target': 1}, (4.836839561305058, 2): {'time': 4.836839561305058, 'tau': 0.1975432522664969, 'owner': 2, 'action': -7, 'target': 2}, (5.015495097097832, 1): {'time': 5.015495097097832, 'tau': 0.23051982780498534, 'owner': 1, 'action': -2, 'target': 1}, (5.037607260907414, 2): {'time': 5.037607260907414, 'tau': 0.20076769960235646, 'owner': 2, 'action': -7, 'target': 2}, (5.05896014408552, 0): {'time': 5.05896014408552, 'tau': 0.3959975581612763, 'owner': 0, 'action': -7, 'target': 0}, (5.076825663653154, 3): {'time': 5.076825663653154, 'tau': 0.3749900030892894, 'owner': 3, 'action': -7, 'target': 3}, (5.095345248241828, 0): {'time': 5.095345248241828, 'tau': 0.03638510415630778, 'owner': 0, 'action': -2, 'target': 0}, (5.1052046461137435, 3): {'time': 5.1052046461137435, 'tau': 0.028378982460589338, 'owner': 3, 'action': -2, 'target': 3}, (5.150978831694678, 2): {'time': 5.150978831694678, 'tau': 0.11337157078726313, 'owner': 2, 'action': -2, 'target': 2}, (5.180122761715734, 1): {'time': 5.180122761715734, 'tau': 0.16462766461790215, 'owner': 1, 'action': -1, 'target': 1}, (5.188357170749508, 1): {'time': 5.188357170749508, 'tau': 0.008234409033774152, 'owner': 1, 'action': -4, 'target': 3}, (5.285837212470566, 0): {'time': 5.285837212470566, 'tau': 0.1904919642287386, 'owner': 0, 'action': -7, 'target': 0}, (5.288357170749507, 1): {'time': 5.288357170749507, 'tau': 0.1, 'owner': 1, 'action': -5, 'target': 3}, (5.296591579783281, 1): {'time': 5.296591579783281, 'tau': 0.008234409033774152, 'owner': 1, 'action': -6, 'target': 3}, (5.346032989680854, 2): {'time': 5.346032989680854, 'tau': 0.19505415798617604, 'owner': 2, 'action': -7, 'target': 2}, (5.411799511707993, 3): {'time': 5.411799511707993, 'tau': 0.30659486559424887, 'owner': 3, 'action': -7, 'target': 3}, (5.480176672187105, 2): {'time': 5.480176672187105, 'tau': 0.13414368250625103, 'owner': 2, 'action': -7, 'target': 2}, (5.49499991970563, 0): {'time': 5.49499991970563, 'tau': 0.20916270723506336, 'owner': 0, 'action': -7, 'target': 0}, (5.51487066865854, 1): {'time': 5.51487066865854, 'tau': 0.21827908887525876, 'owner': 1, 'action': -1, 'target': 1}, (5.690439563244243, 2): {'time': 5.690439563244243, 'tau': 0.21026289105713716, 'owner': 2, 'action': -7, 'target': 2}, (5.7263833086057, 0): {'time': 5.7263833086057, 'tau': 0.23138338890007015, 'owner': 0, 'action': -2, 'target': 0}, (5.762280745751569, 1): {'time': 5.762280745751569, 'tau': 0.24741007709302817, 'owner': 1, 'action': -2, 'target': 1}, (5.776100535206727, 3): {'time': 5.776100535206727, 'tau': 0.364301023498735, 'owner': 3, 'action': -7, 'target': 3}, (5.7923991481327475, 3): {'time': 5.7923991481327475, 'tau': 0.016298612926019716, 'owner': 3, 'action': -2, 'target': 3}, (5.812004526491726, 1): {'time': 5.812004526491726, 'tau': 0.049723780740157084, 'owner': 1, 'action': -1, 'target': 1}, (5.8164647244260514, 1): {'time': 5.8164647244260514, 'tau': 0.004460197934325806, 'owner': 1, 'action': -4, 'target': 0}, (5.848529307643286, 0): {'time': 5.848529307643286, 'tau': 0.12214599903758602, 'owner': 0, 'action': -7, 'target': 0}, (5.916464724426051, 1): {'time': 5.916464724426051, 'tau': 0.1, 'owner': 1, 'action': -5, 'target': 0}, (5.920924922360377, 1): {'time': 5.920924922360377, 'tau': 0.004460197934325806, 'owner': 1, 'action': -6, 'target': 0}, (5.9253851202947025, 1): {'time': 5.9253851202947025, 'tau': 0.004460197934325806, 'owner': 1, 'action': -4, 'target': 0}, (5.958802229463208, 3): {'time': 5.958802229463208, 'tau': 0.1664030813304604, 'owner': 3, 'action': -7, 'target': 3}, (5.987998769329546, 2): {'time': 5.987998769329546, 'tau': 0.2975592060853034, 'owner': 2, 'action': -2, 'target': 2}, (5.988314587084875, 0): {'time': 5.988314587084875, 'tau': 0.13978527944158847, 'owner': 0, 'action': -2, 'target': 0}, (6.025385120294702, 1): {'time': 6.025385120294702, 'tau': 0.1, 'owner': 1, 'action': -5, 'target': 0}, (6.029845318229028, 1): {'time': 6.029845318229028, 'tau': 0.004460197934325806, 'owner': 1, 'action': -6, 'target': 0}, (6.089121424429482, 0): {'time': 6.089121424429482, 'tau': 0.10080683734460774, 'owner': 0, 'action': -7, 'target': 0}, (6.172665225316594, 2): {'time': 6.172665225316594, 'tau': 0.18466645598704787, 'owner': 2, 'action': -7, 'target': 2}, (6.178987142955501, 3): {'time': 6.178987142955501, 'tau': 0.22018491349229344, 'owner': 3, 'action': -7, 'target': 3}, (6.204113353712219, 2): {'time': 6.204113353712219, 'tau': 0.0314481283956247, 'owner': 2, 'action': -2, 'target': 2}, (6.2240737954250145, 1): {'time': 6.2240737954250145, 'tau': 0.19422847719598663, 'owner': 1, 'action': -1, 'target': 1}, (6.351435535252175, 1): {'time': 6.351435535252175, 'tau': 0.12736173982716126, 'owner': 1, 'action': -2, 'target': 1}, (6.36808090272617, 0): {'time': 6.36808090272617, 'tau': 0.27895947829668777, 'owner': 0, 'action': -2, 'target': 0}, (6.373950860856425, 3): {'time': 6.373950860856425, 'tau': 0.19496371790092393, 'owner': 3, 'action': -7, 'target': 3}, (6.446339767907924, 2): {'time': 6.446339767907924, 'tau': 0.24222641419570523, 'owner': 2, 'action': -7, 'target': 2}, (6.457548632299879, 3): {'time': 6.457548632299879, 'tau': 0.08359777144345415, 'owner': 3, 'action': -2, 'target': 3}, (6.495140091296102, 1): {'time': 6.495140091296102, 'tau': 0.14370455604392696, 'owner': 1, 'action': -1, 'target': 1}, (6.503374500329876, 1): {'time': 6.503374500329876, 'tau': 0.008234409033774152, 'owner': 1, 'action': -4, 'target': 3}, (6.603374500329876, 1): {'time': 6.603374500329876, 'tau': 0.1, 'owner': 1, 'action': -5, 'target': 3}, (6.604587511805907, 2): {'time': 6.604587511805907, 'tau': 0.1582477438979833, 'owner': 2, 'action': -7, 'target': 2}, (6.61160890936365, 1): {'time': 6.61160890936365, 'tau': 0.008234409033774152, 'owner': 1, 'action': -6, 'target': 3}, (6.636228836846594, 0): {'time': 6.636228836846594, 'tau': 0.2681479341204236, 'owner': 0, 'action': -7, 'target': 0}, (6.672893673511218, 1): {'time': 6.672893673511218, 'tau': 0.06128476414756838, 'owner': 1, 'action': -2, 'target': 1}, (6.678090048686046, 3): {'time': 6.678090048686046, 'tau': 0.22054141638616753, 'owner': 3, 'action': -7, 'target': 3}, (6.746451422020689, 2): {'time': 6.746451422020689, 'tau': 0.14186391021478154, 'owner': 2, 'action': -2, 'target': 2}, (6.80670611020991, 0): {'time': 6.80670611020991, 'tau': 0.1704772733633163, 'owner': 0, 'action': -7, 'target': 0}, (6.811163049691619, 0): {'time': 6.811163049691619, 'tau': 0.004456939481709352, 'owner': 0, 'action': -2, 'target': 0}, (6.81401799286757, 0): {'time': 6.81401799286757, 'tau': 0.0028549431759504196, 'owner': 0, 'action': -7, 'target': 0}, (6.924346446689822, 3): {'time': 6.924346446689822, 'tau': 0.2462563980037757, 'owner': 3, 'action': -7, 'target': 3}, (6.94820161218608, 2): {'time': 6.94820161218608, 'tau': 0.2017501901653907, 'owner': 2, 'action': -7, 'target': 2}, (6.959471119684797, 1): {'time': 6.959471119684797, 'tau': 0.28657744617357905, 'owner': 1, 'action': -1, 'target': 1}, (7.033694479456909, 3): {'time': 7.033694479456909, 'tau': 0.10934803276708752, 'owner': 3, 'action': -7, 'target': 3}, (7.0587800373606955, 3): {'time': 7.0587800373606955, 'tau': 0.025085557903785808, 'owner': 3, 'action': -2, 'target': 3}, (7.085382388687579, 2): {'time': 7.085382388687579, 'tau': 0.13718077650149965, 'owner': 2, 'action': -7, 'target': 2}, (7.153233821540328, 0): {'time': 7.153233821540328, 'tau': 0.3392158286727581, 'owner': 0, 'action': -7, 'target': 0}, (7.199620395841937, 1): {'time': 7.199620395841937, 'tau': 0.2401492761571408, 'owner': 1, 'action': -1, 'target': 1}, (7.203340260954172, 1): {'time': 7.203340260954172, 'tau': 0.0037198651122348904, 'owner': 1, 'action': -4, 'target': 2}, (7.262281771656547, 3): {'time': 7.262281771656547, 'tau': 0.20350173429585172, 'owner': 3, 'action': -7, 'target': 3}, (7.3033402609541715, 1): {'time': 7.3033402609541715, 'tau': 0.1, 'owner': 1, 'action': -5, 'target': 2}, (7.307060126066406, 1): {'time': 7.307060126066406, 'tau': 0.0037198651122348904, 'owner': 1, 'action': -6, 'target': 2}, (7.307650328681659, 0): {'time': 7.307650328681659, 'tau': 0.15441650714133087, 'owner': 0, 'action': -2, 'target': 0}, (7.336077003883316, 2): {'time': 7.336077003883316, 'tau': 0.2506946151957376, 'owner': 2, 'action': -2, 'target': 2}, (7.350253639985978, 0): {'time': 7.350253639985978, 'tau': 0.04260331130431895, 'owner': 0, 'action': -7, 'target': 0}, (7.427407101880186, 0): {'time': 7.427407101880186, 'tau': 0.07715346189420713, 'owner': 0, 'action': -7, 'target': 0}, (7.447642537422414, 0): {'time': 7.447642537422414, 'tau': 0.020235435542228453, 'owner': 0, 'action': -7, 'target': 0}, (7.463904720588291, 0): {'time': 7.463904720588291, 'tau': 0.016262183165876604, 'owner': 0, 'action': -7, 'target': 0}, (7.535571728147132, 2): {'time': 7.535571728147132, 'tau': 0.19949472426381532, 'owner': 2, 'action': -7, 'target': 2}, (7.570246292170099, 3): {'time': 7.570246292170099, 'tau': 0.30796452051355117, 'owner': 3, 'action': -7, 'target': 3}, (7.58693818634929, 1): {'time': 7.58693818634929, 'tau': 0.2798780602828837, 'owner': 1, 'action': -2, 'target': 1}, (7.648350900251703, 2): {'time': 7.648350900251703, 'tau': 0.11277917210457125, 'owner': 2, 'action': -2, 'target': 2}, (7.6647263529497405, 3): {'time': 7.6647263529497405, 'tau': 0.09448006077964154, 'owner': 3, 'action': -7, 'target': 3}, (7.7069092693104295, 3): {'time': 7.7069092693104295, 'tau': 0.042182916360688966, 'owner': 3, 'action': -2, 'target': 3}, (7.7833398521950805, 3): {'time': 7.7833398521950805, 'tau': 0.0764305828846506, 'owner': 3, 'action': -7, 'target': 3}, (7.790990358373834, 3): {'time': 7.790990358373834, 'tau': 0.007650506178753361, 'owner': 3, 'action': -7, 'target': 3}, (7.794797234318886, 3): {'time': 7.794797234318886, 'tau': 0.003806875945052887, 'owner': 3, 'action': -4, 'target': 0}, (7.8236693616035495, 2): {'time': 7.8236693616035495, 'tau': 0.1753184613518463, 'owner': 2, 'action': -7, 'target': 2}, (7.894797234318886, 3): {'time': 7.894797234318886, 'tau': 0.1, 'owner': 3, 'action': -5, 'target': 0}, (7.898604110263938, 3): {'time': 7.898604110263938, 'tau': 0.003806875945052887, 'owner': 3, 'action': -6, 'target': 0}, (7.905125410827174, 3): {'time': 7.905125410827174, 'tau': 0.006521300563235501, 'owner': 3, 'action': -4, 'target': 2}, (7.915612674370759, 2): {'time': 7.915612674370759, 'tau': 0.09194331276720931, 'owner': 2, 'action': -7, 'target': 2}, (7.9659849007141945, 1): {'time': 7.9659849007141945, 'tau': 0.37904671436490456, 'owner': 1, 'action': -1, 'target': 1}, (8.005125410827175, 3): {'time': 8.005125410827175, 'tau': 0.1, 'owner': 3, 'action': -5, 'target': 2}, (8.01164671139041, 3): {'time': 8.01164671139041, 'tau': 0.006521300563235501, 'owner': 3, 'action': -6, 'target': 2}, (8.075267500351016, 3): {'time': 8.075267500351016, 'tau': 0.06362078896060626, 'owner': 3, 'action': -2, 'target': 3}, (8.08200404108246, 1): {'time': 8.08200404108246, 'tau': 0.11601914036826422, 'owner': 1, 'action': -2, 'target': 1}, (8.085723906194694, 1): {'time': 8.085723906194694, 'tau': 0.0037198651122348904, 'owner': 1, 'action': -4, 'target': 2}, (8.109574091335904, 3): {'time': 8.109574091335904, 'tau': 0.03430659098488849, 'owner': 3, 'action': -1, 'target': 3}, (8.134213481221929, 2): {'time': 8.134213481221929, 'tau': 0.21860080685117, 'owner': 2, 'action': -7, 'target': 2}, (8.169712545791791, 0): {'time': 8.169712545791791, 'tau': 0.7058078252035008, 'owner': 0, 'action': -2, 'target': 0}, (8.185723906194694, 1): {'time': 8.185723906194694, 'tau': 0.1, 'owner': 1, 'action': -5, 'target': 2}, (8.188789321594086, 2): {'time': 8.188789321594086, 'tau': 0.054575840372156605, 'owner': 2, 'action': -2, 'target': 2}, (8.189443771306928, 1): {'time': 8.189443771306928, 'tau': 0.0037198651122348904, 'owner': 1, 'action': -6, 'target': 2}, (8.193163636419163, 1): {'time': 8.193163636419163, 'tau': 0.0037198651122348904, 'owner': 1, 'action': -4, 'target': 2}, (8.288160809412721, 2): {'time': 8.288160809412721, 'tau': 0.09937148781863545, 'owner': 2, 'action': -7, 'target': 2}, (8.293163636419163, 1): {'time': 8.293163636419163, 'tau': 0.1, 'owner': 1, 'action': -5, 'target': 2}, (8.296883501531397, 1): {'time': 8.296883501531397, 'tau': 0.0037198651122348904, 'owner': 1, 'action': -6, 'target': 2}, (8.297073913782109, 0): {'time': 8.297073913782109, 'tau': 0.12736136799031775, 'owner': 0, 'action': -2, 'target': 0}, (8.326395615002822, 3): {'time': 8.326395615002822, 'tau': 0.21682152366691768, 'owner': 3, 'action': -1, 'target': 3}, (8.346227404402708, 3): {'time': 8.346227404402708, 'tau': 0.01983178939988553, 'owner': 3, 'action': -1, 'target': 3}, (8.398280495325217, 1): {'time': 8.398280495325217, 'tau': 0.10139699379382008, 'owner': 1, 'action': -2, 'target': 1}, (8.410520262817371, 2): {'time': 8.410520262817371, 'tau': 0.12235945340465013, 'owner': 2, 'action': -7, 'target': 2}, (8.446506022526474, 0): {'time': 8.446506022526474, 'tau': 0.14943210874436583, 'owner': 0, 'action': -7, 'target': 0}, (8.456750267657625, 3): {'time': 8.456750267657625, 'tau': 0.11052286325491795, 'owner': 3, 'action': -1, 'target': 3}, (8.478583939822844, 2): {'time': 8.478583939822844, 'tau': 0.06806367700547226, 'owner': 2, 'action': -2, 'target': 2}, (8.482419350005001, 2): {'time': 8.482419350005001, 'tau': 0.0038354101821577308, 'owner': 2, 'action': -4, 'target': 0}, (8.515359381780234, 1): {'time': 8.515359381780234, 'tau': 0.1170788864550169, 'owner': 1, 'action': -1, 'target': 1}, (8.519079246892469, 1): {'time': 8.519079246892469, 'tau': 0.0037198651122348904, 'owner': 1, 'action': -4, 'target': 2}, (8.578787937742776, 0): {'time': 8.578787937742776, 'tau': 0.13228191521630198, 'owner': 0, 'action': -7, 'target': 0}, (8.582419350005, 2): {'time': 8.582419350005, 'tau': 0.1, 'owner': 2, 'action': -5, 'target': 0}, (8.582851653728948, 3): {'time': 8.582851653728948, 'tau': 0.12610138607132304, 'owner': 3, 'action': -2, 'target': 3}, (8.586254760187158, 2): {'time': 8.586254760187158, 'tau': 0.0038354101821577308, 'owner': 2, 'action': -6, 'target': 0}, (8.619079246892468, 1): {'time': 8.619079246892468, 'tau': 0.1, 'owner': 1, 'action': -5, 'target': 2}, (8.622799112004703, 1): {'time': 8.622799112004703, 'tau': 0.0037198651122348904, 'owner': 1, 'action': -6, 'target': 2}, (8.667957244983938, 0): {'time': 8.667957244983938, 'tau': 0.08916930724116162, 'owner': 0, 'action': -7, 'target': 0}, (8.715574450960323, 0): {'time': 8.715574450960323, 'tau': 0.047617205976385094, 'owner': 0, 'action': -7, 'target': 0}, (8.768162938061797, 2): {'time': 8.768162938061797, 'tau': 0.18190817787463978, 'owner': 2, 'action': -7, 'target': 2}, (8.78010524033164, 0): {'time': 8.78010524033164, 'tau': 0.06453078937131611, 'owner': 0, 'action': -2, 'target': 0}, (8.798267887846873, 2): {'time': 8.798267887846873, 'tau': 0.03010494978507521, 'owner': 2, 'action': -2, 'target': 2}, (8.897116616618012, 0): {'time': 8.897116616618012, 'tau': 0.11701137628637245, 'owner': 0, 'action': -7, 'target': 0}, (8.907845447455893, 3): {'time': 8.907845447455893, 'tau': 0.3249937937269442, 'owner': 3, 'action': -1, 'target': 3}, (8.915355306382976, 1): {'time': 8.915355306382976, 'tau': 0.29255619437827307, 'owner': 1, 'action': -1, 'target': 1}, (8.98185444694122, 2): {'time': 8.98185444694122, 'tau': 0.1835865590943476, 'owner': 2, 'action': -7, 'target': 2}, (8.983332142070548, 0): {'time': 8.983332142070548, 'tau': 0.08621552545253573, 'owner': 0, 'action': -7, 'target': 0}, (8.983723032694856, 1): {'time': 8.983723032694856, 'tau': 0.0683677263118804, 'owner': 1, 'action': -2, 'target': 1}, (8.988183230629183, 1): {'time': 8.988183230629183, 'tau': 0.004460197934325806, 'owner': 1, 'action': -4, 'target': 0}, (9.065139480566508, 3): {'time': 9.065139480566508, 'tau': 0.15729403311061532, 'owner': 3, 'action': -2, 'target': 3}, (9.088183230629182, 1): {'time': 9.088183230629182, 'tau': 0.1, 'owner': 1, 'action': -5, 'target': 0}, (9.092643428563509, 1): {'time': 9.092643428563509, 'tau': 0.004460197934325806, 'owner': 1, 'action': -6, 'target': 0}, (9.097103626497836, 1): {'time': 9.097103626497836, 'tau': 0.004460197934325806, 'owner': 1, 'action': -4, 'target': 0}, (9.18094409267968, 0): {'time': 9.18094409267968, 'tau': 0.19761195060913153, 'owner': 0, 'action': -7, 'target': 0}, (9.186507252436352, 3): {'time': 9.186507252436352, 'tau': 0.12136777186984381, 'owner': 3, 'action': -1, 'target': 3}, (9.196378559150551, 2): {'time': 9.196378559150551, 'tau': 0.21452411220933054, 'owner': 2, 'action': -7, 'target': 2}, (9.197103626497835, 1): {'time': 9.197103626497835, 'tau': 0.1, 'owner': 1, 'action': -5, 'target': 0}, (9.201563824432162, 1): {'time': 9.201563824432162, 'tau': 0.004460197934325806, 'owner': 1, 'action': -6, 'target': 0}, (9.205283689544396, 1): {'time': 9.205283689544396, 'tau': 0.0037198651122348904, 'owner': 1, 'action': -4, 'target': 2}, (9.305283689544396, 1): {'time': 9.305283689544396, 'tau': 0.1, 'owner': 1, 'action': -5, 'target': 2}, (9.30900355465663, 1): {'time': 9.30900355465663, 'tau': 0.0037198651122348904, 'owner': 1, 'action': -6, 'target': 2}, (9.312723419768865, 1): {'time': 9.312723419768865, 'tau': 0.0037198651122348904, 'owner': 1, 'action': -4, 'target': 2}, (9.318359022271983, 3): {'time': 9.318359022271983, 'tau': 0.13185176983563177, 'owner': 3, 'action': -2, 'target': 3}, (9.324880322835218, 3): {'time': 9.324880322835218, 'tau': 0.006521300563235501, 'owner': 3, 'action': -4, 'target': 2}, (9.357783638569703, 2): {'time': 9.357783638569703, 'tau': 0.1614050794191517, 'owner': 2, 'action': -7, 'target': 2}, (9.37309085504295, 0): {'time': 9.37309085504295, 'tau': 0.19214676236327105, 'owner': 0, 'action': -7, 'target': 0}, (9.412723419768865, 1): {'time': 9.412723419768865, 'tau': 0.1, 'owner': 1, 'action': -5, 'target': 2}, (9.4164432848811, 1): {'time': 9.4164432848811, 'tau': 0.0037198651122348904, 'owner': 1, 'action': -6, 'target': 2}, (9.424880322835218, 3): {'time': 9.424880322835218, 'tau': 0.1, 'owner': 3, 'action': -5, 'target': 2}, (9.431401623398454, 3): {'time': 9.431401623398454, 'tau': 0.006521300563235501, 'owner': 3, 'action': -6, 'target': 2}, (9.521904742911337, 0): {'time': 9.521904742911337, 'tau': 0.1488138878683879, 'owner': 0, 'action': -2, 'target': 0}, (9.532241109177564, 1): {'time': 9.532241109177564, 'tau': 0.11579782429646492, 'owner': 1, 'action': -1, 'target': 1}, (9.538289669125076, 2): {'time': 9.538289669125076, 'tau': 0.18050603055537354, 'owner': 2, 'action': -7, 'target': 2}, (9.616515859237822, 1): {'time': 9.616515859237822, 'tau': 0.08427475006025721, 'owner': 1, 'action': -2, 'target': 1}, (9.620976057172149, 1): {'time': 9.620976057172149, 'tau': 0.004460197934325806, 'owner': 1, 'action': -4, 'target': 0}, (9.630595081444339, 2): {'time': 9.630595081444339, 'tau': 0.09230541231926302, 'owner': 2, 'action': -2, 'target': 2}, (9.673995264283425, 3): {'time': 9.673995264283425, 'tau': 0.24259364088497082, 'owner': 3, 'action': -1, 'target': 3}, (9.674475000297207, 0): {'time': 9.674475000297207, 'tau': 0.15257025738586893, 'owner': 0, 'action': -7, 'target': 0}, (9.720976057172148, 1): {'time': 9.720976057172148, 'tau': 0.1, 'owner': 1, 'action': -5, 'target': 0}, (9.725436255106475, 1): {'time': 9.725436255106475, 'tau': 0.004460197934325806, 'owner': 1, 'action': -6, 'target': 0}, (9.72915612021871, 1): {'time': 9.72915612021871, 'tau': 0.0037198651122348904, 'owner': 1, 'action': -4, 'target': 2}, (9.771092910802354, 2): {'time': 9.771092910802354, 'tau': 0.1404978293580158, 'owner': 2, 'action': -7, 'target': 2}, (9.824149319237952, 0): {'time': 9.824149319237952, 'tau': 0.1496743189407451, 'owner': 0, 'action': -7, 'target': 0}, (9.829156120218709, 1): {'time': 9.829156120218709, 'tau': 0.1, 'owner': 1, 'action': -5, 'target': 2}, (9.832875985330944, 1): {'time': 9.832875985330944, 'tau': 0.0037198651122348904, 'owner': 1, 'action': -6, 'target': 2}, (9.841110394364717, 1): {'time': 9.841110394364717, 'tau': 0.008234409033774152, 'owner': 1, 'action': -4, 'target': 3}, (9.863153745831049, 3): {'time': 9.863153745831049, 'tau': 0.18915848154762333, 'owner': 3, 'action': -1, 'target': 3}, (9.893403964335764, 3): {'time': 9.893403964335764, 'tau': 0.03025021850471577, 'owner': 3, 'action': -2, 'target': 3}, (9.941110394364717, 1): {'time': 9.941110394364717, 'tau': 0.1, 'owner': 1, 'action': -5, 'target': 3}, (9.94934480339849, 1): {'time': 9.94934480339849, 'tau': 0.008234409033774152, 'owner': 1, 'action': -6, 'target': 3}, (10.013410430291609, 1): {'time': 10.013410430291609, 'tau': 0.06406562689311869, 'owner': 1, 'action': -1, 'target': 1}, (10.017870628225936, 1): {'time': 10.017870628225936, 'tau': 0.004460197934325806, 'owner': 1, 'action': -4, 'target': 0}, (10.041754165632316, 2): {'time': 10.041754165632316, 'tau': 0.2706612548299612, 'owner': 2, 'action': -7, 'target': 2}, (10.051419707522657, 3): {'time': 10.051419707522657, 'tau': 0.15801574318689288, 'owner': 3, 'action': -1, 'target': 3}, (10.055226583467709, 3): {'time': 10.055226583467709, 'tau': 0.003806875945052887, 'owner': 3, 'action': -4, 'target': 0}, (10.114924545361124, 0): {'time': 10.114924545361124, 'tau': 0.2907752261231721, 'owner': 0, 'action': -7, 'target': 0}, (10.117870628225935, 1): {'time': 10.117870628225935, 'tau': 0.1, 'owner': 1, 'action': -5, 'target': 0}, (10.122330826160262, 1): {'time': 10.122330826160262, 'tau': 0.004460197934325806, 'owner': 1, 'action': -6, 'target': 0}, (10.126050691272496, 1): {'time': 10.126050691272496, 'tau': 0.0037198651122348904, 'owner': 1, 'action': -4, 'target': 2}, (10.129732641098876, 0): {'time': 10.129732641098876, 'tau': 0.014808095737751624, 'owner': 0, 'action': -2, 'target': 0}, (10.155226583467709, 3): {'time': 10.155226583467709, 'tau': 0.1, 'owner': 3, 'action': -5, 'target': 0}, (10.159033459412761, 3): {'time': 10.159033459412761, 'tau': 0.003806875945052887, 'owner': 3, 'action': -6, 'target': 0}, (10.214294372805771, 0): {'time': 10.214294372805771, 'tau': 0.08456173170689531, 'owner': 0, 'action': -7, 'target': 0}, (10.226040964549831, 2): {'time': 10.226040964549831, 'tau': 0.18428679891751484, 'owner': 2, 'action': -2, 'target': 2}, (10.226050691272496, 1): {'time': 10.226050691272496, 'tau': 0.1, 'owner': 1, 'action': -5, 'target': 2}, (10.22977055638473, 1): {'time': 10.22977055638473, 'tau': 0.0037198651122348904, 'owner': 1, 'action': -6, 'target': 2}, (10.303869227177854, 0): {'time': 10.303869227177854, 'tau': 0.08957485437208274, 'owner': 0, 'action': -2, 'target': 0}, (10.34511953868598, 3): {'time': 10.34511953868598, 'tau': 0.18608607927321927, 'owner': 3, 'action': -1, 'target': 3}, (10.38627304737601, 3): {'time': 10.38627304737601, 'tau': 0.04115350869003065, 'owner': 3, 'action': -1, 'target': 3}, (10.419243193165803, 2): {'time': 10.419243193165803, 'tau': 0.19320222861597156, 'owner': 2, 'action': -7, 'target': 2}, (10.434883586051777, 3): {'time': 10.434883586051777, 'tau': 0.048610538675766465, 'owner': 3, 'action': -2, 'target': 3}, (10.43869046199683, 3): {'time': 10.43869046199683, 'tau': 0.003806875945052887, 'owner': 3, 'action': -4, 'target': 0}, (10.445738168020515, 1): {'time': 10.445738168020515, 'tau': 0.21596761163578387, 'owner': 1, 'action': -2, 'target': 1}, (10.53349093398214, 2): {'time': 10.53349093398214, 'tau': 0.1142477408163365, 'owner': 2, 'action': -2, 'target': 2}, (10.537228754175784, 2): {'time': 10.537228754175784, 'tau': 0.003737820193644076, 'owner': 2, 'action': -7, 'target': 2}, (10.53869046199683, 3): {'time': 10.53869046199683, 'tau': 0.1, 'owner': 3, 'action': -5, 'target': 0}, (10.542497337941882, 3): {'time': 10.542497337941882, 'tau': 0.003806875945052887, 'owner': 3, 'action': -6, 'target': 0}, (10.61136944431392, 0): {'time': 10.61136944431392, 'tau': 0.3075002171360669, 'owner': 0, 'action': -7, 'target': 0}, (10.618017831228919, 1): {'time': 10.618017831228919, 'tau': 0.17227966320840385, 'owner': 1, 'action': -1, 'target': 1}, (10.623147055322587, 2): {'time': 10.623147055322587, 'tau': 0.08591830114680334, 'owner': 2, 'action': -7, 'target': 2}, (10.626252240262692, 1): {'time': 10.626252240262692, 'tau': 0.008234409033774152, 'owner': 1, 'action': -4, 'target': 3}, (10.655159293490579, 2): {'time': 10.655159293490579, 'tau': 0.03201223816799209, 'owner': 2, 'action': -7, 'target': 2}, (10.659938372397724, 0): {'time': 10.659938372397724, 'tau': 0.04856892808380319, 'owner': 0, 'action': -2, 'target': 0}, (10.726252240262692, 1): {'time': 10.726252240262692, 'tau': 0.1, 'owner': 1, 'action': -5, 'target': 3}, (10.728223061269725, 0): {'time': 10.728223061269725, 'tau': 0.0682846888720022, 'owner': 0, 'action': -7, 'target': 0}, (10.734486649296466, 1): {'time': 10.734486649296466, 'tau': 0.008234409033774152, 'owner': 1, 'action': -6, 'target': 3}, (10.741671198563349, 0): {'time': 10.741671198563349, 'tau': 0.013448137293624068, 'owner': 0, 'action': -7, 'target': 0}, (10.748008327811903, 1): {'time': 10.748008327811903, 'tau': 0.013521678515436175, 'owner': 1, 'action': -2, 'target': 1}, (10.750577958830345, 3): {'time': 10.750577958830345, 'tau': 0.20808062088846227, 'owner': 3, 'action': -1, 'target': 3}, (10.75246852574623, 1): {'time': 10.75246852574623, 'tau': 0.004460197934325806, 'owner': 1, 'action': -4, 'target': 0}, (10.754384834775397, 3): {'time': 10.754384834775397, 'tau': 0.003806875945052887, 'owner': 3, 'action': -4, 'target': 0}, (10.784355218291418, 2): {'time': 10.784355218291418, 'tau': 0.12919592480084013, 'owner': 2, 'action': -7, 'target': 2}, (10.821792064617783, 2): {'time': 10.821792064617783, 'tau': 0.03743684632636567, 'owner': 2, 'action': -2, 'target': 2}, (10.852468525746229, 1): {'time': 10.852468525746229, 'tau': 0.1, 'owner': 1, 'action': -5, 'target': 0}, (10.854384834775397, 3): {'time': 10.854384834775397, 'tau': 0.1, 'owner': 3, 'action': -5, 'target': 0}, (10.856928723680555, 1): {'time': 10.856928723680555, 'tau': 0.004460197934325806, 'owner': 1, 'action': -6, 'target': 0}, (10.85819171072045, 3): {'time': 10.85819171072045, 'tau': 0.003806875945052887, 'owner': 3, 'action': -6, 'target': 0}, (10.87821676331577, 0): {'time': 10.87821676331577, 'tau': 0.13654556475242, 'owner': 0, 'action': -1, 'target': 0}, (10.882676961250096, 0): {'time': 10.882676961250096, 'tau': 0.004460197934325806, 'owner': 0, 'action': -4, 'target': 1}, (10.982676961250096, 0): {'time': 10.982676961250096, 'tau': 0.1, 'owner': 0, 'action': -5, 'target': 1}, (10.987137159184423, 0): {'time': 10.987137159184423, 'tau': 0.004460197934325806, 'owner': 0, 'action': -6, 'target': 1}, (11.009907693120393, 1): {'time': 11.009907693120393, 'tau': 0.1529789694398376, 'owner': 1, 'action': -1, 'target': 1}, (11.00993545810272, 2): {'time': 11.00993545810272, 'tau': 0.1881433934849364, 'owner': 2, 'action': -7, 'target': 2}, (11.012138725930336, 3): {'time': 11.012138725930336, 'tau': 0.15394701520988685, 'owner': 3, 'action': -2, 'target': 3}, (11.01436789105472, 1): {'time': 11.01436789105472, 'tau': 0.004460197934325806, 'owner': 1, 'action': -4, 'target': 0}, (11.018660026493572, 3): {'time': 11.018660026493572, 'tau': 0.006521300563235501, 'owner': 3, 'action': -4, 'target': 2}, (11.085549086426779, 2): {'time': 11.085549086426779, 'tau': 0.075613628324058, 'owner': 2, 'action': -7, 'target': 2}, (11.11436789105472, 1): {'time': 11.11436789105472, 'tau': 0.1, 'owner': 1, 'action': -5, 'target': 0}, (11.118660026493572, 3): {'time': 11.118660026493572, 'tau': 0.1, 'owner': 3, 'action': -5, 'target': 2}, (11.118828088989046, 1): {'time': 11.118828088989046, 'tau': 0.004460197934325806, 'owner': 1, 'action': -6, 'target': 0}, (11.125181327056808, 3): {'time': 11.125181327056808, 'tau': 0.006521300563235501, 'owner': 3, 'action': -6, 'target': 2}, (11.12898820300186, 3): {'time': 11.12898820300186, 'tau': 0.003806875945052887, 'owner': 3, 'action': -4, 'target': 0}, (11.225617923286455, 2): {'time': 11.225617923286455, 'tau': 0.14006883685967642, 'owner': 2, 'action': -7, 'target': 2}, (11.22898820300186, 3): {'time': 11.22898820300186, 'tau': 0.1, 'owner': 3, 'action': -5, 'target': 0}, (11.232795078946912, 3): {'time': 11.232795078946912, 'tau': 0.003806875945052887, 'owner': 3, 'action': -6, 'target': 0}, (11.23535939511617, 0): {'time': 11.23535939511617, 'tau': 0.24822223593174764, 'owner': 0, 'action': -1, 'target': 0}, (11.236601954891965, 3): {'time': 11.236601954891965, 'tau': 0.003806875945052887, 'owner': 3, 'action': -4, 'target': 0}, (11.267084892493548, 2): {'time': 11.267084892493548, 'tau': 0.0414669692070927, 'owner': 2, 'action': -2, 'target': 2}, (11.297173249146073, 1): {'time': 11.297173249146073, 'tau': 0.1783451601570269, 'owner': 1, 'action': -1, 'target': 1}, (11.300893114258308, 1): {'time': 11.300893114258308, 'tau': 0.0037198651122348904, 'owner': 1, 'action': -4, 'target': 2}, (11.336601954891965, 3): {'time': 11.336601954891965, 'tau': 0.1, 'owner': 3, 'action': -5, 'target': 0}, (11.340408830837017, 3): {'time': 11.340408830837017, 'tau': 0.003806875945052887, 'owner': 3, 'action': -6, 'target': 0}, (11.343096413268107, 0): {'time': 11.343096413268107, 'tau': 0.1077370181519372, 'owner': 0, 'action': -2, 'target': 0}, (11.363834349657122, 2): {'time': 11.363834349657122, 'tau': 0.09674945716357447, 'owner': 2, 'action': -7, 'target': 2}, (11.400893114258308, 1): {'time': 11.400893114258308, 'tau': 0.1, 'owner': 1, 'action': -5, 'target': 2}, (11.404612979370542, 1): {'time': 11.404612979370542, 'tau': 0.0037198651122348904, 'owner': 1, 'action': -6, 'target': 2}, (11.538316477116974, 0): {'time': 11.538316477116974, 'tau': 0.19522006384886734, 'owner': 0, 'action': -7, 'target': 0}, (11.592851233030613, 3): {'time': 11.592851233030613, 'tau': 0.252442402193596, 'owner': 3, 'action': -1, 'target': 3}, (11.596518937278697, 2): {'time': 11.596518937278697, 'tau': 0.23268458762157596, 'owner': 2, 'action': -7, 'target': 2}, (11.599372533593849, 3): {'time': 11.599372533593849, 'tau': 0.006521300563235501, 'owner': 3, 'action': -4, 'target': 2}, (11.699372533593849, 3): {'time': 11.699372533593849, 'tau': 0.1, 'owner': 3, 'action': -5, 'target': 2}, (11.705893834157084, 3): {'time': 11.705893834157084, 'tau': 0.006521300563235501, 'owner': 3, 'action': -6, 'target': 2}, (11.76820118751979, 2): {'time': 11.76820118751979, 'tau': 0.17168225024109174, 'owner': 2, 'action': -7, 'target': 2}, (11.777224095171677, 0): {'time': 11.777224095171677, 'tau': 0.23890761805470356, 'owner': 0, 'action': -7, 'target': 0}, (11.790468062452607, 2): {'time': 11.790468062452607, 'tau': 0.02226687493281811, 'owner': 2, 'action': -2, 'target': 2}, (11.812767281689881, 1): {'time': 11.812767281689881, 'tau': 0.40815430231933963, 'owner': 1, 'action': -2, 'target': 1}, (11.871167738972828, 3): {'time': 11.871167738972828, 'tau': 0.16527390481574405, 'owner': 3, 'action': -2, 'target': 3}, (11.880918371059646, 0): {'time': 11.880918371059646, 'tau': 0.10369427588796998, 'owner': 0, 'action': -2, 'target': 0}, (11.925088954316172, 1): {'time': 11.925088954316172, 'tau': 0.11232167262629054, 'owner': 1, 'action': -2, 'target': 1}, (11.928808819428406, 1): {'time': 11.928808819428406, 'tau': 0.0037198651122348904, 'owner': 1, 'action': -4, 'target': 2}, (11.936016440670842, 0): {'time': 11.936016440670842, 'tau': 0.05509806961119622, 'owner': 0, 'action': -2, 'target': 0}, (11.96794941483216, 2): {'time': 11.96794941483216, 'tau': 0.1774813523795525, 'owner': 2, 'action': -7, 'target': 2}, (11.991931139475515, 2): {'time': 11.991931139475515, 'tau': 0.023981724643354796, 'owner': 2, 'action': -7, 'target': 2}, (12.0, 0): {'time': 12.0, 'tau': 0.06398355932915778, 'owner': 0, 'action': -7, 'target': 0}, (12.0, 1): {'time': 12.0, 'tau': 0.07119118057159426, 'owner': 1, 'action': -5, 'target': 2}, (12.0, 2): {'time': 12.0, 'tau': 0.008068860524484994, 'owner': 2, 'action': -7, 'target': 2}, (12.0, 3): {'time': 12.0, 'tau': 0.12883226102717243, 'owner': 3, 'action': -1, 'target': 3}})\n",
      "455\n"
     ]
    }
   ],
   "source": [
    "print(timeline)\n",
    "print(len(timeline))"
   ]
  },
  {
   "cell_type": "code",
   "execution_count": 12,
   "metadata": {},
   "outputs": [],
   "source": [
    "#timeline2=SortedDict()\n",
    "\n",
    "#def addtotimeline2(ticket):\n",
    "#    global timeline2\n",
    "#    timeline2[(ticket[\"owner\"], ticket[\"time\"])] = ticket\n",
    "    \n",
    "\n",
    "#for key in timeline:\n",
    "#    tic=timeline[key]\n",
    "#    addtotimeline2(tic)\n",
    "    "
   ]
  },
  {
   "cell_type": "code",
   "execution_count": 13,
   "metadata": {},
   "outputs": [],
   "source": [
    "#print(timeline2)"
   ]
  },
  {
   "cell_type": "code",
   "execution_count": 14,
   "metadata": {},
   "outputs": [],
   "source": [
    "#plt.figure()\n",
    "#for i in range(males):\n",
    "#    dic=d[\"next_forages{0}\".format(i)]\n",
    "#    print(dic)\n",
    "#    line=[i]*len(dic)\n",
    "#    plt.plot(dic,line,'.')\n"
   ]
  },
  {
   "cell_type": "code",
   "execution_count": 15,
   "metadata": {
    "scrolled": false
   },
   "outputs": [
    {
     "name": "stdout",
     "output_type": "stream",
     "text": [
      "25\n",
      "[0.506680523066587, 1.076448650472676, 1.517670495592732, 1.9506819107057523, 2.2922653511660087, 2.997349162164911, 3.326785467306485, 3.9490487549136573, 4.640988295368519, 5.05896014408552, 5.49499991970563, 5.848529307643286, 6.089121424429482, 6.80670611020991, 7.153233821540328, 7.463904720588291, 8.169712545791791, 8.715574450960323, 9.37309085504295, 10.114924545361124, 10.214294372805771, 10.61136944431392, 11.23535939511617, 11.777224095171677, 11.880918371059646]\n",
      "21\n",
      "[0.6397335957218753, 1.3109139208846419, 1.7476161174486757, 2.2672712251823746, 2.7631470999439043, 3.1844019927602654, 3.8221309472648204, 4.295890498741841, 4.784975269292846, 5.51487066865854, 6.2240737954250145, 6.61160890936365, 7.307060126066406, 7.9659849007141945, 8.296883501531397, 8.915355306382976, 9.532241109177564, 10.22977055638473, 10.734486649296466, 11.404612979370542, 11.812767281689881]\n",
      "22\n",
      "[0.4425870028103981, 1.1739442484150295, 1.7686662923785021, 2.3416306500288186, 3.129374473480296, 4.091566327303468, 4.557714713163995, 5.037607260907414, 5.690439563244243, 6.172665225316594, 6.604587511805907, 7.085382388687579, 7.535571728147132, 8.134213481221929, 8.410520262817371, 8.768162938061797, 9.538289669125076, 10.041754165632316, 10.419243193165803, 10.784355218291418, 11.225617923286455, 11.76820118751979]\n",
      "22\n",
      "[0.234405304239826, 0.9692968297684517, 1.3132327102488235, 1.8188915454105474, 2.3901347734643785, 2.7857532920263286, 3.4269050863042665, 4.220029664078602, 4.4588693667387505, 5.076825663653154, 5.776100535206727, 6.373950860856425, 7.033694479456909, 7.6647263529497405, 8.01164671139041, 8.456750267657625, 8.907845447455893, 9.186507252436352, 9.863153745831049, 10.38627304737601, 10.85819171072045, 11.705893834157084]\n"
     ]
    },
    {
     "data": {
      "image/png": "[encoded data removed]",
      "text/plain": [
       "<Figure size 432x288 with 1 Axes>"
      ]
     },
     "metadata": {},
     "output_type": "display_data"
    }
   ],
   "source": [
    "plt.figure()\n",
    "for i in range(males):\n",
    "    dic=d[\"forage_times{0}\".format(i)]\n",
    "    print(len(dic))\n",
    "    print(dic)\n",
    "    line=[i]*len(dic)\n",
    "    plt.plot(dic,line,'.')\n"
   ]
  },
  {
   "cell_type": "code",
   "execution_count": 16,
   "metadata": {},
   "outputs": [
    {
     "name": "stdout",
     "output_type": "stream",
     "text": [
      "SortedDict({(1, 0): {'time': 1, 'tau': 1, 'owner': 0, 'action': -1, 'target': 0}, (1, 1): {'time': 1, 'tau': 1, 'owner': 1, 'action': -1, 'target': 1}, (1, 2): {'time': 1, 'tau': 1, 'owner': 2, 'action': -1, 'target': 2}, (1, 3): {'time': 1, 'tau': 1, 'owner': 3, 'action': -1, 'target': 3}})\n",
      "None\n",
      "[1, 1, 1, 1]\n",
      "[0.95, 0, 0, 0]\n",
      "SortedDict({(1, 0): {'time': 1, 'tau': 1, 'owner': 0, 'action': -1, 'target': 0}, (1, 1): {'time': 1, 'tau': 1, 'owner': 1, 'action': -1, 'target': 1}, (1, 2): {'time': 1, 'tau': 1, 'owner': 2, 'action': -1, 'target': 2}, (1, 3): {'time': 1, 'tau': 1, 'owner': 3, 'action': -1, 'target': 3}})\n"
     ]
    }
   ],
   "source": [
    "#testing FVstatechanger (without the implementation of FV_tics)\n",
    "\n",
    "def FVstatechanger(new_tic): #here the t is the start time... idea for future: female start and end tics?\n",
    "    targ=new_tic['target']\n",
    "    t=new_tic['time']\n",
    "    SB_time=male_states[targ]\n",
    "    if bower_states[targ]==0 and SB_time!=0 and mating_states[targ]<t:\n",
    "        fitness_states[targ]+=1\n",
    "        mating_end=.25+t #can use dist instead of .25\n",
    "        if t>SB_time:\n",
    "            #print(\"t is less than mating end\")\n",
    "            old_tau=timeline2[(SB_time, targ)]['tau'] #access the tau of the SB_tic -- we will use it to make a new one\n",
    "            timeline2[(SB_time, targ)]['action']=1 #nullify currently scheduled SB_tic\n",
    "            #now make a new SB_tic with modified tau and time (so that male leaves right after finishing mating)\n",
    "            truncator=0\n",
    "            if mating_end>t_max:\n",
    "                truncator=mating_end-t_max  \n",
    "            SB_tau=old_tau+(mating_end-SB_time)-truncator\n",
    "            SB_time=mating_end-truncator\n",
    "            SB_tic=ticketgenerator(SB_time, SB_tau, targ, -1, targ)\n",
    "            addtotimeline2(SB_tic)\n",
    "        mating_states[targ]=mating_end\n",
    "        male_states[targ]=SB_time\n",
    "        \n",
    "\n",
    "timeline2=SortedDict()\n",
    "\n",
    "def addtotimeline2(ticket):\n",
    "    global timeline2\n",
    "    timeline2[(ticket[\"time\"], ticket[\"owner\"])] = ticket\n",
    "    \n",
    "bower_states = [0] * males\n",
    "male_states = [1] * males \n",
    "mating_states = [0] * males\n",
    "\n",
    "for i in range(males):\n",
    "    addtotimeline2(ticketgenerator(1, 1, i, -1, i))\n",
    "print(timeline2)\n",
    "\n",
    "female_tic=ticketgenerator(0.7, 0.03, 5, -3, 0) #works at both .7 and .9 (when SB_tic must be re-written)\n",
    "print(FVstatechanger(female_tic))\n",
    "\n",
    "print(male_states)\n",
    "print(mating_states)\n",
    "print(timeline2)"
   ]
  },
  {
   "cell_type": "code",
   "execution_count": null,
   "metadata": {},
   "outputs": [],
   "source": []
  }
 ],
 "metadata": {
  "kernelspec": {
   "display_name": "Python 3",
   "language": "python",
   "name": "python3"
  },
  "language_info": {
   "codemirror_mode": {
    "name": "ipython",
    "version": 3
   },
   "file_extension": ".py",
   "mimetype": "text/x-python",
   "name": "python",
   "nbconvert_exporter": "python",
   "pygments_lexer": "ipython3",
   "version": "3.6.5"
  }
 },
 "nbformat": 4,
 "nbformat_minor": 2
}
