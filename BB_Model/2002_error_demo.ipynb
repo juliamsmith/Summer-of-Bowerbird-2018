{
 "cells": [
  {
   "cell_type": "code",
   "execution_count": 11,
   "metadata": {},
   "outputs": [],
   "source": [
    "import math\n",
    "from sortedcontainers import SortedDict\n",
    "import random\n",
    "import numpy \n",
    "import matplotlib.pyplot as plt"
   ]
  },
  {
   "cell_type": "code",
   "execution_count": 21,
   "metadata": {},
   "outputs": [],
   "source": [
    "# Global Parameters:\n",
    "t_max = 12 #*30 #352 months in hrs (assume no nights so 12 hr = 1 day)\n",
    "timeline = SortedDict() #New and improved timeline (using a sorted dictionary)!\n",
    "FV_param = [0, t_max] #5days, tmax/3 #0.2 #males/0.19 #totally random\n",
    "FG_param = 3 #larger values lead to foraging ending earlier, because taus are smaller\n",
    "SB_param = 1.5 #larger values lead to bowerstay ending earlier, because taus are smaller\n",
    "RB_param = 6 #made up -- takes 30mins (every time -- no distribution) to repair bower\n",
    "MA_param = 0.1 #made up -- takes 6mins (every time -- no distribution) to maraud bower\n",
    "males = 2\n",
    "next_forage = numpy.random.normal(loc=40000000, scale=.167, size=males)\n",
    "bower_states = [0] * males\n",
    "male_states = [0] * males \n",
    "strategy_states=[0]*males\n",
    "mating_states = [0] * males\n",
    "fitness_states = numpy.array([0] * males)\n",
    "success_rate = 1\n",
    "success_times = [] #going to change this to be a vector of times when the female leaves (at this point, sucessful mating has occured)\n",
    "recents_list = []\n",
    "max_visits = 6 #STEEEEVEEEE\n",
    "bird_speed = 12 * 3600 #m/hr (12m/s)\n",
    "x_dim, y_dim = 400, 500 #dimensions of environment\n",
    "FperM = 3 #number of sexually mature females per sexually mature males in a bowerbird population\n",
    "num_sims = 1\n",
    "not_maraud_time = 0.15\n",
    "\n",
    "new_tic_glob={}\n",
    "\n",
    "d={} \n",
    "\n",
    "for i in range(males):\n",
    "    d[\"next_forages{0}\".format(i)]=[]\n",
    "    d[\"forage_times{0}\".format(i)]=[]"
   ]
  },
  {
   "cell_type": "code",
   "execution_count": 22,
   "metadata": {},
   "outputs": [],
   "source": [
    "def ticketgenerator(t, tau, ow, ac, targ):\n",
    "    ticket = {\n",
    "        'time': t, #time at which the activity starts\n",
    "        'tau': tau, #how long the activity lasts\n",
    "        'owner': ow, #who is doing the activity (could be a female if action=-3)\n",
    "        'action': ac, #which activity (see key)\n",
    "        'target': targ, #target of the activity (owner=target unless action=-3,-4,-5, or -6)\n",
    "    }\n",
    "    return ticket"
   ]
  },
  {
   "cell_type": "code",
   "execution_count": 23,
   "metadata": {},
   "outputs": [],
   "source": [
    "#Adds tickets to timeline- sorts by time\n",
    "def addtotimeline(ticket):\n",
    "    global timeline\n",
    "    timeline[(ticket[\"time\"], ticket[\"owner\"])] = ticket"
   ]
  },
  {
   "cell_type": "code",
   "execution_count": 24,
   "metadata": {},
   "outputs": [],
   "source": [
    "# creation of the environment\n",
    "\n",
    "def envgenerator(males, x_dim, y_dim):\n",
    "    Xs = numpy.random.rand(males) * x_dim\n",
    "    Ys = numpy.random.rand(males) * y_dim\n",
    "    return [Xs,Ys]\n",
    "\n",
    "def dists(xy, bird_speed):\n",
    "    male_dist = numpy.zeros(males * males).reshape((males, males))\n",
    "    travel_times = numpy.zeros(males * males).reshape((males, males))\n",
    "    for i in range(males):\n",
    "        for j in range(i + 1, males):\n",
    "            dist = math.sqrt((xy[0][j] - xy[0][i]) ** 2 + (xy[1][j] - xy[1][i]) ** 2)\n",
    "            travel = dist / bird_speed\n",
    "            male_dist[j][i] = dist\n",
    "            male_dist[i][j] = dist\n",
    "            travel_times[j][i] = travel\n",
    "            travel_times[i][j] = travel\n",
    "    return [male_dist,travel_times]\n",
    "\n",
    "# the probability of choosing a neighbor at distance x is proportional to exp(-\\lambda x)\n",
    "# choose lambda such that 99% of the mass is before 800 meters\n",
    "improb = 0.99\n",
    "improb_distance = 800\n",
    "lamb = -math.log(1 - improb) / improb_distance\n",
    "\n",
    "#will write female preference based on cumulative exponential decay (lambda=.00576)\n",
    "def preferences(male_dist, males, lamb):\n",
    "    # compute exponential of each coefficient\n",
    "    visit_preferences = numpy.exp(-lamb * male_dist)\n",
    "    # remove the identity matrix (exp(0) = 1)\n",
    "    visit_preferences = visit_preferences - numpy.eye(males)\n",
    "    # make rows sum to one\n",
    "    visit_preferences = (visit_preferences.transpose() / numpy.sum(visit_preferences, 1)).transpose()\n",
    "    return visit_preferences"
   ]
  },
  {
   "cell_type": "code",
   "execution_count": 25,
   "metadata": {},
   "outputs": [],
   "source": [
    "def nextFGtaugenerator(): #This generates the time until next_forage\n",
    "    interval=-1\n",
    "    while interval<=0: #ensures we pick positive values until next_forage\n",
    "        interval=numpy.random.normal(loc=.4, scale=.167, size=1)[0]\n",
    "    return interval\n",
    "    \n",
    "\n",
    "# function for determining the next time based on our rate parameters\n",
    "def nexttau(action, ow, targ): \n",
    "    new_tau=-1\n",
    "    while new_tau<=0: #ensures we pick positive values for new_tau\n",
    "        switcher = { \n",
    "            -1: numpy.random.normal(loc=.1583, scale=.09755, size=1)[0], #choose when to leave bower (generate a tau for bower stay)\n",
    "            -2: numpy.random.gamma(shape=1.5, scale=5, size=1)[0]/60, #choose when to stop foraging (generate a tau for foraging)\n",
    "            -3: numpy.random.uniform(FV_param[0], FV_param[1]), #FV_param... totally arbitrary so we should think about it\n",
    "            -4: travel_times[ow][targ],\n",
    "            -5: MA_param, #in the future we'll do something with it\n",
    "            -6: travel_times[targ][ow],\n",
    "            -7: numpy.random.normal(loc=.1583, scale=.09755, size=1)[0],\n",
    "        }\n",
    "        new_tau=switcher.get(action)\n",
    "    return new_tau\n",
    "\n",
    "def futurebuilder(old_tic, new_ac, new_targ): #returns new ticket after ensuring it doesn't exceed t_max\n",
    "    old_t=old_tic['time']\n",
    "    new_tic={}\n",
    "    if math.isclose(old_t, t_max, rel_tol=0, abs_tol=.0000001)==0: #if old_t is not essentially t_max\n",
    "        ow=old_tic['owner']\n",
    "        new_tau=nexttau(new_ac, ow, new_targ)\n",
    "        end_t=old_t+new_tau #this time is the time when the action has ended\n",
    "        if end_t>t_max: \n",
    "            new_tau=new_tau-(end_t-t_max) #modify the new_tau so end_t will be t_max\n",
    "            end_t=old_t+new_tau #recalculate end_t\n",
    "        new_tic=ticketgenerator(end_t, new_tau, ow, new_ac, new_targ) #now the time represents the end time for the action\n",
    "    return new_tic"
   ]
  },
  {
   "cell_type": "code",
   "execution_count": 26,
   "metadata": {},
   "outputs": [],
   "source": [
    "def statechanger(new_tic): #calls functions to change states of males i.e. for bower destruction, absence from bower\n",
    "    options = {-1: SBstatechanger,\n",
    "               -2: FGstatechanger,\n",
    "               -3: FVstatechanger,\n",
    "               -4: MTstatechanger,\n",
    "               -5: MAstatechanger, \n",
    "               -6: MRstatenotchanger,\n",
    "               -7: RBstatechanger\n",
    "              }\n",
    "    options[new_tic['action']](new_tic)\n",
    "    \n",
    "def SBstatechanger(new_tic): \n",
    "    ow=new_tic['owner']\n",
    "    t=new_tic['time']\n",
    "    male_states[ow]=t #male is at his bower / store time so that we FV can access and modify SB_tic in sorted dict\n",
    "\n",
    "def FGstatechanger(new_tic):\n",
    "    ow=new_tic['owner']\n",
    "    male_states[ow]=0 #Male is now absent from bower\n",
    "\n",
    "def FVstatechanger(new_tic): #here the t is the start time... idea for future: female start and end tics?\n",
    "    targ=new_tic['target']\n",
    "    t=new_tic['time']\n",
    "    if bower_states[targ]==0 and male_states[targ]!=0 and mating_states[targ]<t:\n",
    "        fitness_states[targ]+=1\n",
    "        mating_end=.25+t #can use dist instead of .25\n",
    "        if t<mating_end:\n",
    "            SB_tic=tl_dict[t] #PSEUDO\n",
    "            SB_tic['tau']=SB_tic['tau']+(mating_end-SB_tic['time'])\n",
    "            SB_tic['time']=mating_end\n",
    "            #re-add tic to sorted dict (if not done automatically)\n",
    "        mating_states[targ]=mating_end      \n",
    "    \n",
    "def MTstatechanger(new_tic):\n",
    "    ow=new_tic['owner']\n",
    "    male_states[ow]=0  #Male is now absent from bower\n",
    "\n",
    "def MAstatechanger(new_tic): #store number of successful marauds of each male --> MAKE A NEW STATE\n",
    "    targ=new_tic['target']\n",
    "    if bower_states[targ]==0 and male_states[targ]==0:\n",
    "        bower_states[targ]=-1*RB_param\n",
    "    #MAKE IT EITHER TAKE maraud_time or 0 (in the else)\n",
    "    \n",
    "def MRstatenotchanger(new_tic):\n",
    "    pass\n",
    "\n",
    "def RBstatechanger(new_tic):\n",
    "    tau=new_tic['tau']\n",
    "    if bower_states[ow]+tau>0:\n",
    "        new_tic['time']-=bower_states[ow]+tau #think about it more in the AM :)\n",
    "        tau=-1*bower_states[ow]\n",
    "        new_tic['tau']=tau\n",
    "        #add changes to timeline dict if necessary\n",
    "    bower_states[ow]+=tau\n",
    "    male_states[ow]=new_tic['time'] #although it doesn't matter from an FV POV\n",
    "    \n",
    "\n",
    "#choose what action / sequence of actions to do next\n",
    "def decider(tic):\n",
    "    ow = tic['owner']\n",
    "    ac = tic['action'] \n",
    "    t = tic['time']\n",
    "    targ=ow #will be reset in the case of -4\n",
    "    if t>next_forage[ow]:\n",
    "        d[\"forage_times{0}\".format(ow)].append(t)\n",
    "        #print(\"t is greater than next_FG[{:f}]: t={:f}, next_FG={:f}\".format(ow, t, next_forage[ow]))\n",
    "        new_ac=-2 #forage\n",
    "        d[\"next_forages{0}\".format(ow)].append(next_forage[ow])\n",
    "        next_forage[ow] = t+nextFGtaugenerator() #forage 30 times / day on average (but underestimates)\n",
    "    elif bower_states[ow]<0:\n",
    "        new_ac=-7 #repair bower\n",
    "    else:\n",
    "        if random.random()<strategy_states[ow]: #if male chooses to maraud \n",
    "            targ=numpy.random.choice(list(range(males)), p=visit_preferences[ow])\n",
    "            new_ac=-4 #maurad travel\n",
    "        else: #if male chooses to stay at bower\n",
    "            new_ac=-1 #stay at bower\n",
    "    new_tic=futurebuilder(tic, new_ac, targ) #ONE IDEA -- separate ticket generation and adding to timeline\n",
    "    return new_tic"
   ]
  },
  {
   "cell_type": "code",
   "execution_count": 27,
   "metadata": {},
   "outputs": [],
   "source": [
    "xy = envgenerator(males, x_dim, y_dim)\n",
    "\n",
    "travel_mats=dists(xy, bird_speed)\n",
    "male_dist=travel_mats[0]\n",
    "travel_times=travel_mats[1]\n",
    "\n",
    "visit_preferences=preferences(male_dist, males, lamb)"
   ]
  },
  {
   "cell_type": "code",
   "execution_count": 28,
   "metadata": {},
   "outputs": [],
   "source": [
    "for i in range(males):\n",
    "    addtotimeline(ticketgenerator(0.0, 0.0, i, -2, i))"
   ]
  },
  {
   "cell_type": "code",
   "execution_count": 29,
   "metadata": {},
   "outputs": [
    {
     "name": "stdout",
     "output_type": "stream",
     "text": [
      "done (for some owner)!\n",
      "done (for some owner)!\n"
     ]
    }
   ],
   "source": [
    "acc=len(timeline)\n",
    "new_tic=ticketgenerator(0.0, 0.0, 0, -2, 0) #for testing\n",
    "for key in timeline:\n",
    "    acc+=1\n",
    "    tic=timeline[key]\n",
    "    #if tic!=new_tic:\n",
    "        #print(\"error^\")\n",
    "        #print(tic)\n",
    "        #print(new_tic)\n",
    "    #print(\"this\")\n",
    "    #print(tic)\n",
    "    ac=tic['action']\n",
    "    ow=tic['owner']\n",
    "    targ=tic['target']\n",
    "    if ac==-4 or ac==-5:\n",
    "        #generate a -5 or -6 tic as new_tic and pass it in\n",
    "        new_tic=futurebuilder(tic, ac-1, targ)\n",
    "    #elif ac==-3:\n",
    "    #    #d[\"rl{0}\".format(ow)]=FVtickethandler(next_tic, d[\"rl{0}\".format(ow)])\n",
    "    #    new_tic=FVtickethandler()\n",
    "    else:\n",
    "        new_tic=decider(tic)\n",
    "    if new_tic=={}:\n",
    "        print(\"done (for some owner)!\")\n",
    "    else:\n",
    "        statechanger(new_tic)\n",
    "        #print(\"produces this:\")\n",
    "        #print(new_tic)\n",
    "        addtotimeline(new_tic)"
   ]
  },
  {
   "cell_type": "code",
   "execution_count": null,
   "metadata": {},
   "outputs": [],
   "source": [
    "print(len(timeline)/(males*t_max))"
   ]
  },
  {
   "cell_type": "code",
   "execution_count": 30,
   "metadata": {},
   "outputs": [
    {
     "data": {
      "text/plain": [
       "142"
      ]
     },
     "execution_count": 30,
     "metadata": {},
     "output_type": "execute_result"
    }
   ],
   "source": [
    "len(timeline)"
   ]
  },
  {
   "cell_type": "code",
   "execution_count": 31,
   "metadata": {},
   "outputs": [
    {
     "data": {
      "text/plain": [
       "SortedDict({(0.0, 0): {'time': 0.0, 'tau': 0.0, 'owner': 0, 'action': -2, 'target': 0}, (0.0, 1): {'time': 0.0, 'tau': 0.0, 'owner': 1, 'action': -2, 'target': 1}, (0.05977838246687345, 1): {'time': 0.05977838246687345, 'tau': 0.05977838246687345, 'owner': 1, 'action': -1, 'target': 1}, (0.07355855879734643, 1): {'time': 0.07355855879734643, 'tau': 0.013780176330472987, 'owner': 1, 'action': -1, 'target': 1}, (0.19539136770322935, 1): {'time': 0.19539136770322935, 'tau': 0.12183280890588292, 'owner': 1, 'action': -1, 'target': 1}, (0.23880547862020718, 1): {'time': 0.23880547862020718, 'tau': 0.04341411091697782, 'owner': 1, 'action': -1, 'target': 1}, (0.3150547676075608, 0): {'time': 0.3150547676075608, 'tau': 0.3150547676075608, 'owner': 0, 'action': -1, 'target': 0}, (0.4761730804432841, 1): {'time': 0.4761730804432841, 'tau': 0.23736760182307692, 'owner': 1, 'action': -1, 'target': 1}, (0.5911201660853066, 1): {'time': 0.5911201660853066, 'tau': 0.11494708564202252, 'owner': 1, 'action': -1, 'target': 1}, (0.6161158785094332, 0): {'time': 0.6161158785094332, 'tau': 0.3010611109018723, 'owner': 0, 'action': -1, 'target': 0}, (0.7653897253869055, 1): {'time': 0.7653897253869055, 'tau': 0.17426955930159888, 'owner': 1, 'action': -1, 'target': 1}, (0.9264696352516505, 0): {'time': 0.9264696352516505, 'tau': 0.3103537567422173, 'owner': 0, 'action': -1, 'target': 0}, (0.9346975840576092, 1): {'time': 0.9346975840576092, 'tau': 0.16930785867070364, 'owner': 1, 'action': -1, 'target': 1}, (1.005768240789951, 0): {'time': 1.005768240789951, 'tau': 0.07929860553830065, 'owner': 0, 'action': -1, 'target': 0}, (1.0236173429126247, 1): {'time': 1.0236173429126247, 'tau': 0.08891975885501552, 'owner': 1, 'action': -1, 'target': 1}, (1.2168622970063796, 0): {'time': 1.2168622970063796, 'tau': 0.21109405621642857, 'owner': 0, 'action': -1, 'target': 0}, (1.2996537681380262, 1): {'time': 1.2996537681380262, 'tau': 0.27603642522540145, 'owner': 1, 'action': -1, 'target': 1}, (1.343900020513483, 0): {'time': 1.343900020513483, 'tau': 0.1270377235071034, 'owner': 0, 'action': -1, 'target': 0}, (1.3994596650441717, 1): {'time': 1.3994596650441717, 'tau': 0.09980589690614544, 'owner': 1, 'action': -1, 'target': 1}, (1.5205886606221166, 0): {'time': 1.5205886606221166, 'tau': 0.1766886401086337, 'owner': 0, 'action': -1, 'target': 0}, (1.6215241433267855, 1): {'time': 1.6215241433267855, 'tau': 0.22206447828261366, 'owner': 1, 'action': -1, 'target': 1}, (1.6604269160586156, 0): {'time': 1.6604269160586156, 'tau': 0.139838255436499, 'owner': 0, 'action': -1, 'target': 0}, (1.750979240122956, 1): {'time': 1.750979240122956, 'tau': 0.12945509679617045, 'owner': 1, 'action': -1, 'target': 1}, (1.8628014231695291, 0): {'time': 1.8628014231695291, 'tau': 0.2023745071109135, 'owner': 0, 'action': -1, 'target': 0}, (1.886299153860473, 1): {'time': 1.886299153860473, 'tau': 0.13531991373751695, 'owner': 1, 'action': -1, 'target': 1}, (1.9688235927476845, 1): {'time': 1.9688235927476845, 'tau': 0.08252443888721148, 'owner': 1, 'action': -1, 'target': 1}, (2.0435415398396835, 0): {'time': 2.0435415398396835, 'tau': 0.18074011667015452, 'owner': 0, 'action': -1, 'target': 0}, (2.1455647866892793, 1): {'time': 2.1455647866892793, 'tau': 0.1767411939415946, 'owner': 1, 'action': -1, 'target': 1}, (2.24914292724707, 0): {'time': 2.24914292724707, 'tau': 0.2056013874073869, 'owner': 0, 'action': -1, 'target': 0}, (2.3609272433123607, 1): {'time': 2.3609272433123607, 'tau': 0.21536245662308132, 'owner': 1, 'action': -1, 'target': 1}, (2.37126672449492, 0): {'time': 2.37126672449492, 'tau': 0.12212379724784954, 'owner': 0, 'action': -1, 'target': 0}, (2.555230680100609, 0): {'time': 2.555230680100609, 'tau': 0.18396395560568918, 'owner': 0, 'action': -1, 'target': 0}, (2.6624625813191916, 1): {'time': 2.6624625813191916, 'tau': 0.3015353380068308, 'owner': 1, 'action': -1, 'target': 1}, (2.699564109687928, 0): {'time': 2.699564109687928, 'tau': 0.14433342958731904, 'owner': 0, 'action': -1, 'target': 0}, (2.7833158414636974, 0): {'time': 2.7833158414636974, 'tau': 0.08375173177576913, 'owner': 0, 'action': -1, 'target': 0}, (2.790246893457453, 1): {'time': 2.790246893457453, 'tau': 0.12778431213826175, 'owner': 1, 'action': -1, 'target': 1}, (2.985827243969179, 0): {'time': 2.985827243969179, 'tau': 0.2025114025054819, 'owner': 0, 'action': -1, 'target': 0}, (3.013428602832972, 1): {'time': 3.013428602832972, 'tau': 0.22318170937551915, 'owner': 1, 'action': -1, 'target': 1}, (3.1312642347970754, 0): {'time': 3.1312642347970754, 'tau': 0.1454369908278964, 'owner': 0, 'action': -1, 'target': 0}, (3.1379831223456067, 1): {'time': 3.1379831223456067, 'tau': 0.12455451951263449, 'owner': 1, 'action': -1, 'target': 1}, (3.2246896201073323, 1): {'time': 3.2246896201073323, 'tau': 0.08670649776172543, 'owner': 1, 'action': -1, 'target': 1}, (3.269989878475465, 0): {'time': 3.269989878475465, 'tau': 0.1387256436783898, 'owner': 0, 'action': -1, 'target': 0}, (3.4074257688777787, 1): {'time': 3.4074257688777787, 'tau': 0.18273614877044636, 'owner': 1, 'action': -1, 'target': 1}, (3.473178747775477, 0): {'time': 3.473178747775477, 'tau': 0.2031888693000117, 'owner': 0, 'action': -1, 'target': 0}, (3.5063556725525777, 1): {'time': 3.5063556725525777, 'tau': 0.098929903674799, 'owner': 1, 'action': -1, 'target': 1}, (3.702731085927579, 0): {'time': 3.702731085927579, 'tau': 0.22955233815210174, 'owner': 0, 'action': -1, 'target': 0}, (3.728741406303394, 0): {'time': 3.728741406303394, 'tau': 0.026010320375814938, 'owner': 0, 'action': -1, 'target': 0}, (3.8654580299398846, 1): {'time': 3.8654580299398846, 'tau': 0.35910235738730684, 'owner': 1, 'action': -1, 'target': 1}, (3.906090577099294, 0): {'time': 3.906090577099294, 'tau': 0.1773491707959001, 'owner': 0, 'action': -1, 'target': 0}, (4.007206206722354, 0): {'time': 4.007206206722354, 'tau': 0.10111562962305998, 'owner': 0, 'action': -1, 'target': 0}, (4.044128062409565, 1): {'time': 4.044128062409565, 'tau': 0.178670032469681, 'owner': 1, 'action': -1, 'target': 1}, (4.190759756436655, 0): {'time': 4.190759756436655, 'tau': 0.18355354971430135, 'owner': 0, 'action': -1, 'target': 0}, (4.2984170140861835, 1): {'time': 4.2984170140861835, 'tau': 0.254288951676618, 'owner': 1, 'action': -1, 'target': 1}, (4.37099666883486, 0): {'time': 4.37099666883486, 'tau': 0.18023691239820458, 'owner': 0, 'action': -1, 'target': 0}, (4.4646521590178665, 1): {'time': 4.4646521590178665, 'tau': 0.16623514493168287, 'owner': 1, 'action': -1, 'target': 1}, (4.5536912731753265, 0): {'time': 4.5536912731753265, 'tau': 0.18269460434046608, 'owner': 0, 'action': -1, 'target': 0}, (4.625056337730893, 1): {'time': 4.625056337730893, 'tau': 0.160404178713026, 'owner': 1, 'action': -1, 'target': 1}, (4.747883304034521, 0): {'time': 4.747883304034521, 'tau': 0.19419203085919487, 'owner': 0, 'action': -1, 'target': 0}, (4.933103018832738, 0): {'time': 4.933103018832738, 'tau': 0.18521971479821667, 'owner': 0, 'action': -1, 'target': 0}, (4.934277988918895, 1): {'time': 4.934277988918895, 'tau': 0.30922165118800193, 'owner': 1, 'action': -1, 'target': 1}, (5.1728143529252275, 0): {'time': 5.1728143529252275, 'tau': 0.2397113340924898, 'owner': 0, 'action': -1, 'target': 0}, (5.178594135901381, 1): {'time': 5.178594135901381, 'tau': 0.24431614698248577, 'owner': 1, 'action': -1, 'target': 1}, (5.2532322092890045, 1): {'time': 5.2532322092890045, 'tau': 0.07463807338762286, 'owner': 1, 'action': -1, 'target': 1}, (5.507097221082099, 1): {'time': 5.507097221082099, 'tau': 0.25386501179309484, 'owner': 1, 'action': -1, 'target': 1}, (5.542421425539885, 0): {'time': 5.542421425539885, 'tau': 0.3696070726146581, 'owner': 0, 'action': -1, 'target': 0}, (5.598041007400156, 1): {'time': 5.598041007400156, 'tau': 0.09094378631805684, 'owner': 1, 'action': -1, 'target': 1}, (5.655623241942321, 1): {'time': 5.655623241942321, 'tau': 0.05758223454216414, 'owner': 1, 'action': -1, 'target': 1}, (5.675536859558484, 0): {'time': 5.675536859558484, 'tau': 0.1331154340185987, 'owner': 0, 'action': -1, 'target': 0}, (5.819768481177647, 0): {'time': 5.819768481177647, 'tau': 0.14423162161916284, 'owner': 0, 'action': -1, 'target': 0}, (5.829591643420524, 1): {'time': 5.829591643420524, 'tau': 0.17396840147820275, 'owner': 1, 'action': -1, 'target': 1}, (6.060874655067967, 1): {'time': 6.060874655067967, 'tau': 0.231283011647443, 'owner': 1, 'action': -1, 'target': 1}, (6.078338358202366, 1): {'time': 6.078338358202366, 'tau': 0.017463703134399072, 'owner': 1, 'action': -1, 'target': 1}, (6.174742088050525, 0): {'time': 6.174742088050525, 'tau': 0.3549736068728787, 'owner': 0, 'action': -1, 'target': 0}, (6.208478649355964, 1): {'time': 6.208478649355964, 'tau': 0.13014029115359796, 'owner': 1, 'action': -1, 'target': 1}, (6.375903267235451, 1): {'time': 6.375903267235451, 'tau': 0.1674246178794871, 'owner': 1, 'action': -1, 'target': 1}, (6.385117356998242, 0): {'time': 6.385117356998242, 'tau': 0.21037526894771627, 'owner': 0, 'action': -1, 'target': 0}, (6.556585964210666, 1): {'time': 6.556585964210666, 'tau': 0.18068269697521572, 'owner': 1, 'action': -1, 'target': 1}, (6.683621346097564, 0): {'time': 6.683621346097564, 'tau': 0.2985039890993225, 'owner': 0, 'action': -1, 'target': 0}, (6.7270566647923715, 1): {'time': 6.7270566647923715, 'tau': 0.1704707005817052, 'owner': 1, 'action': -1, 'target': 1}, (6.760134945517086, 0): {'time': 6.760134945517086, 'tau': 0.07651359941952181, 'owner': 0, 'action': -1, 'target': 0}, (6.835154681620857, 1): {'time': 6.835154681620857, 'tau': 0.10809801682848535, 'owner': 1, 'action': -1, 'target': 1}, (6.963673091078388, 1): {'time': 6.963673091078388, 'tau': 0.12851840945753135, 'owner': 1, 'action': -1, 'target': 1}, (6.981873868439962, 0): {'time': 6.981873868439962, 'tau': 0.2217389229228759, 'owner': 0, 'action': -1, 'target': 0}, (7.201677287342506, 0): {'time': 7.201677287342506, 'tau': 0.2198034189025443, 'owner': 0, 'action': -1, 'target': 0}, (7.29130985533377, 1): {'time': 7.29130985533377, 'tau': 0.32763676425538213, 'owner': 1, 'action': -1, 'target': 1}, (7.358434259575247, 1): {'time': 7.358434259575247, 'tau': 0.06712440424147714, 'owner': 1, 'action': -1, 'target': 1}, (7.449612233522132, 0): {'time': 7.449612233522132, 'tau': 0.24793494617962644, 'owner': 0, 'action': -1, 'target': 0}, (7.5065221781800435, 1): {'time': 7.5065221781800435, 'tau': 0.1480879186047957, 'owner': 1, 'action': -1, 'target': 1}, (7.708153692907715, 1): {'time': 7.708153692907715, 'tau': 0.20163151472767143, 'owner': 1, 'action': -1, 'target': 1}, (7.78209280500087, 0): {'time': 7.78209280500087, 'tau': 0.3324805714787372, 'owner': 0, 'action': -1, 'target': 0}, (7.958761253065797, 0): {'time': 7.958761253065797, 'tau': 0.17666844806492676, 'owner': 0, 'action': -1, 'target': 0}, (7.961490449978026, 1): {'time': 7.961490449978026, 'tau': 0.25333675707031145, 'owner': 1, 'action': -1, 'target': 1}, (8.058287701617854, 0): {'time': 8.058287701617854, 'tau': 0.09952644855205739, 'owner': 0, 'action': -1, 'target': 0}, (8.247719440833649, 0): {'time': 8.247719440833649, 'tau': 0.18943173921579431, 'owner': 0, 'action': -1, 'target': 0}, (8.328808732741466, 0): {'time': 8.328808732741466, 'tau': 0.08108929190781777, 'owner': 0, 'action': -1, 'target': 0}, (8.364379243589939, 0): {'time': 8.364379243589939, 'tau': 0.03557051084847286, 'owner': 0, 'action': -1, 'target': 0}, (8.451091037614063, 1): {'time': 8.451091037614063, 'tau': 0.48960058763603764, 'owner': 1, 'action': -1, 'target': 1}, (8.50612446157618, 0): {'time': 8.50612446157618, 'tau': 0.14174521798624018, 'owner': 0, 'action': -1, 'target': 0}, (8.565013450542871, 1): {'time': 8.565013450542871, 'tau': 0.11392241292880825, 'owner': 1, 'action': -1, 'target': 1}, (8.710036788977277, 0): {'time': 8.710036788977277, 'tau': 0.20391232740109722, 'owner': 0, 'action': -1, 'target': 0}, (8.746233927241507, 1): {'time': 8.746233927241507, 'tau': 0.18122047669863522, 'owner': 1, 'action': -1, 'target': 1}, (8.932920048141154, 1): {'time': 8.932920048141154, 'tau': 0.18668612089964765, 'owner': 1, 'action': -1, 'target': 1}, (8.998303991746182, 0): {'time': 8.998303991746182, 'tau': 0.28826720276890494, 'owner': 0, 'action': -1, 'target': 0}, (9.134344158282737, 1): {'time': 9.134344158282737, 'tau': 0.20142411014158304, 'owner': 1, 'action': -1, 'target': 1}, (9.198409743052013, 1): {'time': 9.198409743052013, 'tau': 0.06406558476927546, 'owner': 1, 'action': -1, 'target': 1}, (9.21567501616657, 0): {'time': 9.21567501616657, 'tau': 0.2173710244203868, 'owner': 0, 'action': -1, 'target': 0}, (9.464226631878134, 1): {'time': 9.464226631878134, 'tau': 0.26581688882612153, 'owner': 1, 'action': -1, 'target': 1}, (9.56966763203708, 0): {'time': 9.56966763203708, 'tau': 0.35399261587050934, 'owner': 0, 'action': -1, 'target': 0}, (9.797686105534071, 1): {'time': 9.797686105534071, 'tau': 0.3334594736559379, 'owner': 1, 'action': -1, 'target': 1}, (9.908375082003623, 0): {'time': 9.908375082003623, 'tau': 0.33870744996654356, 'owner': 0, 'action': -1, 'target': 0}, (9.914767942636985, 1): {'time': 9.914767942636985, 'tau': 0.11708183710291334, 'owner': 1, 'action': -1, 'target': 1}, (10.03200363521464, 1): {'time': 10.03200363521464, 'tau': 0.11723569257765457, 'owner': 1, 'action': -1, 'target': 1}, (10.042359392466455, 0): {'time': 10.042359392466455, 'tau': 0.13398431046283177, 'owner': 0, 'action': -1, 'target': 0}, (10.070289782104998, 0): {'time': 10.070289782104998, 'tau': 0.027930389638543274, 'owner': 0, 'action': -1, 'target': 0}, (10.125035767539876, 1): {'time': 10.125035767539876, 'tau': 0.0930321323252367, 'owner': 1, 'action': -1, 'target': 1}, (10.204396118425882, 0): {'time': 10.204396118425882, 'tau': 0.13410633632088304, 'owner': 0, 'action': -1, 'target': 0}, (10.241919691358468, 1): {'time': 10.241919691358468, 'tau': 0.11688392381859256, 'owner': 1, 'action': -1, 'target': 1}, (10.285591028899919, 0): {'time': 10.285591028899919, 'tau': 0.08119491047403732, 'owner': 0, 'action': -1, 'target': 0}, (10.313176649305657, 1): {'time': 10.313176649305657, 'tau': 0.0712569579471878, 'owner': 1, 'action': -1, 'target': 1}, (10.322728320135816, 1): {'time': 10.322728320135816, 'tau': 0.009551670830159342, 'owner': 1, 'action': -1, 'target': 1}, (10.472402066774183, 0): {'time': 10.472402066774183, 'tau': 0.1868110378742647, 'owner': 0, 'action': -1, 'target': 0}, (10.546668900423617, 1): {'time': 10.546668900423617, 'tau': 0.22394058028780117, 'owner': 1, 'action': -1, 'target': 1}, (10.605374051130164, 0): {'time': 10.605374051130164, 'tau': 0.13297198435598187, 'owner': 0, 'action': -1, 'target': 0}, (10.675544727437016, 1): {'time': 10.675544727437016, 'tau': 0.12887582701339867, 'owner': 1, 'action': -1, 'target': 1}, (10.81427146791874, 1): {'time': 10.81427146791874, 'tau': 0.13872674048172434, 'owner': 1, 'action': -1, 'target': 1}, (10.818928443944257, 0): {'time': 10.818928443944257, 'tau': 0.213554392814093, 'owner': 0, 'action': -1, 'target': 0}, (10.933672888798677, 0): {'time': 10.933672888798677, 'tau': 0.11474444485441913, 'owner': 0, 'action': -1, 'target': 0}, (11.005889799612357, 1): {'time': 11.005889799612357, 'tau': 0.19161833169361603, 'owner': 1, 'action': -1, 'target': 1}, (11.035508324370685, 0): {'time': 11.035508324370685, 'tau': 0.10183543557200816, 'owner': 0, 'action': -1, 'target': 0}, (11.1391558743885, 0): {'time': 11.1391558743885, 'tau': 0.10364755001781431, 'owner': 0, 'action': -1, 'target': 0}, (11.337543562884123, 1): {'time': 11.337543562884123, 'tau': 0.33165376327176677, 'owner': 1, 'action': -1, 'target': 1}, (11.408854597875981, 0): {'time': 11.408854597875981, 'tau': 0.2696987234874812, 'owner': 0, 'action': -1, 'target': 0}, (11.434417382006302, 1): {'time': 11.434417382006302, 'tau': 0.0968738191221791, 'owner': 1, 'action': -1, 'target': 1}, (11.57358574050688, 1): {'time': 11.57358574050688, 'tau': 0.13916835850057913, 'owner': 1, 'action': -1, 'target': 1}, (11.584966550090968, 0): {'time': 11.584966550090968, 'tau': 0.17611195221498593, 'owner': 0, 'action': -1, 'target': 0}, (11.608376651761938, 0): {'time': 11.608376651761938, 'tau': 0.023410101670970768, 'owner': 0, 'action': -1, 'target': 0}, (11.712762896676823, 0): {'time': 11.712762896676823, 'tau': 0.10438624491488543, 'owner': 0, 'action': -1, 'target': 0}, (11.776310393006796, 1): {'time': 11.776310393006796, 'tau': 0.20272465249991523, 'owner': 1, 'action': -1, 'target': 1}, (11.880933263970013, 1): {'time': 11.880933263970013, 'tau': 0.10462287096321651, 'owner': 1, 'action': -1, 'target': 1}, (11.935540886402253, 0): {'time': 11.935540886402253, 'tau': 0.22277798972542964, 'owner': 0, 'action': -1, 'target': 0}, (12.0, 0): {'time': 12.0, 'tau': 0.06445911359774825, 'owner': 0, 'action': -1, 'target': 0}, (12.0, 1): {'time': 12.0, 'tau': 0.1190667360299871, 'owner': 1, 'action': -1, 'target': 1}})"
      ]
     },
     "execution_count": 31,
     "metadata": {},
     "output_type": "execute_result"
    }
   ],
   "source": [
    "timeline"
   ]
  },
  {
   "cell_type": "code",
   "execution_count": 34,
   "metadata": {},
   "outputs": [
    {
     "data": {
      "text/plain": [
       "((12.0, 1),\n",
       " {'time': 12.0,\n",
       "  'tau': 0.1190667360299871,\n",
       "  'owner': 1,\n",
       "  'action': -1,\n",
       "  'target': 1})"
      ]
     },
     "execution_count": 34,
     "metadata": {},
     "output_type": "execute_result"
    }
   ],
   "source": [
    "timeline.popitem()"
   ]
  },
  {
   "cell_type": "code",
   "execution_count": 35,
   "metadata": {},
   "outputs": [],
   "source": [
    "?timeline.popitem()"
   ]
  },
  {
   "cell_type": "code",
   "execution_count": null,
   "metadata": {},
   "outputs": [],
   "source": []
  }
 ],
 "metadata": {
  "kernelspec": {
   "display_name": "Python 3",
   "language": "python",
   "name": "python3"
  },
  "language_info": {
   "codemirror_mode": {
    "name": "ipython",
    "version": 3
   },
   "file_extension": ".py",
   "mimetype": "text/x-python",
   "name": "python",
   "nbconvert_exporter": "python",
   "pygments_lexer": "ipython3",
   "version": "3.6.4"
  }
 },
 "nbformat": 4,
 "nbformat_minor": 2
}
