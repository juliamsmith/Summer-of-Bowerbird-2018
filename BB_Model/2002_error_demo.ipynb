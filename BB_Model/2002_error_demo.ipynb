{
 "cells": [
  {
   "cell_type": "code",
   "execution_count": 1,
   "metadata": {},
   "outputs": [],
   "source": [
    "import math\n",
    "from sortedcontainers import SortedDict\n",
    "import random\n",
    "import numpy \n",
    "import matplotlib.pyplot as plt"
   ]
  },
  {
   "cell_type": "code",
   "execution_count": 2,
   "metadata": {},
   "outputs": [],
   "source": [
    "# Global Parameters:\n",
    "t_max = 12*30 #*30 #352 months in hrs (assume no nights so 12 hr = 1 day)\n",
    "timeline = SortedDict() #New and improved timeline (using a sorted dictionary)!\n",
    "FV_param = [0, t_max] #5days, tmax/3 #0.2 #males/0.19 #totally random\n",
    "FG_param = 3 #larger values lead to foraging ending earlier, because taus are smaller\n",
    "SB_param = 1.5 #larger values lead to bowerstay ending earlier, because taus are smaller\n",
    "RB_param = 6 #made up -- takes 30mins (every time -- no distribution) to repair bower\n",
    "MA_param = 0.1 #made up -- takes 6mins (every time -- no distribution) to maraud bower\n",
    "males = 2\n",
    "next_forage = numpy.random.normal(loc=40000000, scale=.167, size=males)\n",
    "bower_states = [0] * males\n",
    "male_states = [0] * males \n",
    "strategy_states=[0]*males\n",
    "mating_states = [0] * males\n",
    "fitness_states = numpy.array([0] * males)\n",
    "success_rate = 1\n",
    "success_times = [] #going to change this to be a vector of times when the female leaves (at this point, sucessful mating has occured)\n",
    "recents_list = []\n",
    "max_visits = 6 #STEEEEVEEEE\n",
    "bird_speed = 12 * 3600 #m/hr (12m/s)\n",
    "x_dim, y_dim = 400, 500 #dimensions of environment\n",
    "FperM = 3 #number of sexually mature females per sexually mature males in a bowerbird population\n",
    "num_sims = 1\n",
    "not_maraud_time = 0.15\n",
    "\n",
    "new_tic_glob={}\n",
    "\n",
    "d={} \n",
    "\n",
    "for i in range(males):\n",
    "    d[\"next_forages{0}\".format(i)]=[]\n",
    "    d[\"forage_times{0}\".format(i)]=[]"
   ]
  },
  {
   "cell_type": "code",
   "execution_count": 3,
   "metadata": {},
   "outputs": [],
   "source": [
    "def ticketgenerator(t, tau, ow, ac, targ):\n",
    "    ticket = {\n",
    "        'time': t, #time at which the activity starts\n",
    "        'tau': tau, #how long the activity lasts\n",
    "        'owner': ow, #who is doing the activity (could be a female if action=-3)\n",
    "        'action': ac, #which activity (see key)\n",
    "        'target': targ, #target of the activity (owner=target unless action=-3,-4,-5, or -6)\n",
    "    }\n",
    "    return ticket"
   ]
  },
  {
   "cell_type": "code",
   "execution_count": 4,
   "metadata": {},
   "outputs": [],
   "source": [
    "#Adds tickets to timeline- sorts by time\n",
    "def addtotimeline(ticket):\n",
    "    global timeline\n",
    "    timeline[(ticket[\"time\"], ticket[\"owner\"])] = ticket"
   ]
  },
  {
   "cell_type": "code",
   "execution_count": 5,
   "metadata": {},
   "outputs": [],
   "source": [
    "# creation of the environment\n",
    "\n",
    "def envgenerator(males, x_dim, y_dim):\n",
    "    Xs = numpy.random.rand(males) * x_dim\n",
    "    Ys = numpy.random.rand(males) * y_dim\n",
    "    return [Xs,Ys]\n",
    "\n",
    "def dists(xy, bird_speed):\n",
    "    male_dist = numpy.zeros(males * males).reshape((males, males))\n",
    "    travel_times = numpy.zeros(males * males).reshape((males, males))\n",
    "    for i in range(males):\n",
    "        for j in range(i + 1, males):\n",
    "            dist = math.sqrt((xy[0][j] - xy[0][i]) ** 2 + (xy[1][j] - xy[1][i]) ** 2)\n",
    "            travel = dist / bird_speed\n",
    "            male_dist[j][i] = dist\n",
    "            male_dist[i][j] = dist\n",
    "            travel_times[j][i] = travel\n",
    "            travel_times[i][j] = travel\n",
    "    return [male_dist,travel_times]\n",
    "\n",
    "# the probability of choosing a neighbor at distance x is proportional to exp(-\\lambda x)\n",
    "# choose lambda such that 99% of the mass is before 800 meters\n",
    "improb = 0.99\n",
    "improb_distance = 800\n",
    "lamb = -math.log(1 - improb) / improb_distance\n",
    "\n",
    "#will write female preference based on cumulative exponential decay (lambda=.00576)\n",
    "def preferences(male_dist, males, lamb):\n",
    "    # compute exponential of each coefficient\n",
    "    visit_preferences = numpy.exp(-lamb * male_dist)\n",
    "    # remove the identity matrix (exp(0) = 1)\n",
    "    visit_preferences = visit_preferences - numpy.eye(males)\n",
    "    # make rows sum to one\n",
    "    visit_preferences = (visit_preferences.transpose() / numpy.sum(visit_preferences, 1)).transpose()\n",
    "    return visit_preferences"
   ]
  },
  {
   "cell_type": "code",
   "execution_count": 6,
   "metadata": {},
   "outputs": [],
   "source": [
    "def nextFGtaugenerator(): #This generates the time until next_forage\n",
    "    interval=-1\n",
    "    while interval<=0: #ensures we pick positive values until next_forage\n",
    "        interval=numpy.random.normal(loc=.4, scale=.167, size=1)[0]\n",
    "    return interval\n",
    "    \n",
    "\n",
    "# function for determining the next time based on our rate parameters\n",
    "def nexttau(action, ow, targ): \n",
    "    new_tau=-1\n",
    "    while new_tau<=0: #ensures we pick positive values for new_tau\n",
    "        switcher = { \n",
    "            -1: numpy.random.normal(loc=.1583, scale=.09755, size=1)[0], #choose when to leave bower (generate a tau for bower stay)\n",
    "            -2: numpy.random.gamma(shape=1.5, scale=5, size=1)[0]/60, #choose when to stop foraging (generate a tau for foraging)\n",
    "            -3: numpy.random.uniform(FV_param[0], FV_param[1]), #FV_param... totally arbitrary so we should think about it\n",
    "            -4: travel_times[ow][targ],\n",
    "            -5: MA_param, #in the future we'll do something with it\n",
    "            -6: travel_times[targ][ow],\n",
    "            -7: numpy.random.normal(loc=.1583, scale=.09755, size=1)[0],\n",
    "        }\n",
    "        new_tau=switcher.get(action)\n",
    "    return new_tau\n",
    "\n",
    "def futurebuilder(old_tic, new_ac, new_targ): #returns new ticket after ensuring it doesn't exceed t_max\n",
    "    old_t=old_tic['time']\n",
    "    new_tic={}\n",
    "    if math.isclose(old_t, t_max, rel_tol=0, abs_tol=.0000001)==0: #if old_t is not essentially t_max\n",
    "        ow=old_tic['owner']\n",
    "        new_tau=nexttau(new_ac, ow, new_targ)\n",
    "        end_t=old_t+new_tau #this time is the time when the action has ended\n",
    "        if end_t>t_max: \n",
    "            new_tau=new_tau-(end_t-t_max) #modify the new_tau so end_t will be t_max\n",
    "            end_t=old_t+new_tau #recalculate end_t\n",
    "        new_tic=ticketgenerator(end_t, new_tau, ow, new_ac, new_targ) #now the time represents the end time for the action\n",
    "    return new_tic"
   ]
  },
  {
   "cell_type": "code",
   "execution_count": 7,
   "metadata": {},
   "outputs": [],
   "source": [
    "def statechanger(new_tic): #calls functions to change states of males i.e. for bower destruction, absence from bower\n",
    "    options = {-1: SBstatechanger,\n",
    "               -2: FGstatechanger,\n",
    "               -3: FVstatechanger,\n",
    "               -4: MTstatechanger,\n",
    "               -5: MAstatechanger, \n",
    "               -6: MRstatenotchanger,\n",
    "               -7: RBstatechanger\n",
    "              }\n",
    "    options[new_tic['action']](new_tic)\n",
    "    \n",
    "def SBstatechanger(new_tic): \n",
    "    ow=new_tic['owner']\n",
    "    t=new_tic['time']\n",
    "    male_states[ow]=t #male is at his bower / store time so that we FV can access and modify SB_tic in sorted dict\n",
    "\n",
    "def FGstatechanger(new_tic):\n",
    "    ow=new_tic['owner']\n",
    "    male_states[ow]=0 #Male is now absent from bower\n",
    "\n",
    "def FVstatechanger(new_tic): #here the t is the start time... idea for future: female start and end tics?\n",
    "    targ=new_tic['target']\n",
    "    t=new_tic['time']\n",
    "    if bower_states[targ]==0 and male_states[targ]!=0 and mating_states[targ]<t:\n",
    "        fitness_states[targ]+=1\n",
    "        mating_end=.25+t #can use dist instead of .25\n",
    "        if t<mating_end:\n",
    "            SB_tic=tl_dict[t] #PSEUDO\n",
    "            SB_tic['tau']=SB_tic['tau']+(mating_end-SB_tic['time'])\n",
    "            SB_tic['time']=mating_end\n",
    "            #re-add tic to sorted dict (if not done automatically)\n",
    "        mating_states[targ]=mating_end      \n",
    "    \n",
    "def MTstatechanger(new_tic):\n",
    "    ow=new_tic['owner']\n",
    "    male_states[ow]=0  #Male is now absent from bower\n",
    "\n",
    "def MAstatechanger(new_tic): #store number of successful marauds of each male --> MAKE A NEW STATE\n",
    "    targ=new_tic['target']\n",
    "    if bower_states[targ]==0 and male_states[targ]==0:\n",
    "        bower_states[targ]=-1*RB_param\n",
    "    #MAKE IT EITHER TAKE maraud_time or 0 (in the else)\n",
    "    \n",
    "def MRstatenotchanger(new_tic):\n",
    "    pass\n",
    "\n",
    "def RBstatechanger(new_tic):\n",
    "    tau=new_tic['tau']\n",
    "    if bower_states[ow]+tau>0:\n",
    "        new_tic['time']-=bower_states[ow]+tau #think about it more in the AM :)\n",
    "        tau=-1*bower_states[ow]\n",
    "        new_tic['tau']=tau\n",
    "        #add changes to timeline dict if necessary\n",
    "    bower_states[ow]+=tau\n",
    "    male_states[ow]=new_tic['time'] #although it doesn't matter from an FV POV\n",
    "    \n",
    "\n",
    "#choose what action / sequence of actions to do next\n",
    "def decider(tic):\n",
    "    ow = tic['owner']\n",
    "    ac = tic['action'] \n",
    "    t = tic['time']\n",
    "    targ=ow #will be reset in the case of -4\n",
    "    if t>next_forage[ow]:\n",
    "        d[\"forage_times{0}\".format(ow)].append(t)\n",
    "        #print(\"t is greater than next_FG[{:f}]: t={:f}, next_FG={:f}\".format(ow, t, next_forage[ow]))\n",
    "        new_ac=-2 #forage\n",
    "        d[\"next_forages{0}\".format(ow)].append(next_forage[ow])\n",
    "        next_forage[ow] = t+nextFGtaugenerator() #forage 30 times / day on average (but underestimates)\n",
    "    elif bower_states[ow]<0:\n",
    "        new_ac=-7 #repair bower\n",
    "    else:\n",
    "        if random.random()<strategy_states[ow]: #if male chooses to maraud \n",
    "            targ=numpy.random.choice(list(range(males)), p=visit_preferences[ow])\n",
    "            new_ac=-4 #maurad travel\n",
    "        else: #if male chooses to stay at bower\n",
    "            new_ac=-1 #stay at bower\n",
    "    new_tic=futurebuilder(tic, new_ac, targ) #ONE IDEA -- separate ticket generation and adding to timeline\n",
    "    return new_tic"
   ]
  },
  {
   "cell_type": "code",
   "execution_count": 8,
   "metadata": {},
   "outputs": [],
   "source": [
    "xy = envgenerator(males, x_dim, y_dim)\n",
    "\n",
    "travel_mats=dists(xy, bird_speed)\n",
    "male_dist=travel_mats[0]\n",
    "travel_times=travel_mats[1]\n",
    "\n",
    "visit_preferences=preferences(male_dist, males, lamb)"
   ]
  },
  {
   "cell_type": "code",
   "execution_count": 9,
   "metadata": {},
   "outputs": [],
   "source": [
    "for i in range(males):\n",
    "    addtotimeline(ticketgenerator(0.0, 0.0, i, -2, i))"
   ]
  },
  {
   "cell_type": "code",
   "execution_count": 10,
   "metadata": {},
   "outputs": [
    {
     "ename": "KeyboardInterrupt",
     "evalue": "",
     "output_type": "error",
     "traceback": [
      "\u001b[1;31m---------------------------------------------------------------------------\u001b[0m",
      "\u001b[1;31mKeyboardInterrupt\u001b[0m                         Traceback (most recent call last)",
      "\u001b[1;32m<ipython-input-10-0f013bc2668c>\u001b[0m in \u001b[0;36m<module>\u001b[1;34m()\u001b[0m\n\u001b[0;32m     20\u001b[0m     \u001b[1;31m#    new_tic=FVtickethandler()\u001b[0m\u001b[1;33m\u001b[0m\u001b[1;33m\u001b[0m\u001b[0m\n\u001b[0;32m     21\u001b[0m     \u001b[1;32melse\u001b[0m\u001b[1;33m:\u001b[0m\u001b[1;33m\u001b[0m\u001b[0m\n\u001b[1;32m---> 22\u001b[1;33m         \u001b[0mnew_tic\u001b[0m\u001b[1;33m=\u001b[0m\u001b[0mdecider\u001b[0m\u001b[1;33m(\u001b[0m\u001b[0mtic\u001b[0m\u001b[1;33m)\u001b[0m\u001b[1;33m\u001b[0m\u001b[0m\n\u001b[0m\u001b[0;32m     23\u001b[0m     \u001b[1;32mif\u001b[0m \u001b[0mnew_tic\u001b[0m\u001b[1;33m==\u001b[0m\u001b[1;33m{\u001b[0m\u001b[1;33m}\u001b[0m\u001b[1;33m:\u001b[0m\u001b[1;33m\u001b[0m\u001b[0m\n\u001b[0;32m     24\u001b[0m         \u001b[0mprint\u001b[0m\u001b[1;33m(\u001b[0m\u001b[1;34m\"done (for some owner)!\"\u001b[0m\u001b[1;33m)\u001b[0m\u001b[1;33m\u001b[0m\u001b[0m\n",
      "\u001b[1;32m<ipython-input-7-0886ca622959>\u001b[0m in \u001b[0;36mdecider\u001b[1;34m(tic)\u001b[0m\n\u001b[0;32m     76\u001b[0m         \u001b[1;32melse\u001b[0m\u001b[1;33m:\u001b[0m \u001b[1;31m#if male chooses to stay at bower\u001b[0m\u001b[1;33m\u001b[0m\u001b[0m\n\u001b[0;32m     77\u001b[0m             \u001b[0mnew_ac\u001b[0m\u001b[1;33m=\u001b[0m\u001b[1;33m-\u001b[0m\u001b[1;36m1\u001b[0m \u001b[1;31m#stay at bower\u001b[0m\u001b[1;33m\u001b[0m\u001b[0m\n\u001b[1;32m---> 78\u001b[1;33m     \u001b[0mnew_tic\u001b[0m\u001b[1;33m=\u001b[0m\u001b[0mfuturebuilder\u001b[0m\u001b[1;33m(\u001b[0m\u001b[0mtic\u001b[0m\u001b[1;33m,\u001b[0m \u001b[0mnew_ac\u001b[0m\u001b[1;33m,\u001b[0m \u001b[0mtarg\u001b[0m\u001b[1;33m)\u001b[0m \u001b[1;31m#ONE IDEA -- separate ticket generation and adding to timeline\u001b[0m\u001b[1;33m\u001b[0m\u001b[0m\n\u001b[0m\u001b[0;32m     79\u001b[0m     \u001b[1;32mreturn\u001b[0m \u001b[0mnew_tic\u001b[0m\u001b[1;33m\u001b[0m\u001b[0m\n",
      "\u001b[1;32m<ipython-input-6-c63da0c7c749>\u001b[0m in \u001b[0;36mfuturebuilder\u001b[1;34m(old_tic, new_ac, new_targ)\u001b[0m\n\u001b[0;32m     27\u001b[0m     \u001b[1;32mif\u001b[0m \u001b[0mmath\u001b[0m\u001b[1;33m.\u001b[0m\u001b[0misclose\u001b[0m\u001b[1;33m(\u001b[0m\u001b[0mold_t\u001b[0m\u001b[1;33m,\u001b[0m \u001b[0mt_max\u001b[0m\u001b[1;33m,\u001b[0m \u001b[0mrel_tol\u001b[0m\u001b[1;33m=\u001b[0m\u001b[1;36m0\u001b[0m\u001b[1;33m,\u001b[0m \u001b[0mabs_tol\u001b[0m\u001b[1;33m=\u001b[0m\u001b[1;36m.0000001\u001b[0m\u001b[1;33m)\u001b[0m\u001b[1;33m==\u001b[0m\u001b[1;36m0\u001b[0m\u001b[1;33m:\u001b[0m \u001b[1;31m#if old_t is not essentially t_max\u001b[0m\u001b[1;33m\u001b[0m\u001b[0m\n\u001b[0;32m     28\u001b[0m         \u001b[0mow\u001b[0m\u001b[1;33m=\u001b[0m\u001b[0mold_tic\u001b[0m\u001b[1;33m[\u001b[0m\u001b[1;34m'owner'\u001b[0m\u001b[1;33m]\u001b[0m\u001b[1;33m\u001b[0m\u001b[0m\n\u001b[1;32m---> 29\u001b[1;33m         \u001b[0mnew_tau\u001b[0m\u001b[1;33m=\u001b[0m\u001b[0mnexttau\u001b[0m\u001b[1;33m(\u001b[0m\u001b[0mnew_ac\u001b[0m\u001b[1;33m,\u001b[0m \u001b[0mow\u001b[0m\u001b[1;33m,\u001b[0m \u001b[0mnew_targ\u001b[0m\u001b[1;33m)\u001b[0m\u001b[1;33m\u001b[0m\u001b[0m\n\u001b[0m\u001b[0;32m     30\u001b[0m         \u001b[0mend_t\u001b[0m\u001b[1;33m=\u001b[0m\u001b[0mold_t\u001b[0m\u001b[1;33m+\u001b[0m\u001b[0mnew_tau\u001b[0m \u001b[1;31m#this time is the time when the action has ended\u001b[0m\u001b[1;33m\u001b[0m\u001b[0m\n\u001b[0;32m     31\u001b[0m         \u001b[1;32mif\u001b[0m \u001b[0mend_t\u001b[0m\u001b[1;33m>\u001b[0m\u001b[0mt_max\u001b[0m\u001b[1;33m:\u001b[0m\u001b[1;33m\u001b[0m\u001b[0m\n",
      "\u001b[1;32m<ipython-input-6-c63da0c7c749>\u001b[0m in \u001b[0;36mnexttau\u001b[1;34m(action, ow, targ)\u001b[0m\n\u001b[0;32m     11\u001b[0m     \u001b[1;32mwhile\u001b[0m \u001b[0mnew_tau\u001b[0m\u001b[1;33m<=\u001b[0m\u001b[1;36m0\u001b[0m\u001b[1;33m:\u001b[0m \u001b[1;31m#ensures we pick positive values for new_tau\u001b[0m\u001b[1;33m\u001b[0m\u001b[0m\n\u001b[0;32m     12\u001b[0m         switcher = { \n\u001b[1;32m---> 13\u001b[1;33m             \u001b[1;33m-\u001b[0m\u001b[1;36m1\u001b[0m\u001b[1;33m:\u001b[0m \u001b[0mnumpy\u001b[0m\u001b[1;33m.\u001b[0m\u001b[0mrandom\u001b[0m\u001b[1;33m.\u001b[0m\u001b[0mnormal\u001b[0m\u001b[1;33m(\u001b[0m\u001b[0mloc\u001b[0m\u001b[1;33m=\u001b[0m\u001b[1;36m.1583\u001b[0m\u001b[1;33m,\u001b[0m \u001b[0mscale\u001b[0m\u001b[1;33m=\u001b[0m\u001b[1;36m.09755\u001b[0m\u001b[1;33m,\u001b[0m \u001b[0msize\u001b[0m\u001b[1;33m=\u001b[0m\u001b[1;36m1\u001b[0m\u001b[1;33m)\u001b[0m\u001b[1;33m[\u001b[0m\u001b[1;36m0\u001b[0m\u001b[1;33m]\u001b[0m\u001b[1;33m,\u001b[0m \u001b[1;31m#choose when to leave bower (generate a tau for bower stay)\u001b[0m\u001b[1;33m\u001b[0m\u001b[0m\n\u001b[0m\u001b[0;32m     14\u001b[0m             \u001b[1;33m-\u001b[0m\u001b[1;36m2\u001b[0m\u001b[1;33m:\u001b[0m \u001b[0mnumpy\u001b[0m\u001b[1;33m.\u001b[0m\u001b[0mrandom\u001b[0m\u001b[1;33m.\u001b[0m\u001b[0mgamma\u001b[0m\u001b[1;33m(\u001b[0m\u001b[0mshape\u001b[0m\u001b[1;33m=\u001b[0m\u001b[1;36m1.5\u001b[0m\u001b[1;33m,\u001b[0m \u001b[0mscale\u001b[0m\u001b[1;33m=\u001b[0m\u001b[1;36m5\u001b[0m\u001b[1;33m,\u001b[0m \u001b[0msize\u001b[0m\u001b[1;33m=\u001b[0m\u001b[1;36m1\u001b[0m\u001b[1;33m)\u001b[0m\u001b[1;33m[\u001b[0m\u001b[1;36m0\u001b[0m\u001b[1;33m]\u001b[0m\u001b[1;33m/\u001b[0m\u001b[1;36m60\u001b[0m\u001b[1;33m,\u001b[0m \u001b[1;31m#choose when to stop foraging (generate a tau for foraging)\u001b[0m\u001b[1;33m\u001b[0m\u001b[0m\n\u001b[0;32m     15\u001b[0m             \u001b[1;33m-\u001b[0m\u001b[1;36m3\u001b[0m\u001b[1;33m:\u001b[0m \u001b[0mnumpy\u001b[0m\u001b[1;33m.\u001b[0m\u001b[0mrandom\u001b[0m\u001b[1;33m.\u001b[0m\u001b[0muniform\u001b[0m\u001b[1;33m(\u001b[0m\u001b[0mFV_param\u001b[0m\u001b[1;33m[\u001b[0m\u001b[1;36m0\u001b[0m\u001b[1;33m]\u001b[0m\u001b[1;33m,\u001b[0m \u001b[0mFV_param\u001b[0m\u001b[1;33m[\u001b[0m\u001b[1;36m1\u001b[0m\u001b[1;33m]\u001b[0m\u001b[1;33m)\u001b[0m\u001b[1;33m,\u001b[0m \u001b[1;31m#FV_param... totally arbitrary so we should think about it\u001b[0m\u001b[1;33m\u001b[0m\u001b[0m\n",
      "\u001b[1;31mKeyboardInterrupt\u001b[0m: "
     ]
    }
   ],
   "source": [
    "acc=len(timeline)\n",
    "new_tic=ticketgenerator(0.0, 0.0, 0, -2, 0) #for testing\n",
    "for key in timeline:\n",
    "    acc+=1\n",
    "    tic=timeline[key]\n",
    "    #if tic!=new_tic:\n",
    "        #print(\"error^\")\n",
    "        #print(tic)\n",
    "        #print(new_tic)\n",
    "    #print(\"this\")\n",
    "    #print(tic)\n",
    "    ac=tic['action']\n",
    "    ow=tic['owner']\n",
    "    targ=tic['target']\n",
    "    if ac==-4 or ac==-5:\n",
    "        #generate a -5 or -6 tic as new_tic and pass it in\n",
    "        new_tic=futurebuilder(tic, ac-1, targ)\n",
    "    #elif ac==-3:\n",
    "    #    #d[\"rl{0}\".format(ow)]=FVtickethandler(next_tic, d[\"rl{0}\".format(ow)])\n",
    "    #    new_tic=FVtickethandler()\n",
    "    else:\n",
    "        new_tic=decider(tic)\n",
    "    if new_tic=={}:\n",
    "        print(\"done (for some owner)!\")\n",
    "    else:\n",
    "        statechanger(new_tic)\n",
    "        #print(\"produces this:\")\n",
    "        #print(new_tic)\n",
    "        addtotimeline(new_tic)"
   ]
  },
  {
   "cell_type": "code",
   "execution_count": null,
   "metadata": {},
   "outputs": [],
   "source": [
    "print(len(timeline)/(males*t_max))"
   ]
  },
  {
   "cell_type": "code",
   "execution_count": 11,
   "metadata": {},
   "outputs": [
    {
     "data": {
      "text/plain": [
       "693937"
      ]
     },
     "execution_count": 11,
     "metadata": {},
     "output_type": "execute_result"
    }
   ],
   "source": [
    "len(timeline)"
   ]
  },
  {
   "cell_type": "code",
   "execution_count": null,
   "metadata": {},
   "outputs": [],
   "source": [
    "timeline"
   ]
  },
  {
   "cell_type": "code",
   "execution_count": null,
   "metadata": {},
   "outputs": [],
   "source": [
    "timeline.popitem()"
   ]
  },
  {
   "cell_type": "code",
   "execution_count": null,
   "metadata": {},
   "outputs": [],
   "source": [
    "?timeline.popitem()"
   ]
  },
  {
   "cell_type": "code",
   "execution_count": null,
   "metadata": {},
   "outputs": [],
   "source": []
  }
 ],
 "metadata": {
  "kernelspec": {
   "display_name": "Python 3",
   "language": "python",
   "name": "python3"
  },
  "language_info": {
   "codemirror_mode": {
    "name": "ipython",
    "version": 3
   },
   "file_extension": ".py",
   "mimetype": "text/x-python",
   "name": "python",
   "nbconvert_exporter": "python",
   "pygments_lexer": "ipython3",
   "version": "3.6.5"
  }
 },
 "nbformat": 4,
 "nbformat_minor": 2
}
