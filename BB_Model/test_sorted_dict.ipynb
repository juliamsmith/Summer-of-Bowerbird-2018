{
 "cells": [
  {
   "cell_type": "code",
   "execution_count": 18,
   "metadata": {},
   "outputs": [],
   "source": [
    "import numpy\n",
    "from sortedcontainers import SortedDict\n",
    "import math"
   ]
  },
  {
   "cell_type": "code",
   "execution_count": 3,
   "metadata": {},
   "outputs": [],
   "source": [
    "timeline = SortedDict()"
   ]
  },
  {
   "cell_type": "code",
   "execution_count": 4,
   "metadata": {},
   "outputs": [
    {
     "data": {
      "text/plain": [
       "SortedDict({})"
      ]
     },
     "execution_count": 4,
     "metadata": {},
     "output_type": "execute_result"
    }
   ],
   "source": [
    "timeline"
   ]
  },
  {
   "cell_type": "code",
   "execution_count": 5,
   "metadata": {},
   "outputs": [],
   "source": [
    "def ticketgenerator(tau,t, o, a, targ, t2):\n",
    "    ticket = {\n",
    "        'tau': tau, #how long the activity lasts\n",
    "        'time': t, #time at which the activity starts\n",
    "        'owner': o, #who is doing the activity (could be a female if action=-3)\n",
    "        'action': a, #which activity (see key)\n",
    "        'target': targ, #target of the activity (owner=target unless action=-3,-4,-5, or -6)\n",
    "        'origin': t2 #the time of the ticket that generated this one\n",
    "    }\n",
    "    return ticket"
   ]
  },
  {
   "cell_type": "code",
   "execution_count": 6,
   "metadata": {},
   "outputs": [],
   "source": [
    "# try adding tickets to timeline\n",
    "def add_to_timeline(ticket):\n",
    "    global timeline\n",
    "    timeline[ticket[\"time\"]] = ticket"
   ]
  },
  {
   "cell_type": "code",
   "execution_count": 8,
   "metadata": {},
   "outputs": [],
   "source": [
    "tmp = ticketgenerator(.1, 0, 5, 2, -3, 1)\n",
    "add_to_timeline(tmp)\n",
    "tmp = ticketgenerator(.1, 1.1, 5, 2, -3, 2)\n",
    "add_to_timeline(tmp)\n",
    "tmp = ticketgenerator(.1, 0.7, 5, 2, -3, 3)\n",
    "add_to_timeline(tmp)\n",
    "tmp = ticketgenerator(.1, 2.0, 5, 2, -3, 4)\n",
    "add_to_timeline(tmp)\n",
    "tmp = ticketgenerator(.1, 1.9, 5, 2, -3, 5)\n",
    "add_to_timeline(tmp)\n"
   ]
  },
  {
   "cell_type": "code",
   "execution_count": 9,
   "metadata": {},
   "outputs": [
    {
     "data": {
      "text/plain": [
       "SortedDict({0: {'tau': 0.1, 'time': 0, 'owner': 5, 'action': 2, 'target': -3, 'origin': 1}, 0.7: {'tau': 0.1, 'time': 0.7, 'owner': 5, 'action': 2, 'target': -3, 'origin': 3}, 1.1: {'tau': 0.1, 'time': 1.1, 'owner': 5, 'action': 2, 'target': -3, 'origin': 2}, 1.9: {'tau': 0.1, 'time': 1.9, 'owner': 5, 'action': 2, 'target': -3, 'origin': 5}, 2.0: {'tau': 0.1, 'time': 2.0, 'owner': 5, 'action': 2, 'target': -3, 'origin': 4}})"
      ]
     },
     "execution_count": 9,
     "metadata": {},
     "output_type": "execute_result"
    }
   ],
   "source": [
    "timeline"
   ]
  },
  {
   "cell_type": "code",
   "execution_count": 10,
   "metadata": {},
   "outputs": [],
   "source": [
    "# test building matrix in numpy\n",
    "nodes = 5\n",
    "dist_matrix = numpy.zeros(nodes * nodes).reshape((nodes, nodes))"
   ]
  },
  {
   "cell_type": "code",
   "execution_count": 11,
   "metadata": {},
   "outputs": [
    {
     "data": {
      "text/plain": [
       "array([[0., 0., 0., 0., 0.],\n",
       "       [0., 0., 0., 0., 0.],\n",
       "       [0., 0., 0., 0., 0.],\n",
       "       [0., 0., 0., 0., 0.],\n",
       "       [0., 0., 0., 0., 0.]])"
      ]
     },
     "execution_count": 11,
     "metadata": {},
     "output_type": "execute_result"
    }
   ],
   "source": [
    "dist_matrix"
   ]
  },
  {
   "cell_type": "code",
   "execution_count": 12,
   "metadata": {},
   "outputs": [],
   "source": [
    "node_dist = numpy.array([[0.0] * nodes] * nodes)"
   ]
  },
  {
   "cell_type": "code",
   "execution_count": 13,
   "metadata": {},
   "outputs": [
    {
     "data": {
      "text/plain": [
       "array([[0., 0., 0., 0., 0.],\n",
       "       [0., 0., 0., 0., 0.],\n",
       "       [0., 0., 0., 0., 0.],\n",
       "       [0., 0., 0., 0., 0.],\n",
       "       [0., 0., 0., 0., 0.]])"
      ]
     },
     "execution_count": 13,
     "metadata": {},
     "output_type": "execute_result"
    }
   ],
   "source": [
    "node_dist"
   ]
  },
  {
   "cell_type": "code",
   "execution_count": 14,
   "metadata": {},
   "outputs": [],
   "source": [
    "def envgenerator(nodes, x_dim, y_dim):\n",
    "    Xs = numpy.random.rand(nodes) * x_dim\n",
    "    Ys = numpy.random.rand(nodes) * y_dim\n",
    "    return [Xs,Ys]\n",
    "\n",
    "def dists(xy, bird_speed):\n",
    "    node_dist = numpy.zeros(nodes * nodes).reshape((nodes, nodes))\n",
    "    travel_times = numpy.zeros(nodes * nodes).reshape((nodes, nodes))\n",
    "    for i in range(nodes):\n",
    "        for j in range(i + 1, nodes):\n",
    "            dist = math.sqrt((xy[0][j] - xy[0][i]) ** 2 + (xy[1][j] - xy[1][i]) ** 2)\n",
    "            travel = dist / bird_speed\n",
    "            node_dist[j][i] = dist\n",
    "            node_dist[i][j] = dist\n",
    "            travel_times[j][i] = travel\n",
    "            travel_times[i][j] = travel\n",
    "    return [node_dist,travel_times]\n",
    "\n",
    "xy = envgenerator(5, 4, 5)"
   ]
  },
  {
   "cell_type": "code",
   "execution_count": 16,
   "metadata": {},
   "outputs": [],
   "source": [
    "xy\n",
    "nodes = 5"
   ]
  },
  {
   "cell_type": "code",
   "execution_count": 19,
   "metadata": {},
   "outputs": [],
   "source": [
    "dis = dists(xy, 0.1)"
   ]
  },
  {
   "cell_type": "code",
   "execution_count": 24,
   "metadata": {},
   "outputs": [],
   "source": [
    "tmp = numpy.exp(-2 * dis[0])"
   ]
  },
  {
   "cell_type": "code",
   "execution_count": 25,
   "metadata": {},
   "outputs": [
    {
     "data": {
      "text/plain": [
       "array([[1.00000000e+00, 2.27288951e-04, 1.76011431e-03, 5.30657022e-03,\n",
       "        1.80585653e-02],\n",
       "       [2.27288951e-04, 1.00000000e+00, 6.64670619e-03, 2.40930682e-02,\n",
       "        3.73101122e-03],\n",
       "       [1.76011431e-03, 6.64670619e-03, 1.00000000e+00, 1.07918795e-01,\n",
       "        1.76914072e-03],\n",
       "       [5.30657022e-03, 2.40930682e-02, 1.07918795e-01, 1.00000000e+00,\n",
       "        1.47848117e-02],\n",
       "       [1.80585653e-02, 3.73101122e-03, 1.76914072e-03, 1.47848117e-02,\n",
       "        1.00000000e+00]])"
      ]
     },
     "execution_count": 25,
     "metadata": {},
     "output_type": "execute_result"
    }
   ],
   "source": []
  },
  {
   "cell_type": "code",
   "execution_count": 34,
   "metadata": {},
   "outputs": [
    {
     "data": {
      "text/plain": [
       "array([1., 1., 1., 1., 1.])"
      ]
     },
     "execution_count": 34,
     "metadata": {},
     "output_type": "execute_result"
    }
   ],
   "source": [
    "numpy.sum((tmp.transpose() / numpy.sum(tmp, 1)).transpose(), 1)"
   ]
  },
  {
   "cell_type": "code",
   "execution_count": 28,
   "metadata": {},
   "outputs": [
    {
     "data": {
      "text/plain": [
       "1.025352538748554"
      ]
     },
     "execution_count": 28,
     "metadata": {},
     "output_type": "execute_result"
    }
   ],
   "source": [
    "sum(tmp[0])"
   ]
  },
  {
   "cell_type": "code",
   "execution_count": 30,
   "metadata": {},
   "outputs": [
    {
     "data": {
      "text/plain": [
       "0.9752743200114403"
      ]
     },
     "execution_count": 30,
     "metadata": {},
     "output_type": "execute_result"
    }
   ],
   "source": [
    "1 / 1.025352538748554"
   ]
  },
  {
   "cell_type": "code",
   "execution_count": 31,
   "metadata": {},
   "outputs": [
    {
     "data": {
      "text/plain": [
       "0.00022166907713263857"
      ]
     },
     "execution_count": 31,
     "metadata": {},
     "output_type": "execute_result"
    }
   ],
   "source": [
    "2.27288951e-04 / 1.025352538748554"
   ]
  },
  {
   "cell_type": "code",
   "execution_count": 39,
   "metadata": {},
   "outputs": [
    {
     "data": {
      "text/plain": [
       "array([ 9, 12, 15])"
      ]
     },
     "execution_count": 39,
     "metadata": {},
     "output_type": "execute_result"
    }
   ],
   "source": [
    "numpy.sum(numpy.arange(9).reshape(3,3), 0)"
   ]
  },
  {
   "cell_type": "code",
   "execution_count": 37,
   "metadata": {},
   "outputs": [
    {
     "data": {
      "text/plain": [
       "array([[0, 1, 2],\n",
       "       [3, 4, 5],\n",
       "       [6, 7, 8]])"
      ]
     },
     "execution_count": 37,
     "metadata": {},
     "output_type": "execute_result"
    }
   ],
   "source": [
    "numpy.arange(9).reshape(3,3)"
   ]
  },
  {
   "cell_type": "code",
   "execution_count": 40,
   "metadata": {},
   "outputs": [],
   "source": [
    "improb = 0.99\n",
    "improb_distance = 800\n",
    "lamb = -math.log(1 - improb) / improb_distance\n"
   ]
  },
  {
   "cell_type": "code",
   "execution_count": 41,
   "metadata": {},
   "outputs": [
    {
     "data": {
      "text/plain": [
       "0.005756462732485114"
      ]
     },
     "execution_count": 41,
     "metadata": {},
     "output_type": "execute_result"
    }
   ],
   "source": [
    "lamb"
   ]
  },
  {
   "cell_type": "code",
   "execution_count": 49,
   "metadata": {},
   "outputs": [],
   "source": [
    "node_dist = dis[0]\n",
    "visit_preferences = numpy.zeros(nodes * nodes).reshape((nodes, nodes))\n",
    "for i in range(nodes):\n",
    "    for j in range(nodes):\n",
    "        if i!=j:\n",
    "            visit_preferences[i,j]=math.exp(-lamb*node_dist[i,j])        \n",
    "    visit_preferences[i]=visit_preferences[i]/sum(visit_preferences[i])"
   ]
  },
  {
   "cell_type": "code",
   "execution_count": 50,
   "metadata": {},
   "outputs": [
    {
     "data": {
      "text/plain": [
       "array([[0.        , 0.24828126, 0.24974832, 0.25054286, 0.25142756],\n",
       "       [0.24805508, 0.        , 0.25047691, 0.25140705, 0.25006096],\n",
       "       [0.24901863, 0.24997281, 0.        , 0.25198625, 0.2490223 ],\n",
       "       [0.24900238, 0.25008907, 0.25117073, 0.        , 0.24973782],\n",
       "       [0.25073769, 0.24960222, 0.24906672, 0.25059338, 0.        ]])"
      ]
     },
     "execution_count": 50,
     "metadata": {},
     "output_type": "execute_result"
    }
   ],
   "source": [
    "visit_preferences"
   ]
  },
  {
   "cell_type": "code",
   "execution_count": 53,
   "metadata": {},
   "outputs": [],
   "source": [
    "# compute exponential of each coefficient\n",
    "visit_preferences = numpy.exp(-lamb * node_dist)\n",
    "visit_preferences = visit_preferences - numpy.eye(nodes)\n",
    "# make rows sum to one\n",
    "visit_preferences = (visit_preferences.transpose() / numpy.sum(visit_preferences, 1)).transpose()"
   ]
  },
  {
   "cell_type": "code",
   "execution_count": 54,
   "metadata": {},
   "outputs": [
    {
     "data": {
      "text/plain": [
       "array([[0.        , 0.24828126, 0.24974832, 0.25054286, 0.25142756],\n",
       "       [0.24805508, 0.        , 0.25047691, 0.25140705, 0.25006096],\n",
       "       [0.24901863, 0.24997281, 0.        , 0.25198625, 0.2490223 ],\n",
       "       [0.24900238, 0.25008907, 0.25117073, 0.        , 0.24973782],\n",
       "       [0.25073769, 0.24960222, 0.24906672, 0.25059338, 0.        ]])"
      ]
     },
     "execution_count": 54,
     "metadata": {},
     "output_type": "execute_result"
    }
   ],
   "source": [
    "visit_preferences"
   ]
  },
  {
   "cell_type": "code",
   "execution_count": 47,
   "metadata": {},
   "outputs": [
    {
     "ename": "TypeError",
     "evalue": "list indices must be integers or slices, not tuple",
     "output_type": "error",
     "traceback": [
      "\u001b[0;31m---------------------------------------------------------------------------\u001b[0m",
      "\u001b[0;31mTypeError\u001b[0m                                 Traceback (most recent call last)",
      "\u001b[0;32m<ipython-input-47-eb6998a66201>\u001b[0m in \u001b[0;36m<module>\u001b[0;34m()\u001b[0m\n\u001b[0;32m----> 1\u001b[0;31m \u001b[0mdis\u001b[0m\u001b[0;34m[\u001b[0m\u001b[0;36m0\u001b[0m\u001b[0;34m,\u001b[0m\u001b[0;36m1\u001b[0m\u001b[0;34m]\u001b[0m\u001b[0;34m\u001b[0m\u001b[0m\n\u001b[0m",
      "\u001b[0;31mTypeError\u001b[0m: list indices must be integers or slices, not tuple"
     ]
    }
   ],
   "source": [
    "dis[0,1]"
   ]
  },
  {
   "cell_type": "code",
   "execution_count": 48,
   "metadata": {},
   "outputs": [
    {
     "data": {
      "text/plain": [
       "[array([[0.        , 4.19464422, 3.17118826, 2.61940478, 2.00706759],\n",
       "        [4.19464422, 0.        , 2.50681693, 1.86291555, 2.79553799],\n",
       "        [3.17118826, 2.50681693, 0.        , 1.11318812, 3.16863066],\n",
       "        [2.61940478, 1.86291555, 1.11318812, 0.        , 2.10707743],\n",
       "        [2.00706759, 2.79553799, 3.16863066, 2.10707743, 0.        ]]),\n",
       " array([[ 0.        , 41.9464422 , 31.7118826 , 26.19404781, 20.07067588],\n",
       "        [41.9464422 ,  0.        , 25.06816929, 18.62915554, 27.95537988],\n",
       "        [31.7118826 , 25.06816929,  0.        , 11.13188117, 31.6863066 ],\n",
       "        [26.19404781, 18.62915554, 11.13188117,  0.        , 21.07077431],\n",
       "        [20.07067588, 27.95537988, 31.6863066 , 21.07077431,  0.        ]])]"
      ]
     },
     "execution_count": 48,
     "metadata": {},
     "output_type": "execute_result"
    }
   ],
   "source": [
    "dis"
   ]
  },
  {
   "cell_type": "code",
   "execution_count": null,
   "metadata": {},
   "outputs": [],
   "source": []
  }
 ],
 "metadata": {
  "kernelspec": {
   "display_name": "Python 3",
   "language": "python",
   "name": "python3"
  },
  "language_info": {
   "codemirror_mode": {
    "name": "ipython",
    "version": 3
   },
   "file_extension": ".py",
   "mimetype": "text/x-python",
   "name": "python",
   "nbconvert_exporter": "python",
   "pygments_lexer": "ipython3",
   "version": "3.6.4"
  }
 },
 "nbformat": 4,
 "nbformat_minor": 2
}
