{
 "cells": [
  {
   "cell_type": "code",
   "execution_count": null,
   "metadata": {},
   "outputs": [],
   "source": [
    "# #NEW CODE\n",
    "# def malemaker(identity, fitness=0, state=-1, bower_state=1, cumulative_time=[0]*7, behavior, bower_position, maraud_preferences, next_FG):\n",
    "#     male_agent=\n",
    "#     {'identity': identity\n",
    "#      'fitness':fitness,\n",
    "#      'state': state,\n",
    "#      'bower_state': bower_state,\n",
    "#      'cumulative_time':cumulative_time,\n",
    "#      'behavior': behavior,\n",
    "#      'bower_position': bower_position,\n",
    "#      'maraud_preferences': maraud_preferences,\n",
    "#      'next_FG': next_FG #the index of the n\n",
    "#     }\n",
    "#     return male_agent\n",
    "# #def generatenextFGlist():\n",
    "# #^to be written later\n",
    "# from sortedcontainers import SortedDict\n",
    "# male_agents=[]\n",
    "\n",
    "# for i in range(males):\n",
    "#     identity=i\n",
    "#     behavior=numpy.random.uniform() #THIS WILL MAYBE CHANGE -- just for now (later we want to toggle btwn binary and continuous)\n",
    "#     bower_position=[coordinates[0][i], coordinates[1][i]]\n",
    "#     maraud_preferences=visit_preferences[i]\n",
    "#     next_FG=generatenextFGlist() #always check first entry, once we go foraging we pop a time off the front of the list\n",
    "#     male_agents[i]=malemaker(identity=identity behavior=behavior, bower_position=bower_position, maraud_preferences=maraud_preferences, next_FG=next_FG)\n",
    "\n",
    "# #key_trait=0 #using identity for now\n",
    "\n",
    "# #s_males=sorted(iter(males))\n",
    "\n",
    "# #for key in sorted(iter(males)):\n",
    "# #    print(key)\n",
    "# #    print(males[key])\n"
   ]
  },
  {
   "cell_type": "code",
   "execution_count": null,
   "metadata": {},
   "outputs": [],
   "source": [
    "# function for determining the next time based on our rate parameters\n",
    "def nexttau(action, ow, targ, new_t, new_tau=-1):\n",
    "    while new_tau<=0:\n",
    "        switcher = { #NOTE: used abs\n",
    "            -1: numpy.random.normal(loc=.1583, scale=.09755, size=1)[0], #choose when to leave bower (generate a tau for bower stay)\n",
    "            -2: numpy.random.gamma(shape=1.5, scale=5, size=1)[0]/60, #choose when to stop foraging (generate a tau for foraging)\n",
    "            -3: numpy.random.uniform(FV_param[0], FV_param[1]), #FV_param... totally arbitrary so we should think about it\n",
    "            -4: travel_times[ow][targ],\n",
    "            -5: MA_param, #in the future we'll do something with it\n",
    "            -6: travel_times[targ][ow],\n",
    "            -7: 1 / (1-MT_vs_FG) * (numpy.random.normal(loc=.1583, scale=.09755, size=1)[0]) #rescale SB_param because no marauding can occur from RB (want FG times to be comparable)\n",
    "        }\n",
    "        new_tau=switcher.get(action)\n",
    "    future_t=new_tau+new_t #time on future ticket will be the current time plus the tau\n",
    "    if future_t>t_max: \n",
    "        new_tau=new_tau-(future_t-t_max) #this ensures that the tau+t won't exceed t_max\n",
    "    return new_tau\n",
    "\n",
    "def futurebuilder(old_tic, new_ac, new_targ, new_tau=-1):\n",
    "    old_t=old_tic['time']\n",
    "    new_tic={}\n",
    "    if new_t<t_max:\n",
    "        ow=old_tic['owner']\n",
    "        new_tau=nexttau(new_ac, ow, new_targ, new_t)\n",
    "        new_tic=ticketgenerator(new_tau, old_t+new_tau, ow, new_ac, new_targ, old_t) #now the time represents the end time for the action\n",
    "        addtotimeline(new_tic)\n",
    "    return new_tic\n",
    "    "
   ]
  },
  {
   "cell_type": "code",
   "execution_count": null,
   "metadata": {},
   "outputs": [],
   "source": [
    "def decider(bird, stop_ticket):\n",
    "    if stop_ticket['action']==-2:\n",
    "        bird[next_FG]=next_FG_dist #fill in dist\n",
    "        if bird[bower_state]<0:\n",
    "            ticketgenerator(tau,t, o, a, targ)"
   ]
  }
 ],
 "metadata": {
  "kernelspec": {
   "display_name": "Python 3",
   "language": "python",
   "name": "python3"
  },
  "language_info": {
   "codemirror_mode": {
    "name": "ipython",
    "version": 3
   },
   "file_extension": ".py",
   "mimetype": "text/x-python",
   "name": "python",
   "nbconvert_exporter": "python",
   "pygments_lexer": "ipython3",
   "version": "3.6.5"
  }
 },
 "nbformat": 4,
 "nbformat_minor": 2
}
