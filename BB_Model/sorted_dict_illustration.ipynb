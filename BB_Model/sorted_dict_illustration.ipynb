{
 "cells": [
  {
   "cell_type": "code",
   "execution_count": 1,
   "metadata": {},
   "outputs": [],
   "source": [
    "import numpy\n",
    "from sortedcontainers import SortedDict\n",
    "import math"
   ]
  },
  {
   "cell_type": "code",
   "execution_count": 2,
   "metadata": {},
   "outputs": [],
   "source": [
    "# Global Parameters:\n",
    "t = 0.0 #start at time 0\n",
    "t_max = 12 #2 months in hrs (assume no nights so 12 hr = 1 day)\n",
    "timeholder = 0 \n",
    "#timeline = [] #old way of initializing the timeline\n",
    "timeline = SortedDict() #New and improved timeline (using a sorted dictionary)!\n",
    "discards = [] #where we put the old version of tickets that get over-written/moved\n",
    "#We've moved away from using these params with expovariate (how we handle FV is still TBD)\n",
    "#So THE BELOW 3 SHOULD BE COMMENTED OUT (but rn we don't want the handler funcs to yell at us)\n",
    "FV_param = [0, t_max] #5days, tmax/3 #0.2 #males/0.19 #totally random\n",
    "FG_param = 3 #larger values lead to foraging ending earlier, because taus are smaller\n",
    "SB_param = 1.5 #larger values lead to bowerstay ending earlier, because taus are smaller\n",
    "RB_param = 6 #made up -- takes 30mins (every time -- no distribution) to repair bower\n",
    "MA_param = 0.1 #made up -- takes 6mins (every time -- no distribution) to maraud bower\n",
    "MT_vs_FG = 0.1 #.05 originally #compared 20 feedings/day to .1 maraudings/hr\n",
    "males = 12\n",
    "next_forage = [0] * males #NOTE- later we'll generate the initial next_forage times in the deepest part of our while loop (so for each simulation the first foraging times are unique)\n",
    "bower_states = [0] * males\n",
    "male_states = [0] * males \n",
    "mating_states = [0] * males\n",
    "fitness_states = numpy.array([0] * males)\n",
    "success_rate = 1\n",
    "success_times = [] #going to change this to be a vector of times when the female leaves (at this point, sucessful mating has occured)\n",
    "recents_list = []\n",
    "max_visits = 6 #STEEEEVEEEE\n",
    "bird_speed = 12 * 3600 #m/hr (12m/s)\n",
    "d = 1000.0\n",
    "FperM = 3 #number of sexually mature females per sexually mature males in a bowerbird population\n",
    "num_sims = 1\n",
    "not_maraud_time = 0.15\n",
    "nodes=12\n"
   ]
  },
  {
   "cell_type": "code",
   "execution_count": 3,
   "metadata": {},
   "outputs": [],
   "source": [
    "def envgenerator(nodes, x_dim, y_dim):\n",
    "    Xs = numpy.random.rand(nodes) * x_dim\n",
    "    Ys = numpy.random.rand(nodes) * y_dim\n",
    "    return [Xs,Ys]\n",
    "\n",
    "def dists(xy, bird_speed):\n",
    "    node_dist = numpy.zeros(nodes * nodes).reshape((nodes, nodes))\n",
    "    travel_times = numpy.zeros(nodes * nodes).reshape((nodes, nodes))\n",
    "    for i in range(nodes):\n",
    "        for j in range(i + 1, nodes):\n",
    "            dist = math.sqrt((xy[0][j] - xy[0][i]) ** 2 + (xy[1][j] - xy[1][i]) ** 2)\n",
    "            travel = dist / bird_speed\n",
    "            node_dist[j][i] = dist\n",
    "            node_dist[i][j] = dist\n",
    "            travel_times[j][i] = travel\n",
    "            travel_times[i][j] = travel\n",
    "    return [node_dist,travel_times]\n",
    "\n",
    "xy = envgenerator(nodes, 400, 500)\n",
    "\n",
    "thing=dists(xy, bird_speed)\n",
    "travel_times=thing[1]"
   ]
  },
  {
   "cell_type": "code",
   "execution_count": 4,
   "metadata": {},
   "outputs": [],
   "source": [
    "timeline = SortedDict()"
   ]
  },
  {
   "cell_type": "code",
   "execution_count": 5,
   "metadata": {},
   "outputs": [],
   "source": [
    "def ticketgenerator(t, tau, o, a, targ, t2=0): #=0 is a quick fix only\n",
    "    ticket = {\n",
    "        'time': t, #time at which the activity starts\n",
    "        'tau': tau, #how long the activity lasts\n",
    "        'owner': o, #who is doing the activity (could be a female if action=-3)\n",
    "        'action': a, #which activity (see key)\n",
    "        'target': targ, #target of the activity (owner=target unless action=-3,-4,-5, or -6)\n",
    "        'origin': t2 #the time of the ticket that generated this one\n",
    "    }\n",
    "    return ticket"
   ]
  },
  {
   "cell_type": "code",
   "execution_count": 6,
   "metadata": {},
   "outputs": [],
   "source": [
    "# try adding tickets to timeline\n",
    "def addtotimeline(ticket):\n",
    "    global timeline\n",
    "    timeline[ticket[\"time\"]] = ticket"
   ]
  },
  {
   "cell_type": "code",
   "execution_count": 7,
   "metadata": {},
   "outputs": [],
   "source": [
    "def nexttau(action, ow, targ):\n",
    "    new_tau=-1\n",
    "    while new_tau<=0:\n",
    "        switcher = { #NOTE: used abs\n",
    "            -1: numpy.random.normal(loc=.1583, scale=.09755, size=1)[0], #choose when to leave bower (generate a tau for bower stay)\n",
    "            -2: numpy.random.gamma(shape=1.5, scale=5, size=1)[0]/60, #choose when to stop foraging (generate a tau for foraging)\n",
    "            -3: numpy.random.uniform(FV_param[0], FV_param[1]), #FV_param... totally arbitrary so we should think about it\n",
    "            -4: travel_times[ow][targ],\n",
    "            -5: MA_param, #in the future we'll do something with it\n",
    "            -6: travel_times[targ][ow],\n",
    "            -7: 1 / (1-MT_vs_FG) * (numpy.random.normal(loc=.1583, scale=.09755, size=1)[0]) #rescale SB_param because no marauding can occur from RB (want FG times to be comparable)\n",
    "        }\n",
    "        new_tau=switcher.get(action)\n",
    "    return new_tau\n"
   ]
  },
  {
   "cell_type": "code",
   "execution_count": 8,
   "metadata": {},
   "outputs": [
    {
     "name": "stdout",
     "output_type": "stream",
     "text": [
      "SortedDict({0.1: {'time': 0.1, 'tau': 0.1, 'owner': 10, 'action': -4, 'target': 9, 'origin': 1}})\n",
      "SortedDict({0.1: {'time': 0.1, 'tau': 0.1, 'owner': 10, 'action': -4, 'target': 9, 'origin': 1}, 0.15: {'time': 0.15, 'tau': 0.15, 'owner': 11, 'action': -4, 'target': 6, 'origin': 2}})\n"
     ]
    }
   ],
   "source": [
    "#initialize the timeline\n",
    "tmp = ticketgenerator(.1, .1, 10, -4, 9, 1)\n",
    "addtotimeline(tmp)\n",
    "print(timeline)\n",
    "tmp1 = ticketgenerator(.15, .15, 11, -4, 6, 2)\n",
    "addtotimeline(tmp1)\n",
    "print(timeline)"
   ]
  },
  {
   "cell_type": "code",
   "execution_count": 9,
   "metadata": {},
   "outputs": [],
   "source": [
    "bower_states = [0] * 12\n",
    "male_states = [100] * 12"
   ]
  },
  {
   "cell_type": "code",
   "execution_count": 10,
   "metadata": {},
   "outputs": [
    {
     "name": "stdout",
     "output_type": "stream",
     "text": [
      "SortedDict({0.1: {'time': 0.1, 'tau': 0.1, 'owner': 10, 'action': -4, 'target': 9, 'origin': 1}, 0.15: {'time': 0.15, 'tau': 0.15, 'owner': 11, 'action': -4, 'target': 6, 'origin': 2}})\n",
      " \n",
      " \n",
      " \n",
      " \n",
      " \n",
      " \n"
     ]
    }
   ],
   "source": [
    "def statechanger(new_tic):\n",
    "    options = {-1: SBstatechanger,\n",
    "               -2: FGstatechanger,\n",
    "               -3: FVstatechanger,\n",
    "               -4: MTstatechanger,\n",
    "               -5: MAstatechanger,\n",
    "               -6: MRstatenotchanger,\n",
    "               -7: RBstatechanger\n",
    "              }\n",
    "    options[new_tic['action']](new_tic)\n",
    "    \n",
    "def SBstatechanger(new_tic): #tech anger\n",
    "    ow=new_tic['owner']\n",
    "    t=new_tic['time']\n",
    "    male_states[ow]=t #male is at his bower / store time so that we FV can access and modify SB_tic in sorted dict\n",
    "\n",
    "def FGstatechanger(new_tic):\n",
    "    ow=new_tic['owner']\n",
    "    male_states[ow]=0\n",
    "\n",
    "def FVstatechanger(new_tic): #here the t is the start time... idea for future: female start and end tics?\n",
    "    targ=new_tic['target']\n",
    "    t=new_tic['time']\n",
    "    if bower_states[targ]==0 and male_states[targ]!=0 and mating_states[targ]<t:\n",
    "        fitness_states[targ]+=1\n",
    "        mating_end=.25+t #can use dist instead of .25\n",
    "        if t<mating_end:\n",
    "            SB_tic=tl_dict[t] #PSEUDO\n",
    "            SB_tic['tau']=SB_tic['tau']+(mating_end-SB_tic['time'])\n",
    "            SB_tic['time']=mating_end\n",
    "            #re-add tic to sorted dict (if not done automatically)\n",
    "        mating_states[targ]=mating_end      \n",
    "    \n",
    "def MTstatechanger(new_tic):\n",
    "    ow=new_tic['owner']\n",
    "    male_states[ow]=0\n",
    "\n",
    "def MAstatechanger(new_tic): #store number of successful marauds of each male --> MAKE A NEW STATE\n",
    "    targ=new_tic['target']\n",
    "    if bower_states[targ]==0 and male_states[targ]==0:\n",
    "        bower_states[targ]=-1*RB_param\n",
    "    #MAKE IT EITHER TAKE maraud_time or 0 (in the else)\n",
    "\n",
    "def MRstatenotchanger(new_tic):\n",
    "    print(\" \")\n",
    "\n",
    "def RBstatechanger(new_tic):\n",
    "    tau=new_tic['tau']\n",
    "    if bower_states[ow]+tau>0:\n",
    "        new_tic['time']-=bower_states[ow]+tau #think about it more in the AM :)\n",
    "        tau=-1*bower_states[ow]\n",
    "        new_tic['tau']=tau\n",
    "        #add changes to timeline dict if necessary\n",
    "    bower_states[ow]+=tau\n",
    "    male_states[ow]=new_tic['time'] #although it doesn't matter from an FV POV\n",
    "\n",
    "def futurebuilder(old_tic, new_ac, new_targ):\n",
    "    old_t=old_tic['time']\n",
    "    new_tic={}\n",
    "    if math.isclose(old_t, t_max, rel_tol=0, abs_tol=.0000001)==0: #if old_t is not essentially t_max\n",
    "        ow=old_tic['owner']\n",
    "        new_tau=nexttau(new_ac, ow, new_targ)\n",
    "        end_t=old_t+new_tau #this time is the time when the action has ended\n",
    "        if end_t>t_max: \n",
    "            new_tau=new_tau-(end_t-t_max) #modify the new_tau so end_t will be t_max\n",
    "            end_t=old_t+new_tau #recalculate end_t\n",
    "        new_tic=ticketgenerator(end_t, new_tau, ow, new_ac, new_targ) #now the time represents the end time for the action\n",
    "    return new_tic\n",
    "\n",
    "print(timeline)\n",
    "for key in timeline:\n",
    "    tic=timeline[key]\n",
    "    ac=tic['action']\n",
    "    ow=tic['owner']\n",
    "    targ=tic['target']\n",
    "    if ac==-4:\n",
    "        #generate a -5 tic as new_tic and pass it in\n",
    "        new_tic=futurebuilder(tic, -5, targ)\n",
    "    elif ac==-5:\n",
    "        #dis[1]/use travel times.. but this is just an example\n",
    "        new_tic=futurebuilder(tic, -6, targ)\n",
    "    else:\n",
    "        print(\" \")\n",
    "    if new_tic=={}:\n",
    "        print(\"done (for some owner!\")\n",
    "    else:\n",
    "        statechanger(new_tic)\n",
    "        addtotimeline(new_tic)\n",
    "        #t=next_tic['time'] #new time based on the ticket we just read\n",
    "        #timeholder=timeholder+1 #increment timeholder \n",
    "\n"
   ]
  },
  {
   "cell_type": "code",
   "execution_count": 11,
   "metadata": {},
   "outputs": [
    {
     "name": "stdout",
     "output_type": "stream",
     "text": [
      "SortedDict({0.1: {'time': 0.1, 'tau': 0.1, 'owner': 10, 'action': -4, 'target': 9, 'origin': 1}, 0.15: {'time': 0.15, 'tau': 0.15, 'owner': 11, 'action': -4, 'target': 6, 'origin': 2}, 0.2: {'time': 0.2, 'tau': 0.1, 'owner': 10, 'action': -5, 'target': 9, 'origin': 0}, 0.20457633659992652: {'time': 0.20457633659992652, 'tau': 0.0045763365999265, 'owner': 10, 'action': -6, 'target': 9, 'origin': 0}, 0.25: {'time': 0.25, 'tau': 0.1, 'owner': 11, 'action': -5, 'target': 6, 'origin': 0}, 0.2535412520772618: {'time': 0.2535412520772618, 'tau': 0.003541252077261799, 'owner': 11, 'action': -6, 'target': 6, 'origin': 0}})\n"
     ]
    }
   ],
   "source": [
    "print(timeline)\n"
   ]
  }
 ],
 "metadata": {
  "kernelspec": {
   "display_name": "Python 3",
   "language": "python",
   "name": "python3"
  },
  "language_info": {
   "codemirror_mode": {
    "name": "ipython",
    "version": 3
   },
   "file_extension": ".py",
   "mimetype": "text/x-python",
   "name": "python",
   "nbconvert_exporter": "python",
   "pygments_lexer": "ipython3",
   "version": "3.6.5"
  }
 },
 "nbformat": 4,
 "nbformat_minor": 2
}
