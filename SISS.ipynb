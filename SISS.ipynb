{
 "cells": [
  {
   "cell_type": "code",
   "execution_count": 151,
   "metadata": {},
   "outputs": [
    {
     "name": "stdout",
     "output_type": "stream",
     "text": [
      "{'time': 1, 'owner': 1, 'action': 1, 'level': 1}\n"
     ]
    }
   ],
   "source": [
    "# makes a ticket\n",
    "def ticket_generator(t, o, a, l):\n",
    "    ticket={\n",
    "        'time': t,\n",
    "        'owner': o,\n",
    "        'action': a,\n",
    "        'level': l\n",
    "    }\n",
    "    return ticket;\n",
    "\n",
    "#test 1\n",
    "t=ticket_generator(1, 1, 1, 1)\n",
    "print(t)\n",
    "\n"
   ]
  },
  {
   "cell_type": "code",
   "execution_count": 152,
   "metadata": {},
   "outputs": [],
   "source": [
    "import math\n",
    "import random\n",
    "\n",
    "def nextTime(rateParameter):\n",
    "    return -math.log(1.0 - random.random()) / rateParameter"
   ]
  },
  {
   "cell_type": "code",
   "execution_count": 153,
   "metadata": {},
   "outputs": [
    {
     "name": "stdout",
     "output_type": "stream",
     "text": [
      "[[1, 2, 3, 4], [0, 2, 3, 4], [0, 1, 3, 4], [0, 1, 2, 4], [0, 1, 2, 3]]\n"
     ]
    }
   ],
   "source": [
    "def network_writer(n):\n",
    "    connect=[0]*n\n",
    "    for i in range(0, n):\n",
    "        a=list(range(n))\n",
    "        a.remove(i)\n",
    "        connect[i]=a\n",
    "    return connect;\n",
    "\n",
    "#test\n",
    "print(network_writer(5))\n",
    "            "
   ]
  },
  {
   "cell_type": "code",
   "execution_count": 154,
   "metadata": {},
   "outputs": [],
   "source": [
    "spreadparam=.1\n",
    "cureparam=.05\n",
    "curetimearray=[];\n",
    "timeline=[]\n",
    "def spreadtickethandler(tic, timeline, spreadparam, cureparam, ppl_state, t):\n",
    "    ow=tic['owner']\n",
    "#1\n",
    "    if(ppl_state[ow]!=1):\n",
    "        print('Error -- individual {:d} is not infected, but was passed to spreadtickethandler!' .format(ow))\n",
    "        #break #is there a printf / how do you raise an error?  #SOMEHOW RAISE AND ERROR AND ESC\n",
    "    else:\n",
    "#2\n",
    "        targ=tic['action'] #this action should not be -1 bc this is passed to spread ticket handler\n",
    "        if(ppl_state[targ]==1):\n",
    "            print('{:d} is already infected!' .format(targ)) #targ=targ #just to make python shut up NOT REAL CODE\n",
    "        else:\n",
    "            ppl_state[targ]=1\n",
    "            t=tic['time']\n",
    "            ct=t+nextTime(cureparam)\n",
    "            curetimearray.append(ct) #curetime array -- purpose??\n",
    "            st=t+nextTime(spreadparam)\n",
    "            l=1\n",
    "            if(st<ct):\n",
    "                a=random.choice(connect[targ])\n",
    "                l=1 #DO WE NEED LEVELS AT ALL?\n",
    "                #FAILED TO NAME OR INSERT INTO TIMELINE\n",
    "                tinf=ticket_generator(st, targ, a, l)\n",
    "                add_to_timeline(tinf, timeline) #???\n",
    "                tcure=ticket_generator(ct, targ, -1, l) #cure ticket -- do we gen here?\n",
    "                add_to_timeline(tcure, timeline) #??\n",
    "            else: \n",
    "                tcure=ticket_generator(ct, targ, -1, l) #cure ticket\n",
    "                add_to_timeline(tcure, timeline) #??\n",
    "#3\n",
    "        #infected_count=sum(ppl_state) #will have something that checks the infected count at certain time intervals\n",
    "#4\n",
    "        st2=t+nextTime(spreadparam)\n",
    "        i=timeholder\n",
    "        curefound=0\n",
    "        while curefound==0:\n",
    "            tim=timeline[i]\n",
    "            if(tim['owner']==ow):\n",
    "                if(tim['action']==-1):\n",
    "                    ct_ow=tim['time']\n",
    "                    curefound=1\n",
    "            i=i+1\n",
    "            \n",
    "        if(st2<ct_ow):\n",
    "            spread2tic=ticket_generator(st2, ow, targ, 1)\n",
    "            add_to_timeline(spread2tic, timeline)\n",
    "        \n",
    "        #return infected_count;\n",
    "        return [timeline, ppl_state];\n",
    "            \n",
    "        \n",
    "    \n",
    "        \n",
    "def curetickethandler(tic, ppl_state):\n",
    "    ow=tic['owner']\n",
    "    ppl_state[ow]=0\n",
    "    #infected_count=sum(ppl_state) #will have something that checks the infected count at certain time intervals\n",
    "    return ppl_state\n",
    "\n",
    "            \n",
    "                \n",
    "                \n",
    "        "
   ]
  },
  {
   "cell_type": "code",
   "execution_count": 155,
   "metadata": {},
   "outputs": [
    {
     "name": "stdout",
     "output_type": "stream",
     "text": [
      "[{'time': 0.5, 'owner': 1, 'action': 1, 'level': 1}, {'time': 1.5, 'owner': 1, 'action': 1, 'level': 1}, {'time': 4.5, 'owner': 1, 'action': 1, 'level': 1}, {'time': 5, 'owner': 1, 'action': 1, 'level': 1}, {'time': 6, 'owner': 1, 'action': 1, 'level': 1}]\n"
     ]
    }
   ],
   "source": [
    "\n",
    "\n",
    "def add_to_timeline(tic, tim):\n",
    "    ind=len(tim)-1\n",
    "    end=0\n",
    "    while (tic['time']<tim[ind]['time'] and end==0):\n",
    "        ind=ind-1 \n",
    "        if(ind<0):\n",
    "            end=1\n",
    "    ind=ind+1\n",
    "    tim.insert(ind, tic)\n",
    "    return tim\n",
    "    \n",
    "#test\n",
    "tic1=ticket_generator(1,1,1,1)\n",
    "tic11=ticket_generator(0,1,1,1)\n",
    "tic111=ticket_generator(6,1,1,1)\n",
    "tic2=ticket_generator(.5,1,1,1)\n",
    "tic3=ticket_generator(1.5,1,1,1)\n",
    "tic5=ticket_generator(5, 1, 1, 1)\n",
    "tic4=ticket_generator(4.5, 1, 1, 1)\n",
    "tl=[tic2, tic3, tic4, tic5]\n",
    "tl2=add_to_timeline(tic111, tl)\n",
    "print(tl2)\n",
    "\n",
    "\n",
    "    \n"
   ]
  },
  {
   "cell_type": "code",
   "execution_count": 156,
   "metadata": {},
   "outputs": [
    {
     "name": "stdout",
     "output_type": "stream",
     "text": [
      "7 is already infected!\n",
      "disease eradicated\n"
     ]
    }
   ],
   "source": [
    "#start things out\n",
    "num_ppl=100\n",
    "ppl_state=[0]*num_ppl \n",
    "ppl_state[0]=1 #make a record of everyone's current state, starting with 1 infected person\n",
    "connect=network_writer(len(ppl_state)) #make a network of connections btwn the ppl -- everyone is connected to everyone rn\n",
    "tinfinit=nextTime(spreadparam) #generate the time of the first infection\n",
    "tcureinit=nextTime(cureparam) #generate the time of patient 0's cure\n",
    "while(tcureinit<tinfinit):\n",
    "    tcureinit=nextTime(cureparam) #ensure that that time occurs after patient 0 has infected someone -- just so our sim goes somewhere\n",
    "a=random.choice(connect[0]) #generate patient 0's infection target \n",
    "init_inf=ticket_generator(tinfinit, 0, a, 1) #generate a ticket for the first infection \n",
    "init_cure=ticket_generator(tcureinit, 0, -1, 1) # generate a ticket for the first cure\n",
    "timeline=[init_inf, init_cure] #put these 2 tickets on timeline\n",
    "timeholder=0 #timeholder is the index where we are on the timeline (start at 0)\n",
    "t=0 #we start at a time of 0 \n",
    "t_max=500 #we want to go to 1000 time units\n",
    "\n",
    "#ok time for the while loop\n",
    "while t<t_max:\n",
    "    if timeholder>(len(timeline)-1):\n",
    "        print('disease eradicated')\n",
    "        break\n",
    "    nexttic=timeline[timeholder] #look at the ticket corresponding to where we are on the timeline\n",
    "    if (nexttic['action']==-1): #if it's a cure ticket, use the corresponding handler\n",
    "        ppl_state=curetickethandler(nexttic, ppl_state)\n",
    "    else: #if it's a spread ticket, use the corresponding handler\n",
    "        vec=spreadtickethandler(nexttic, timeline, spreadparam, cureparam, ppl_state, t)\n",
    "        timeline=vec[0]\n",
    "        ppl_state=vec[1]\n",
    "    t=nexttic['time'] #new time based on the ticket we just read\n",
    "    timeholder=timeholder+1 #increment timeholder\n",
    "\n",
    "\n",
    "\n",
    "\n"
   ]
  },
  {
   "cell_type": "code",
   "execution_count": 157,
   "metadata": {},
   "outputs": [
    {
     "name": "stdout",
     "output_type": "stream",
     "text": [
      "[{'time': 14.936417043603376, 'owner': 0, 'action': 7, 'level': 1}, {'time': 20.77253922949687, 'owner': 0, 'action': 7, 'level': 1}, {'time': 23.918006735607968, 'owner': 7, 'action': -1, 'level': 1}, {'time': 25.039979520119886, 'owner': 0, 'action': -1, 'level': 1}]\n"
     ]
    }
   ],
   "source": [
    "print(timeline)"
   ]
  },
  {
   "cell_type": "code",
   "execution_count": 158,
   "metadata": {},
   "outputs": [
    {
     "name": "stdout",
     "output_type": "stream",
     "text": [
      "4\n"
     ]
    }
   ],
   "source": [
    "print(timeholder)"
   ]
  },
  {
   "cell_type": "code",
   "execution_count": 159,
   "metadata": {},
   "outputs": [
    {
     "name": "stdout",
     "output_type": "stream",
     "text": [
      "25.039979520119886\n"
     ]
    }
   ],
   "source": [
    "print(t)"
   ]
  },
  {
   "cell_type": "code",
   "execution_count": 160,
   "metadata": {},
   "outputs": [
    {
     "name": "stdout",
     "output_type": "stream",
     "text": [
      "0.0\n"
     ]
    }
   ],
   "source": [
    "print(sum(ppl_state)/num_ppl)"
   ]
  },
  {
   "cell_type": "code",
   "execution_count": null,
   "metadata": {},
   "outputs": [],
   "source": []
  }
 ],
 "metadata": {
  "kernelspec": {
   "display_name": "Python 3",
   "language": "python",
   "name": "python3"
  },
  "language_info": {
   "codemirror_mode": {
    "name": "ipython",
    "version": 3
   },
   "file_extension": ".py",
   "mimetype": "text/x-python",
   "name": "python",
   "nbconvert_exporter": "python",
   "pygments_lexer": "ipython3",
   "version": "3.6.5"
  }
 },
 "nbformat": 4,
 "nbformat_minor": 2
}
